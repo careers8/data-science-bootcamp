{
 "cells": [
  {
   "cell_type": "markdown",
   "metadata": {},
   "source": [
    "___\n",
    "\n",
    "<a href='http://www.pieriandata.com'> <img src='../Pierian_Data_Logo.png' /></a>\n",
    "___\n",
    "# Plotly and Cufflinks"
   ]
  },
  {
   "cell_type": "markdown",
   "metadata": {},
   "source": [
    "Plotly is a library that allows you to create interactive plots that you can use in dashboards or websites (you can save them as html files or static images).\n",
    "\n",
    "## Installation\n",
    "\n",
    "In order for this all to work, you'll need to install plotly and cufflinks to call plots directly off of a pandas dataframe. These libraries are not currently available through **conda** but are available through **pip**. Install the libraries at your command line/terminal using:\n",
    "\n",
    "    pip install plotly\n",
    "    pip install cufflinks\n",
    "\n",
    "** NOTE: Make sure you only have one installation of Python on your computer when you do this, otherwise the installation may not work. **\n",
    "\n",
    "## Imports and Set-up"
   ]
  },
  {
   "cell_type": "code",
   "execution_count": 1,
   "metadata": {},
   "outputs": [],
   "source": [
    "import pandas as pd\n",
    "import numpy as np\n",
    "%matplotlib inline"
   ]
  },
  {
   "cell_type": "code",
   "execution_count": 2,
   "metadata": {},
   "outputs": [
    {
     "name": "stdout",
     "output_type": "stream",
     "text": [
      "5.1.0\n"
     ]
    }
   ],
   "source": [
    "from plotly import __version__\n",
    "from plotly.offline import download_plotlyjs, init_notebook_mode, plot, iplot\n",
    "\n",
    "print(__version__) # requires version >= 1.9.0"
   ]
  },
  {
   "cell_type": "code",
   "execution_count": 3,
   "metadata": {},
   "outputs": [],
   "source": [
    "import cufflinks as cf"
   ]
  },
  {
   "cell_type": "code",
   "execution_count": 4,
   "metadata": {},
   "outputs": [
    {
     "data": {
      "text/html": [
       "        <script type=\"text/javascript\">\n",
       "        window.PlotlyConfig = {MathJaxConfig: 'local'};\n",
       "        if (window.MathJax) {MathJax.Hub.Config({SVG: {font: \"STIX-Web\"}});}\n",
       "        if (typeof require !== 'undefined') {\n",
       "        require.undef(\"plotly\");\n",
       "        requirejs.config({\n",
       "            paths: {\n",
       "                'plotly': ['https://cdn.plot.ly/plotly-2.2.0.min']\n",
       "            }\n",
       "        });\n",
       "        require(['plotly'], function(Plotly) {\n",
       "            window._Plotly = Plotly;\n",
       "        });\n",
       "        }\n",
       "        </script>\n",
       "        "
      ]
     },
     "metadata": {},
     "output_type": "display_data"
    }
   ],
   "source": [
    "# For Notebooks\n",
    "init_notebook_mode(connected=True)"
   ]
  },
  {
   "cell_type": "code",
   "execution_count": 5,
   "metadata": {},
   "outputs": [
    {
     "data": {
      "text/html": [
       "        <script type=\"text/javascript\">\n",
       "        window.PlotlyConfig = {MathJaxConfig: 'local'};\n",
       "        if (window.MathJax) {MathJax.Hub.Config({SVG: {font: \"STIX-Web\"}});}\n",
       "        if (typeof require !== 'undefined') {\n",
       "        require.undef(\"plotly\");\n",
       "        requirejs.config({\n",
       "            paths: {\n",
       "                'plotly': ['https://cdn.plot.ly/plotly-2.2.0.min']\n",
       "            }\n",
       "        });\n",
       "        require(['plotly'], function(Plotly) {\n",
       "            window._Plotly = Plotly;\n",
       "        });\n",
       "        }\n",
       "        </script>\n",
       "        "
      ]
     },
     "metadata": {},
     "output_type": "display_data"
    }
   ],
   "source": [
    "# For offline use\n",
    "cf.go_offline()"
   ]
  },
  {
   "cell_type": "markdown",
   "metadata": {},
   "source": [
    "### Fake Data"
   ]
  },
  {
   "cell_type": "code",
   "execution_count": 6,
   "metadata": {},
   "outputs": [],
   "source": [
    "df = pd.DataFrame(np.random.randn(100,4),columns='A B C D'.split())"
   ]
  },
  {
   "cell_type": "code",
   "execution_count": 7,
   "metadata": {},
   "outputs": [
    {
     "data": {
      "text/html": [
       "<div>\n",
       "<style scoped>\n",
       "    .dataframe tbody tr th:only-of-type {\n",
       "        vertical-align: middle;\n",
       "    }\n",
       "\n",
       "    .dataframe tbody tr th {\n",
       "        vertical-align: top;\n",
       "    }\n",
       "\n",
       "    .dataframe thead th {\n",
       "        text-align: right;\n",
       "    }\n",
       "</style>\n",
       "<table border=\"1\" class=\"dataframe\">\n",
       "  <thead>\n",
       "    <tr style=\"text-align: right;\">\n",
       "      <th></th>\n",
       "      <th>A</th>\n",
       "      <th>B</th>\n",
       "      <th>C</th>\n",
       "      <th>D</th>\n",
       "    </tr>\n",
       "  </thead>\n",
       "  <tbody>\n",
       "    <tr>\n",
       "      <th>0</th>\n",
       "      <td>-0.270408</td>\n",
       "      <td>-1.206322</td>\n",
       "      <td>1.121197</td>\n",
       "      <td>-1.156886</td>\n",
       "    </tr>\n",
       "    <tr>\n",
       "      <th>1</th>\n",
       "      <td>0.081308</td>\n",
       "      <td>-2.331197</td>\n",
       "      <td>1.788255</td>\n",
       "      <td>-2.553160</td>\n",
       "    </tr>\n",
       "    <tr>\n",
       "      <th>2</th>\n",
       "      <td>-1.562785</td>\n",
       "      <td>-1.182120</td>\n",
       "      <td>0.609579</td>\n",
       "      <td>0.537950</td>\n",
       "    </tr>\n",
       "    <tr>\n",
       "      <th>3</th>\n",
       "      <td>-0.274489</td>\n",
       "      <td>0.577389</td>\n",
       "      <td>-0.797869</td>\n",
       "      <td>0.871270</td>\n",
       "    </tr>\n",
       "    <tr>\n",
       "      <th>4</th>\n",
       "      <td>-1.380740</td>\n",
       "      <td>-0.234325</td>\n",
       "      <td>-1.054541</td>\n",
       "      <td>0.541838</td>\n",
       "    </tr>\n",
       "  </tbody>\n",
       "</table>\n",
       "</div>"
      ],
      "text/plain": [
       "          A         B         C         D\n",
       "0 -0.270408 -1.206322  1.121197 -1.156886\n",
       "1  0.081308 -2.331197  1.788255 -2.553160\n",
       "2 -1.562785 -1.182120  0.609579  0.537950\n",
       "3 -0.274489  0.577389 -0.797869  0.871270\n",
       "4 -1.380740 -0.234325 -1.054541  0.541838"
      ]
     },
     "execution_count": 7,
     "metadata": {},
     "output_type": "execute_result"
    }
   ],
   "source": [
    "df.head()"
   ]
  },
  {
   "cell_type": "code",
   "execution_count": 8,
   "metadata": {},
   "outputs": [],
   "source": [
    "df2 = pd.DataFrame({'Category':['A','B','C'],'Values':[32,43,50]})"
   ]
  },
  {
   "cell_type": "code",
   "execution_count": 9,
   "metadata": {},
   "outputs": [
    {
     "data": {
      "text/html": [
       "<div>\n",
       "<style scoped>\n",
       "    .dataframe tbody tr th:only-of-type {\n",
       "        vertical-align: middle;\n",
       "    }\n",
       "\n",
       "    .dataframe tbody tr th {\n",
       "        vertical-align: top;\n",
       "    }\n",
       "\n",
       "    .dataframe thead th {\n",
       "        text-align: right;\n",
       "    }\n",
       "</style>\n",
       "<table border=\"1\" class=\"dataframe\">\n",
       "  <thead>\n",
       "    <tr style=\"text-align: right;\">\n",
       "      <th></th>\n",
       "      <th>Category</th>\n",
       "      <th>Values</th>\n",
       "    </tr>\n",
       "  </thead>\n",
       "  <tbody>\n",
       "    <tr>\n",
       "      <th>0</th>\n",
       "      <td>A</td>\n",
       "      <td>32</td>\n",
       "    </tr>\n",
       "    <tr>\n",
       "      <th>1</th>\n",
       "      <td>B</td>\n",
       "      <td>43</td>\n",
       "    </tr>\n",
       "    <tr>\n",
       "      <th>2</th>\n",
       "      <td>C</td>\n",
       "      <td>50</td>\n",
       "    </tr>\n",
       "  </tbody>\n",
       "</table>\n",
       "</div>"
      ],
      "text/plain": [
       "  Category  Values\n",
       "0        A      32\n",
       "1        B      43\n",
       "2        C      50"
      ]
     },
     "execution_count": 9,
     "metadata": {},
     "output_type": "execute_result"
    }
   ],
   "source": [
    "df2.head()"
   ]
  },
  {
   "cell_type": "markdown",
   "metadata": {},
   "source": [
    "## Using Cufflinks and iplot()\n",
    "\n",
    "* scatter\n",
    "* bar\n",
    "* box\n",
    "* spread\n",
    "* ratio\n",
    "* heatmap\n",
    "* surface\n",
    "* histogram\n",
    "* bubble"
   ]
  },
  {
   "cell_type": "markdown",
   "metadata": {},
   "source": [
    "## Scatter"
   ]
  },
  {
   "cell_type": "code",
   "execution_count": 10,
   "metadata": {},
   "outputs": [
    {
     "data": {
      "application/vnd.plotly.v1+json": {
       "config": {
        "linkText": "Export to plot.ly",
        "plotlyServerURL": "https://plot.ly",
        "showLink": true
       },
       "data": [
        {
         "line": {
          "color": "rgba(255, 153, 51, 1.0)",
          "dash": "solid",
          "shape": "linear",
          "width": 1.3
         },
         "marker": {
          "size": 10,
          "symbol": "circle"
         },
         "mode": "markers",
         "name": "B",
         "text": "",
         "type": "scatter",
         "x": [
          -0.27040833546812526,
          0.08130777436700777,
          -1.5627852644492577,
          -0.2744888889596545,
          -1.3807402495046974,
          -1.0705351424149077,
          -0.16047191326162297,
          1.9623749326919784,
          -1.4202858087319434,
          2.2306646991131793,
          2.0627667605639965,
          1.2358806367189576,
          -1.1144160033347206,
          0.2994059231642462,
          -1.3266963971338253,
          1.8034253637887923,
          -0.35866694409300454,
          -1.5168651182538158,
          -1.7517193230369608,
          -0.24854489038284788,
          -2.222255950888016,
          0.12195369323667252,
          -0.10090638648858788,
          -0.504136111985515,
          0.10088071720688169,
          -0.5691650839899056,
          -0.5831979208412037,
          1.870526868030963,
          -0.25398962295793515,
          -1.656833141667139,
          1.9751752331136339,
          0.42665589389048614,
          -0.7644650057486119,
          -1.0233599523112271,
          -1.3845703080701453,
          0.41676864169067723,
          0.16981280033515242,
          0.49389738793836757,
          1.9257781977567854,
          -1.9400175631744279,
          0.29333967748775946,
          1.1949992629121038,
          1.7769411094382328,
          -1.190346737504172,
          0.9553895066266331,
          -1.1426015599282036,
          0.7412020578651592,
          -0.718753059965593,
          -0.29293769881028325,
          0.4930577439369678,
          2.033364404806609,
          -1.8125497966835704,
          -1.4380517678713847,
          1.236334802401583,
          -0.2586154547482286,
          0.5398863162595625,
          0.17836776996372666,
          1.6300719793180487,
          -0.22465116940657961,
          0.4885186677989896,
          -0.8833884064013457,
          1.170268817648967,
          0.2650250636641034,
          0.3156961523700967,
          -2.474040255852097,
          -0.4823510461733897,
          0.6573532491983424,
          0.8226913991345299,
          0.5439660427166113,
          -0.2696888547198674,
          0.39990067617553776,
          0.8491101899180467,
          -0.07909796630667584,
          0.3382709311856161,
          -1.1463729281094484,
          1.7081268085335908,
          -1.6807218958932753,
          -0.668745860074773,
          0.3296232163303582,
          -1.3700631306803732,
          -0.5545716005147747,
          0.21217891816467718,
          -0.1740626915183978,
          -1.056783359415874,
          0.7142458049435187,
          -2.0642262765582444,
          0.27159435271701843,
          0.9924352027785257,
          0.6128875502612596,
          0.5568687516548688,
          2.446638455078288,
          -0.34295262993624026,
          -0.9215212399706968,
          0.4678165045677442,
          -1.4417615042906229,
          -0.09719709420199353,
          -0.010013117800275152,
          0.1125921386452125,
          -0.5800638387253629,
          -0.5188581163623978
         ],
         "y": [
          -1.206321705433643,
          -2.33119734708676,
          -1.182119721197647,
          0.5773891617232305,
          -0.23432507005351813,
          -0.33395607587489534,
          0.206606394431684,
          -1.041828054565952,
          1.3164705542026072,
          -0.3428669411158307,
          -1.3454064001519515,
          0.7559465164801712,
          -0.20794749416715222,
          -0.6135328159991182,
          -0.380069037972439,
          3.1611795222845105,
          -1.6728132085396286,
          0.34805445029216153,
          1.0256277741515756,
          0.34200518443172706,
          0.49253049523123815,
          -1.595301032000479,
          0.3949717712068479,
          -0.32157059990925524,
          -0.40680443581217035,
          1.1966551165712613,
          0.2822399390536095,
          -0.07775636065641416,
          2.0377626551843737,
          1.3050807025804394,
          -0.28412285719843405,
          0.1116067496020979,
          1.4014929565079186,
          -2.4319952476680715,
          -1.1037745990460548,
          -0.3226779481808536,
          -0.06624380072375628,
          -0.5081440222449597,
          -1.0079721004480366,
          -0.06359935585586599,
          1.225085723673325,
          1.3585351275230693,
          0.3418412205279284,
          -0.8430366362011602,
          0.5224342649477417,
          1.452293858051099,
          1.308642822045769,
          0.619401294147941,
          -1.3609801136045452,
          -0.3332084882878469,
          0.9667782591878893,
          0.2968612966065134,
          -0.8685699543749293,
          0.18433284499816469,
          0.21945059201802256,
          -1.4431518392390728,
          -0.16480929714894385,
          -0.1996466897872002,
          -0.34421042679753155,
          0.45874701039062454,
          -0.5070164171680562,
          0.49201585115563534,
          -1.0272281434830408,
          -1.5902113658293175,
          -0.5110555615220798,
          0.6581034463984738,
          -0.23930294622141307,
          0.5734181543602594,
          0.5167216386232102,
          -0.662434940080114,
          -1.5882504358026166,
          -2.1259339712737955,
          0.837815556214329,
          0.931612326906073,
          0.4739417943881084,
          0.3971628453935395,
          -0.5817596203921983,
          0.12431145539047427,
          -0.822088277727843,
          -0.6728033271307247,
          -0.2859862738040538,
          0.8261242575548362,
          -0.1816970175088003,
          -0.2496242561234655,
          -0.7310916260125805,
          0.6154621974695837,
          0.07629516436952173,
          -2.270041324967681,
          -1.4687126790095575,
          -1.5740038344701714,
          0.3235234457986203,
          0.5341581155124593,
          0.6843101770613879,
          -0.22662260918441646,
          -2.086501049960337,
          0.13829808199979346,
          -0.6283587315638484,
          0.4351463049605794,
          0.09700349246400516,
          -0.9387115293797964
         ]
        }
       ],
       "layout": {
        "legend": {
         "bgcolor": "#F5F6F9",
         "font": {
          "color": "#4D5663"
         }
        },
        "paper_bgcolor": "#F5F6F9",
        "plot_bgcolor": "#F5F6F9",
        "template": {
         "data": {
          "bar": [
           {
            "error_x": {
             "color": "#2a3f5f"
            },
            "error_y": {
             "color": "#2a3f5f"
            },
            "marker": {
             "line": {
              "color": "#E5ECF6",
              "width": 0.5
             },
             "pattern": {
              "fillmode": "overlay",
              "size": 10,
              "solidity": 0.2
             }
            },
            "type": "bar"
           }
          ],
          "barpolar": [
           {
            "marker": {
             "line": {
              "color": "#E5ECF6",
              "width": 0.5
             },
             "pattern": {
              "fillmode": "overlay",
              "size": 10,
              "solidity": 0.2
             }
            },
            "type": "barpolar"
           }
          ],
          "carpet": [
           {
            "aaxis": {
             "endlinecolor": "#2a3f5f",
             "gridcolor": "white",
             "linecolor": "white",
             "minorgridcolor": "white",
             "startlinecolor": "#2a3f5f"
            },
            "baxis": {
             "endlinecolor": "#2a3f5f",
             "gridcolor": "white",
             "linecolor": "white",
             "minorgridcolor": "white",
             "startlinecolor": "#2a3f5f"
            },
            "type": "carpet"
           }
          ],
          "choropleth": [
           {
            "colorbar": {
             "outlinewidth": 0,
             "ticks": ""
            },
            "type": "choropleth"
           }
          ],
          "contour": [
           {
            "colorbar": {
             "outlinewidth": 0,
             "ticks": ""
            },
            "colorscale": [
             [
              0,
              "#0d0887"
             ],
             [
              0.1111111111111111,
              "#46039f"
             ],
             [
              0.2222222222222222,
              "#7201a8"
             ],
             [
              0.3333333333333333,
              "#9c179e"
             ],
             [
              0.4444444444444444,
              "#bd3786"
             ],
             [
              0.5555555555555556,
              "#d8576b"
             ],
             [
              0.6666666666666666,
              "#ed7953"
             ],
             [
              0.7777777777777778,
              "#fb9f3a"
             ],
             [
              0.8888888888888888,
              "#fdca26"
             ],
             [
              1,
              "#f0f921"
             ]
            ],
            "type": "contour"
           }
          ],
          "contourcarpet": [
           {
            "colorbar": {
             "outlinewidth": 0,
             "ticks": ""
            },
            "type": "contourcarpet"
           }
          ],
          "heatmap": [
           {
            "colorbar": {
             "outlinewidth": 0,
             "ticks": ""
            },
            "colorscale": [
             [
              0,
              "#0d0887"
             ],
             [
              0.1111111111111111,
              "#46039f"
             ],
             [
              0.2222222222222222,
              "#7201a8"
             ],
             [
              0.3333333333333333,
              "#9c179e"
             ],
             [
              0.4444444444444444,
              "#bd3786"
             ],
             [
              0.5555555555555556,
              "#d8576b"
             ],
             [
              0.6666666666666666,
              "#ed7953"
             ],
             [
              0.7777777777777778,
              "#fb9f3a"
             ],
             [
              0.8888888888888888,
              "#fdca26"
             ],
             [
              1,
              "#f0f921"
             ]
            ],
            "type": "heatmap"
           }
          ],
          "heatmapgl": [
           {
            "colorbar": {
             "outlinewidth": 0,
             "ticks": ""
            },
            "colorscale": [
             [
              0,
              "#0d0887"
             ],
             [
              0.1111111111111111,
              "#46039f"
             ],
             [
              0.2222222222222222,
              "#7201a8"
             ],
             [
              0.3333333333333333,
              "#9c179e"
             ],
             [
              0.4444444444444444,
              "#bd3786"
             ],
             [
              0.5555555555555556,
              "#d8576b"
             ],
             [
              0.6666666666666666,
              "#ed7953"
             ],
             [
              0.7777777777777778,
              "#fb9f3a"
             ],
             [
              0.8888888888888888,
              "#fdca26"
             ],
             [
              1,
              "#f0f921"
             ]
            ],
            "type": "heatmapgl"
           }
          ],
          "histogram": [
           {
            "marker": {
             "pattern": {
              "fillmode": "overlay",
              "size": 10,
              "solidity": 0.2
             }
            },
            "type": "histogram"
           }
          ],
          "histogram2d": [
           {
            "colorbar": {
             "outlinewidth": 0,
             "ticks": ""
            },
            "colorscale": [
             [
              0,
              "#0d0887"
             ],
             [
              0.1111111111111111,
              "#46039f"
             ],
             [
              0.2222222222222222,
              "#7201a8"
             ],
             [
              0.3333333333333333,
              "#9c179e"
             ],
             [
              0.4444444444444444,
              "#bd3786"
             ],
             [
              0.5555555555555556,
              "#d8576b"
             ],
             [
              0.6666666666666666,
              "#ed7953"
             ],
             [
              0.7777777777777778,
              "#fb9f3a"
             ],
             [
              0.8888888888888888,
              "#fdca26"
             ],
             [
              1,
              "#f0f921"
             ]
            ],
            "type": "histogram2d"
           }
          ],
          "histogram2dcontour": [
           {
            "colorbar": {
             "outlinewidth": 0,
             "ticks": ""
            },
            "colorscale": [
             [
              0,
              "#0d0887"
             ],
             [
              0.1111111111111111,
              "#46039f"
             ],
             [
              0.2222222222222222,
              "#7201a8"
             ],
             [
              0.3333333333333333,
              "#9c179e"
             ],
             [
              0.4444444444444444,
              "#bd3786"
             ],
             [
              0.5555555555555556,
              "#d8576b"
             ],
             [
              0.6666666666666666,
              "#ed7953"
             ],
             [
              0.7777777777777778,
              "#fb9f3a"
             ],
             [
              0.8888888888888888,
              "#fdca26"
             ],
             [
              1,
              "#f0f921"
             ]
            ],
            "type": "histogram2dcontour"
           }
          ],
          "mesh3d": [
           {
            "colorbar": {
             "outlinewidth": 0,
             "ticks": ""
            },
            "type": "mesh3d"
           }
          ],
          "parcoords": [
           {
            "line": {
             "colorbar": {
              "outlinewidth": 0,
              "ticks": ""
             }
            },
            "type": "parcoords"
           }
          ],
          "pie": [
           {
            "automargin": true,
            "type": "pie"
           }
          ],
          "scatter": [
           {
            "marker": {
             "colorbar": {
              "outlinewidth": 0,
              "ticks": ""
             }
            },
            "type": "scatter"
           }
          ],
          "scatter3d": [
           {
            "line": {
             "colorbar": {
              "outlinewidth": 0,
              "ticks": ""
             }
            },
            "marker": {
             "colorbar": {
              "outlinewidth": 0,
              "ticks": ""
             }
            },
            "type": "scatter3d"
           }
          ],
          "scattercarpet": [
           {
            "marker": {
             "colorbar": {
              "outlinewidth": 0,
              "ticks": ""
             }
            },
            "type": "scattercarpet"
           }
          ],
          "scattergeo": [
           {
            "marker": {
             "colorbar": {
              "outlinewidth": 0,
              "ticks": ""
             }
            },
            "type": "scattergeo"
           }
          ],
          "scattergl": [
           {
            "marker": {
             "colorbar": {
              "outlinewidth": 0,
              "ticks": ""
             }
            },
            "type": "scattergl"
           }
          ],
          "scattermapbox": [
           {
            "marker": {
             "colorbar": {
              "outlinewidth": 0,
              "ticks": ""
             }
            },
            "type": "scattermapbox"
           }
          ],
          "scatterpolar": [
           {
            "marker": {
             "colorbar": {
              "outlinewidth": 0,
              "ticks": ""
             }
            },
            "type": "scatterpolar"
           }
          ],
          "scatterpolargl": [
           {
            "marker": {
             "colorbar": {
              "outlinewidth": 0,
              "ticks": ""
             }
            },
            "type": "scatterpolargl"
           }
          ],
          "scatterternary": [
           {
            "marker": {
             "colorbar": {
              "outlinewidth": 0,
              "ticks": ""
             }
            },
            "type": "scatterternary"
           }
          ],
          "surface": [
           {
            "colorbar": {
             "outlinewidth": 0,
             "ticks": ""
            },
            "colorscale": [
             [
              0,
              "#0d0887"
             ],
             [
              0.1111111111111111,
              "#46039f"
             ],
             [
              0.2222222222222222,
              "#7201a8"
             ],
             [
              0.3333333333333333,
              "#9c179e"
             ],
             [
              0.4444444444444444,
              "#bd3786"
             ],
             [
              0.5555555555555556,
              "#d8576b"
             ],
             [
              0.6666666666666666,
              "#ed7953"
             ],
             [
              0.7777777777777778,
              "#fb9f3a"
             ],
             [
              0.8888888888888888,
              "#fdca26"
             ],
             [
              1,
              "#f0f921"
             ]
            ],
            "type": "surface"
           }
          ],
          "table": [
           {
            "cells": {
             "fill": {
              "color": "#EBF0F8"
             },
             "line": {
              "color": "white"
             }
            },
            "header": {
             "fill": {
              "color": "#C8D4E3"
             },
             "line": {
              "color": "white"
             }
            },
            "type": "table"
           }
          ]
         },
         "layout": {
          "annotationdefaults": {
           "arrowcolor": "#2a3f5f",
           "arrowhead": 0,
           "arrowwidth": 1
          },
          "autotypenumbers": "strict",
          "coloraxis": {
           "colorbar": {
            "outlinewidth": 0,
            "ticks": ""
           }
          },
          "colorscale": {
           "diverging": [
            [
             0,
             "#8e0152"
            ],
            [
             0.1,
             "#c51b7d"
            ],
            [
             0.2,
             "#de77ae"
            ],
            [
             0.3,
             "#f1b6da"
            ],
            [
             0.4,
             "#fde0ef"
            ],
            [
             0.5,
             "#f7f7f7"
            ],
            [
             0.6,
             "#e6f5d0"
            ],
            [
             0.7,
             "#b8e186"
            ],
            [
             0.8,
             "#7fbc41"
            ],
            [
             0.9,
             "#4d9221"
            ],
            [
             1,
             "#276419"
            ]
           ],
           "sequential": [
            [
             0,
             "#0d0887"
            ],
            [
             0.1111111111111111,
             "#46039f"
            ],
            [
             0.2222222222222222,
             "#7201a8"
            ],
            [
             0.3333333333333333,
             "#9c179e"
            ],
            [
             0.4444444444444444,
             "#bd3786"
            ],
            [
             0.5555555555555556,
             "#d8576b"
            ],
            [
             0.6666666666666666,
             "#ed7953"
            ],
            [
             0.7777777777777778,
             "#fb9f3a"
            ],
            [
             0.8888888888888888,
             "#fdca26"
            ],
            [
             1,
             "#f0f921"
            ]
           ],
           "sequentialminus": [
            [
             0,
             "#0d0887"
            ],
            [
             0.1111111111111111,
             "#46039f"
            ],
            [
             0.2222222222222222,
             "#7201a8"
            ],
            [
             0.3333333333333333,
             "#9c179e"
            ],
            [
             0.4444444444444444,
             "#bd3786"
            ],
            [
             0.5555555555555556,
             "#d8576b"
            ],
            [
             0.6666666666666666,
             "#ed7953"
            ],
            [
             0.7777777777777778,
             "#fb9f3a"
            ],
            [
             0.8888888888888888,
             "#fdca26"
            ],
            [
             1,
             "#f0f921"
            ]
           ]
          },
          "colorway": [
           "#636efa",
           "#EF553B",
           "#00cc96",
           "#ab63fa",
           "#FFA15A",
           "#19d3f3",
           "#FF6692",
           "#B6E880",
           "#FF97FF",
           "#FECB52"
          ],
          "font": {
           "color": "#2a3f5f"
          },
          "geo": {
           "bgcolor": "white",
           "lakecolor": "white",
           "landcolor": "#E5ECF6",
           "showlakes": true,
           "showland": true,
           "subunitcolor": "white"
          },
          "hoverlabel": {
           "align": "left"
          },
          "hovermode": "closest",
          "mapbox": {
           "style": "light"
          },
          "paper_bgcolor": "white",
          "plot_bgcolor": "#E5ECF6",
          "polar": {
           "angularaxis": {
            "gridcolor": "white",
            "linecolor": "white",
            "ticks": ""
           },
           "bgcolor": "#E5ECF6",
           "radialaxis": {
            "gridcolor": "white",
            "linecolor": "white",
            "ticks": ""
           }
          },
          "scene": {
           "xaxis": {
            "backgroundcolor": "#E5ECF6",
            "gridcolor": "white",
            "gridwidth": 2,
            "linecolor": "white",
            "showbackground": true,
            "ticks": "",
            "zerolinecolor": "white"
           },
           "yaxis": {
            "backgroundcolor": "#E5ECF6",
            "gridcolor": "white",
            "gridwidth": 2,
            "linecolor": "white",
            "showbackground": true,
            "ticks": "",
            "zerolinecolor": "white"
           },
           "zaxis": {
            "backgroundcolor": "#E5ECF6",
            "gridcolor": "white",
            "gridwidth": 2,
            "linecolor": "white",
            "showbackground": true,
            "ticks": "",
            "zerolinecolor": "white"
           }
          },
          "shapedefaults": {
           "line": {
            "color": "#2a3f5f"
           }
          },
          "ternary": {
           "aaxis": {
            "gridcolor": "white",
            "linecolor": "white",
            "ticks": ""
           },
           "baxis": {
            "gridcolor": "white",
            "linecolor": "white",
            "ticks": ""
           },
           "bgcolor": "#E5ECF6",
           "caxis": {
            "gridcolor": "white",
            "linecolor": "white",
            "ticks": ""
           }
          },
          "title": {
           "x": 0.05
          },
          "xaxis": {
           "automargin": true,
           "gridcolor": "white",
           "linecolor": "white",
           "ticks": "",
           "title": {
            "standoff": 15
           },
           "zerolinecolor": "white",
           "zerolinewidth": 2
          },
          "yaxis": {
           "automargin": true,
           "gridcolor": "white",
           "linecolor": "white",
           "ticks": "",
           "title": {
            "standoff": 15
           },
           "zerolinecolor": "white",
           "zerolinewidth": 2
          }
         }
        },
        "title": {
         "font": {
          "color": "#4D5663"
         }
        },
        "xaxis": {
         "gridcolor": "#E1E5ED",
         "showgrid": true,
         "tickfont": {
          "color": "#4D5663"
         },
         "title": {
          "font": {
           "color": "#4D5663"
          },
          "text": ""
         },
         "zerolinecolor": "#E1E5ED"
        },
        "yaxis": {
         "gridcolor": "#E1E5ED",
         "showgrid": true,
         "tickfont": {
          "color": "#4D5663"
         },
         "title": {
          "font": {
           "color": "#4D5663"
          },
          "text": ""
         },
         "zerolinecolor": "#E1E5ED"
        }
       }
      },
      "text/html": [
       "<div>                            <div id=\"71e5a7bc-4eeb-49a3-b863-5981b5c9343a\" class=\"plotly-graph-div\" style=\"height:525px; width:100%;\"></div>            <script type=\"text/javascript\">                require([\"plotly\"], function(Plotly) {                    window.PLOTLYENV=window.PLOTLYENV || {};\n",
       "                    window.PLOTLYENV.BASE_URL='https://plot.ly';                                    if (document.getElementById(\"71e5a7bc-4eeb-49a3-b863-5981b5c9343a\")) {                    Plotly.newPlot(                        \"71e5a7bc-4eeb-49a3-b863-5981b5c9343a\",                        [{\"line\":{\"color\":\"rgba(255, 153, 51, 1.0)\",\"dash\":\"solid\",\"shape\":\"linear\",\"width\":1.3},\"marker\":{\"size\":10,\"symbol\":\"circle\"},\"mode\":\"markers\",\"name\":\"B\",\"text\":\"\",\"type\":\"scatter\",\"x\":[-0.27040833546812526,0.08130777436700777,-1.5627852644492577,-0.2744888889596545,-1.3807402495046974,-1.0705351424149077,-0.16047191326162297,1.9623749326919784,-1.4202858087319434,2.2306646991131793,2.0627667605639965,1.2358806367189576,-1.1144160033347206,0.2994059231642462,-1.3266963971338253,1.8034253637887923,-0.35866694409300454,-1.5168651182538158,-1.7517193230369608,-0.24854489038284788,-2.222255950888016,0.12195369323667252,-0.10090638648858788,-0.504136111985515,0.10088071720688169,-0.5691650839899056,-0.5831979208412037,1.870526868030963,-0.25398962295793515,-1.656833141667139,1.9751752331136339,0.42665589389048614,-0.7644650057486119,-1.0233599523112271,-1.3845703080701453,0.41676864169067723,0.16981280033515242,0.49389738793836757,1.9257781977567854,-1.9400175631744279,0.29333967748775946,1.1949992629121038,1.7769411094382328,-1.190346737504172,0.9553895066266331,-1.1426015599282036,0.7412020578651592,-0.718753059965593,-0.29293769881028325,0.4930577439369678,2.033364404806609,-1.8125497966835704,-1.4380517678713847,1.236334802401583,-0.2586154547482286,0.5398863162595625,0.17836776996372666,1.6300719793180487,-0.22465116940657961,0.4885186677989896,-0.8833884064013457,1.170268817648967,0.2650250636641034,0.3156961523700967,-2.474040255852097,-0.4823510461733897,0.6573532491983424,0.8226913991345299,0.5439660427166113,-0.2696888547198674,0.39990067617553776,0.8491101899180467,-0.07909796630667584,0.3382709311856161,-1.1463729281094484,1.7081268085335908,-1.6807218958932753,-0.668745860074773,0.3296232163303582,-1.3700631306803732,-0.5545716005147747,0.21217891816467718,-0.1740626915183978,-1.056783359415874,0.7142458049435187,-2.0642262765582444,0.27159435271701843,0.9924352027785257,0.6128875502612596,0.5568687516548688,2.446638455078288,-0.34295262993624026,-0.9215212399706968,0.4678165045677442,-1.4417615042906229,-0.09719709420199353,-0.010013117800275152,0.1125921386452125,-0.5800638387253629,-0.5188581163623978],\"y\":[-1.206321705433643,-2.33119734708676,-1.182119721197647,0.5773891617232305,-0.23432507005351813,-0.33395607587489534,0.206606394431684,-1.041828054565952,1.3164705542026072,-0.3428669411158307,-1.3454064001519515,0.7559465164801712,-0.20794749416715222,-0.6135328159991182,-0.380069037972439,3.1611795222845105,-1.6728132085396286,0.34805445029216153,1.0256277741515756,0.34200518443172706,0.49253049523123815,-1.595301032000479,0.3949717712068479,-0.32157059990925524,-0.40680443581217035,1.1966551165712613,0.2822399390536095,-0.07775636065641416,2.0377626551843737,1.3050807025804394,-0.28412285719843405,0.1116067496020979,1.4014929565079186,-2.4319952476680715,-1.1037745990460548,-0.3226779481808536,-0.06624380072375628,-0.5081440222449597,-1.0079721004480366,-0.06359935585586599,1.225085723673325,1.3585351275230693,0.3418412205279284,-0.8430366362011602,0.5224342649477417,1.452293858051099,1.308642822045769,0.619401294147941,-1.3609801136045452,-0.3332084882878469,0.9667782591878893,0.2968612966065134,-0.8685699543749293,0.18433284499816469,0.21945059201802256,-1.4431518392390728,-0.16480929714894385,-0.1996466897872002,-0.34421042679753155,0.45874701039062454,-0.5070164171680562,0.49201585115563534,-1.0272281434830408,-1.5902113658293175,-0.5110555615220798,0.6581034463984738,-0.23930294622141307,0.5734181543602594,0.5167216386232102,-0.662434940080114,-1.5882504358026166,-2.1259339712737955,0.837815556214329,0.931612326906073,0.4739417943881084,0.3971628453935395,-0.5817596203921983,0.12431145539047427,-0.822088277727843,-0.6728033271307247,-0.2859862738040538,0.8261242575548362,-0.1816970175088003,-0.2496242561234655,-0.7310916260125805,0.6154621974695837,0.07629516436952173,-2.270041324967681,-1.4687126790095575,-1.5740038344701714,0.3235234457986203,0.5341581155124593,0.6843101770613879,-0.22662260918441646,-2.086501049960337,0.13829808199979346,-0.6283587315638484,0.4351463049605794,0.09700349246400516,-0.9387115293797964]}],                        {\"legend\":{\"bgcolor\":\"#F5F6F9\",\"font\":{\"color\":\"#4D5663\"}},\"paper_bgcolor\":\"#F5F6F9\",\"plot_bgcolor\":\"#F5F6F9\",\"template\":{\"data\":{\"bar\":[{\"error_x\":{\"color\":\"#2a3f5f\"},\"error_y\":{\"color\":\"#2a3f5f\"},\"marker\":{\"line\":{\"color\":\"#E5ECF6\",\"width\":0.5},\"pattern\":{\"fillmode\":\"overlay\",\"size\":10,\"solidity\":0.2}},\"type\":\"bar\"}],\"barpolar\":[{\"marker\":{\"line\":{\"color\":\"#E5ECF6\",\"width\":0.5},\"pattern\":{\"fillmode\":\"overlay\",\"size\":10,\"solidity\":0.2}},\"type\":\"barpolar\"}],\"carpet\":[{\"aaxis\":{\"endlinecolor\":\"#2a3f5f\",\"gridcolor\":\"white\",\"linecolor\":\"white\",\"minorgridcolor\":\"white\",\"startlinecolor\":\"#2a3f5f\"},\"baxis\":{\"endlinecolor\":\"#2a3f5f\",\"gridcolor\":\"white\",\"linecolor\":\"white\",\"minorgridcolor\":\"white\",\"startlinecolor\":\"#2a3f5f\"},\"type\":\"carpet\"}],\"choropleth\":[{\"colorbar\":{\"outlinewidth\":0,\"ticks\":\"\"},\"type\":\"choropleth\"}],\"contour\":[{\"colorbar\":{\"outlinewidth\":0,\"ticks\":\"\"},\"colorscale\":[[0.0,\"#0d0887\"],[0.1111111111111111,\"#46039f\"],[0.2222222222222222,\"#7201a8\"],[0.3333333333333333,\"#9c179e\"],[0.4444444444444444,\"#bd3786\"],[0.5555555555555556,\"#d8576b\"],[0.6666666666666666,\"#ed7953\"],[0.7777777777777778,\"#fb9f3a\"],[0.8888888888888888,\"#fdca26\"],[1.0,\"#f0f921\"]],\"type\":\"contour\"}],\"contourcarpet\":[{\"colorbar\":{\"outlinewidth\":0,\"ticks\":\"\"},\"type\":\"contourcarpet\"}],\"heatmap\":[{\"colorbar\":{\"outlinewidth\":0,\"ticks\":\"\"},\"colorscale\":[[0.0,\"#0d0887\"],[0.1111111111111111,\"#46039f\"],[0.2222222222222222,\"#7201a8\"],[0.3333333333333333,\"#9c179e\"],[0.4444444444444444,\"#bd3786\"],[0.5555555555555556,\"#d8576b\"],[0.6666666666666666,\"#ed7953\"],[0.7777777777777778,\"#fb9f3a\"],[0.8888888888888888,\"#fdca26\"],[1.0,\"#f0f921\"]],\"type\":\"heatmap\"}],\"heatmapgl\":[{\"colorbar\":{\"outlinewidth\":0,\"ticks\":\"\"},\"colorscale\":[[0.0,\"#0d0887\"],[0.1111111111111111,\"#46039f\"],[0.2222222222222222,\"#7201a8\"],[0.3333333333333333,\"#9c179e\"],[0.4444444444444444,\"#bd3786\"],[0.5555555555555556,\"#d8576b\"],[0.6666666666666666,\"#ed7953\"],[0.7777777777777778,\"#fb9f3a\"],[0.8888888888888888,\"#fdca26\"],[1.0,\"#f0f921\"]],\"type\":\"heatmapgl\"}],\"histogram\":[{\"marker\":{\"pattern\":{\"fillmode\":\"overlay\",\"size\":10,\"solidity\":0.2}},\"type\":\"histogram\"}],\"histogram2d\":[{\"colorbar\":{\"outlinewidth\":0,\"ticks\":\"\"},\"colorscale\":[[0.0,\"#0d0887\"],[0.1111111111111111,\"#46039f\"],[0.2222222222222222,\"#7201a8\"],[0.3333333333333333,\"#9c179e\"],[0.4444444444444444,\"#bd3786\"],[0.5555555555555556,\"#d8576b\"],[0.6666666666666666,\"#ed7953\"],[0.7777777777777778,\"#fb9f3a\"],[0.8888888888888888,\"#fdca26\"],[1.0,\"#f0f921\"]],\"type\":\"histogram2d\"}],\"histogram2dcontour\":[{\"colorbar\":{\"outlinewidth\":0,\"ticks\":\"\"},\"colorscale\":[[0.0,\"#0d0887\"],[0.1111111111111111,\"#46039f\"],[0.2222222222222222,\"#7201a8\"],[0.3333333333333333,\"#9c179e\"],[0.4444444444444444,\"#bd3786\"],[0.5555555555555556,\"#d8576b\"],[0.6666666666666666,\"#ed7953\"],[0.7777777777777778,\"#fb9f3a\"],[0.8888888888888888,\"#fdca26\"],[1.0,\"#f0f921\"]],\"type\":\"histogram2dcontour\"}],\"mesh3d\":[{\"colorbar\":{\"outlinewidth\":0,\"ticks\":\"\"},\"type\":\"mesh3d\"}],\"parcoords\":[{\"line\":{\"colorbar\":{\"outlinewidth\":0,\"ticks\":\"\"}},\"type\":\"parcoords\"}],\"pie\":[{\"automargin\":true,\"type\":\"pie\"}],\"scatter\":[{\"marker\":{\"colorbar\":{\"outlinewidth\":0,\"ticks\":\"\"}},\"type\":\"scatter\"}],\"scatter3d\":[{\"line\":{\"colorbar\":{\"outlinewidth\":0,\"ticks\":\"\"}},\"marker\":{\"colorbar\":{\"outlinewidth\":0,\"ticks\":\"\"}},\"type\":\"scatter3d\"}],\"scattercarpet\":[{\"marker\":{\"colorbar\":{\"outlinewidth\":0,\"ticks\":\"\"}},\"type\":\"scattercarpet\"}],\"scattergeo\":[{\"marker\":{\"colorbar\":{\"outlinewidth\":0,\"ticks\":\"\"}},\"type\":\"scattergeo\"}],\"scattergl\":[{\"marker\":{\"colorbar\":{\"outlinewidth\":0,\"ticks\":\"\"}},\"type\":\"scattergl\"}],\"scattermapbox\":[{\"marker\":{\"colorbar\":{\"outlinewidth\":0,\"ticks\":\"\"}},\"type\":\"scattermapbox\"}],\"scatterpolar\":[{\"marker\":{\"colorbar\":{\"outlinewidth\":0,\"ticks\":\"\"}},\"type\":\"scatterpolar\"}],\"scatterpolargl\":[{\"marker\":{\"colorbar\":{\"outlinewidth\":0,\"ticks\":\"\"}},\"type\":\"scatterpolargl\"}],\"scatterternary\":[{\"marker\":{\"colorbar\":{\"outlinewidth\":0,\"ticks\":\"\"}},\"type\":\"scatterternary\"}],\"surface\":[{\"colorbar\":{\"outlinewidth\":0,\"ticks\":\"\"},\"colorscale\":[[0.0,\"#0d0887\"],[0.1111111111111111,\"#46039f\"],[0.2222222222222222,\"#7201a8\"],[0.3333333333333333,\"#9c179e\"],[0.4444444444444444,\"#bd3786\"],[0.5555555555555556,\"#d8576b\"],[0.6666666666666666,\"#ed7953\"],[0.7777777777777778,\"#fb9f3a\"],[0.8888888888888888,\"#fdca26\"],[1.0,\"#f0f921\"]],\"type\":\"surface\"}],\"table\":[{\"cells\":{\"fill\":{\"color\":\"#EBF0F8\"},\"line\":{\"color\":\"white\"}},\"header\":{\"fill\":{\"color\":\"#C8D4E3\"},\"line\":{\"color\":\"white\"}},\"type\":\"table\"}]},\"layout\":{\"annotationdefaults\":{\"arrowcolor\":\"#2a3f5f\",\"arrowhead\":0,\"arrowwidth\":1},\"autotypenumbers\":\"strict\",\"coloraxis\":{\"colorbar\":{\"outlinewidth\":0,\"ticks\":\"\"}},\"colorscale\":{\"diverging\":[[0,\"#8e0152\"],[0.1,\"#c51b7d\"],[0.2,\"#de77ae\"],[0.3,\"#f1b6da\"],[0.4,\"#fde0ef\"],[0.5,\"#f7f7f7\"],[0.6,\"#e6f5d0\"],[0.7,\"#b8e186\"],[0.8,\"#7fbc41\"],[0.9,\"#4d9221\"],[1,\"#276419\"]],\"sequential\":[[0.0,\"#0d0887\"],[0.1111111111111111,\"#46039f\"],[0.2222222222222222,\"#7201a8\"],[0.3333333333333333,\"#9c179e\"],[0.4444444444444444,\"#bd3786\"],[0.5555555555555556,\"#d8576b\"],[0.6666666666666666,\"#ed7953\"],[0.7777777777777778,\"#fb9f3a\"],[0.8888888888888888,\"#fdca26\"],[1.0,\"#f0f921\"]],\"sequentialminus\":[[0.0,\"#0d0887\"],[0.1111111111111111,\"#46039f\"],[0.2222222222222222,\"#7201a8\"],[0.3333333333333333,\"#9c179e\"],[0.4444444444444444,\"#bd3786\"],[0.5555555555555556,\"#d8576b\"],[0.6666666666666666,\"#ed7953\"],[0.7777777777777778,\"#fb9f3a\"],[0.8888888888888888,\"#fdca26\"],[1.0,\"#f0f921\"]]},\"colorway\":[\"#636efa\",\"#EF553B\",\"#00cc96\",\"#ab63fa\",\"#FFA15A\",\"#19d3f3\",\"#FF6692\",\"#B6E880\",\"#FF97FF\",\"#FECB52\"],\"font\":{\"color\":\"#2a3f5f\"},\"geo\":{\"bgcolor\":\"white\",\"lakecolor\":\"white\",\"landcolor\":\"#E5ECF6\",\"showlakes\":true,\"showland\":true,\"subunitcolor\":\"white\"},\"hoverlabel\":{\"align\":\"left\"},\"hovermode\":\"closest\",\"mapbox\":{\"style\":\"light\"},\"paper_bgcolor\":\"white\",\"plot_bgcolor\":\"#E5ECF6\",\"polar\":{\"angularaxis\":{\"gridcolor\":\"white\",\"linecolor\":\"white\",\"ticks\":\"\"},\"bgcolor\":\"#E5ECF6\",\"radialaxis\":{\"gridcolor\":\"white\",\"linecolor\":\"white\",\"ticks\":\"\"}},\"scene\":{\"xaxis\":{\"backgroundcolor\":\"#E5ECF6\",\"gridcolor\":\"white\",\"gridwidth\":2,\"linecolor\":\"white\",\"showbackground\":true,\"ticks\":\"\",\"zerolinecolor\":\"white\"},\"yaxis\":{\"backgroundcolor\":\"#E5ECF6\",\"gridcolor\":\"white\",\"gridwidth\":2,\"linecolor\":\"white\",\"showbackground\":true,\"ticks\":\"\",\"zerolinecolor\":\"white\"},\"zaxis\":{\"backgroundcolor\":\"#E5ECF6\",\"gridcolor\":\"white\",\"gridwidth\":2,\"linecolor\":\"white\",\"showbackground\":true,\"ticks\":\"\",\"zerolinecolor\":\"white\"}},\"shapedefaults\":{\"line\":{\"color\":\"#2a3f5f\"}},\"ternary\":{\"aaxis\":{\"gridcolor\":\"white\",\"linecolor\":\"white\",\"ticks\":\"\"},\"baxis\":{\"gridcolor\":\"white\",\"linecolor\":\"white\",\"ticks\":\"\"},\"bgcolor\":\"#E5ECF6\",\"caxis\":{\"gridcolor\":\"white\",\"linecolor\":\"white\",\"ticks\":\"\"}},\"title\":{\"x\":0.05},\"xaxis\":{\"automargin\":true,\"gridcolor\":\"white\",\"linecolor\":\"white\",\"ticks\":\"\",\"title\":{\"standoff\":15},\"zerolinecolor\":\"white\",\"zerolinewidth\":2},\"yaxis\":{\"automargin\":true,\"gridcolor\":\"white\",\"linecolor\":\"white\",\"ticks\":\"\",\"title\":{\"standoff\":15},\"zerolinecolor\":\"white\",\"zerolinewidth\":2}}},\"title\":{\"font\":{\"color\":\"#4D5663\"}},\"xaxis\":{\"gridcolor\":\"#E1E5ED\",\"showgrid\":true,\"tickfont\":{\"color\":\"#4D5663\"},\"title\":{\"font\":{\"color\":\"#4D5663\"},\"text\":\"\"},\"zerolinecolor\":\"#E1E5ED\"},\"yaxis\":{\"gridcolor\":\"#E1E5ED\",\"showgrid\":true,\"tickfont\":{\"color\":\"#4D5663\"},\"title\":{\"font\":{\"color\":\"#4D5663\"},\"text\":\"\"},\"zerolinecolor\":\"#E1E5ED\"}},                        {\"showLink\": true, \"linkText\": \"Export to plot.ly\", \"plotlyServerURL\": \"https://plot.ly\", \"responsive\": true}                    ).then(function(){\n",
       "                            \n",
       "var gd = document.getElementById('71e5a7bc-4eeb-49a3-b863-5981b5c9343a');\n",
       "var x = new MutationObserver(function (mutations, observer) {{\n",
       "        var display = window.getComputedStyle(gd).display;\n",
       "        if (!display || display === 'none') {{\n",
       "            console.log([gd, 'removed!']);\n",
       "            Plotly.purge(gd);\n",
       "            observer.disconnect();\n",
       "        }}\n",
       "}});\n",
       "\n",
       "// Listen for the removal of the full notebook cells\n",
       "var notebookContainer = gd.closest('#notebook-container');\n",
       "if (notebookContainer) {{\n",
       "    x.observe(notebookContainer, {childList: true});\n",
       "}}\n",
       "\n",
       "// Listen for the clearing of the current output cell\n",
       "var outputEl = gd.closest('.output');\n",
       "if (outputEl) {{\n",
       "    x.observe(outputEl, {childList: true});\n",
       "}}\n",
       "\n",
       "                        })                };                });            </script>        </div>"
      ]
     },
     "metadata": {},
     "output_type": "display_data"
    }
   ],
   "source": [
    "df.iplot(kind='scatter',x='A',y='B',mode='markers',size=10)"
   ]
  },
  {
   "cell_type": "markdown",
   "metadata": {},
   "source": [
    "## Bar Plots"
   ]
  },
  {
   "cell_type": "code",
   "execution_count": 11,
   "metadata": {},
   "outputs": [
    {
     "data": {
      "application/vnd.plotly.v1+json": {
       "config": {
        "linkText": "Export to plot.ly",
        "plotlyServerURL": "https://plot.ly",
        "showLink": true
       },
       "data": [
        {
         "marker": {
          "color": "rgba(255, 153, 51, 0.6)",
          "line": {
           "color": "rgba(255, 153, 51, 1.0)",
           "width": 1
          }
         },
         "name": "Values",
         "orientation": "v",
         "text": "",
         "type": "bar",
         "x": [
          "A",
          "B",
          "C"
         ],
         "y": [
          32,
          43,
          50
         ]
        }
       ],
       "layout": {
        "legend": {
         "bgcolor": "#F5F6F9",
         "font": {
          "color": "#4D5663"
         }
        },
        "paper_bgcolor": "#F5F6F9",
        "plot_bgcolor": "#F5F6F9",
        "template": {
         "data": {
          "bar": [
           {
            "error_x": {
             "color": "#2a3f5f"
            },
            "error_y": {
             "color": "#2a3f5f"
            },
            "marker": {
             "line": {
              "color": "#E5ECF6",
              "width": 0.5
             },
             "pattern": {
              "fillmode": "overlay",
              "size": 10,
              "solidity": 0.2
             }
            },
            "type": "bar"
           }
          ],
          "barpolar": [
           {
            "marker": {
             "line": {
              "color": "#E5ECF6",
              "width": 0.5
             },
             "pattern": {
              "fillmode": "overlay",
              "size": 10,
              "solidity": 0.2
             }
            },
            "type": "barpolar"
           }
          ],
          "carpet": [
           {
            "aaxis": {
             "endlinecolor": "#2a3f5f",
             "gridcolor": "white",
             "linecolor": "white",
             "minorgridcolor": "white",
             "startlinecolor": "#2a3f5f"
            },
            "baxis": {
             "endlinecolor": "#2a3f5f",
             "gridcolor": "white",
             "linecolor": "white",
             "minorgridcolor": "white",
             "startlinecolor": "#2a3f5f"
            },
            "type": "carpet"
           }
          ],
          "choropleth": [
           {
            "colorbar": {
             "outlinewidth": 0,
             "ticks": ""
            },
            "type": "choropleth"
           }
          ],
          "contour": [
           {
            "colorbar": {
             "outlinewidth": 0,
             "ticks": ""
            },
            "colorscale": [
             [
              0,
              "#0d0887"
             ],
             [
              0.1111111111111111,
              "#46039f"
             ],
             [
              0.2222222222222222,
              "#7201a8"
             ],
             [
              0.3333333333333333,
              "#9c179e"
             ],
             [
              0.4444444444444444,
              "#bd3786"
             ],
             [
              0.5555555555555556,
              "#d8576b"
             ],
             [
              0.6666666666666666,
              "#ed7953"
             ],
             [
              0.7777777777777778,
              "#fb9f3a"
             ],
             [
              0.8888888888888888,
              "#fdca26"
             ],
             [
              1,
              "#f0f921"
             ]
            ],
            "type": "contour"
           }
          ],
          "contourcarpet": [
           {
            "colorbar": {
             "outlinewidth": 0,
             "ticks": ""
            },
            "type": "contourcarpet"
           }
          ],
          "heatmap": [
           {
            "colorbar": {
             "outlinewidth": 0,
             "ticks": ""
            },
            "colorscale": [
             [
              0,
              "#0d0887"
             ],
             [
              0.1111111111111111,
              "#46039f"
             ],
             [
              0.2222222222222222,
              "#7201a8"
             ],
             [
              0.3333333333333333,
              "#9c179e"
             ],
             [
              0.4444444444444444,
              "#bd3786"
             ],
             [
              0.5555555555555556,
              "#d8576b"
             ],
             [
              0.6666666666666666,
              "#ed7953"
             ],
             [
              0.7777777777777778,
              "#fb9f3a"
             ],
             [
              0.8888888888888888,
              "#fdca26"
             ],
             [
              1,
              "#f0f921"
             ]
            ],
            "type": "heatmap"
           }
          ],
          "heatmapgl": [
           {
            "colorbar": {
             "outlinewidth": 0,
             "ticks": ""
            },
            "colorscale": [
             [
              0,
              "#0d0887"
             ],
             [
              0.1111111111111111,
              "#46039f"
             ],
             [
              0.2222222222222222,
              "#7201a8"
             ],
             [
              0.3333333333333333,
              "#9c179e"
             ],
             [
              0.4444444444444444,
              "#bd3786"
             ],
             [
              0.5555555555555556,
              "#d8576b"
             ],
             [
              0.6666666666666666,
              "#ed7953"
             ],
             [
              0.7777777777777778,
              "#fb9f3a"
             ],
             [
              0.8888888888888888,
              "#fdca26"
             ],
             [
              1,
              "#f0f921"
             ]
            ],
            "type": "heatmapgl"
           }
          ],
          "histogram": [
           {
            "marker": {
             "pattern": {
              "fillmode": "overlay",
              "size": 10,
              "solidity": 0.2
             }
            },
            "type": "histogram"
           }
          ],
          "histogram2d": [
           {
            "colorbar": {
             "outlinewidth": 0,
             "ticks": ""
            },
            "colorscale": [
             [
              0,
              "#0d0887"
             ],
             [
              0.1111111111111111,
              "#46039f"
             ],
             [
              0.2222222222222222,
              "#7201a8"
             ],
             [
              0.3333333333333333,
              "#9c179e"
             ],
             [
              0.4444444444444444,
              "#bd3786"
             ],
             [
              0.5555555555555556,
              "#d8576b"
             ],
             [
              0.6666666666666666,
              "#ed7953"
             ],
             [
              0.7777777777777778,
              "#fb9f3a"
             ],
             [
              0.8888888888888888,
              "#fdca26"
             ],
             [
              1,
              "#f0f921"
             ]
            ],
            "type": "histogram2d"
           }
          ],
          "histogram2dcontour": [
           {
            "colorbar": {
             "outlinewidth": 0,
             "ticks": ""
            },
            "colorscale": [
             [
              0,
              "#0d0887"
             ],
             [
              0.1111111111111111,
              "#46039f"
             ],
             [
              0.2222222222222222,
              "#7201a8"
             ],
             [
              0.3333333333333333,
              "#9c179e"
             ],
             [
              0.4444444444444444,
              "#bd3786"
             ],
             [
              0.5555555555555556,
              "#d8576b"
             ],
             [
              0.6666666666666666,
              "#ed7953"
             ],
             [
              0.7777777777777778,
              "#fb9f3a"
             ],
             [
              0.8888888888888888,
              "#fdca26"
             ],
             [
              1,
              "#f0f921"
             ]
            ],
            "type": "histogram2dcontour"
           }
          ],
          "mesh3d": [
           {
            "colorbar": {
             "outlinewidth": 0,
             "ticks": ""
            },
            "type": "mesh3d"
           }
          ],
          "parcoords": [
           {
            "line": {
             "colorbar": {
              "outlinewidth": 0,
              "ticks": ""
             }
            },
            "type": "parcoords"
           }
          ],
          "pie": [
           {
            "automargin": true,
            "type": "pie"
           }
          ],
          "scatter": [
           {
            "marker": {
             "colorbar": {
              "outlinewidth": 0,
              "ticks": ""
             }
            },
            "type": "scatter"
           }
          ],
          "scatter3d": [
           {
            "line": {
             "colorbar": {
              "outlinewidth": 0,
              "ticks": ""
             }
            },
            "marker": {
             "colorbar": {
              "outlinewidth": 0,
              "ticks": ""
             }
            },
            "type": "scatter3d"
           }
          ],
          "scattercarpet": [
           {
            "marker": {
             "colorbar": {
              "outlinewidth": 0,
              "ticks": ""
             }
            },
            "type": "scattercarpet"
           }
          ],
          "scattergeo": [
           {
            "marker": {
             "colorbar": {
              "outlinewidth": 0,
              "ticks": ""
             }
            },
            "type": "scattergeo"
           }
          ],
          "scattergl": [
           {
            "marker": {
             "colorbar": {
              "outlinewidth": 0,
              "ticks": ""
             }
            },
            "type": "scattergl"
           }
          ],
          "scattermapbox": [
           {
            "marker": {
             "colorbar": {
              "outlinewidth": 0,
              "ticks": ""
             }
            },
            "type": "scattermapbox"
           }
          ],
          "scatterpolar": [
           {
            "marker": {
             "colorbar": {
              "outlinewidth": 0,
              "ticks": ""
             }
            },
            "type": "scatterpolar"
           }
          ],
          "scatterpolargl": [
           {
            "marker": {
             "colorbar": {
              "outlinewidth": 0,
              "ticks": ""
             }
            },
            "type": "scatterpolargl"
           }
          ],
          "scatterternary": [
           {
            "marker": {
             "colorbar": {
              "outlinewidth": 0,
              "ticks": ""
             }
            },
            "type": "scatterternary"
           }
          ],
          "surface": [
           {
            "colorbar": {
             "outlinewidth": 0,
             "ticks": ""
            },
            "colorscale": [
             [
              0,
              "#0d0887"
             ],
             [
              0.1111111111111111,
              "#46039f"
             ],
             [
              0.2222222222222222,
              "#7201a8"
             ],
             [
              0.3333333333333333,
              "#9c179e"
             ],
             [
              0.4444444444444444,
              "#bd3786"
             ],
             [
              0.5555555555555556,
              "#d8576b"
             ],
             [
              0.6666666666666666,
              "#ed7953"
             ],
             [
              0.7777777777777778,
              "#fb9f3a"
             ],
             [
              0.8888888888888888,
              "#fdca26"
             ],
             [
              1,
              "#f0f921"
             ]
            ],
            "type": "surface"
           }
          ],
          "table": [
           {
            "cells": {
             "fill": {
              "color": "#EBF0F8"
             },
             "line": {
              "color": "white"
             }
            },
            "header": {
             "fill": {
              "color": "#C8D4E3"
             },
             "line": {
              "color": "white"
             }
            },
            "type": "table"
           }
          ]
         },
         "layout": {
          "annotationdefaults": {
           "arrowcolor": "#2a3f5f",
           "arrowhead": 0,
           "arrowwidth": 1
          },
          "autotypenumbers": "strict",
          "coloraxis": {
           "colorbar": {
            "outlinewidth": 0,
            "ticks": ""
           }
          },
          "colorscale": {
           "diverging": [
            [
             0,
             "#8e0152"
            ],
            [
             0.1,
             "#c51b7d"
            ],
            [
             0.2,
             "#de77ae"
            ],
            [
             0.3,
             "#f1b6da"
            ],
            [
             0.4,
             "#fde0ef"
            ],
            [
             0.5,
             "#f7f7f7"
            ],
            [
             0.6,
             "#e6f5d0"
            ],
            [
             0.7,
             "#b8e186"
            ],
            [
             0.8,
             "#7fbc41"
            ],
            [
             0.9,
             "#4d9221"
            ],
            [
             1,
             "#276419"
            ]
           ],
           "sequential": [
            [
             0,
             "#0d0887"
            ],
            [
             0.1111111111111111,
             "#46039f"
            ],
            [
             0.2222222222222222,
             "#7201a8"
            ],
            [
             0.3333333333333333,
             "#9c179e"
            ],
            [
             0.4444444444444444,
             "#bd3786"
            ],
            [
             0.5555555555555556,
             "#d8576b"
            ],
            [
             0.6666666666666666,
             "#ed7953"
            ],
            [
             0.7777777777777778,
             "#fb9f3a"
            ],
            [
             0.8888888888888888,
             "#fdca26"
            ],
            [
             1,
             "#f0f921"
            ]
           ],
           "sequentialminus": [
            [
             0,
             "#0d0887"
            ],
            [
             0.1111111111111111,
             "#46039f"
            ],
            [
             0.2222222222222222,
             "#7201a8"
            ],
            [
             0.3333333333333333,
             "#9c179e"
            ],
            [
             0.4444444444444444,
             "#bd3786"
            ],
            [
             0.5555555555555556,
             "#d8576b"
            ],
            [
             0.6666666666666666,
             "#ed7953"
            ],
            [
             0.7777777777777778,
             "#fb9f3a"
            ],
            [
             0.8888888888888888,
             "#fdca26"
            ],
            [
             1,
             "#f0f921"
            ]
           ]
          },
          "colorway": [
           "#636efa",
           "#EF553B",
           "#00cc96",
           "#ab63fa",
           "#FFA15A",
           "#19d3f3",
           "#FF6692",
           "#B6E880",
           "#FF97FF",
           "#FECB52"
          ],
          "font": {
           "color": "#2a3f5f"
          },
          "geo": {
           "bgcolor": "white",
           "lakecolor": "white",
           "landcolor": "#E5ECF6",
           "showlakes": true,
           "showland": true,
           "subunitcolor": "white"
          },
          "hoverlabel": {
           "align": "left"
          },
          "hovermode": "closest",
          "mapbox": {
           "style": "light"
          },
          "paper_bgcolor": "white",
          "plot_bgcolor": "#E5ECF6",
          "polar": {
           "angularaxis": {
            "gridcolor": "white",
            "linecolor": "white",
            "ticks": ""
           },
           "bgcolor": "#E5ECF6",
           "radialaxis": {
            "gridcolor": "white",
            "linecolor": "white",
            "ticks": ""
           }
          },
          "scene": {
           "xaxis": {
            "backgroundcolor": "#E5ECF6",
            "gridcolor": "white",
            "gridwidth": 2,
            "linecolor": "white",
            "showbackground": true,
            "ticks": "",
            "zerolinecolor": "white"
           },
           "yaxis": {
            "backgroundcolor": "#E5ECF6",
            "gridcolor": "white",
            "gridwidth": 2,
            "linecolor": "white",
            "showbackground": true,
            "ticks": "",
            "zerolinecolor": "white"
           },
           "zaxis": {
            "backgroundcolor": "#E5ECF6",
            "gridcolor": "white",
            "gridwidth": 2,
            "linecolor": "white",
            "showbackground": true,
            "ticks": "",
            "zerolinecolor": "white"
           }
          },
          "shapedefaults": {
           "line": {
            "color": "#2a3f5f"
           }
          },
          "ternary": {
           "aaxis": {
            "gridcolor": "white",
            "linecolor": "white",
            "ticks": ""
           },
           "baxis": {
            "gridcolor": "white",
            "linecolor": "white",
            "ticks": ""
           },
           "bgcolor": "#E5ECF6",
           "caxis": {
            "gridcolor": "white",
            "linecolor": "white",
            "ticks": ""
           }
          },
          "title": {
           "x": 0.05
          },
          "xaxis": {
           "automargin": true,
           "gridcolor": "white",
           "linecolor": "white",
           "ticks": "",
           "title": {
            "standoff": 15
           },
           "zerolinecolor": "white",
           "zerolinewidth": 2
          },
          "yaxis": {
           "automargin": true,
           "gridcolor": "white",
           "linecolor": "white",
           "ticks": "",
           "title": {
            "standoff": 15
           },
           "zerolinecolor": "white",
           "zerolinewidth": 2
          }
         }
        },
        "title": {
         "font": {
          "color": "#4D5663"
         }
        },
        "xaxis": {
         "gridcolor": "#E1E5ED",
         "showgrid": true,
         "tickfont": {
          "color": "#4D5663"
         },
         "title": {
          "font": {
           "color": "#4D5663"
          },
          "text": ""
         },
         "zerolinecolor": "#E1E5ED"
        },
        "yaxis": {
         "gridcolor": "#E1E5ED",
         "showgrid": true,
         "tickfont": {
          "color": "#4D5663"
         },
         "title": {
          "font": {
           "color": "#4D5663"
          },
          "text": ""
         },
         "zerolinecolor": "#E1E5ED"
        }
       }
      },
      "text/html": [
       "<div>                            <div id=\"ebe2233f-c4f2-4143-882f-59d531705507\" class=\"plotly-graph-div\" style=\"height:525px; width:100%;\"></div>            <script type=\"text/javascript\">                require([\"plotly\"], function(Plotly) {                    window.PLOTLYENV=window.PLOTLYENV || {};\n",
       "                    window.PLOTLYENV.BASE_URL='https://plot.ly';                                    if (document.getElementById(\"ebe2233f-c4f2-4143-882f-59d531705507\")) {                    Plotly.newPlot(                        \"ebe2233f-c4f2-4143-882f-59d531705507\",                        [{\"marker\":{\"color\":\"rgba(255, 153, 51, 0.6)\",\"line\":{\"color\":\"rgba(255, 153, 51, 1.0)\",\"width\":1}},\"name\":\"Values\",\"orientation\":\"v\",\"text\":\"\",\"type\":\"bar\",\"x\":[\"A\",\"B\",\"C\"],\"y\":[32,43,50]}],                        {\"legend\":{\"bgcolor\":\"#F5F6F9\",\"font\":{\"color\":\"#4D5663\"}},\"paper_bgcolor\":\"#F5F6F9\",\"plot_bgcolor\":\"#F5F6F9\",\"template\":{\"data\":{\"bar\":[{\"error_x\":{\"color\":\"#2a3f5f\"},\"error_y\":{\"color\":\"#2a3f5f\"},\"marker\":{\"line\":{\"color\":\"#E5ECF6\",\"width\":0.5},\"pattern\":{\"fillmode\":\"overlay\",\"size\":10,\"solidity\":0.2}},\"type\":\"bar\"}],\"barpolar\":[{\"marker\":{\"line\":{\"color\":\"#E5ECF6\",\"width\":0.5},\"pattern\":{\"fillmode\":\"overlay\",\"size\":10,\"solidity\":0.2}},\"type\":\"barpolar\"}],\"carpet\":[{\"aaxis\":{\"endlinecolor\":\"#2a3f5f\",\"gridcolor\":\"white\",\"linecolor\":\"white\",\"minorgridcolor\":\"white\",\"startlinecolor\":\"#2a3f5f\"},\"baxis\":{\"endlinecolor\":\"#2a3f5f\",\"gridcolor\":\"white\",\"linecolor\":\"white\",\"minorgridcolor\":\"white\",\"startlinecolor\":\"#2a3f5f\"},\"type\":\"carpet\"}],\"choropleth\":[{\"colorbar\":{\"outlinewidth\":0,\"ticks\":\"\"},\"type\":\"choropleth\"}],\"contour\":[{\"colorbar\":{\"outlinewidth\":0,\"ticks\":\"\"},\"colorscale\":[[0.0,\"#0d0887\"],[0.1111111111111111,\"#46039f\"],[0.2222222222222222,\"#7201a8\"],[0.3333333333333333,\"#9c179e\"],[0.4444444444444444,\"#bd3786\"],[0.5555555555555556,\"#d8576b\"],[0.6666666666666666,\"#ed7953\"],[0.7777777777777778,\"#fb9f3a\"],[0.8888888888888888,\"#fdca26\"],[1.0,\"#f0f921\"]],\"type\":\"contour\"}],\"contourcarpet\":[{\"colorbar\":{\"outlinewidth\":0,\"ticks\":\"\"},\"type\":\"contourcarpet\"}],\"heatmap\":[{\"colorbar\":{\"outlinewidth\":0,\"ticks\":\"\"},\"colorscale\":[[0.0,\"#0d0887\"],[0.1111111111111111,\"#46039f\"],[0.2222222222222222,\"#7201a8\"],[0.3333333333333333,\"#9c179e\"],[0.4444444444444444,\"#bd3786\"],[0.5555555555555556,\"#d8576b\"],[0.6666666666666666,\"#ed7953\"],[0.7777777777777778,\"#fb9f3a\"],[0.8888888888888888,\"#fdca26\"],[1.0,\"#f0f921\"]],\"type\":\"heatmap\"}],\"heatmapgl\":[{\"colorbar\":{\"outlinewidth\":0,\"ticks\":\"\"},\"colorscale\":[[0.0,\"#0d0887\"],[0.1111111111111111,\"#46039f\"],[0.2222222222222222,\"#7201a8\"],[0.3333333333333333,\"#9c179e\"],[0.4444444444444444,\"#bd3786\"],[0.5555555555555556,\"#d8576b\"],[0.6666666666666666,\"#ed7953\"],[0.7777777777777778,\"#fb9f3a\"],[0.8888888888888888,\"#fdca26\"],[1.0,\"#f0f921\"]],\"type\":\"heatmapgl\"}],\"histogram\":[{\"marker\":{\"pattern\":{\"fillmode\":\"overlay\",\"size\":10,\"solidity\":0.2}},\"type\":\"histogram\"}],\"histogram2d\":[{\"colorbar\":{\"outlinewidth\":0,\"ticks\":\"\"},\"colorscale\":[[0.0,\"#0d0887\"],[0.1111111111111111,\"#46039f\"],[0.2222222222222222,\"#7201a8\"],[0.3333333333333333,\"#9c179e\"],[0.4444444444444444,\"#bd3786\"],[0.5555555555555556,\"#d8576b\"],[0.6666666666666666,\"#ed7953\"],[0.7777777777777778,\"#fb9f3a\"],[0.8888888888888888,\"#fdca26\"],[1.0,\"#f0f921\"]],\"type\":\"histogram2d\"}],\"histogram2dcontour\":[{\"colorbar\":{\"outlinewidth\":0,\"ticks\":\"\"},\"colorscale\":[[0.0,\"#0d0887\"],[0.1111111111111111,\"#46039f\"],[0.2222222222222222,\"#7201a8\"],[0.3333333333333333,\"#9c179e\"],[0.4444444444444444,\"#bd3786\"],[0.5555555555555556,\"#d8576b\"],[0.6666666666666666,\"#ed7953\"],[0.7777777777777778,\"#fb9f3a\"],[0.8888888888888888,\"#fdca26\"],[1.0,\"#f0f921\"]],\"type\":\"histogram2dcontour\"}],\"mesh3d\":[{\"colorbar\":{\"outlinewidth\":0,\"ticks\":\"\"},\"type\":\"mesh3d\"}],\"parcoords\":[{\"line\":{\"colorbar\":{\"outlinewidth\":0,\"ticks\":\"\"}},\"type\":\"parcoords\"}],\"pie\":[{\"automargin\":true,\"type\":\"pie\"}],\"scatter\":[{\"marker\":{\"colorbar\":{\"outlinewidth\":0,\"ticks\":\"\"}},\"type\":\"scatter\"}],\"scatter3d\":[{\"line\":{\"colorbar\":{\"outlinewidth\":0,\"ticks\":\"\"}},\"marker\":{\"colorbar\":{\"outlinewidth\":0,\"ticks\":\"\"}},\"type\":\"scatter3d\"}],\"scattercarpet\":[{\"marker\":{\"colorbar\":{\"outlinewidth\":0,\"ticks\":\"\"}},\"type\":\"scattercarpet\"}],\"scattergeo\":[{\"marker\":{\"colorbar\":{\"outlinewidth\":0,\"ticks\":\"\"}},\"type\":\"scattergeo\"}],\"scattergl\":[{\"marker\":{\"colorbar\":{\"outlinewidth\":0,\"ticks\":\"\"}},\"type\":\"scattergl\"}],\"scattermapbox\":[{\"marker\":{\"colorbar\":{\"outlinewidth\":0,\"ticks\":\"\"}},\"type\":\"scattermapbox\"}],\"scatterpolar\":[{\"marker\":{\"colorbar\":{\"outlinewidth\":0,\"ticks\":\"\"}},\"type\":\"scatterpolar\"}],\"scatterpolargl\":[{\"marker\":{\"colorbar\":{\"outlinewidth\":0,\"ticks\":\"\"}},\"type\":\"scatterpolargl\"}],\"scatterternary\":[{\"marker\":{\"colorbar\":{\"outlinewidth\":0,\"ticks\":\"\"}},\"type\":\"scatterternary\"}],\"surface\":[{\"colorbar\":{\"outlinewidth\":0,\"ticks\":\"\"},\"colorscale\":[[0.0,\"#0d0887\"],[0.1111111111111111,\"#46039f\"],[0.2222222222222222,\"#7201a8\"],[0.3333333333333333,\"#9c179e\"],[0.4444444444444444,\"#bd3786\"],[0.5555555555555556,\"#d8576b\"],[0.6666666666666666,\"#ed7953\"],[0.7777777777777778,\"#fb9f3a\"],[0.8888888888888888,\"#fdca26\"],[1.0,\"#f0f921\"]],\"type\":\"surface\"}],\"table\":[{\"cells\":{\"fill\":{\"color\":\"#EBF0F8\"},\"line\":{\"color\":\"white\"}},\"header\":{\"fill\":{\"color\":\"#C8D4E3\"},\"line\":{\"color\":\"white\"}},\"type\":\"table\"}]},\"layout\":{\"annotationdefaults\":{\"arrowcolor\":\"#2a3f5f\",\"arrowhead\":0,\"arrowwidth\":1},\"autotypenumbers\":\"strict\",\"coloraxis\":{\"colorbar\":{\"outlinewidth\":0,\"ticks\":\"\"}},\"colorscale\":{\"diverging\":[[0,\"#8e0152\"],[0.1,\"#c51b7d\"],[0.2,\"#de77ae\"],[0.3,\"#f1b6da\"],[0.4,\"#fde0ef\"],[0.5,\"#f7f7f7\"],[0.6,\"#e6f5d0\"],[0.7,\"#b8e186\"],[0.8,\"#7fbc41\"],[0.9,\"#4d9221\"],[1,\"#276419\"]],\"sequential\":[[0.0,\"#0d0887\"],[0.1111111111111111,\"#46039f\"],[0.2222222222222222,\"#7201a8\"],[0.3333333333333333,\"#9c179e\"],[0.4444444444444444,\"#bd3786\"],[0.5555555555555556,\"#d8576b\"],[0.6666666666666666,\"#ed7953\"],[0.7777777777777778,\"#fb9f3a\"],[0.8888888888888888,\"#fdca26\"],[1.0,\"#f0f921\"]],\"sequentialminus\":[[0.0,\"#0d0887\"],[0.1111111111111111,\"#46039f\"],[0.2222222222222222,\"#7201a8\"],[0.3333333333333333,\"#9c179e\"],[0.4444444444444444,\"#bd3786\"],[0.5555555555555556,\"#d8576b\"],[0.6666666666666666,\"#ed7953\"],[0.7777777777777778,\"#fb9f3a\"],[0.8888888888888888,\"#fdca26\"],[1.0,\"#f0f921\"]]},\"colorway\":[\"#636efa\",\"#EF553B\",\"#00cc96\",\"#ab63fa\",\"#FFA15A\",\"#19d3f3\",\"#FF6692\",\"#B6E880\",\"#FF97FF\",\"#FECB52\"],\"font\":{\"color\":\"#2a3f5f\"},\"geo\":{\"bgcolor\":\"white\",\"lakecolor\":\"white\",\"landcolor\":\"#E5ECF6\",\"showlakes\":true,\"showland\":true,\"subunitcolor\":\"white\"},\"hoverlabel\":{\"align\":\"left\"},\"hovermode\":\"closest\",\"mapbox\":{\"style\":\"light\"},\"paper_bgcolor\":\"white\",\"plot_bgcolor\":\"#E5ECF6\",\"polar\":{\"angularaxis\":{\"gridcolor\":\"white\",\"linecolor\":\"white\",\"ticks\":\"\"},\"bgcolor\":\"#E5ECF6\",\"radialaxis\":{\"gridcolor\":\"white\",\"linecolor\":\"white\",\"ticks\":\"\"}},\"scene\":{\"xaxis\":{\"backgroundcolor\":\"#E5ECF6\",\"gridcolor\":\"white\",\"gridwidth\":2,\"linecolor\":\"white\",\"showbackground\":true,\"ticks\":\"\",\"zerolinecolor\":\"white\"},\"yaxis\":{\"backgroundcolor\":\"#E5ECF6\",\"gridcolor\":\"white\",\"gridwidth\":2,\"linecolor\":\"white\",\"showbackground\":true,\"ticks\":\"\",\"zerolinecolor\":\"white\"},\"zaxis\":{\"backgroundcolor\":\"#E5ECF6\",\"gridcolor\":\"white\",\"gridwidth\":2,\"linecolor\":\"white\",\"showbackground\":true,\"ticks\":\"\",\"zerolinecolor\":\"white\"}},\"shapedefaults\":{\"line\":{\"color\":\"#2a3f5f\"}},\"ternary\":{\"aaxis\":{\"gridcolor\":\"white\",\"linecolor\":\"white\",\"ticks\":\"\"},\"baxis\":{\"gridcolor\":\"white\",\"linecolor\":\"white\",\"ticks\":\"\"},\"bgcolor\":\"#E5ECF6\",\"caxis\":{\"gridcolor\":\"white\",\"linecolor\":\"white\",\"ticks\":\"\"}},\"title\":{\"x\":0.05},\"xaxis\":{\"automargin\":true,\"gridcolor\":\"white\",\"linecolor\":\"white\",\"ticks\":\"\",\"title\":{\"standoff\":15},\"zerolinecolor\":\"white\",\"zerolinewidth\":2},\"yaxis\":{\"automargin\":true,\"gridcolor\":\"white\",\"linecolor\":\"white\",\"ticks\":\"\",\"title\":{\"standoff\":15},\"zerolinecolor\":\"white\",\"zerolinewidth\":2}}},\"title\":{\"font\":{\"color\":\"#4D5663\"}},\"xaxis\":{\"gridcolor\":\"#E1E5ED\",\"showgrid\":true,\"tickfont\":{\"color\":\"#4D5663\"},\"title\":{\"font\":{\"color\":\"#4D5663\"},\"text\":\"\"},\"zerolinecolor\":\"#E1E5ED\"},\"yaxis\":{\"gridcolor\":\"#E1E5ED\",\"showgrid\":true,\"tickfont\":{\"color\":\"#4D5663\"},\"title\":{\"font\":{\"color\":\"#4D5663\"},\"text\":\"\"},\"zerolinecolor\":\"#E1E5ED\"}},                        {\"showLink\": true, \"linkText\": \"Export to plot.ly\", \"plotlyServerURL\": \"https://plot.ly\", \"responsive\": true}                    ).then(function(){\n",
       "                            \n",
       "var gd = document.getElementById('ebe2233f-c4f2-4143-882f-59d531705507');\n",
       "var x = new MutationObserver(function (mutations, observer) {{\n",
       "        var display = window.getComputedStyle(gd).display;\n",
       "        if (!display || display === 'none') {{\n",
       "            console.log([gd, 'removed!']);\n",
       "            Plotly.purge(gd);\n",
       "            observer.disconnect();\n",
       "        }}\n",
       "}});\n",
       "\n",
       "// Listen for the removal of the full notebook cells\n",
       "var notebookContainer = gd.closest('#notebook-container');\n",
       "if (notebookContainer) {{\n",
       "    x.observe(notebookContainer, {childList: true});\n",
       "}}\n",
       "\n",
       "// Listen for the clearing of the current output cell\n",
       "var outputEl = gd.closest('.output');\n",
       "if (outputEl) {{\n",
       "    x.observe(outputEl, {childList: true});\n",
       "}}\n",
       "\n",
       "                        })                };                });            </script>        </div>"
      ]
     },
     "metadata": {},
     "output_type": "display_data"
    }
   ],
   "source": [
    "df2.iplot(kind='bar',x='Category',y='Values')"
   ]
  },
  {
   "cell_type": "code",
   "execution_count": 12,
   "metadata": {},
   "outputs": [
    {
     "data": {
      "application/vnd.plotly.v1+json": {
       "config": {
        "linkText": "Export to plot.ly",
        "plotlyServerURL": "https://plot.ly",
        "showLink": true
       },
       "data": [
        {
         "marker": {
          "color": "rgba(255, 153, 51, 0.6)",
          "line": {
           "color": "rgba(255, 153, 51, 1.0)",
           "width": 1
          }
         },
         "name": "None",
         "orientation": "v",
         "text": "",
         "type": "bar",
         "x": [
          "A",
          "B",
          "C",
          "D"
         ],
         "y": [
          100,
          100,
          100,
          100
         ]
        }
       ],
       "layout": {
        "legend": {
         "bgcolor": "#F5F6F9",
         "font": {
          "color": "#4D5663"
         }
        },
        "paper_bgcolor": "#F5F6F9",
        "plot_bgcolor": "#F5F6F9",
        "template": {
         "data": {
          "bar": [
           {
            "error_x": {
             "color": "#2a3f5f"
            },
            "error_y": {
             "color": "#2a3f5f"
            },
            "marker": {
             "line": {
              "color": "#E5ECF6",
              "width": 0.5
             },
             "pattern": {
              "fillmode": "overlay",
              "size": 10,
              "solidity": 0.2
             }
            },
            "type": "bar"
           }
          ],
          "barpolar": [
           {
            "marker": {
             "line": {
              "color": "#E5ECF6",
              "width": 0.5
             },
             "pattern": {
              "fillmode": "overlay",
              "size": 10,
              "solidity": 0.2
             }
            },
            "type": "barpolar"
           }
          ],
          "carpet": [
           {
            "aaxis": {
             "endlinecolor": "#2a3f5f",
             "gridcolor": "white",
             "linecolor": "white",
             "minorgridcolor": "white",
             "startlinecolor": "#2a3f5f"
            },
            "baxis": {
             "endlinecolor": "#2a3f5f",
             "gridcolor": "white",
             "linecolor": "white",
             "minorgridcolor": "white",
             "startlinecolor": "#2a3f5f"
            },
            "type": "carpet"
           }
          ],
          "choropleth": [
           {
            "colorbar": {
             "outlinewidth": 0,
             "ticks": ""
            },
            "type": "choropleth"
           }
          ],
          "contour": [
           {
            "colorbar": {
             "outlinewidth": 0,
             "ticks": ""
            },
            "colorscale": [
             [
              0,
              "#0d0887"
             ],
             [
              0.1111111111111111,
              "#46039f"
             ],
             [
              0.2222222222222222,
              "#7201a8"
             ],
             [
              0.3333333333333333,
              "#9c179e"
             ],
             [
              0.4444444444444444,
              "#bd3786"
             ],
             [
              0.5555555555555556,
              "#d8576b"
             ],
             [
              0.6666666666666666,
              "#ed7953"
             ],
             [
              0.7777777777777778,
              "#fb9f3a"
             ],
             [
              0.8888888888888888,
              "#fdca26"
             ],
             [
              1,
              "#f0f921"
             ]
            ],
            "type": "contour"
           }
          ],
          "contourcarpet": [
           {
            "colorbar": {
             "outlinewidth": 0,
             "ticks": ""
            },
            "type": "contourcarpet"
           }
          ],
          "heatmap": [
           {
            "colorbar": {
             "outlinewidth": 0,
             "ticks": ""
            },
            "colorscale": [
             [
              0,
              "#0d0887"
             ],
             [
              0.1111111111111111,
              "#46039f"
             ],
             [
              0.2222222222222222,
              "#7201a8"
             ],
             [
              0.3333333333333333,
              "#9c179e"
             ],
             [
              0.4444444444444444,
              "#bd3786"
             ],
             [
              0.5555555555555556,
              "#d8576b"
             ],
             [
              0.6666666666666666,
              "#ed7953"
             ],
             [
              0.7777777777777778,
              "#fb9f3a"
             ],
             [
              0.8888888888888888,
              "#fdca26"
             ],
             [
              1,
              "#f0f921"
             ]
            ],
            "type": "heatmap"
           }
          ],
          "heatmapgl": [
           {
            "colorbar": {
             "outlinewidth": 0,
             "ticks": ""
            },
            "colorscale": [
             [
              0,
              "#0d0887"
             ],
             [
              0.1111111111111111,
              "#46039f"
             ],
             [
              0.2222222222222222,
              "#7201a8"
             ],
             [
              0.3333333333333333,
              "#9c179e"
             ],
             [
              0.4444444444444444,
              "#bd3786"
             ],
             [
              0.5555555555555556,
              "#d8576b"
             ],
             [
              0.6666666666666666,
              "#ed7953"
             ],
             [
              0.7777777777777778,
              "#fb9f3a"
             ],
             [
              0.8888888888888888,
              "#fdca26"
             ],
             [
              1,
              "#f0f921"
             ]
            ],
            "type": "heatmapgl"
           }
          ],
          "histogram": [
           {
            "marker": {
             "pattern": {
              "fillmode": "overlay",
              "size": 10,
              "solidity": 0.2
             }
            },
            "type": "histogram"
           }
          ],
          "histogram2d": [
           {
            "colorbar": {
             "outlinewidth": 0,
             "ticks": ""
            },
            "colorscale": [
             [
              0,
              "#0d0887"
             ],
             [
              0.1111111111111111,
              "#46039f"
             ],
             [
              0.2222222222222222,
              "#7201a8"
             ],
             [
              0.3333333333333333,
              "#9c179e"
             ],
             [
              0.4444444444444444,
              "#bd3786"
             ],
             [
              0.5555555555555556,
              "#d8576b"
             ],
             [
              0.6666666666666666,
              "#ed7953"
             ],
             [
              0.7777777777777778,
              "#fb9f3a"
             ],
             [
              0.8888888888888888,
              "#fdca26"
             ],
             [
              1,
              "#f0f921"
             ]
            ],
            "type": "histogram2d"
           }
          ],
          "histogram2dcontour": [
           {
            "colorbar": {
             "outlinewidth": 0,
             "ticks": ""
            },
            "colorscale": [
             [
              0,
              "#0d0887"
             ],
             [
              0.1111111111111111,
              "#46039f"
             ],
             [
              0.2222222222222222,
              "#7201a8"
             ],
             [
              0.3333333333333333,
              "#9c179e"
             ],
             [
              0.4444444444444444,
              "#bd3786"
             ],
             [
              0.5555555555555556,
              "#d8576b"
             ],
             [
              0.6666666666666666,
              "#ed7953"
             ],
             [
              0.7777777777777778,
              "#fb9f3a"
             ],
             [
              0.8888888888888888,
              "#fdca26"
             ],
             [
              1,
              "#f0f921"
             ]
            ],
            "type": "histogram2dcontour"
           }
          ],
          "mesh3d": [
           {
            "colorbar": {
             "outlinewidth": 0,
             "ticks": ""
            },
            "type": "mesh3d"
           }
          ],
          "parcoords": [
           {
            "line": {
             "colorbar": {
              "outlinewidth": 0,
              "ticks": ""
             }
            },
            "type": "parcoords"
           }
          ],
          "pie": [
           {
            "automargin": true,
            "type": "pie"
           }
          ],
          "scatter": [
           {
            "marker": {
             "colorbar": {
              "outlinewidth": 0,
              "ticks": ""
             }
            },
            "type": "scatter"
           }
          ],
          "scatter3d": [
           {
            "line": {
             "colorbar": {
              "outlinewidth": 0,
              "ticks": ""
             }
            },
            "marker": {
             "colorbar": {
              "outlinewidth": 0,
              "ticks": ""
             }
            },
            "type": "scatter3d"
           }
          ],
          "scattercarpet": [
           {
            "marker": {
             "colorbar": {
              "outlinewidth": 0,
              "ticks": ""
             }
            },
            "type": "scattercarpet"
           }
          ],
          "scattergeo": [
           {
            "marker": {
             "colorbar": {
              "outlinewidth": 0,
              "ticks": ""
             }
            },
            "type": "scattergeo"
           }
          ],
          "scattergl": [
           {
            "marker": {
             "colorbar": {
              "outlinewidth": 0,
              "ticks": ""
             }
            },
            "type": "scattergl"
           }
          ],
          "scattermapbox": [
           {
            "marker": {
             "colorbar": {
              "outlinewidth": 0,
              "ticks": ""
             }
            },
            "type": "scattermapbox"
           }
          ],
          "scatterpolar": [
           {
            "marker": {
             "colorbar": {
              "outlinewidth": 0,
              "ticks": ""
             }
            },
            "type": "scatterpolar"
           }
          ],
          "scatterpolargl": [
           {
            "marker": {
             "colorbar": {
              "outlinewidth": 0,
              "ticks": ""
             }
            },
            "type": "scatterpolargl"
           }
          ],
          "scatterternary": [
           {
            "marker": {
             "colorbar": {
              "outlinewidth": 0,
              "ticks": ""
             }
            },
            "type": "scatterternary"
           }
          ],
          "surface": [
           {
            "colorbar": {
             "outlinewidth": 0,
             "ticks": ""
            },
            "colorscale": [
             [
              0,
              "#0d0887"
             ],
             [
              0.1111111111111111,
              "#46039f"
             ],
             [
              0.2222222222222222,
              "#7201a8"
             ],
             [
              0.3333333333333333,
              "#9c179e"
             ],
             [
              0.4444444444444444,
              "#bd3786"
             ],
             [
              0.5555555555555556,
              "#d8576b"
             ],
             [
              0.6666666666666666,
              "#ed7953"
             ],
             [
              0.7777777777777778,
              "#fb9f3a"
             ],
             [
              0.8888888888888888,
              "#fdca26"
             ],
             [
              1,
              "#f0f921"
             ]
            ],
            "type": "surface"
           }
          ],
          "table": [
           {
            "cells": {
             "fill": {
              "color": "#EBF0F8"
             },
             "line": {
              "color": "white"
             }
            },
            "header": {
             "fill": {
              "color": "#C8D4E3"
             },
             "line": {
              "color": "white"
             }
            },
            "type": "table"
           }
          ]
         },
         "layout": {
          "annotationdefaults": {
           "arrowcolor": "#2a3f5f",
           "arrowhead": 0,
           "arrowwidth": 1
          },
          "autotypenumbers": "strict",
          "coloraxis": {
           "colorbar": {
            "outlinewidth": 0,
            "ticks": ""
           }
          },
          "colorscale": {
           "diverging": [
            [
             0,
             "#8e0152"
            ],
            [
             0.1,
             "#c51b7d"
            ],
            [
             0.2,
             "#de77ae"
            ],
            [
             0.3,
             "#f1b6da"
            ],
            [
             0.4,
             "#fde0ef"
            ],
            [
             0.5,
             "#f7f7f7"
            ],
            [
             0.6,
             "#e6f5d0"
            ],
            [
             0.7,
             "#b8e186"
            ],
            [
             0.8,
             "#7fbc41"
            ],
            [
             0.9,
             "#4d9221"
            ],
            [
             1,
             "#276419"
            ]
           ],
           "sequential": [
            [
             0,
             "#0d0887"
            ],
            [
             0.1111111111111111,
             "#46039f"
            ],
            [
             0.2222222222222222,
             "#7201a8"
            ],
            [
             0.3333333333333333,
             "#9c179e"
            ],
            [
             0.4444444444444444,
             "#bd3786"
            ],
            [
             0.5555555555555556,
             "#d8576b"
            ],
            [
             0.6666666666666666,
             "#ed7953"
            ],
            [
             0.7777777777777778,
             "#fb9f3a"
            ],
            [
             0.8888888888888888,
             "#fdca26"
            ],
            [
             1,
             "#f0f921"
            ]
           ],
           "sequentialminus": [
            [
             0,
             "#0d0887"
            ],
            [
             0.1111111111111111,
             "#46039f"
            ],
            [
             0.2222222222222222,
             "#7201a8"
            ],
            [
             0.3333333333333333,
             "#9c179e"
            ],
            [
             0.4444444444444444,
             "#bd3786"
            ],
            [
             0.5555555555555556,
             "#d8576b"
            ],
            [
             0.6666666666666666,
             "#ed7953"
            ],
            [
             0.7777777777777778,
             "#fb9f3a"
            ],
            [
             0.8888888888888888,
             "#fdca26"
            ],
            [
             1,
             "#f0f921"
            ]
           ]
          },
          "colorway": [
           "#636efa",
           "#EF553B",
           "#00cc96",
           "#ab63fa",
           "#FFA15A",
           "#19d3f3",
           "#FF6692",
           "#B6E880",
           "#FF97FF",
           "#FECB52"
          ],
          "font": {
           "color": "#2a3f5f"
          },
          "geo": {
           "bgcolor": "white",
           "lakecolor": "white",
           "landcolor": "#E5ECF6",
           "showlakes": true,
           "showland": true,
           "subunitcolor": "white"
          },
          "hoverlabel": {
           "align": "left"
          },
          "hovermode": "closest",
          "mapbox": {
           "style": "light"
          },
          "paper_bgcolor": "white",
          "plot_bgcolor": "#E5ECF6",
          "polar": {
           "angularaxis": {
            "gridcolor": "white",
            "linecolor": "white",
            "ticks": ""
           },
           "bgcolor": "#E5ECF6",
           "radialaxis": {
            "gridcolor": "white",
            "linecolor": "white",
            "ticks": ""
           }
          },
          "scene": {
           "xaxis": {
            "backgroundcolor": "#E5ECF6",
            "gridcolor": "white",
            "gridwidth": 2,
            "linecolor": "white",
            "showbackground": true,
            "ticks": "",
            "zerolinecolor": "white"
           },
           "yaxis": {
            "backgroundcolor": "#E5ECF6",
            "gridcolor": "white",
            "gridwidth": 2,
            "linecolor": "white",
            "showbackground": true,
            "ticks": "",
            "zerolinecolor": "white"
           },
           "zaxis": {
            "backgroundcolor": "#E5ECF6",
            "gridcolor": "white",
            "gridwidth": 2,
            "linecolor": "white",
            "showbackground": true,
            "ticks": "",
            "zerolinecolor": "white"
           }
          },
          "shapedefaults": {
           "line": {
            "color": "#2a3f5f"
           }
          },
          "ternary": {
           "aaxis": {
            "gridcolor": "white",
            "linecolor": "white",
            "ticks": ""
           },
           "baxis": {
            "gridcolor": "white",
            "linecolor": "white",
            "ticks": ""
           },
           "bgcolor": "#E5ECF6",
           "caxis": {
            "gridcolor": "white",
            "linecolor": "white",
            "ticks": ""
           }
          },
          "title": {
           "x": 0.05
          },
          "xaxis": {
           "automargin": true,
           "gridcolor": "white",
           "linecolor": "white",
           "ticks": "",
           "title": {
            "standoff": 15
           },
           "zerolinecolor": "white",
           "zerolinewidth": 2
          },
          "yaxis": {
           "automargin": true,
           "gridcolor": "white",
           "linecolor": "white",
           "ticks": "",
           "title": {
            "standoff": 15
           },
           "zerolinecolor": "white",
           "zerolinewidth": 2
          }
         }
        },
        "title": {
         "font": {
          "color": "#4D5663"
         }
        },
        "xaxis": {
         "gridcolor": "#E1E5ED",
         "showgrid": true,
         "tickfont": {
          "color": "#4D5663"
         },
         "title": {
          "font": {
           "color": "#4D5663"
          },
          "text": ""
         },
         "zerolinecolor": "#E1E5ED"
        },
        "yaxis": {
         "gridcolor": "#E1E5ED",
         "showgrid": true,
         "tickfont": {
          "color": "#4D5663"
         },
         "title": {
          "font": {
           "color": "#4D5663"
          },
          "text": ""
         },
         "zerolinecolor": "#E1E5ED"
        }
       }
      },
      "text/html": [
       "<div>                            <div id=\"688fae95-1150-417a-b5e6-2f15ba449ac9\" class=\"plotly-graph-div\" style=\"height:525px; width:100%;\"></div>            <script type=\"text/javascript\">                require([\"plotly\"], function(Plotly) {                    window.PLOTLYENV=window.PLOTLYENV || {};\n",
       "                    window.PLOTLYENV.BASE_URL='https://plot.ly';                                    if (document.getElementById(\"688fae95-1150-417a-b5e6-2f15ba449ac9\")) {                    Plotly.newPlot(                        \"688fae95-1150-417a-b5e6-2f15ba449ac9\",                        [{\"marker\":{\"color\":\"rgba(255, 153, 51, 0.6)\",\"line\":{\"color\":\"rgba(255, 153, 51, 1.0)\",\"width\":1}},\"name\":\"None\",\"orientation\":\"v\",\"text\":\"\",\"type\":\"bar\",\"x\":[\"A\",\"B\",\"C\",\"D\"],\"y\":[100,100,100,100]}],                        {\"legend\":{\"bgcolor\":\"#F5F6F9\",\"font\":{\"color\":\"#4D5663\"}},\"paper_bgcolor\":\"#F5F6F9\",\"plot_bgcolor\":\"#F5F6F9\",\"template\":{\"data\":{\"bar\":[{\"error_x\":{\"color\":\"#2a3f5f\"},\"error_y\":{\"color\":\"#2a3f5f\"},\"marker\":{\"line\":{\"color\":\"#E5ECF6\",\"width\":0.5},\"pattern\":{\"fillmode\":\"overlay\",\"size\":10,\"solidity\":0.2}},\"type\":\"bar\"}],\"barpolar\":[{\"marker\":{\"line\":{\"color\":\"#E5ECF6\",\"width\":0.5},\"pattern\":{\"fillmode\":\"overlay\",\"size\":10,\"solidity\":0.2}},\"type\":\"barpolar\"}],\"carpet\":[{\"aaxis\":{\"endlinecolor\":\"#2a3f5f\",\"gridcolor\":\"white\",\"linecolor\":\"white\",\"minorgridcolor\":\"white\",\"startlinecolor\":\"#2a3f5f\"},\"baxis\":{\"endlinecolor\":\"#2a3f5f\",\"gridcolor\":\"white\",\"linecolor\":\"white\",\"minorgridcolor\":\"white\",\"startlinecolor\":\"#2a3f5f\"},\"type\":\"carpet\"}],\"choropleth\":[{\"colorbar\":{\"outlinewidth\":0,\"ticks\":\"\"},\"type\":\"choropleth\"}],\"contour\":[{\"colorbar\":{\"outlinewidth\":0,\"ticks\":\"\"},\"colorscale\":[[0.0,\"#0d0887\"],[0.1111111111111111,\"#46039f\"],[0.2222222222222222,\"#7201a8\"],[0.3333333333333333,\"#9c179e\"],[0.4444444444444444,\"#bd3786\"],[0.5555555555555556,\"#d8576b\"],[0.6666666666666666,\"#ed7953\"],[0.7777777777777778,\"#fb9f3a\"],[0.8888888888888888,\"#fdca26\"],[1.0,\"#f0f921\"]],\"type\":\"contour\"}],\"contourcarpet\":[{\"colorbar\":{\"outlinewidth\":0,\"ticks\":\"\"},\"type\":\"contourcarpet\"}],\"heatmap\":[{\"colorbar\":{\"outlinewidth\":0,\"ticks\":\"\"},\"colorscale\":[[0.0,\"#0d0887\"],[0.1111111111111111,\"#46039f\"],[0.2222222222222222,\"#7201a8\"],[0.3333333333333333,\"#9c179e\"],[0.4444444444444444,\"#bd3786\"],[0.5555555555555556,\"#d8576b\"],[0.6666666666666666,\"#ed7953\"],[0.7777777777777778,\"#fb9f3a\"],[0.8888888888888888,\"#fdca26\"],[1.0,\"#f0f921\"]],\"type\":\"heatmap\"}],\"heatmapgl\":[{\"colorbar\":{\"outlinewidth\":0,\"ticks\":\"\"},\"colorscale\":[[0.0,\"#0d0887\"],[0.1111111111111111,\"#46039f\"],[0.2222222222222222,\"#7201a8\"],[0.3333333333333333,\"#9c179e\"],[0.4444444444444444,\"#bd3786\"],[0.5555555555555556,\"#d8576b\"],[0.6666666666666666,\"#ed7953\"],[0.7777777777777778,\"#fb9f3a\"],[0.8888888888888888,\"#fdca26\"],[1.0,\"#f0f921\"]],\"type\":\"heatmapgl\"}],\"histogram\":[{\"marker\":{\"pattern\":{\"fillmode\":\"overlay\",\"size\":10,\"solidity\":0.2}},\"type\":\"histogram\"}],\"histogram2d\":[{\"colorbar\":{\"outlinewidth\":0,\"ticks\":\"\"},\"colorscale\":[[0.0,\"#0d0887\"],[0.1111111111111111,\"#46039f\"],[0.2222222222222222,\"#7201a8\"],[0.3333333333333333,\"#9c179e\"],[0.4444444444444444,\"#bd3786\"],[0.5555555555555556,\"#d8576b\"],[0.6666666666666666,\"#ed7953\"],[0.7777777777777778,\"#fb9f3a\"],[0.8888888888888888,\"#fdca26\"],[1.0,\"#f0f921\"]],\"type\":\"histogram2d\"}],\"histogram2dcontour\":[{\"colorbar\":{\"outlinewidth\":0,\"ticks\":\"\"},\"colorscale\":[[0.0,\"#0d0887\"],[0.1111111111111111,\"#46039f\"],[0.2222222222222222,\"#7201a8\"],[0.3333333333333333,\"#9c179e\"],[0.4444444444444444,\"#bd3786\"],[0.5555555555555556,\"#d8576b\"],[0.6666666666666666,\"#ed7953\"],[0.7777777777777778,\"#fb9f3a\"],[0.8888888888888888,\"#fdca26\"],[1.0,\"#f0f921\"]],\"type\":\"histogram2dcontour\"}],\"mesh3d\":[{\"colorbar\":{\"outlinewidth\":0,\"ticks\":\"\"},\"type\":\"mesh3d\"}],\"parcoords\":[{\"line\":{\"colorbar\":{\"outlinewidth\":0,\"ticks\":\"\"}},\"type\":\"parcoords\"}],\"pie\":[{\"automargin\":true,\"type\":\"pie\"}],\"scatter\":[{\"marker\":{\"colorbar\":{\"outlinewidth\":0,\"ticks\":\"\"}},\"type\":\"scatter\"}],\"scatter3d\":[{\"line\":{\"colorbar\":{\"outlinewidth\":0,\"ticks\":\"\"}},\"marker\":{\"colorbar\":{\"outlinewidth\":0,\"ticks\":\"\"}},\"type\":\"scatter3d\"}],\"scattercarpet\":[{\"marker\":{\"colorbar\":{\"outlinewidth\":0,\"ticks\":\"\"}},\"type\":\"scattercarpet\"}],\"scattergeo\":[{\"marker\":{\"colorbar\":{\"outlinewidth\":0,\"ticks\":\"\"}},\"type\":\"scattergeo\"}],\"scattergl\":[{\"marker\":{\"colorbar\":{\"outlinewidth\":0,\"ticks\":\"\"}},\"type\":\"scattergl\"}],\"scattermapbox\":[{\"marker\":{\"colorbar\":{\"outlinewidth\":0,\"ticks\":\"\"}},\"type\":\"scattermapbox\"}],\"scatterpolar\":[{\"marker\":{\"colorbar\":{\"outlinewidth\":0,\"ticks\":\"\"}},\"type\":\"scatterpolar\"}],\"scatterpolargl\":[{\"marker\":{\"colorbar\":{\"outlinewidth\":0,\"ticks\":\"\"}},\"type\":\"scatterpolargl\"}],\"scatterternary\":[{\"marker\":{\"colorbar\":{\"outlinewidth\":0,\"ticks\":\"\"}},\"type\":\"scatterternary\"}],\"surface\":[{\"colorbar\":{\"outlinewidth\":0,\"ticks\":\"\"},\"colorscale\":[[0.0,\"#0d0887\"],[0.1111111111111111,\"#46039f\"],[0.2222222222222222,\"#7201a8\"],[0.3333333333333333,\"#9c179e\"],[0.4444444444444444,\"#bd3786\"],[0.5555555555555556,\"#d8576b\"],[0.6666666666666666,\"#ed7953\"],[0.7777777777777778,\"#fb9f3a\"],[0.8888888888888888,\"#fdca26\"],[1.0,\"#f0f921\"]],\"type\":\"surface\"}],\"table\":[{\"cells\":{\"fill\":{\"color\":\"#EBF0F8\"},\"line\":{\"color\":\"white\"}},\"header\":{\"fill\":{\"color\":\"#C8D4E3\"},\"line\":{\"color\":\"white\"}},\"type\":\"table\"}]},\"layout\":{\"annotationdefaults\":{\"arrowcolor\":\"#2a3f5f\",\"arrowhead\":0,\"arrowwidth\":1},\"autotypenumbers\":\"strict\",\"coloraxis\":{\"colorbar\":{\"outlinewidth\":0,\"ticks\":\"\"}},\"colorscale\":{\"diverging\":[[0,\"#8e0152\"],[0.1,\"#c51b7d\"],[0.2,\"#de77ae\"],[0.3,\"#f1b6da\"],[0.4,\"#fde0ef\"],[0.5,\"#f7f7f7\"],[0.6,\"#e6f5d0\"],[0.7,\"#b8e186\"],[0.8,\"#7fbc41\"],[0.9,\"#4d9221\"],[1,\"#276419\"]],\"sequential\":[[0.0,\"#0d0887\"],[0.1111111111111111,\"#46039f\"],[0.2222222222222222,\"#7201a8\"],[0.3333333333333333,\"#9c179e\"],[0.4444444444444444,\"#bd3786\"],[0.5555555555555556,\"#d8576b\"],[0.6666666666666666,\"#ed7953\"],[0.7777777777777778,\"#fb9f3a\"],[0.8888888888888888,\"#fdca26\"],[1.0,\"#f0f921\"]],\"sequentialminus\":[[0.0,\"#0d0887\"],[0.1111111111111111,\"#46039f\"],[0.2222222222222222,\"#7201a8\"],[0.3333333333333333,\"#9c179e\"],[0.4444444444444444,\"#bd3786\"],[0.5555555555555556,\"#d8576b\"],[0.6666666666666666,\"#ed7953\"],[0.7777777777777778,\"#fb9f3a\"],[0.8888888888888888,\"#fdca26\"],[1.0,\"#f0f921\"]]},\"colorway\":[\"#636efa\",\"#EF553B\",\"#00cc96\",\"#ab63fa\",\"#FFA15A\",\"#19d3f3\",\"#FF6692\",\"#B6E880\",\"#FF97FF\",\"#FECB52\"],\"font\":{\"color\":\"#2a3f5f\"},\"geo\":{\"bgcolor\":\"white\",\"lakecolor\":\"white\",\"landcolor\":\"#E5ECF6\",\"showlakes\":true,\"showland\":true,\"subunitcolor\":\"white\"},\"hoverlabel\":{\"align\":\"left\"},\"hovermode\":\"closest\",\"mapbox\":{\"style\":\"light\"},\"paper_bgcolor\":\"white\",\"plot_bgcolor\":\"#E5ECF6\",\"polar\":{\"angularaxis\":{\"gridcolor\":\"white\",\"linecolor\":\"white\",\"ticks\":\"\"},\"bgcolor\":\"#E5ECF6\",\"radialaxis\":{\"gridcolor\":\"white\",\"linecolor\":\"white\",\"ticks\":\"\"}},\"scene\":{\"xaxis\":{\"backgroundcolor\":\"#E5ECF6\",\"gridcolor\":\"white\",\"gridwidth\":2,\"linecolor\":\"white\",\"showbackground\":true,\"ticks\":\"\",\"zerolinecolor\":\"white\"},\"yaxis\":{\"backgroundcolor\":\"#E5ECF6\",\"gridcolor\":\"white\",\"gridwidth\":2,\"linecolor\":\"white\",\"showbackground\":true,\"ticks\":\"\",\"zerolinecolor\":\"white\"},\"zaxis\":{\"backgroundcolor\":\"#E5ECF6\",\"gridcolor\":\"white\",\"gridwidth\":2,\"linecolor\":\"white\",\"showbackground\":true,\"ticks\":\"\",\"zerolinecolor\":\"white\"}},\"shapedefaults\":{\"line\":{\"color\":\"#2a3f5f\"}},\"ternary\":{\"aaxis\":{\"gridcolor\":\"white\",\"linecolor\":\"white\",\"ticks\":\"\"},\"baxis\":{\"gridcolor\":\"white\",\"linecolor\":\"white\",\"ticks\":\"\"},\"bgcolor\":\"#E5ECF6\",\"caxis\":{\"gridcolor\":\"white\",\"linecolor\":\"white\",\"ticks\":\"\"}},\"title\":{\"x\":0.05},\"xaxis\":{\"automargin\":true,\"gridcolor\":\"white\",\"linecolor\":\"white\",\"ticks\":\"\",\"title\":{\"standoff\":15},\"zerolinecolor\":\"white\",\"zerolinewidth\":2},\"yaxis\":{\"automargin\":true,\"gridcolor\":\"white\",\"linecolor\":\"white\",\"ticks\":\"\",\"title\":{\"standoff\":15},\"zerolinecolor\":\"white\",\"zerolinewidth\":2}}},\"title\":{\"font\":{\"color\":\"#4D5663\"}},\"xaxis\":{\"gridcolor\":\"#E1E5ED\",\"showgrid\":true,\"tickfont\":{\"color\":\"#4D5663\"},\"title\":{\"font\":{\"color\":\"#4D5663\"},\"text\":\"\"},\"zerolinecolor\":\"#E1E5ED\"},\"yaxis\":{\"gridcolor\":\"#E1E5ED\",\"showgrid\":true,\"tickfont\":{\"color\":\"#4D5663\"},\"title\":{\"font\":{\"color\":\"#4D5663\"},\"text\":\"\"},\"zerolinecolor\":\"#E1E5ED\"}},                        {\"showLink\": true, \"linkText\": \"Export to plot.ly\", \"plotlyServerURL\": \"https://plot.ly\", \"responsive\": true}                    ).then(function(){\n",
       "                            \n",
       "var gd = document.getElementById('688fae95-1150-417a-b5e6-2f15ba449ac9');\n",
       "var x = new MutationObserver(function (mutations, observer) {{\n",
       "        var display = window.getComputedStyle(gd).display;\n",
       "        if (!display || display === 'none') {{\n",
       "            console.log([gd, 'removed!']);\n",
       "            Plotly.purge(gd);\n",
       "            observer.disconnect();\n",
       "        }}\n",
       "}});\n",
       "\n",
       "// Listen for the removal of the full notebook cells\n",
       "var notebookContainer = gd.closest('#notebook-container');\n",
       "if (notebookContainer) {{\n",
       "    x.observe(notebookContainer, {childList: true});\n",
       "}}\n",
       "\n",
       "// Listen for the clearing of the current output cell\n",
       "var outputEl = gd.closest('.output');\n",
       "if (outputEl) {{\n",
       "    x.observe(outputEl, {childList: true});\n",
       "}}\n",
       "\n",
       "                        })                };                });            </script>        </div>"
      ]
     },
     "metadata": {},
     "output_type": "display_data"
    }
   ],
   "source": [
    "df.count().iplot(kind='bar')"
   ]
  },
  {
   "cell_type": "markdown",
   "metadata": {},
   "source": [
    "## Boxplots"
   ]
  },
  {
   "cell_type": "code",
   "execution_count": 13,
   "metadata": {},
   "outputs": [
    {
     "data": {
      "application/vnd.plotly.v1+json": {
       "config": {
        "linkText": "Export to plot.ly",
        "plotlyServerURL": "https://plot.ly",
        "showLink": true
       },
       "data": [
        {
         "boxpoints": false,
         "line": {
          "width": 1.3
         },
         "marker": {
          "color": "rgba(255, 153, 51, 1.0)"
         },
         "name": "A",
         "orientation": "v",
         "type": "box",
         "y": [
          -0.27040833546812526,
          0.08130777436700777,
          -1.5627852644492577,
          -0.2744888889596545,
          -1.3807402495046974,
          -1.0705351424149077,
          -0.16047191326162297,
          1.9623749326919784,
          -1.4202858087319434,
          2.2306646991131793,
          2.0627667605639965,
          1.2358806367189576,
          -1.1144160033347206,
          0.2994059231642462,
          -1.3266963971338253,
          1.8034253637887923,
          -0.35866694409300454,
          -1.5168651182538158,
          -1.7517193230369608,
          -0.24854489038284788,
          -2.222255950888016,
          0.12195369323667252,
          -0.10090638648858788,
          -0.504136111985515,
          0.10088071720688169,
          -0.5691650839899056,
          -0.5831979208412037,
          1.870526868030963,
          -0.25398962295793515,
          -1.656833141667139,
          1.9751752331136339,
          0.42665589389048614,
          -0.7644650057486119,
          -1.0233599523112271,
          -1.3845703080701453,
          0.41676864169067723,
          0.16981280033515242,
          0.49389738793836757,
          1.9257781977567854,
          -1.9400175631744279,
          0.29333967748775946,
          1.1949992629121038,
          1.7769411094382328,
          -1.190346737504172,
          0.9553895066266331,
          -1.1426015599282036,
          0.7412020578651592,
          -0.718753059965593,
          -0.29293769881028325,
          0.4930577439369678,
          2.033364404806609,
          -1.8125497966835704,
          -1.4380517678713847,
          1.236334802401583,
          -0.2586154547482286,
          0.5398863162595625,
          0.17836776996372666,
          1.6300719793180487,
          -0.22465116940657961,
          0.4885186677989896,
          -0.8833884064013457,
          1.170268817648967,
          0.2650250636641034,
          0.3156961523700967,
          -2.474040255852097,
          -0.4823510461733897,
          0.6573532491983424,
          0.8226913991345299,
          0.5439660427166113,
          -0.2696888547198674,
          0.39990067617553776,
          0.8491101899180467,
          -0.07909796630667584,
          0.3382709311856161,
          -1.1463729281094484,
          1.7081268085335908,
          -1.6807218958932753,
          -0.668745860074773,
          0.3296232163303582,
          -1.3700631306803732,
          -0.5545716005147747,
          0.21217891816467718,
          -0.1740626915183978,
          -1.056783359415874,
          0.7142458049435187,
          -2.0642262765582444,
          0.27159435271701843,
          0.9924352027785257,
          0.6128875502612596,
          0.5568687516548688,
          2.446638455078288,
          -0.34295262993624026,
          -0.9215212399706968,
          0.4678165045677442,
          -1.4417615042906229,
          -0.09719709420199353,
          -0.010013117800275152,
          0.1125921386452125,
          -0.5800638387253629,
          -0.5188581163623978
         ]
        },
        {
         "boxpoints": false,
         "line": {
          "width": 1.3
         },
         "marker": {
          "color": "rgba(55, 128, 191, 1.0)"
         },
         "name": "B",
         "orientation": "v",
         "type": "box",
         "y": [
          -1.206321705433643,
          -2.33119734708676,
          -1.182119721197647,
          0.5773891617232305,
          -0.23432507005351813,
          -0.33395607587489534,
          0.206606394431684,
          -1.041828054565952,
          1.3164705542026072,
          -0.3428669411158307,
          -1.3454064001519515,
          0.7559465164801712,
          -0.20794749416715222,
          -0.6135328159991182,
          -0.380069037972439,
          3.1611795222845105,
          -1.6728132085396286,
          0.34805445029216153,
          1.0256277741515756,
          0.34200518443172706,
          0.49253049523123815,
          -1.595301032000479,
          0.3949717712068479,
          -0.32157059990925524,
          -0.40680443581217035,
          1.1966551165712613,
          0.2822399390536095,
          -0.07775636065641416,
          2.0377626551843737,
          1.3050807025804394,
          -0.28412285719843405,
          0.1116067496020979,
          1.4014929565079186,
          -2.4319952476680715,
          -1.1037745990460548,
          -0.3226779481808536,
          -0.06624380072375628,
          -0.5081440222449597,
          -1.0079721004480366,
          -0.06359935585586599,
          1.225085723673325,
          1.3585351275230693,
          0.3418412205279284,
          -0.8430366362011602,
          0.5224342649477417,
          1.452293858051099,
          1.308642822045769,
          0.619401294147941,
          -1.3609801136045452,
          -0.3332084882878469,
          0.9667782591878893,
          0.2968612966065134,
          -0.8685699543749293,
          0.18433284499816469,
          0.21945059201802256,
          -1.4431518392390728,
          -0.16480929714894385,
          -0.1996466897872002,
          -0.34421042679753155,
          0.45874701039062454,
          -0.5070164171680562,
          0.49201585115563534,
          -1.0272281434830408,
          -1.5902113658293175,
          -0.5110555615220798,
          0.6581034463984738,
          -0.23930294622141307,
          0.5734181543602594,
          0.5167216386232102,
          -0.662434940080114,
          -1.5882504358026166,
          -2.1259339712737955,
          0.837815556214329,
          0.931612326906073,
          0.4739417943881084,
          0.3971628453935395,
          -0.5817596203921983,
          0.12431145539047427,
          -0.822088277727843,
          -0.6728033271307247,
          -0.2859862738040538,
          0.8261242575548362,
          -0.1816970175088003,
          -0.2496242561234655,
          -0.7310916260125805,
          0.6154621974695837,
          0.07629516436952173,
          -2.270041324967681,
          -1.4687126790095575,
          -1.5740038344701714,
          0.3235234457986203,
          0.5341581155124593,
          0.6843101770613879,
          -0.22662260918441646,
          -2.086501049960337,
          0.13829808199979346,
          -0.6283587315638484,
          0.4351463049605794,
          0.09700349246400516,
          -0.9387115293797964
         ]
        },
        {
         "boxpoints": false,
         "line": {
          "width": 1.3
         },
         "marker": {
          "color": "rgba(50, 171, 96, 1.0)"
         },
         "name": "C",
         "orientation": "v",
         "type": "box",
         "y": [
          1.1211970662513233,
          1.7882553952463331,
          0.6095787417343562,
          -0.7978685503219164,
          -1.054540820718089,
          0.935552209246095,
          0.6467828718720946,
          -0.8448435185149318,
          -0.16415442742546268,
          0.6332886681279752,
          2.880236995642649,
          0.09344924914241522,
          1.2184106796557397,
          1.1024396321251881,
          -1.9420459171122197,
          0.6984545873619175,
          -0.02575153495112632,
          -0.6911287219069356,
          -0.12974086961982328,
          -0.7108540634474605,
          0.09650957474547463,
          -0.2394048753255379,
          -1.1867548996989077,
          1.2705278304445915,
          0.00400786264780369,
          1.5081291288747247,
          0.6268263945498519,
          0.19234668443756917,
          -0.644591422972466,
          -0.2879900461607938,
          0.7685971364284684,
          0.7314732934323124,
          0.7350104705015111,
          1.7562883048734677,
          0.38075808379928816,
          1.4815606117987459,
          0.3104819835718878,
          0.682612490586937,
          0.591052677745498,
          0.6100569999048194,
          -1.4763067263117895,
          -0.7566064345211292,
          1.2892187004839144,
          0.9558115107193859,
          0.04361586037957929,
          -0.8176122018357349,
          -1.8942003890998518,
          0.6954957432966362,
          -0.3110659874617991,
          -1.3423195258765368,
          0.8387673546096003,
          1.2943419151912026,
          0.5655406897192649,
          0.9679627527832857,
          -0.3092187880857277,
          -0.21438845451562602,
          1.6787976873909873,
          0.28926212433709086,
          -0.8952193107945672,
          0.07733269069260017,
          0.5422976728824778,
          0.8194048567679139,
          0.960344388098084,
          0.5978292594209408,
          -0.3882728835771806,
          1.1841703054015564,
          0.588831725578845,
          -0.4558549759650901,
          -0.5530186984081414,
          1.199714822740876,
          -0.8040416931761488,
          0.7145449357970964,
          -0.18434981426256083,
          0.976117940465252,
          0.5833657724239505,
          -0.7239592404746668,
          -0.02916975205625252,
          -0.04026400626158386,
          1.485169511368912,
          0.9584471970449069,
          1.123183207296647,
          -0.47333126054082714,
          0.7496204181431738,
          -1.036403319794379,
          -1.008689128846662,
          -0.3089888362957455,
          -0.4281520220857427,
          0.7354142606034626,
          0.3718621731684189,
          -1.348924890729719,
          0.9402634267886293,
          -1.173121234995388,
          -1.2804267533806373,
          1.2483906408612933,
          -0.19047809722350964,
          0.061882497734943705,
          0.894514247807277,
          -0.9769697145576185,
          -1.1625975602618461,
          0.88862523689299
         ]
        },
        {
         "boxpoints": false,
         "line": {
          "width": 1.3
         },
         "marker": {
          "color": "rgba(128, 0, 128, 1.0)"
         },
         "name": "D",
         "orientation": "v",
         "type": "box",
         "y": [
          -1.156885693248452,
          -2.553159962142852,
          0.5379500065642159,
          0.871269687667783,
          0.5418377115602929,
          1.0033889033373784,
          0.6339382484336021,
          0.8449194631288077,
          -0.08553384058369162,
          1.21512204383602,
          0.3367382167702626,
          0.5335611393688916,
          -0.7311983528799699,
          -1.1080221840374995,
          0.38809969573177716,
          0.8887734032735815,
          -0.3999772302887955,
          0.4599378592688925,
          -0.8416065462285255,
          0.5371312804976668,
          -1.2866909093142191,
          -0.23833899619013507,
          -0.46850464579090906,
          1.3089893378811284,
          -1.113431920823541,
          -1.3923670896840379,
          -0.014942185529081584,
          -0.3500662529822038,
          0.2559508726088374,
          -0.6971183344865342,
          0.5929666934111997,
          -1.1856366086326908,
          0.02687039640606976,
          1.2170269945822565,
          0.6098493861295342,
          0.01586800777935647,
          -0.757849496823997,
          -0.6932607280860964,
          0.49774236939414956,
          0.5639114101178272,
          -0.6696266017038403,
          0.34616509172190696,
          -0.8879535829963261,
          -0.8503463726832305,
          -0.7734114881918962,
          0.8282705022951898,
          -0.3151422272395916,
          -0.253917385061128,
          -0.6740530413495274,
          -0.21448561608275726,
          1.3642596557161448,
          -0.5083422252979257,
          1.024827055779126,
          -0.04892696752251287,
          0.06270078899000447,
          0.38468689158174413,
          0.392565732767905,
          -1.7881143547914042,
          -1.252420847446051,
          -0.5607233795777918,
          0.4356785062000733,
          0.04075118168397469,
          -0.7874336634441192,
          -0.1908231405751445,
          1.0848700881810873,
          0.948419710469015,
          -1.4798711859436786,
          0.3975993212128095,
          1.5461488110325188,
          0.011654502987384158,
          -0.9783502667430807,
          -0.9827186790974953,
          -0.8948045067779946,
          -0.5401443086843247,
          0.08118394346748879,
          -0.14169083693340548,
          0.21637771655999993,
          1.5083311319047112,
          -0.5348406710251433,
          0.4668236657115528,
          0.5394145805576618,
          -0.2756526372644226,
          0.009935220820154593,
          -0.8311808876227527,
          0.258594993982803,
          -0.7026656788219977,
          1.2980258618001015,
          -1.6375152690495511,
          0.09765685608872741,
          -0.42869855993991474,
          0.6391259488191646,
          0.9215632733843807,
          0.08707376340362018,
          -1.6957124085925666,
          -0.33289808932221016,
          1.277689456277632,
          0.5297677583794602,
          0.8206117127177954,
          1.1661296765277478,
          1.3126610601569062
         ]
        }
       ],
       "layout": {
        "legend": {
         "bgcolor": "#F5F6F9",
         "font": {
          "color": "#4D5663"
         }
        },
        "paper_bgcolor": "#F5F6F9",
        "plot_bgcolor": "#F5F6F9",
        "template": {
         "data": {
          "bar": [
           {
            "error_x": {
             "color": "#2a3f5f"
            },
            "error_y": {
             "color": "#2a3f5f"
            },
            "marker": {
             "line": {
              "color": "#E5ECF6",
              "width": 0.5
             },
             "pattern": {
              "fillmode": "overlay",
              "size": 10,
              "solidity": 0.2
             }
            },
            "type": "bar"
           }
          ],
          "barpolar": [
           {
            "marker": {
             "line": {
              "color": "#E5ECF6",
              "width": 0.5
             },
             "pattern": {
              "fillmode": "overlay",
              "size": 10,
              "solidity": 0.2
             }
            },
            "type": "barpolar"
           }
          ],
          "carpet": [
           {
            "aaxis": {
             "endlinecolor": "#2a3f5f",
             "gridcolor": "white",
             "linecolor": "white",
             "minorgridcolor": "white",
             "startlinecolor": "#2a3f5f"
            },
            "baxis": {
             "endlinecolor": "#2a3f5f",
             "gridcolor": "white",
             "linecolor": "white",
             "minorgridcolor": "white",
             "startlinecolor": "#2a3f5f"
            },
            "type": "carpet"
           }
          ],
          "choropleth": [
           {
            "colorbar": {
             "outlinewidth": 0,
             "ticks": ""
            },
            "type": "choropleth"
           }
          ],
          "contour": [
           {
            "colorbar": {
             "outlinewidth": 0,
             "ticks": ""
            },
            "colorscale": [
             [
              0,
              "#0d0887"
             ],
             [
              0.1111111111111111,
              "#46039f"
             ],
             [
              0.2222222222222222,
              "#7201a8"
             ],
             [
              0.3333333333333333,
              "#9c179e"
             ],
             [
              0.4444444444444444,
              "#bd3786"
             ],
             [
              0.5555555555555556,
              "#d8576b"
             ],
             [
              0.6666666666666666,
              "#ed7953"
             ],
             [
              0.7777777777777778,
              "#fb9f3a"
             ],
             [
              0.8888888888888888,
              "#fdca26"
             ],
             [
              1,
              "#f0f921"
             ]
            ],
            "type": "contour"
           }
          ],
          "contourcarpet": [
           {
            "colorbar": {
             "outlinewidth": 0,
             "ticks": ""
            },
            "type": "contourcarpet"
           }
          ],
          "heatmap": [
           {
            "colorbar": {
             "outlinewidth": 0,
             "ticks": ""
            },
            "colorscale": [
             [
              0,
              "#0d0887"
             ],
             [
              0.1111111111111111,
              "#46039f"
             ],
             [
              0.2222222222222222,
              "#7201a8"
             ],
             [
              0.3333333333333333,
              "#9c179e"
             ],
             [
              0.4444444444444444,
              "#bd3786"
             ],
             [
              0.5555555555555556,
              "#d8576b"
             ],
             [
              0.6666666666666666,
              "#ed7953"
             ],
             [
              0.7777777777777778,
              "#fb9f3a"
             ],
             [
              0.8888888888888888,
              "#fdca26"
             ],
             [
              1,
              "#f0f921"
             ]
            ],
            "type": "heatmap"
           }
          ],
          "heatmapgl": [
           {
            "colorbar": {
             "outlinewidth": 0,
             "ticks": ""
            },
            "colorscale": [
             [
              0,
              "#0d0887"
             ],
             [
              0.1111111111111111,
              "#46039f"
             ],
             [
              0.2222222222222222,
              "#7201a8"
             ],
             [
              0.3333333333333333,
              "#9c179e"
             ],
             [
              0.4444444444444444,
              "#bd3786"
             ],
             [
              0.5555555555555556,
              "#d8576b"
             ],
             [
              0.6666666666666666,
              "#ed7953"
             ],
             [
              0.7777777777777778,
              "#fb9f3a"
             ],
             [
              0.8888888888888888,
              "#fdca26"
             ],
             [
              1,
              "#f0f921"
             ]
            ],
            "type": "heatmapgl"
           }
          ],
          "histogram": [
           {
            "marker": {
             "pattern": {
              "fillmode": "overlay",
              "size": 10,
              "solidity": 0.2
             }
            },
            "type": "histogram"
           }
          ],
          "histogram2d": [
           {
            "colorbar": {
             "outlinewidth": 0,
             "ticks": ""
            },
            "colorscale": [
             [
              0,
              "#0d0887"
             ],
             [
              0.1111111111111111,
              "#46039f"
             ],
             [
              0.2222222222222222,
              "#7201a8"
             ],
             [
              0.3333333333333333,
              "#9c179e"
             ],
             [
              0.4444444444444444,
              "#bd3786"
             ],
             [
              0.5555555555555556,
              "#d8576b"
             ],
             [
              0.6666666666666666,
              "#ed7953"
             ],
             [
              0.7777777777777778,
              "#fb9f3a"
             ],
             [
              0.8888888888888888,
              "#fdca26"
             ],
             [
              1,
              "#f0f921"
             ]
            ],
            "type": "histogram2d"
           }
          ],
          "histogram2dcontour": [
           {
            "colorbar": {
             "outlinewidth": 0,
             "ticks": ""
            },
            "colorscale": [
             [
              0,
              "#0d0887"
             ],
             [
              0.1111111111111111,
              "#46039f"
             ],
             [
              0.2222222222222222,
              "#7201a8"
             ],
             [
              0.3333333333333333,
              "#9c179e"
             ],
             [
              0.4444444444444444,
              "#bd3786"
             ],
             [
              0.5555555555555556,
              "#d8576b"
             ],
             [
              0.6666666666666666,
              "#ed7953"
             ],
             [
              0.7777777777777778,
              "#fb9f3a"
             ],
             [
              0.8888888888888888,
              "#fdca26"
             ],
             [
              1,
              "#f0f921"
             ]
            ],
            "type": "histogram2dcontour"
           }
          ],
          "mesh3d": [
           {
            "colorbar": {
             "outlinewidth": 0,
             "ticks": ""
            },
            "type": "mesh3d"
           }
          ],
          "parcoords": [
           {
            "line": {
             "colorbar": {
              "outlinewidth": 0,
              "ticks": ""
             }
            },
            "type": "parcoords"
           }
          ],
          "pie": [
           {
            "automargin": true,
            "type": "pie"
           }
          ],
          "scatter": [
           {
            "marker": {
             "colorbar": {
              "outlinewidth": 0,
              "ticks": ""
             }
            },
            "type": "scatter"
           }
          ],
          "scatter3d": [
           {
            "line": {
             "colorbar": {
              "outlinewidth": 0,
              "ticks": ""
             }
            },
            "marker": {
             "colorbar": {
              "outlinewidth": 0,
              "ticks": ""
             }
            },
            "type": "scatter3d"
           }
          ],
          "scattercarpet": [
           {
            "marker": {
             "colorbar": {
              "outlinewidth": 0,
              "ticks": ""
             }
            },
            "type": "scattercarpet"
           }
          ],
          "scattergeo": [
           {
            "marker": {
             "colorbar": {
              "outlinewidth": 0,
              "ticks": ""
             }
            },
            "type": "scattergeo"
           }
          ],
          "scattergl": [
           {
            "marker": {
             "colorbar": {
              "outlinewidth": 0,
              "ticks": ""
             }
            },
            "type": "scattergl"
           }
          ],
          "scattermapbox": [
           {
            "marker": {
             "colorbar": {
              "outlinewidth": 0,
              "ticks": ""
             }
            },
            "type": "scattermapbox"
           }
          ],
          "scatterpolar": [
           {
            "marker": {
             "colorbar": {
              "outlinewidth": 0,
              "ticks": ""
             }
            },
            "type": "scatterpolar"
           }
          ],
          "scatterpolargl": [
           {
            "marker": {
             "colorbar": {
              "outlinewidth": 0,
              "ticks": ""
             }
            },
            "type": "scatterpolargl"
           }
          ],
          "scatterternary": [
           {
            "marker": {
             "colorbar": {
              "outlinewidth": 0,
              "ticks": ""
             }
            },
            "type": "scatterternary"
           }
          ],
          "surface": [
           {
            "colorbar": {
             "outlinewidth": 0,
             "ticks": ""
            },
            "colorscale": [
             [
              0,
              "#0d0887"
             ],
             [
              0.1111111111111111,
              "#46039f"
             ],
             [
              0.2222222222222222,
              "#7201a8"
             ],
             [
              0.3333333333333333,
              "#9c179e"
             ],
             [
              0.4444444444444444,
              "#bd3786"
             ],
             [
              0.5555555555555556,
              "#d8576b"
             ],
             [
              0.6666666666666666,
              "#ed7953"
             ],
             [
              0.7777777777777778,
              "#fb9f3a"
             ],
             [
              0.8888888888888888,
              "#fdca26"
             ],
             [
              1,
              "#f0f921"
             ]
            ],
            "type": "surface"
           }
          ],
          "table": [
           {
            "cells": {
             "fill": {
              "color": "#EBF0F8"
             },
             "line": {
              "color": "white"
             }
            },
            "header": {
             "fill": {
              "color": "#C8D4E3"
             },
             "line": {
              "color": "white"
             }
            },
            "type": "table"
           }
          ]
         },
         "layout": {
          "annotationdefaults": {
           "arrowcolor": "#2a3f5f",
           "arrowhead": 0,
           "arrowwidth": 1
          },
          "autotypenumbers": "strict",
          "coloraxis": {
           "colorbar": {
            "outlinewidth": 0,
            "ticks": ""
           }
          },
          "colorscale": {
           "diverging": [
            [
             0,
             "#8e0152"
            ],
            [
             0.1,
             "#c51b7d"
            ],
            [
             0.2,
             "#de77ae"
            ],
            [
             0.3,
             "#f1b6da"
            ],
            [
             0.4,
             "#fde0ef"
            ],
            [
             0.5,
             "#f7f7f7"
            ],
            [
             0.6,
             "#e6f5d0"
            ],
            [
             0.7,
             "#b8e186"
            ],
            [
             0.8,
             "#7fbc41"
            ],
            [
             0.9,
             "#4d9221"
            ],
            [
             1,
             "#276419"
            ]
           ],
           "sequential": [
            [
             0,
             "#0d0887"
            ],
            [
             0.1111111111111111,
             "#46039f"
            ],
            [
             0.2222222222222222,
             "#7201a8"
            ],
            [
             0.3333333333333333,
             "#9c179e"
            ],
            [
             0.4444444444444444,
             "#bd3786"
            ],
            [
             0.5555555555555556,
             "#d8576b"
            ],
            [
             0.6666666666666666,
             "#ed7953"
            ],
            [
             0.7777777777777778,
             "#fb9f3a"
            ],
            [
             0.8888888888888888,
             "#fdca26"
            ],
            [
             1,
             "#f0f921"
            ]
           ],
           "sequentialminus": [
            [
             0,
             "#0d0887"
            ],
            [
             0.1111111111111111,
             "#46039f"
            ],
            [
             0.2222222222222222,
             "#7201a8"
            ],
            [
             0.3333333333333333,
             "#9c179e"
            ],
            [
             0.4444444444444444,
             "#bd3786"
            ],
            [
             0.5555555555555556,
             "#d8576b"
            ],
            [
             0.6666666666666666,
             "#ed7953"
            ],
            [
             0.7777777777777778,
             "#fb9f3a"
            ],
            [
             0.8888888888888888,
             "#fdca26"
            ],
            [
             1,
             "#f0f921"
            ]
           ]
          },
          "colorway": [
           "#636efa",
           "#EF553B",
           "#00cc96",
           "#ab63fa",
           "#FFA15A",
           "#19d3f3",
           "#FF6692",
           "#B6E880",
           "#FF97FF",
           "#FECB52"
          ],
          "font": {
           "color": "#2a3f5f"
          },
          "geo": {
           "bgcolor": "white",
           "lakecolor": "white",
           "landcolor": "#E5ECF6",
           "showlakes": true,
           "showland": true,
           "subunitcolor": "white"
          },
          "hoverlabel": {
           "align": "left"
          },
          "hovermode": "closest",
          "mapbox": {
           "style": "light"
          },
          "paper_bgcolor": "white",
          "plot_bgcolor": "#E5ECF6",
          "polar": {
           "angularaxis": {
            "gridcolor": "white",
            "linecolor": "white",
            "ticks": ""
           },
           "bgcolor": "#E5ECF6",
           "radialaxis": {
            "gridcolor": "white",
            "linecolor": "white",
            "ticks": ""
           }
          },
          "scene": {
           "xaxis": {
            "backgroundcolor": "#E5ECF6",
            "gridcolor": "white",
            "gridwidth": 2,
            "linecolor": "white",
            "showbackground": true,
            "ticks": "",
            "zerolinecolor": "white"
           },
           "yaxis": {
            "backgroundcolor": "#E5ECF6",
            "gridcolor": "white",
            "gridwidth": 2,
            "linecolor": "white",
            "showbackground": true,
            "ticks": "",
            "zerolinecolor": "white"
           },
           "zaxis": {
            "backgroundcolor": "#E5ECF6",
            "gridcolor": "white",
            "gridwidth": 2,
            "linecolor": "white",
            "showbackground": true,
            "ticks": "",
            "zerolinecolor": "white"
           }
          },
          "shapedefaults": {
           "line": {
            "color": "#2a3f5f"
           }
          },
          "ternary": {
           "aaxis": {
            "gridcolor": "white",
            "linecolor": "white",
            "ticks": ""
           },
           "baxis": {
            "gridcolor": "white",
            "linecolor": "white",
            "ticks": ""
           },
           "bgcolor": "#E5ECF6",
           "caxis": {
            "gridcolor": "white",
            "linecolor": "white",
            "ticks": ""
           }
          },
          "title": {
           "x": 0.05
          },
          "xaxis": {
           "automargin": true,
           "gridcolor": "white",
           "linecolor": "white",
           "ticks": "",
           "title": {
            "standoff": 15
           },
           "zerolinecolor": "white",
           "zerolinewidth": 2
          },
          "yaxis": {
           "automargin": true,
           "gridcolor": "white",
           "linecolor": "white",
           "ticks": "",
           "title": {
            "standoff": 15
           },
           "zerolinecolor": "white",
           "zerolinewidth": 2
          }
         }
        },
        "title": {
         "font": {
          "color": "#4D5663"
         }
        },
        "xaxis": {
         "gridcolor": "#E1E5ED",
         "showgrid": true,
         "tickfont": {
          "color": "#4D5663"
         },
         "title": {
          "font": {
           "color": "#4D5663"
          },
          "text": ""
         },
         "zerolinecolor": "#E1E5ED"
        },
        "yaxis": {
         "gridcolor": "#E1E5ED",
         "showgrid": true,
         "tickfont": {
          "color": "#4D5663"
         },
         "title": {
          "font": {
           "color": "#4D5663"
          },
          "text": ""
         },
         "zerolinecolor": "#E1E5ED"
        }
       }
      },
      "text/html": [
       "<div>                            <div id=\"2c3707e6-8a4d-4268-aa8e-46a6e9a7f6b0\" class=\"plotly-graph-div\" style=\"height:525px; width:100%;\"></div>            <script type=\"text/javascript\">                require([\"plotly\"], function(Plotly) {                    window.PLOTLYENV=window.PLOTLYENV || {};\n",
       "                    window.PLOTLYENV.BASE_URL='https://plot.ly';                                    if (document.getElementById(\"2c3707e6-8a4d-4268-aa8e-46a6e9a7f6b0\")) {                    Plotly.newPlot(                        \"2c3707e6-8a4d-4268-aa8e-46a6e9a7f6b0\",                        [{\"boxpoints\":false,\"line\":{\"width\":1.3},\"marker\":{\"color\":\"rgba(255, 153, 51, 1.0)\"},\"name\":\"A\",\"orientation\":\"v\",\"type\":\"box\",\"y\":[-0.27040833546812526,0.08130777436700777,-1.5627852644492577,-0.2744888889596545,-1.3807402495046974,-1.0705351424149077,-0.16047191326162297,1.9623749326919784,-1.4202858087319434,2.2306646991131793,2.0627667605639965,1.2358806367189576,-1.1144160033347206,0.2994059231642462,-1.3266963971338253,1.8034253637887923,-0.35866694409300454,-1.5168651182538158,-1.7517193230369608,-0.24854489038284788,-2.222255950888016,0.12195369323667252,-0.10090638648858788,-0.504136111985515,0.10088071720688169,-0.5691650839899056,-0.5831979208412037,1.870526868030963,-0.25398962295793515,-1.656833141667139,1.9751752331136339,0.42665589389048614,-0.7644650057486119,-1.0233599523112271,-1.3845703080701453,0.41676864169067723,0.16981280033515242,0.49389738793836757,1.9257781977567854,-1.9400175631744279,0.29333967748775946,1.1949992629121038,1.7769411094382328,-1.190346737504172,0.9553895066266331,-1.1426015599282036,0.7412020578651592,-0.718753059965593,-0.29293769881028325,0.4930577439369678,2.033364404806609,-1.8125497966835704,-1.4380517678713847,1.236334802401583,-0.2586154547482286,0.5398863162595625,0.17836776996372666,1.6300719793180487,-0.22465116940657961,0.4885186677989896,-0.8833884064013457,1.170268817648967,0.2650250636641034,0.3156961523700967,-2.474040255852097,-0.4823510461733897,0.6573532491983424,0.8226913991345299,0.5439660427166113,-0.2696888547198674,0.39990067617553776,0.8491101899180467,-0.07909796630667584,0.3382709311856161,-1.1463729281094484,1.7081268085335908,-1.6807218958932753,-0.668745860074773,0.3296232163303582,-1.3700631306803732,-0.5545716005147747,0.21217891816467718,-0.1740626915183978,-1.056783359415874,0.7142458049435187,-2.0642262765582444,0.27159435271701843,0.9924352027785257,0.6128875502612596,0.5568687516548688,2.446638455078288,-0.34295262993624026,-0.9215212399706968,0.4678165045677442,-1.4417615042906229,-0.09719709420199353,-0.010013117800275152,0.1125921386452125,-0.5800638387253629,-0.5188581163623978]},{\"boxpoints\":false,\"line\":{\"width\":1.3},\"marker\":{\"color\":\"rgba(55, 128, 191, 1.0)\"},\"name\":\"B\",\"orientation\":\"v\",\"type\":\"box\",\"y\":[-1.206321705433643,-2.33119734708676,-1.182119721197647,0.5773891617232305,-0.23432507005351813,-0.33395607587489534,0.206606394431684,-1.041828054565952,1.3164705542026072,-0.3428669411158307,-1.3454064001519515,0.7559465164801712,-0.20794749416715222,-0.6135328159991182,-0.380069037972439,3.1611795222845105,-1.6728132085396286,0.34805445029216153,1.0256277741515756,0.34200518443172706,0.49253049523123815,-1.595301032000479,0.3949717712068479,-0.32157059990925524,-0.40680443581217035,1.1966551165712613,0.2822399390536095,-0.07775636065641416,2.0377626551843737,1.3050807025804394,-0.28412285719843405,0.1116067496020979,1.4014929565079186,-2.4319952476680715,-1.1037745990460548,-0.3226779481808536,-0.06624380072375628,-0.5081440222449597,-1.0079721004480366,-0.06359935585586599,1.225085723673325,1.3585351275230693,0.3418412205279284,-0.8430366362011602,0.5224342649477417,1.452293858051099,1.308642822045769,0.619401294147941,-1.3609801136045452,-0.3332084882878469,0.9667782591878893,0.2968612966065134,-0.8685699543749293,0.18433284499816469,0.21945059201802256,-1.4431518392390728,-0.16480929714894385,-0.1996466897872002,-0.34421042679753155,0.45874701039062454,-0.5070164171680562,0.49201585115563534,-1.0272281434830408,-1.5902113658293175,-0.5110555615220798,0.6581034463984738,-0.23930294622141307,0.5734181543602594,0.5167216386232102,-0.662434940080114,-1.5882504358026166,-2.1259339712737955,0.837815556214329,0.931612326906073,0.4739417943881084,0.3971628453935395,-0.5817596203921983,0.12431145539047427,-0.822088277727843,-0.6728033271307247,-0.2859862738040538,0.8261242575548362,-0.1816970175088003,-0.2496242561234655,-0.7310916260125805,0.6154621974695837,0.07629516436952173,-2.270041324967681,-1.4687126790095575,-1.5740038344701714,0.3235234457986203,0.5341581155124593,0.6843101770613879,-0.22662260918441646,-2.086501049960337,0.13829808199979346,-0.6283587315638484,0.4351463049605794,0.09700349246400516,-0.9387115293797964]},{\"boxpoints\":false,\"line\":{\"width\":1.3},\"marker\":{\"color\":\"rgba(50, 171, 96, 1.0)\"},\"name\":\"C\",\"orientation\":\"v\",\"type\":\"box\",\"y\":[1.1211970662513233,1.7882553952463331,0.6095787417343562,-0.7978685503219164,-1.054540820718089,0.935552209246095,0.6467828718720946,-0.8448435185149318,-0.16415442742546268,0.6332886681279752,2.880236995642649,0.09344924914241522,1.2184106796557397,1.1024396321251881,-1.9420459171122197,0.6984545873619175,-0.02575153495112632,-0.6911287219069356,-0.12974086961982328,-0.7108540634474605,0.09650957474547463,-0.2394048753255379,-1.1867548996989077,1.2705278304445915,0.00400786264780369,1.5081291288747247,0.6268263945498519,0.19234668443756917,-0.644591422972466,-0.2879900461607938,0.7685971364284684,0.7314732934323124,0.7350104705015111,1.7562883048734677,0.38075808379928816,1.4815606117987459,0.3104819835718878,0.682612490586937,0.591052677745498,0.6100569999048194,-1.4763067263117895,-0.7566064345211292,1.2892187004839144,0.9558115107193859,0.04361586037957929,-0.8176122018357349,-1.8942003890998518,0.6954957432966362,-0.3110659874617991,-1.3423195258765368,0.8387673546096003,1.2943419151912026,0.5655406897192649,0.9679627527832857,-0.3092187880857277,-0.21438845451562602,1.6787976873909873,0.28926212433709086,-0.8952193107945672,0.07733269069260017,0.5422976728824778,0.8194048567679139,0.960344388098084,0.5978292594209408,-0.3882728835771806,1.1841703054015564,0.588831725578845,-0.4558549759650901,-0.5530186984081414,1.199714822740876,-0.8040416931761488,0.7145449357970964,-0.18434981426256083,0.976117940465252,0.5833657724239505,-0.7239592404746668,-0.02916975205625252,-0.04026400626158386,1.485169511368912,0.9584471970449069,1.123183207296647,-0.47333126054082714,0.7496204181431738,-1.036403319794379,-1.008689128846662,-0.3089888362957455,-0.4281520220857427,0.7354142606034626,0.3718621731684189,-1.348924890729719,0.9402634267886293,-1.173121234995388,-1.2804267533806373,1.2483906408612933,-0.19047809722350964,0.061882497734943705,0.894514247807277,-0.9769697145576185,-1.1625975602618461,0.88862523689299]},{\"boxpoints\":false,\"line\":{\"width\":1.3},\"marker\":{\"color\":\"rgba(128, 0, 128, 1.0)\"},\"name\":\"D\",\"orientation\":\"v\",\"type\":\"box\",\"y\":[-1.156885693248452,-2.553159962142852,0.5379500065642159,0.871269687667783,0.5418377115602929,1.0033889033373784,0.6339382484336021,0.8449194631288077,-0.08553384058369162,1.21512204383602,0.3367382167702626,0.5335611393688916,-0.7311983528799699,-1.1080221840374995,0.38809969573177716,0.8887734032735815,-0.3999772302887955,0.4599378592688925,-0.8416065462285255,0.5371312804976668,-1.2866909093142191,-0.23833899619013507,-0.46850464579090906,1.3089893378811284,-1.113431920823541,-1.3923670896840379,-0.014942185529081584,-0.3500662529822038,0.2559508726088374,-0.6971183344865342,0.5929666934111997,-1.1856366086326908,0.02687039640606976,1.2170269945822565,0.6098493861295342,0.01586800777935647,-0.757849496823997,-0.6932607280860964,0.49774236939414956,0.5639114101178272,-0.6696266017038403,0.34616509172190696,-0.8879535829963261,-0.8503463726832305,-0.7734114881918962,0.8282705022951898,-0.3151422272395916,-0.253917385061128,-0.6740530413495274,-0.21448561608275726,1.3642596557161448,-0.5083422252979257,1.024827055779126,-0.04892696752251287,0.06270078899000447,0.38468689158174413,0.392565732767905,-1.7881143547914042,-1.252420847446051,-0.5607233795777918,0.4356785062000733,0.04075118168397469,-0.7874336634441192,-0.1908231405751445,1.0848700881810873,0.948419710469015,-1.4798711859436786,0.3975993212128095,1.5461488110325188,0.011654502987384158,-0.9783502667430807,-0.9827186790974953,-0.8948045067779946,-0.5401443086843247,0.08118394346748879,-0.14169083693340548,0.21637771655999993,1.5083311319047112,-0.5348406710251433,0.4668236657115528,0.5394145805576618,-0.2756526372644226,0.009935220820154593,-0.8311808876227527,0.258594993982803,-0.7026656788219977,1.2980258618001015,-1.6375152690495511,0.09765685608872741,-0.42869855993991474,0.6391259488191646,0.9215632733843807,0.08707376340362018,-1.6957124085925666,-0.33289808932221016,1.277689456277632,0.5297677583794602,0.8206117127177954,1.1661296765277478,1.3126610601569062]}],                        {\"legend\":{\"bgcolor\":\"#F5F6F9\",\"font\":{\"color\":\"#4D5663\"}},\"paper_bgcolor\":\"#F5F6F9\",\"plot_bgcolor\":\"#F5F6F9\",\"template\":{\"data\":{\"bar\":[{\"error_x\":{\"color\":\"#2a3f5f\"},\"error_y\":{\"color\":\"#2a3f5f\"},\"marker\":{\"line\":{\"color\":\"#E5ECF6\",\"width\":0.5},\"pattern\":{\"fillmode\":\"overlay\",\"size\":10,\"solidity\":0.2}},\"type\":\"bar\"}],\"barpolar\":[{\"marker\":{\"line\":{\"color\":\"#E5ECF6\",\"width\":0.5},\"pattern\":{\"fillmode\":\"overlay\",\"size\":10,\"solidity\":0.2}},\"type\":\"barpolar\"}],\"carpet\":[{\"aaxis\":{\"endlinecolor\":\"#2a3f5f\",\"gridcolor\":\"white\",\"linecolor\":\"white\",\"minorgridcolor\":\"white\",\"startlinecolor\":\"#2a3f5f\"},\"baxis\":{\"endlinecolor\":\"#2a3f5f\",\"gridcolor\":\"white\",\"linecolor\":\"white\",\"minorgridcolor\":\"white\",\"startlinecolor\":\"#2a3f5f\"},\"type\":\"carpet\"}],\"choropleth\":[{\"colorbar\":{\"outlinewidth\":0,\"ticks\":\"\"},\"type\":\"choropleth\"}],\"contour\":[{\"colorbar\":{\"outlinewidth\":0,\"ticks\":\"\"},\"colorscale\":[[0.0,\"#0d0887\"],[0.1111111111111111,\"#46039f\"],[0.2222222222222222,\"#7201a8\"],[0.3333333333333333,\"#9c179e\"],[0.4444444444444444,\"#bd3786\"],[0.5555555555555556,\"#d8576b\"],[0.6666666666666666,\"#ed7953\"],[0.7777777777777778,\"#fb9f3a\"],[0.8888888888888888,\"#fdca26\"],[1.0,\"#f0f921\"]],\"type\":\"contour\"}],\"contourcarpet\":[{\"colorbar\":{\"outlinewidth\":0,\"ticks\":\"\"},\"type\":\"contourcarpet\"}],\"heatmap\":[{\"colorbar\":{\"outlinewidth\":0,\"ticks\":\"\"},\"colorscale\":[[0.0,\"#0d0887\"],[0.1111111111111111,\"#46039f\"],[0.2222222222222222,\"#7201a8\"],[0.3333333333333333,\"#9c179e\"],[0.4444444444444444,\"#bd3786\"],[0.5555555555555556,\"#d8576b\"],[0.6666666666666666,\"#ed7953\"],[0.7777777777777778,\"#fb9f3a\"],[0.8888888888888888,\"#fdca26\"],[1.0,\"#f0f921\"]],\"type\":\"heatmap\"}],\"heatmapgl\":[{\"colorbar\":{\"outlinewidth\":0,\"ticks\":\"\"},\"colorscale\":[[0.0,\"#0d0887\"],[0.1111111111111111,\"#46039f\"],[0.2222222222222222,\"#7201a8\"],[0.3333333333333333,\"#9c179e\"],[0.4444444444444444,\"#bd3786\"],[0.5555555555555556,\"#d8576b\"],[0.6666666666666666,\"#ed7953\"],[0.7777777777777778,\"#fb9f3a\"],[0.8888888888888888,\"#fdca26\"],[1.0,\"#f0f921\"]],\"type\":\"heatmapgl\"}],\"histogram\":[{\"marker\":{\"pattern\":{\"fillmode\":\"overlay\",\"size\":10,\"solidity\":0.2}},\"type\":\"histogram\"}],\"histogram2d\":[{\"colorbar\":{\"outlinewidth\":0,\"ticks\":\"\"},\"colorscale\":[[0.0,\"#0d0887\"],[0.1111111111111111,\"#46039f\"],[0.2222222222222222,\"#7201a8\"],[0.3333333333333333,\"#9c179e\"],[0.4444444444444444,\"#bd3786\"],[0.5555555555555556,\"#d8576b\"],[0.6666666666666666,\"#ed7953\"],[0.7777777777777778,\"#fb9f3a\"],[0.8888888888888888,\"#fdca26\"],[1.0,\"#f0f921\"]],\"type\":\"histogram2d\"}],\"histogram2dcontour\":[{\"colorbar\":{\"outlinewidth\":0,\"ticks\":\"\"},\"colorscale\":[[0.0,\"#0d0887\"],[0.1111111111111111,\"#46039f\"],[0.2222222222222222,\"#7201a8\"],[0.3333333333333333,\"#9c179e\"],[0.4444444444444444,\"#bd3786\"],[0.5555555555555556,\"#d8576b\"],[0.6666666666666666,\"#ed7953\"],[0.7777777777777778,\"#fb9f3a\"],[0.8888888888888888,\"#fdca26\"],[1.0,\"#f0f921\"]],\"type\":\"histogram2dcontour\"}],\"mesh3d\":[{\"colorbar\":{\"outlinewidth\":0,\"ticks\":\"\"},\"type\":\"mesh3d\"}],\"parcoords\":[{\"line\":{\"colorbar\":{\"outlinewidth\":0,\"ticks\":\"\"}},\"type\":\"parcoords\"}],\"pie\":[{\"automargin\":true,\"type\":\"pie\"}],\"scatter\":[{\"marker\":{\"colorbar\":{\"outlinewidth\":0,\"ticks\":\"\"}},\"type\":\"scatter\"}],\"scatter3d\":[{\"line\":{\"colorbar\":{\"outlinewidth\":0,\"ticks\":\"\"}},\"marker\":{\"colorbar\":{\"outlinewidth\":0,\"ticks\":\"\"}},\"type\":\"scatter3d\"}],\"scattercarpet\":[{\"marker\":{\"colorbar\":{\"outlinewidth\":0,\"ticks\":\"\"}},\"type\":\"scattercarpet\"}],\"scattergeo\":[{\"marker\":{\"colorbar\":{\"outlinewidth\":0,\"ticks\":\"\"}},\"type\":\"scattergeo\"}],\"scattergl\":[{\"marker\":{\"colorbar\":{\"outlinewidth\":0,\"ticks\":\"\"}},\"type\":\"scattergl\"}],\"scattermapbox\":[{\"marker\":{\"colorbar\":{\"outlinewidth\":0,\"ticks\":\"\"}},\"type\":\"scattermapbox\"}],\"scatterpolar\":[{\"marker\":{\"colorbar\":{\"outlinewidth\":0,\"ticks\":\"\"}},\"type\":\"scatterpolar\"}],\"scatterpolargl\":[{\"marker\":{\"colorbar\":{\"outlinewidth\":0,\"ticks\":\"\"}},\"type\":\"scatterpolargl\"}],\"scatterternary\":[{\"marker\":{\"colorbar\":{\"outlinewidth\":0,\"ticks\":\"\"}},\"type\":\"scatterternary\"}],\"surface\":[{\"colorbar\":{\"outlinewidth\":0,\"ticks\":\"\"},\"colorscale\":[[0.0,\"#0d0887\"],[0.1111111111111111,\"#46039f\"],[0.2222222222222222,\"#7201a8\"],[0.3333333333333333,\"#9c179e\"],[0.4444444444444444,\"#bd3786\"],[0.5555555555555556,\"#d8576b\"],[0.6666666666666666,\"#ed7953\"],[0.7777777777777778,\"#fb9f3a\"],[0.8888888888888888,\"#fdca26\"],[1.0,\"#f0f921\"]],\"type\":\"surface\"}],\"table\":[{\"cells\":{\"fill\":{\"color\":\"#EBF0F8\"},\"line\":{\"color\":\"white\"}},\"header\":{\"fill\":{\"color\":\"#C8D4E3\"},\"line\":{\"color\":\"white\"}},\"type\":\"table\"}]},\"layout\":{\"annotationdefaults\":{\"arrowcolor\":\"#2a3f5f\",\"arrowhead\":0,\"arrowwidth\":1},\"autotypenumbers\":\"strict\",\"coloraxis\":{\"colorbar\":{\"outlinewidth\":0,\"ticks\":\"\"}},\"colorscale\":{\"diverging\":[[0,\"#8e0152\"],[0.1,\"#c51b7d\"],[0.2,\"#de77ae\"],[0.3,\"#f1b6da\"],[0.4,\"#fde0ef\"],[0.5,\"#f7f7f7\"],[0.6,\"#e6f5d0\"],[0.7,\"#b8e186\"],[0.8,\"#7fbc41\"],[0.9,\"#4d9221\"],[1,\"#276419\"]],\"sequential\":[[0.0,\"#0d0887\"],[0.1111111111111111,\"#46039f\"],[0.2222222222222222,\"#7201a8\"],[0.3333333333333333,\"#9c179e\"],[0.4444444444444444,\"#bd3786\"],[0.5555555555555556,\"#d8576b\"],[0.6666666666666666,\"#ed7953\"],[0.7777777777777778,\"#fb9f3a\"],[0.8888888888888888,\"#fdca26\"],[1.0,\"#f0f921\"]],\"sequentialminus\":[[0.0,\"#0d0887\"],[0.1111111111111111,\"#46039f\"],[0.2222222222222222,\"#7201a8\"],[0.3333333333333333,\"#9c179e\"],[0.4444444444444444,\"#bd3786\"],[0.5555555555555556,\"#d8576b\"],[0.6666666666666666,\"#ed7953\"],[0.7777777777777778,\"#fb9f3a\"],[0.8888888888888888,\"#fdca26\"],[1.0,\"#f0f921\"]]},\"colorway\":[\"#636efa\",\"#EF553B\",\"#00cc96\",\"#ab63fa\",\"#FFA15A\",\"#19d3f3\",\"#FF6692\",\"#B6E880\",\"#FF97FF\",\"#FECB52\"],\"font\":{\"color\":\"#2a3f5f\"},\"geo\":{\"bgcolor\":\"white\",\"lakecolor\":\"white\",\"landcolor\":\"#E5ECF6\",\"showlakes\":true,\"showland\":true,\"subunitcolor\":\"white\"},\"hoverlabel\":{\"align\":\"left\"},\"hovermode\":\"closest\",\"mapbox\":{\"style\":\"light\"},\"paper_bgcolor\":\"white\",\"plot_bgcolor\":\"#E5ECF6\",\"polar\":{\"angularaxis\":{\"gridcolor\":\"white\",\"linecolor\":\"white\",\"ticks\":\"\"},\"bgcolor\":\"#E5ECF6\",\"radialaxis\":{\"gridcolor\":\"white\",\"linecolor\":\"white\",\"ticks\":\"\"}},\"scene\":{\"xaxis\":{\"backgroundcolor\":\"#E5ECF6\",\"gridcolor\":\"white\",\"gridwidth\":2,\"linecolor\":\"white\",\"showbackground\":true,\"ticks\":\"\",\"zerolinecolor\":\"white\"},\"yaxis\":{\"backgroundcolor\":\"#E5ECF6\",\"gridcolor\":\"white\",\"gridwidth\":2,\"linecolor\":\"white\",\"showbackground\":true,\"ticks\":\"\",\"zerolinecolor\":\"white\"},\"zaxis\":{\"backgroundcolor\":\"#E5ECF6\",\"gridcolor\":\"white\",\"gridwidth\":2,\"linecolor\":\"white\",\"showbackground\":true,\"ticks\":\"\",\"zerolinecolor\":\"white\"}},\"shapedefaults\":{\"line\":{\"color\":\"#2a3f5f\"}},\"ternary\":{\"aaxis\":{\"gridcolor\":\"white\",\"linecolor\":\"white\",\"ticks\":\"\"},\"baxis\":{\"gridcolor\":\"white\",\"linecolor\":\"white\",\"ticks\":\"\"},\"bgcolor\":\"#E5ECF6\",\"caxis\":{\"gridcolor\":\"white\",\"linecolor\":\"white\",\"ticks\":\"\"}},\"title\":{\"x\":0.05},\"xaxis\":{\"automargin\":true,\"gridcolor\":\"white\",\"linecolor\":\"white\",\"ticks\":\"\",\"title\":{\"standoff\":15},\"zerolinecolor\":\"white\",\"zerolinewidth\":2},\"yaxis\":{\"automargin\":true,\"gridcolor\":\"white\",\"linecolor\":\"white\",\"ticks\":\"\",\"title\":{\"standoff\":15},\"zerolinecolor\":\"white\",\"zerolinewidth\":2}}},\"title\":{\"font\":{\"color\":\"#4D5663\"}},\"xaxis\":{\"gridcolor\":\"#E1E5ED\",\"showgrid\":true,\"tickfont\":{\"color\":\"#4D5663\"},\"title\":{\"font\":{\"color\":\"#4D5663\"},\"text\":\"\"},\"zerolinecolor\":\"#E1E5ED\"},\"yaxis\":{\"gridcolor\":\"#E1E5ED\",\"showgrid\":true,\"tickfont\":{\"color\":\"#4D5663\"},\"title\":{\"font\":{\"color\":\"#4D5663\"},\"text\":\"\"},\"zerolinecolor\":\"#E1E5ED\"}},                        {\"showLink\": true, \"linkText\": \"Export to plot.ly\", \"plotlyServerURL\": \"https://plot.ly\", \"responsive\": true}                    ).then(function(){\n",
       "                            \n",
       "var gd = document.getElementById('2c3707e6-8a4d-4268-aa8e-46a6e9a7f6b0');\n",
       "var x = new MutationObserver(function (mutations, observer) {{\n",
       "        var display = window.getComputedStyle(gd).display;\n",
       "        if (!display || display === 'none') {{\n",
       "            console.log([gd, 'removed!']);\n",
       "            Plotly.purge(gd);\n",
       "            observer.disconnect();\n",
       "        }}\n",
       "}});\n",
       "\n",
       "// Listen for the removal of the full notebook cells\n",
       "var notebookContainer = gd.closest('#notebook-container');\n",
       "if (notebookContainer) {{\n",
       "    x.observe(notebookContainer, {childList: true});\n",
       "}}\n",
       "\n",
       "// Listen for the clearing of the current output cell\n",
       "var outputEl = gd.closest('.output');\n",
       "if (outputEl) {{\n",
       "    x.observe(outputEl, {childList: true});\n",
       "}}\n",
       "\n",
       "                        })                };                });            </script>        </div>"
      ]
     },
     "metadata": {},
     "output_type": "display_data"
    }
   ],
   "source": [
    "df.iplot(kind='box')"
   ]
  },
  {
   "cell_type": "markdown",
   "metadata": {},
   "source": [
    "## 3d Surface"
   ]
  },
  {
   "cell_type": "code",
   "execution_count": 14,
   "metadata": {},
   "outputs": [
    {
     "data": {
      "application/vnd.plotly.v1+json": {
       "config": {
        "linkText": "Export to plot.ly",
        "plotlyServerURL": "https://plot.ly",
        "showLink": true
       },
       "data": [
        {
         "colorscale": [
          [
           0,
           "rgb(165,0,38)"
          ],
          [
           0.1,
           "rgb(215,48,39)"
          ],
          [
           0.2,
           "rgb(244,109,67)"
          ],
          [
           0.3,
           "rgb(253,174,97)"
          ],
          [
           0.4,
           "rgb(254,224,144)"
          ],
          [
           0.5,
           "rgb(255,255,191)"
          ],
          [
           0.6,
           "rgb(224,243,248)"
          ],
          [
           0.7,
           "rgb(171,217,233)"
          ],
          [
           0.8,
           "rgb(116,173,209)"
          ],
          [
           0.9,
           "rgb(69,117,180)"
          ],
          [
           1,
           "rgb(49,54,149)"
          ]
         ],
         "type": "surface",
         "x": [
          0,
          1,
          2,
          3,
          4
         ],
         "y": [
          "x",
          "y",
          "z"
         ],
         "z": [
          [
           1,
           2,
           3,
           4,
           5
          ],
          [
           10,
           20,
           30,
           20,
           10
          ],
          [
           5,
           4,
           3,
           2,
           1
          ]
         ]
        }
       ],
       "layout": {
        "legend": {
         "bgcolor": "#F5F6F9",
         "font": {
          "color": "#4D5663"
         }
        },
        "paper_bgcolor": "#F5F6F9",
        "plot_bgcolor": "#F5F6F9",
        "template": {
         "data": {
          "bar": [
           {
            "error_x": {
             "color": "#2a3f5f"
            },
            "error_y": {
             "color": "#2a3f5f"
            },
            "marker": {
             "line": {
              "color": "#E5ECF6",
              "width": 0.5
             },
             "pattern": {
              "fillmode": "overlay",
              "size": 10,
              "solidity": 0.2
             }
            },
            "type": "bar"
           }
          ],
          "barpolar": [
           {
            "marker": {
             "line": {
              "color": "#E5ECF6",
              "width": 0.5
             },
             "pattern": {
              "fillmode": "overlay",
              "size": 10,
              "solidity": 0.2
             }
            },
            "type": "barpolar"
           }
          ],
          "carpet": [
           {
            "aaxis": {
             "endlinecolor": "#2a3f5f",
             "gridcolor": "white",
             "linecolor": "white",
             "minorgridcolor": "white",
             "startlinecolor": "#2a3f5f"
            },
            "baxis": {
             "endlinecolor": "#2a3f5f",
             "gridcolor": "white",
             "linecolor": "white",
             "minorgridcolor": "white",
             "startlinecolor": "#2a3f5f"
            },
            "type": "carpet"
           }
          ],
          "choropleth": [
           {
            "colorbar": {
             "outlinewidth": 0,
             "ticks": ""
            },
            "type": "choropleth"
           }
          ],
          "contour": [
           {
            "colorbar": {
             "outlinewidth": 0,
             "ticks": ""
            },
            "colorscale": [
             [
              0,
              "#0d0887"
             ],
             [
              0.1111111111111111,
              "#46039f"
             ],
             [
              0.2222222222222222,
              "#7201a8"
             ],
             [
              0.3333333333333333,
              "#9c179e"
             ],
             [
              0.4444444444444444,
              "#bd3786"
             ],
             [
              0.5555555555555556,
              "#d8576b"
             ],
             [
              0.6666666666666666,
              "#ed7953"
             ],
             [
              0.7777777777777778,
              "#fb9f3a"
             ],
             [
              0.8888888888888888,
              "#fdca26"
             ],
             [
              1,
              "#f0f921"
             ]
            ],
            "type": "contour"
           }
          ],
          "contourcarpet": [
           {
            "colorbar": {
             "outlinewidth": 0,
             "ticks": ""
            },
            "type": "contourcarpet"
           }
          ],
          "heatmap": [
           {
            "colorbar": {
             "outlinewidth": 0,
             "ticks": ""
            },
            "colorscale": [
             [
              0,
              "#0d0887"
             ],
             [
              0.1111111111111111,
              "#46039f"
             ],
             [
              0.2222222222222222,
              "#7201a8"
             ],
             [
              0.3333333333333333,
              "#9c179e"
             ],
             [
              0.4444444444444444,
              "#bd3786"
             ],
             [
              0.5555555555555556,
              "#d8576b"
             ],
             [
              0.6666666666666666,
              "#ed7953"
             ],
             [
              0.7777777777777778,
              "#fb9f3a"
             ],
             [
              0.8888888888888888,
              "#fdca26"
             ],
             [
              1,
              "#f0f921"
             ]
            ],
            "type": "heatmap"
           }
          ],
          "heatmapgl": [
           {
            "colorbar": {
             "outlinewidth": 0,
             "ticks": ""
            },
            "colorscale": [
             [
              0,
              "#0d0887"
             ],
             [
              0.1111111111111111,
              "#46039f"
             ],
             [
              0.2222222222222222,
              "#7201a8"
             ],
             [
              0.3333333333333333,
              "#9c179e"
             ],
             [
              0.4444444444444444,
              "#bd3786"
             ],
             [
              0.5555555555555556,
              "#d8576b"
             ],
             [
              0.6666666666666666,
              "#ed7953"
             ],
             [
              0.7777777777777778,
              "#fb9f3a"
             ],
             [
              0.8888888888888888,
              "#fdca26"
             ],
             [
              1,
              "#f0f921"
             ]
            ],
            "type": "heatmapgl"
           }
          ],
          "histogram": [
           {
            "marker": {
             "pattern": {
              "fillmode": "overlay",
              "size": 10,
              "solidity": 0.2
             }
            },
            "type": "histogram"
           }
          ],
          "histogram2d": [
           {
            "colorbar": {
             "outlinewidth": 0,
             "ticks": ""
            },
            "colorscale": [
             [
              0,
              "#0d0887"
             ],
             [
              0.1111111111111111,
              "#46039f"
             ],
             [
              0.2222222222222222,
              "#7201a8"
             ],
             [
              0.3333333333333333,
              "#9c179e"
             ],
             [
              0.4444444444444444,
              "#bd3786"
             ],
             [
              0.5555555555555556,
              "#d8576b"
             ],
             [
              0.6666666666666666,
              "#ed7953"
             ],
             [
              0.7777777777777778,
              "#fb9f3a"
             ],
             [
              0.8888888888888888,
              "#fdca26"
             ],
             [
              1,
              "#f0f921"
             ]
            ],
            "type": "histogram2d"
           }
          ],
          "histogram2dcontour": [
           {
            "colorbar": {
             "outlinewidth": 0,
             "ticks": ""
            },
            "colorscale": [
             [
              0,
              "#0d0887"
             ],
             [
              0.1111111111111111,
              "#46039f"
             ],
             [
              0.2222222222222222,
              "#7201a8"
             ],
             [
              0.3333333333333333,
              "#9c179e"
             ],
             [
              0.4444444444444444,
              "#bd3786"
             ],
             [
              0.5555555555555556,
              "#d8576b"
             ],
             [
              0.6666666666666666,
              "#ed7953"
             ],
             [
              0.7777777777777778,
              "#fb9f3a"
             ],
             [
              0.8888888888888888,
              "#fdca26"
             ],
             [
              1,
              "#f0f921"
             ]
            ],
            "type": "histogram2dcontour"
           }
          ],
          "mesh3d": [
           {
            "colorbar": {
             "outlinewidth": 0,
             "ticks": ""
            },
            "type": "mesh3d"
           }
          ],
          "parcoords": [
           {
            "line": {
             "colorbar": {
              "outlinewidth": 0,
              "ticks": ""
             }
            },
            "type": "parcoords"
           }
          ],
          "pie": [
           {
            "automargin": true,
            "type": "pie"
           }
          ],
          "scatter": [
           {
            "marker": {
             "colorbar": {
              "outlinewidth": 0,
              "ticks": ""
             }
            },
            "type": "scatter"
           }
          ],
          "scatter3d": [
           {
            "line": {
             "colorbar": {
              "outlinewidth": 0,
              "ticks": ""
             }
            },
            "marker": {
             "colorbar": {
              "outlinewidth": 0,
              "ticks": ""
             }
            },
            "type": "scatter3d"
           }
          ],
          "scattercarpet": [
           {
            "marker": {
             "colorbar": {
              "outlinewidth": 0,
              "ticks": ""
             }
            },
            "type": "scattercarpet"
           }
          ],
          "scattergeo": [
           {
            "marker": {
             "colorbar": {
              "outlinewidth": 0,
              "ticks": ""
             }
            },
            "type": "scattergeo"
           }
          ],
          "scattergl": [
           {
            "marker": {
             "colorbar": {
              "outlinewidth": 0,
              "ticks": ""
             }
            },
            "type": "scattergl"
           }
          ],
          "scattermapbox": [
           {
            "marker": {
             "colorbar": {
              "outlinewidth": 0,
              "ticks": ""
             }
            },
            "type": "scattermapbox"
           }
          ],
          "scatterpolar": [
           {
            "marker": {
             "colorbar": {
              "outlinewidth": 0,
              "ticks": ""
             }
            },
            "type": "scatterpolar"
           }
          ],
          "scatterpolargl": [
           {
            "marker": {
             "colorbar": {
              "outlinewidth": 0,
              "ticks": ""
             }
            },
            "type": "scatterpolargl"
           }
          ],
          "scatterternary": [
           {
            "marker": {
             "colorbar": {
              "outlinewidth": 0,
              "ticks": ""
             }
            },
            "type": "scatterternary"
           }
          ],
          "surface": [
           {
            "colorbar": {
             "outlinewidth": 0,
             "ticks": ""
            },
            "colorscale": [
             [
              0,
              "#0d0887"
             ],
             [
              0.1111111111111111,
              "#46039f"
             ],
             [
              0.2222222222222222,
              "#7201a8"
             ],
             [
              0.3333333333333333,
              "#9c179e"
             ],
             [
              0.4444444444444444,
              "#bd3786"
             ],
             [
              0.5555555555555556,
              "#d8576b"
             ],
             [
              0.6666666666666666,
              "#ed7953"
             ],
             [
              0.7777777777777778,
              "#fb9f3a"
             ],
             [
              0.8888888888888888,
              "#fdca26"
             ],
             [
              1,
              "#f0f921"
             ]
            ],
            "type": "surface"
           }
          ],
          "table": [
           {
            "cells": {
             "fill": {
              "color": "#EBF0F8"
             },
             "line": {
              "color": "white"
             }
            },
            "header": {
             "fill": {
              "color": "#C8D4E3"
             },
             "line": {
              "color": "white"
             }
            },
            "type": "table"
           }
          ]
         },
         "layout": {
          "annotationdefaults": {
           "arrowcolor": "#2a3f5f",
           "arrowhead": 0,
           "arrowwidth": 1
          },
          "autotypenumbers": "strict",
          "coloraxis": {
           "colorbar": {
            "outlinewidth": 0,
            "ticks": ""
           }
          },
          "colorscale": {
           "diverging": [
            [
             0,
             "#8e0152"
            ],
            [
             0.1,
             "#c51b7d"
            ],
            [
             0.2,
             "#de77ae"
            ],
            [
             0.3,
             "#f1b6da"
            ],
            [
             0.4,
             "#fde0ef"
            ],
            [
             0.5,
             "#f7f7f7"
            ],
            [
             0.6,
             "#e6f5d0"
            ],
            [
             0.7,
             "#b8e186"
            ],
            [
             0.8,
             "#7fbc41"
            ],
            [
             0.9,
             "#4d9221"
            ],
            [
             1,
             "#276419"
            ]
           ],
           "sequential": [
            [
             0,
             "#0d0887"
            ],
            [
             0.1111111111111111,
             "#46039f"
            ],
            [
             0.2222222222222222,
             "#7201a8"
            ],
            [
             0.3333333333333333,
             "#9c179e"
            ],
            [
             0.4444444444444444,
             "#bd3786"
            ],
            [
             0.5555555555555556,
             "#d8576b"
            ],
            [
             0.6666666666666666,
             "#ed7953"
            ],
            [
             0.7777777777777778,
             "#fb9f3a"
            ],
            [
             0.8888888888888888,
             "#fdca26"
            ],
            [
             1,
             "#f0f921"
            ]
           ],
           "sequentialminus": [
            [
             0,
             "#0d0887"
            ],
            [
             0.1111111111111111,
             "#46039f"
            ],
            [
             0.2222222222222222,
             "#7201a8"
            ],
            [
             0.3333333333333333,
             "#9c179e"
            ],
            [
             0.4444444444444444,
             "#bd3786"
            ],
            [
             0.5555555555555556,
             "#d8576b"
            ],
            [
             0.6666666666666666,
             "#ed7953"
            ],
            [
             0.7777777777777778,
             "#fb9f3a"
            ],
            [
             0.8888888888888888,
             "#fdca26"
            ],
            [
             1,
             "#f0f921"
            ]
           ]
          },
          "colorway": [
           "#636efa",
           "#EF553B",
           "#00cc96",
           "#ab63fa",
           "#FFA15A",
           "#19d3f3",
           "#FF6692",
           "#B6E880",
           "#FF97FF",
           "#FECB52"
          ],
          "font": {
           "color": "#2a3f5f"
          },
          "geo": {
           "bgcolor": "white",
           "lakecolor": "white",
           "landcolor": "#E5ECF6",
           "showlakes": true,
           "showland": true,
           "subunitcolor": "white"
          },
          "hoverlabel": {
           "align": "left"
          },
          "hovermode": "closest",
          "mapbox": {
           "style": "light"
          },
          "paper_bgcolor": "white",
          "plot_bgcolor": "#E5ECF6",
          "polar": {
           "angularaxis": {
            "gridcolor": "white",
            "linecolor": "white",
            "ticks": ""
           },
           "bgcolor": "#E5ECF6",
           "radialaxis": {
            "gridcolor": "white",
            "linecolor": "white",
            "ticks": ""
           }
          },
          "scene": {
           "xaxis": {
            "backgroundcolor": "#E5ECF6",
            "gridcolor": "white",
            "gridwidth": 2,
            "linecolor": "white",
            "showbackground": true,
            "ticks": "",
            "zerolinecolor": "white"
           },
           "yaxis": {
            "backgroundcolor": "#E5ECF6",
            "gridcolor": "white",
            "gridwidth": 2,
            "linecolor": "white",
            "showbackground": true,
            "ticks": "",
            "zerolinecolor": "white"
           },
           "zaxis": {
            "backgroundcolor": "#E5ECF6",
            "gridcolor": "white",
            "gridwidth": 2,
            "linecolor": "white",
            "showbackground": true,
            "ticks": "",
            "zerolinecolor": "white"
           }
          },
          "shapedefaults": {
           "line": {
            "color": "#2a3f5f"
           }
          },
          "ternary": {
           "aaxis": {
            "gridcolor": "white",
            "linecolor": "white",
            "ticks": ""
           },
           "baxis": {
            "gridcolor": "white",
            "linecolor": "white",
            "ticks": ""
           },
           "bgcolor": "#E5ECF6",
           "caxis": {
            "gridcolor": "white",
            "linecolor": "white",
            "ticks": ""
           }
          },
          "title": {
           "x": 0.05
          },
          "xaxis": {
           "automargin": true,
           "gridcolor": "white",
           "linecolor": "white",
           "ticks": "",
           "title": {
            "standoff": 15
           },
           "zerolinecolor": "white",
           "zerolinewidth": 2
          },
          "yaxis": {
           "automargin": true,
           "gridcolor": "white",
           "linecolor": "white",
           "ticks": "",
           "title": {
            "standoff": 15
           },
           "zerolinecolor": "white",
           "zerolinewidth": 2
          }
         }
        },
        "title": {
         "font": {
          "color": "#4D5663"
         }
        },
        "xaxis": {
         "gridcolor": "#E1E5ED",
         "showgrid": true,
         "tickfont": {
          "color": "#4D5663"
         },
         "title": {
          "font": {
           "color": "#4D5663"
          },
          "text": ""
         },
         "zerolinecolor": "#E1E5ED"
        },
        "yaxis": {
         "gridcolor": "#E1E5ED",
         "showgrid": true,
         "tickfont": {
          "color": "#4D5663"
         },
         "title": {
          "font": {
           "color": "#4D5663"
          },
          "text": ""
         },
         "zerolinecolor": "#E1E5ED"
        }
       }
      },
      "text/html": [
       "<div>                            <div id=\"03555589-d060-4072-a860-3296e3bdd62d\" class=\"plotly-graph-div\" style=\"height:525px; width:100%;\"></div>            <script type=\"text/javascript\">                require([\"plotly\"], function(Plotly) {                    window.PLOTLYENV=window.PLOTLYENV || {};\n",
       "                    window.PLOTLYENV.BASE_URL='https://plot.ly';                                    if (document.getElementById(\"03555589-d060-4072-a860-3296e3bdd62d\")) {                    Plotly.newPlot(                        \"03555589-d060-4072-a860-3296e3bdd62d\",                        [{\"colorscale\":[[0.0,\"rgb(165,0,38)\"],[0.1,\"rgb(215,48,39)\"],[0.2,\"rgb(244,109,67)\"],[0.3,\"rgb(253,174,97)\"],[0.4,\"rgb(254,224,144)\"],[0.5,\"rgb(255,255,191)\"],[0.6,\"rgb(224,243,248)\"],[0.7,\"rgb(171,217,233)\"],[0.8,\"rgb(116,173,209)\"],[0.9,\"rgb(69,117,180)\"],[1.0,\"rgb(49,54,149)\"]],\"type\":\"surface\",\"x\":[0,1,2,3,4],\"y\":[\"x\",\"y\",\"z\"],\"z\":[[1,2,3,4,5],[10,20,30,20,10],[5,4,3,2,1]]}],                        {\"legend\":{\"bgcolor\":\"#F5F6F9\",\"font\":{\"color\":\"#4D5663\"}},\"paper_bgcolor\":\"#F5F6F9\",\"plot_bgcolor\":\"#F5F6F9\",\"template\":{\"data\":{\"bar\":[{\"error_x\":{\"color\":\"#2a3f5f\"},\"error_y\":{\"color\":\"#2a3f5f\"},\"marker\":{\"line\":{\"color\":\"#E5ECF6\",\"width\":0.5},\"pattern\":{\"fillmode\":\"overlay\",\"size\":10,\"solidity\":0.2}},\"type\":\"bar\"}],\"barpolar\":[{\"marker\":{\"line\":{\"color\":\"#E5ECF6\",\"width\":0.5},\"pattern\":{\"fillmode\":\"overlay\",\"size\":10,\"solidity\":0.2}},\"type\":\"barpolar\"}],\"carpet\":[{\"aaxis\":{\"endlinecolor\":\"#2a3f5f\",\"gridcolor\":\"white\",\"linecolor\":\"white\",\"minorgridcolor\":\"white\",\"startlinecolor\":\"#2a3f5f\"},\"baxis\":{\"endlinecolor\":\"#2a3f5f\",\"gridcolor\":\"white\",\"linecolor\":\"white\",\"minorgridcolor\":\"white\",\"startlinecolor\":\"#2a3f5f\"},\"type\":\"carpet\"}],\"choropleth\":[{\"colorbar\":{\"outlinewidth\":0,\"ticks\":\"\"},\"type\":\"choropleth\"}],\"contour\":[{\"colorbar\":{\"outlinewidth\":0,\"ticks\":\"\"},\"colorscale\":[[0.0,\"#0d0887\"],[0.1111111111111111,\"#46039f\"],[0.2222222222222222,\"#7201a8\"],[0.3333333333333333,\"#9c179e\"],[0.4444444444444444,\"#bd3786\"],[0.5555555555555556,\"#d8576b\"],[0.6666666666666666,\"#ed7953\"],[0.7777777777777778,\"#fb9f3a\"],[0.8888888888888888,\"#fdca26\"],[1.0,\"#f0f921\"]],\"type\":\"contour\"}],\"contourcarpet\":[{\"colorbar\":{\"outlinewidth\":0,\"ticks\":\"\"},\"type\":\"contourcarpet\"}],\"heatmap\":[{\"colorbar\":{\"outlinewidth\":0,\"ticks\":\"\"},\"colorscale\":[[0.0,\"#0d0887\"],[0.1111111111111111,\"#46039f\"],[0.2222222222222222,\"#7201a8\"],[0.3333333333333333,\"#9c179e\"],[0.4444444444444444,\"#bd3786\"],[0.5555555555555556,\"#d8576b\"],[0.6666666666666666,\"#ed7953\"],[0.7777777777777778,\"#fb9f3a\"],[0.8888888888888888,\"#fdca26\"],[1.0,\"#f0f921\"]],\"type\":\"heatmap\"}],\"heatmapgl\":[{\"colorbar\":{\"outlinewidth\":0,\"ticks\":\"\"},\"colorscale\":[[0.0,\"#0d0887\"],[0.1111111111111111,\"#46039f\"],[0.2222222222222222,\"#7201a8\"],[0.3333333333333333,\"#9c179e\"],[0.4444444444444444,\"#bd3786\"],[0.5555555555555556,\"#d8576b\"],[0.6666666666666666,\"#ed7953\"],[0.7777777777777778,\"#fb9f3a\"],[0.8888888888888888,\"#fdca26\"],[1.0,\"#f0f921\"]],\"type\":\"heatmapgl\"}],\"histogram\":[{\"marker\":{\"pattern\":{\"fillmode\":\"overlay\",\"size\":10,\"solidity\":0.2}},\"type\":\"histogram\"}],\"histogram2d\":[{\"colorbar\":{\"outlinewidth\":0,\"ticks\":\"\"},\"colorscale\":[[0.0,\"#0d0887\"],[0.1111111111111111,\"#46039f\"],[0.2222222222222222,\"#7201a8\"],[0.3333333333333333,\"#9c179e\"],[0.4444444444444444,\"#bd3786\"],[0.5555555555555556,\"#d8576b\"],[0.6666666666666666,\"#ed7953\"],[0.7777777777777778,\"#fb9f3a\"],[0.8888888888888888,\"#fdca26\"],[1.0,\"#f0f921\"]],\"type\":\"histogram2d\"}],\"histogram2dcontour\":[{\"colorbar\":{\"outlinewidth\":0,\"ticks\":\"\"},\"colorscale\":[[0.0,\"#0d0887\"],[0.1111111111111111,\"#46039f\"],[0.2222222222222222,\"#7201a8\"],[0.3333333333333333,\"#9c179e\"],[0.4444444444444444,\"#bd3786\"],[0.5555555555555556,\"#d8576b\"],[0.6666666666666666,\"#ed7953\"],[0.7777777777777778,\"#fb9f3a\"],[0.8888888888888888,\"#fdca26\"],[1.0,\"#f0f921\"]],\"type\":\"histogram2dcontour\"}],\"mesh3d\":[{\"colorbar\":{\"outlinewidth\":0,\"ticks\":\"\"},\"type\":\"mesh3d\"}],\"parcoords\":[{\"line\":{\"colorbar\":{\"outlinewidth\":0,\"ticks\":\"\"}},\"type\":\"parcoords\"}],\"pie\":[{\"automargin\":true,\"type\":\"pie\"}],\"scatter\":[{\"marker\":{\"colorbar\":{\"outlinewidth\":0,\"ticks\":\"\"}},\"type\":\"scatter\"}],\"scatter3d\":[{\"line\":{\"colorbar\":{\"outlinewidth\":0,\"ticks\":\"\"}},\"marker\":{\"colorbar\":{\"outlinewidth\":0,\"ticks\":\"\"}},\"type\":\"scatter3d\"}],\"scattercarpet\":[{\"marker\":{\"colorbar\":{\"outlinewidth\":0,\"ticks\":\"\"}},\"type\":\"scattercarpet\"}],\"scattergeo\":[{\"marker\":{\"colorbar\":{\"outlinewidth\":0,\"ticks\":\"\"}},\"type\":\"scattergeo\"}],\"scattergl\":[{\"marker\":{\"colorbar\":{\"outlinewidth\":0,\"ticks\":\"\"}},\"type\":\"scattergl\"}],\"scattermapbox\":[{\"marker\":{\"colorbar\":{\"outlinewidth\":0,\"ticks\":\"\"}},\"type\":\"scattermapbox\"}],\"scatterpolar\":[{\"marker\":{\"colorbar\":{\"outlinewidth\":0,\"ticks\":\"\"}},\"type\":\"scatterpolar\"}],\"scatterpolargl\":[{\"marker\":{\"colorbar\":{\"outlinewidth\":0,\"ticks\":\"\"}},\"type\":\"scatterpolargl\"}],\"scatterternary\":[{\"marker\":{\"colorbar\":{\"outlinewidth\":0,\"ticks\":\"\"}},\"type\":\"scatterternary\"}],\"surface\":[{\"colorbar\":{\"outlinewidth\":0,\"ticks\":\"\"},\"colorscale\":[[0.0,\"#0d0887\"],[0.1111111111111111,\"#46039f\"],[0.2222222222222222,\"#7201a8\"],[0.3333333333333333,\"#9c179e\"],[0.4444444444444444,\"#bd3786\"],[0.5555555555555556,\"#d8576b\"],[0.6666666666666666,\"#ed7953\"],[0.7777777777777778,\"#fb9f3a\"],[0.8888888888888888,\"#fdca26\"],[1.0,\"#f0f921\"]],\"type\":\"surface\"}],\"table\":[{\"cells\":{\"fill\":{\"color\":\"#EBF0F8\"},\"line\":{\"color\":\"white\"}},\"header\":{\"fill\":{\"color\":\"#C8D4E3\"},\"line\":{\"color\":\"white\"}},\"type\":\"table\"}]},\"layout\":{\"annotationdefaults\":{\"arrowcolor\":\"#2a3f5f\",\"arrowhead\":0,\"arrowwidth\":1},\"autotypenumbers\":\"strict\",\"coloraxis\":{\"colorbar\":{\"outlinewidth\":0,\"ticks\":\"\"}},\"colorscale\":{\"diverging\":[[0,\"#8e0152\"],[0.1,\"#c51b7d\"],[0.2,\"#de77ae\"],[0.3,\"#f1b6da\"],[0.4,\"#fde0ef\"],[0.5,\"#f7f7f7\"],[0.6,\"#e6f5d0\"],[0.7,\"#b8e186\"],[0.8,\"#7fbc41\"],[0.9,\"#4d9221\"],[1,\"#276419\"]],\"sequential\":[[0.0,\"#0d0887\"],[0.1111111111111111,\"#46039f\"],[0.2222222222222222,\"#7201a8\"],[0.3333333333333333,\"#9c179e\"],[0.4444444444444444,\"#bd3786\"],[0.5555555555555556,\"#d8576b\"],[0.6666666666666666,\"#ed7953\"],[0.7777777777777778,\"#fb9f3a\"],[0.8888888888888888,\"#fdca26\"],[1.0,\"#f0f921\"]],\"sequentialminus\":[[0.0,\"#0d0887\"],[0.1111111111111111,\"#46039f\"],[0.2222222222222222,\"#7201a8\"],[0.3333333333333333,\"#9c179e\"],[0.4444444444444444,\"#bd3786\"],[0.5555555555555556,\"#d8576b\"],[0.6666666666666666,\"#ed7953\"],[0.7777777777777778,\"#fb9f3a\"],[0.8888888888888888,\"#fdca26\"],[1.0,\"#f0f921\"]]},\"colorway\":[\"#636efa\",\"#EF553B\",\"#00cc96\",\"#ab63fa\",\"#FFA15A\",\"#19d3f3\",\"#FF6692\",\"#B6E880\",\"#FF97FF\",\"#FECB52\"],\"font\":{\"color\":\"#2a3f5f\"},\"geo\":{\"bgcolor\":\"white\",\"lakecolor\":\"white\",\"landcolor\":\"#E5ECF6\",\"showlakes\":true,\"showland\":true,\"subunitcolor\":\"white\"},\"hoverlabel\":{\"align\":\"left\"},\"hovermode\":\"closest\",\"mapbox\":{\"style\":\"light\"},\"paper_bgcolor\":\"white\",\"plot_bgcolor\":\"#E5ECF6\",\"polar\":{\"angularaxis\":{\"gridcolor\":\"white\",\"linecolor\":\"white\",\"ticks\":\"\"},\"bgcolor\":\"#E5ECF6\",\"radialaxis\":{\"gridcolor\":\"white\",\"linecolor\":\"white\",\"ticks\":\"\"}},\"scene\":{\"xaxis\":{\"backgroundcolor\":\"#E5ECF6\",\"gridcolor\":\"white\",\"gridwidth\":2,\"linecolor\":\"white\",\"showbackground\":true,\"ticks\":\"\",\"zerolinecolor\":\"white\"},\"yaxis\":{\"backgroundcolor\":\"#E5ECF6\",\"gridcolor\":\"white\",\"gridwidth\":2,\"linecolor\":\"white\",\"showbackground\":true,\"ticks\":\"\",\"zerolinecolor\":\"white\"},\"zaxis\":{\"backgroundcolor\":\"#E5ECF6\",\"gridcolor\":\"white\",\"gridwidth\":2,\"linecolor\":\"white\",\"showbackground\":true,\"ticks\":\"\",\"zerolinecolor\":\"white\"}},\"shapedefaults\":{\"line\":{\"color\":\"#2a3f5f\"}},\"ternary\":{\"aaxis\":{\"gridcolor\":\"white\",\"linecolor\":\"white\",\"ticks\":\"\"},\"baxis\":{\"gridcolor\":\"white\",\"linecolor\":\"white\",\"ticks\":\"\"},\"bgcolor\":\"#E5ECF6\",\"caxis\":{\"gridcolor\":\"white\",\"linecolor\":\"white\",\"ticks\":\"\"}},\"title\":{\"x\":0.05},\"xaxis\":{\"automargin\":true,\"gridcolor\":\"white\",\"linecolor\":\"white\",\"ticks\":\"\",\"title\":{\"standoff\":15},\"zerolinecolor\":\"white\",\"zerolinewidth\":2},\"yaxis\":{\"automargin\":true,\"gridcolor\":\"white\",\"linecolor\":\"white\",\"ticks\":\"\",\"title\":{\"standoff\":15},\"zerolinecolor\":\"white\",\"zerolinewidth\":2}}},\"title\":{\"font\":{\"color\":\"#4D5663\"}},\"xaxis\":{\"gridcolor\":\"#E1E5ED\",\"showgrid\":true,\"tickfont\":{\"color\":\"#4D5663\"},\"title\":{\"font\":{\"color\":\"#4D5663\"},\"text\":\"\"},\"zerolinecolor\":\"#E1E5ED\"},\"yaxis\":{\"gridcolor\":\"#E1E5ED\",\"showgrid\":true,\"tickfont\":{\"color\":\"#4D5663\"},\"title\":{\"font\":{\"color\":\"#4D5663\"},\"text\":\"\"},\"zerolinecolor\":\"#E1E5ED\"}},                        {\"showLink\": true, \"linkText\": \"Export to plot.ly\", \"plotlyServerURL\": \"https://plot.ly\", \"responsive\": true}                    ).then(function(){\n",
       "                            \n",
       "var gd = document.getElementById('03555589-d060-4072-a860-3296e3bdd62d');\n",
       "var x = new MutationObserver(function (mutations, observer) {{\n",
       "        var display = window.getComputedStyle(gd).display;\n",
       "        if (!display || display === 'none') {{\n",
       "            console.log([gd, 'removed!']);\n",
       "            Plotly.purge(gd);\n",
       "            observer.disconnect();\n",
       "        }}\n",
       "}});\n",
       "\n",
       "// Listen for the removal of the full notebook cells\n",
       "var notebookContainer = gd.closest('#notebook-container');\n",
       "if (notebookContainer) {{\n",
       "    x.observe(notebookContainer, {childList: true});\n",
       "}}\n",
       "\n",
       "// Listen for the clearing of the current output cell\n",
       "var outputEl = gd.closest('.output');\n",
       "if (outputEl) {{\n",
       "    x.observe(outputEl, {childList: true});\n",
       "}}\n",
       "\n",
       "                        })                };                });            </script>        </div>"
      ]
     },
     "metadata": {},
     "output_type": "display_data"
    }
   ],
   "source": [
    "df3 = pd.DataFrame({'x':[1,2,3,4,5],'y':[10,20,30,20,10],'z':[5,4,3,2,1]})\n",
    "df3.iplot(kind='surface',colorscale='rdylbu')"
   ]
  },
  {
   "cell_type": "markdown",
   "metadata": {},
   "source": [
    "## Spread"
   ]
  },
  {
   "cell_type": "code",
   "execution_count": 15,
   "metadata": {},
   "outputs": [
    {
     "name": "stderr",
     "output_type": "stream",
     "text": [
      "/usr/local/anaconda3/envs/pyvenv397/lib/python3.9/site-packages/cufflinks/plotlytools.py:849: FutureWarning:\n",
      "\n",
      "The pandas.np module is deprecated and will be removed from pandas in a future version. Import numpy directly instead\n",
      "\n",
      "/usr/local/anaconda3/envs/pyvenv397/lib/python3.9/site-packages/cufflinks/plotlytools.py:850: FutureWarning:\n",
      "\n",
      "The pandas.np module is deprecated and will be removed from pandas in a future version. Import numpy directly instead\n",
      "\n"
     ]
    },
    {
     "data": {
      "application/vnd.plotly.v1+json": {
       "config": {
        "linkText": "Export to plot.ly",
        "plotlyServerURL": "https://plot.ly",
        "showLink": true
       },
       "data": [
        {
         "line": {
          "color": "rgba(255, 153, 51, 1.0)",
          "dash": "solid",
          "shape": "linear",
          "width": 1.3
         },
         "mode": "lines",
         "name": "A",
         "text": "",
         "type": "scatter",
         "x": [
          0,
          1,
          2,
          3,
          4,
          5,
          6,
          7,
          8,
          9,
          10,
          11,
          12,
          13,
          14,
          15,
          16,
          17,
          18,
          19,
          20,
          21,
          22,
          23,
          24,
          25,
          26,
          27,
          28,
          29,
          30,
          31,
          32,
          33,
          34,
          35,
          36,
          37,
          38,
          39,
          40,
          41,
          42,
          43,
          44,
          45,
          46,
          47,
          48,
          49,
          50,
          51,
          52,
          53,
          54,
          55,
          56,
          57,
          58,
          59,
          60,
          61,
          62,
          63,
          64,
          65,
          66,
          67,
          68,
          69,
          70,
          71,
          72,
          73,
          74,
          75,
          76,
          77,
          78,
          79,
          80,
          81,
          82,
          83,
          84,
          85,
          86,
          87,
          88,
          89,
          90,
          91,
          92,
          93,
          94,
          95,
          96,
          97,
          98,
          99
         ],
         "y": [
          -0.27040833546812526,
          0.08130777436700777,
          -1.5627852644492577,
          -0.2744888889596545,
          -1.3807402495046974,
          -1.0705351424149077,
          -0.16047191326162297,
          1.9623749326919784,
          -1.4202858087319434,
          2.2306646991131793,
          2.0627667605639965,
          1.2358806367189576,
          -1.1144160033347206,
          0.2994059231642462,
          -1.3266963971338253,
          1.8034253637887923,
          -0.35866694409300454,
          -1.5168651182538158,
          -1.7517193230369608,
          -0.24854489038284788,
          -2.222255950888016,
          0.12195369323667252,
          -0.10090638648858788,
          -0.504136111985515,
          0.10088071720688169,
          -0.5691650839899056,
          -0.5831979208412037,
          1.870526868030963,
          -0.25398962295793515,
          -1.656833141667139,
          1.9751752331136339,
          0.42665589389048614,
          -0.7644650057486119,
          -1.0233599523112271,
          -1.3845703080701453,
          0.41676864169067723,
          0.16981280033515242,
          0.49389738793836757,
          1.9257781977567854,
          -1.9400175631744279,
          0.29333967748775946,
          1.1949992629121038,
          1.7769411094382328,
          -1.190346737504172,
          0.9553895066266331,
          -1.1426015599282036,
          0.7412020578651592,
          -0.718753059965593,
          -0.29293769881028325,
          0.4930577439369678,
          2.033364404806609,
          -1.8125497966835704,
          -1.4380517678713847,
          1.236334802401583,
          -0.2586154547482286,
          0.5398863162595625,
          0.17836776996372666,
          1.6300719793180487,
          -0.22465116940657961,
          0.4885186677989896,
          -0.8833884064013457,
          1.170268817648967,
          0.2650250636641034,
          0.3156961523700967,
          -2.474040255852097,
          -0.4823510461733897,
          0.6573532491983424,
          0.8226913991345299,
          0.5439660427166113,
          -0.2696888547198674,
          0.39990067617553776,
          0.8491101899180467,
          -0.07909796630667584,
          0.3382709311856161,
          -1.1463729281094484,
          1.7081268085335908,
          -1.6807218958932753,
          -0.668745860074773,
          0.3296232163303582,
          -1.3700631306803732,
          -0.5545716005147747,
          0.21217891816467718,
          -0.1740626915183978,
          -1.056783359415874,
          0.7142458049435187,
          -2.0642262765582444,
          0.27159435271701843,
          0.9924352027785257,
          0.6128875502612596,
          0.5568687516548688,
          2.446638455078288,
          -0.34295262993624026,
          -0.9215212399706968,
          0.4678165045677442,
          -1.4417615042906229,
          -0.09719709420199353,
          -0.010013117800275152,
          0.1125921386452125,
          -0.5800638387253629,
          -0.5188581163623978
         ]
        },
        {
         "line": {
          "color": "rgba(55, 128, 191, 1.0)",
          "dash": "solid",
          "shape": "linear",
          "width": 1.3
         },
         "mode": "lines",
         "name": "B",
         "text": "",
         "type": "scatter",
         "x": [
          0,
          1,
          2,
          3,
          4,
          5,
          6,
          7,
          8,
          9,
          10,
          11,
          12,
          13,
          14,
          15,
          16,
          17,
          18,
          19,
          20,
          21,
          22,
          23,
          24,
          25,
          26,
          27,
          28,
          29,
          30,
          31,
          32,
          33,
          34,
          35,
          36,
          37,
          38,
          39,
          40,
          41,
          42,
          43,
          44,
          45,
          46,
          47,
          48,
          49,
          50,
          51,
          52,
          53,
          54,
          55,
          56,
          57,
          58,
          59,
          60,
          61,
          62,
          63,
          64,
          65,
          66,
          67,
          68,
          69,
          70,
          71,
          72,
          73,
          74,
          75,
          76,
          77,
          78,
          79,
          80,
          81,
          82,
          83,
          84,
          85,
          86,
          87,
          88,
          89,
          90,
          91,
          92,
          93,
          94,
          95,
          96,
          97,
          98,
          99
         ],
         "y": [
          -1.206321705433643,
          -2.33119734708676,
          -1.182119721197647,
          0.5773891617232305,
          -0.23432507005351813,
          -0.33395607587489534,
          0.206606394431684,
          -1.041828054565952,
          1.3164705542026072,
          -0.3428669411158307,
          -1.3454064001519515,
          0.7559465164801712,
          -0.20794749416715222,
          -0.6135328159991182,
          -0.380069037972439,
          3.1611795222845105,
          -1.6728132085396286,
          0.34805445029216153,
          1.0256277741515756,
          0.34200518443172706,
          0.49253049523123815,
          -1.595301032000479,
          0.3949717712068479,
          -0.32157059990925524,
          -0.40680443581217035,
          1.1966551165712613,
          0.2822399390536095,
          -0.07775636065641416,
          2.0377626551843737,
          1.3050807025804394,
          -0.28412285719843405,
          0.1116067496020979,
          1.4014929565079186,
          -2.4319952476680715,
          -1.1037745990460548,
          -0.3226779481808536,
          -0.06624380072375628,
          -0.5081440222449597,
          -1.0079721004480366,
          -0.06359935585586599,
          1.225085723673325,
          1.3585351275230693,
          0.3418412205279284,
          -0.8430366362011602,
          0.5224342649477417,
          1.452293858051099,
          1.308642822045769,
          0.619401294147941,
          -1.3609801136045452,
          -0.3332084882878469,
          0.9667782591878893,
          0.2968612966065134,
          -0.8685699543749293,
          0.18433284499816469,
          0.21945059201802256,
          -1.4431518392390728,
          -0.16480929714894385,
          -0.1996466897872002,
          -0.34421042679753155,
          0.45874701039062454,
          -0.5070164171680562,
          0.49201585115563534,
          -1.0272281434830408,
          -1.5902113658293175,
          -0.5110555615220798,
          0.6581034463984738,
          -0.23930294622141307,
          0.5734181543602594,
          0.5167216386232102,
          -0.662434940080114,
          -1.5882504358026166,
          -2.1259339712737955,
          0.837815556214329,
          0.931612326906073,
          0.4739417943881084,
          0.3971628453935395,
          -0.5817596203921983,
          0.12431145539047427,
          -0.822088277727843,
          -0.6728033271307247,
          -0.2859862738040538,
          0.8261242575548362,
          -0.1816970175088003,
          -0.2496242561234655,
          -0.7310916260125805,
          0.6154621974695837,
          0.07629516436952173,
          -2.270041324967681,
          -1.4687126790095575,
          -1.5740038344701714,
          0.3235234457986203,
          0.5341581155124593,
          0.6843101770613879,
          -0.22662260918441646,
          -2.086501049960337,
          0.13829808199979346,
          -0.6283587315638484,
          0.4351463049605794,
          0.09700349246400516,
          -0.9387115293797964
         ]
        },
        {
         "connectgaps": false,
         "fill": "tozeroy",
         "line": {
          "color": "green",
          "dash": "solid",
          "shape": "linear",
          "width": 0.5
         },
         "mode": "lines",
         "name": "Spread",
         "showlegend": false,
         "type": "scatter",
         "x": [
          0,
          1,
          2,
          3,
          4,
          5,
          6,
          7,
          8,
          9,
          10,
          11,
          12,
          13,
          14,
          15,
          16,
          17,
          18,
          19,
          20,
          21,
          22,
          23,
          24,
          25,
          26,
          27,
          28,
          29,
          30,
          31,
          32,
          33,
          34,
          35,
          36,
          37,
          38,
          39,
          40,
          41,
          42,
          43,
          44,
          45,
          46,
          47,
          48,
          49,
          50,
          51,
          52,
          53,
          54,
          55,
          56,
          57,
          58,
          59,
          60,
          61,
          62,
          63,
          64,
          65,
          66,
          67,
          68,
          69,
          70,
          71,
          72,
          73,
          74,
          75,
          76,
          77,
          78,
          79,
          80,
          81,
          82,
          83,
          84,
          85,
          86,
          87,
          88,
          89,
          90,
          91,
          92,
          93,
          94,
          95,
          96,
          97,
          98,
          99
         ],
         "xaxis": "x2",
         "y": [
          0.9359133699655178,
          2.412505121453768,
          "",
          "",
          "",
          "",
          "",
          3.0042029872579303,
          "",
          2.5735316402290103,
          3.408173160715948,
          0.47993412023878645,
          "",
          0.9129387391633644,
          "",
          "",
          1.314146264446624,
          "",
          "",
          "",
          "",
          1.7172547252371515,
          "",
          "",
          0.507685153019052,
          "",
          "",
          1.9482832286873772,
          "",
          "",
          2.259298090312068,
          0.31504914428838826,
          "",
          1.4086352953568444,
          "",
          0.7394465898715308,
          0.2360566010589087,
          1.0020414101833273,
          2.933750298204822,
          "",
          "",
          "",
          1.4350998889103044,
          "",
          0.43295524167889143,
          "",
          "",
          "",
          1.068042414794262,
          0.8262662322248147,
          1.0665861456187196,
          "",
          "",
          1.0520019574034183,
          "",
          1.9830381554986354,
          0.3431770671126705,
          1.829718669105249,
          0.11955925739095194,
          0.02977165740836507,
          "",
          0.6782529664933317,
          1.2922532071471442,
          1.9059075181994143,
          "",
          "",
          0.8966561954197554,
          0.24927324477427049,
          0.02724440409340112,
          0.39274608536024663,
          1.9881511119781543,
          2.975044161191842,
          "",
          "",
          "",
          1.3109639631400514,
          "",
          "",
          1.1517114940582012,
          "",
          "",
          "",
          0.007634325990402507,
          "",
          1.4453374309560991,
          "",
          0.1952991883474967,
          3.262476527746207,
          2.0816002292708173,
          2.13087258612504,
          2.1231150092796676,
          "",
          "",
          0.6944391137521606,
          0.644739545669714,
          "",
          0.6183456137635732,
          "",
          "",
          0.41985341301739865
         ],
         "yaxis": "y2"
        },
        {
         "connectgaps": false,
         "fill": "tozeroy",
         "line": {
          "color": "red",
          "dash": "solid",
          "shape": "linear",
          "width": 0.5
         },
         "mode": "lines",
         "name": "Spread",
         "showlegend": false,
         "type": "scatter",
         "x": [
          0,
          1,
          2,
          3,
          4,
          5,
          6,
          7,
          8,
          9,
          10,
          11,
          12,
          13,
          14,
          15,
          16,
          17,
          18,
          19,
          20,
          21,
          22,
          23,
          24,
          25,
          26,
          27,
          28,
          29,
          30,
          31,
          32,
          33,
          34,
          35,
          36,
          37,
          38,
          39,
          40,
          41,
          42,
          43,
          44,
          45,
          46,
          47,
          48,
          49,
          50,
          51,
          52,
          53,
          54,
          55,
          56,
          57,
          58,
          59,
          60,
          61,
          62,
          63,
          64,
          65,
          66,
          67,
          68,
          69,
          70,
          71,
          72,
          73,
          74,
          75,
          76,
          77,
          78,
          79,
          80,
          81,
          82,
          83,
          84,
          85,
          86,
          87,
          88,
          89,
          90,
          91,
          92,
          93,
          94,
          95,
          96,
          97,
          98,
          99
         ],
         "xaxis": "x2",
         "y": [
          "",
          "",
          -0.3806655432516106,
          -0.851878050682885,
          -1.1464151794511792,
          -0.7365790665400123,
          -0.36707830769330696,
          "",
          -2.7367563629345506,
          "",
          "",
          "",
          -0.9064685091675684,
          "",
          -0.9466273591613863,
          -1.3577541584957182,
          "",
          -1.8649195685459774,
          -2.777347097188536,
          -0.5905500748145749,
          -2.714786446119254,
          "",
          -0.49587815769543575,
          -0.18256551207625976,
          "",
          -1.765820200561167,
          -0.8654378598948131,
          "",
          -2.291752278142309,
          -2.9619138442475785,
          "",
          "",
          -2.1659579622565306,
          "",
          -0.28079570902409046,
          "",
          "",
          "",
          "",
          -1.8764182073185618,
          -0.9317460461855656,
          -0.16353586461096548,
          "",
          -0.3473101013030119,
          "",
          -2.5948954179793025,
          -0.5674407641806098,
          -1.338154354113534,
          "",
          "",
          "",
          -2.109411093290084,
          -0.5694818134964553,
          "",
          -0.4780660467662512,
          "",
          "",
          "",
          "",
          "",
          -0.3763719892332895,
          "",
          "",
          "",
          -1.962984694330017,
          -1.1404544925718636,
          "",
          "",
          "",
          "",
          "",
          "",
          -0.9169135225210049,
          -0.593341395720457,
          -1.6203147224975567,
          "",
          -1.0989622755010768,
          -0.7930573154652473,
          "",
          -0.6972598035496486,
          -0.26858532671072094,
          -0.613945339390159,
          "",
          -0.8071591032924085,
          "",
          -2.679688474027828,
          "",
          "",
          "",
          "",
          "",
          -0.8771107454486995,
          -1.6058314170320847,
          "",
          "",
          -0.235495176201787,
          "",
          -0.3225541663153669,
          -0.6770673311893681,
          ""
         ],
         "yaxis": "y2"
        }
       ],
       "layout": {
        "hovermode": "x",
        "legend": {
         "bgcolor": "#F5F6F9",
         "font": {
          "color": "#4D5663"
         }
        },
        "paper_bgcolor": "#F5F6F9",
        "plot_bgcolor": "#F5F6F9",
        "template": {
         "data": {
          "bar": [
           {
            "error_x": {
             "color": "#2a3f5f"
            },
            "error_y": {
             "color": "#2a3f5f"
            },
            "marker": {
             "line": {
              "color": "#E5ECF6",
              "width": 0.5
             },
             "pattern": {
              "fillmode": "overlay",
              "size": 10,
              "solidity": 0.2
             }
            },
            "type": "bar"
           }
          ],
          "barpolar": [
           {
            "marker": {
             "line": {
              "color": "#E5ECF6",
              "width": 0.5
             },
             "pattern": {
              "fillmode": "overlay",
              "size": 10,
              "solidity": 0.2
             }
            },
            "type": "barpolar"
           }
          ],
          "carpet": [
           {
            "aaxis": {
             "endlinecolor": "#2a3f5f",
             "gridcolor": "white",
             "linecolor": "white",
             "minorgridcolor": "white",
             "startlinecolor": "#2a3f5f"
            },
            "baxis": {
             "endlinecolor": "#2a3f5f",
             "gridcolor": "white",
             "linecolor": "white",
             "minorgridcolor": "white",
             "startlinecolor": "#2a3f5f"
            },
            "type": "carpet"
           }
          ],
          "choropleth": [
           {
            "colorbar": {
             "outlinewidth": 0,
             "ticks": ""
            },
            "type": "choropleth"
           }
          ],
          "contour": [
           {
            "colorbar": {
             "outlinewidth": 0,
             "ticks": ""
            },
            "colorscale": [
             [
              0,
              "#0d0887"
             ],
             [
              0.1111111111111111,
              "#46039f"
             ],
             [
              0.2222222222222222,
              "#7201a8"
             ],
             [
              0.3333333333333333,
              "#9c179e"
             ],
             [
              0.4444444444444444,
              "#bd3786"
             ],
             [
              0.5555555555555556,
              "#d8576b"
             ],
             [
              0.6666666666666666,
              "#ed7953"
             ],
             [
              0.7777777777777778,
              "#fb9f3a"
             ],
             [
              0.8888888888888888,
              "#fdca26"
             ],
             [
              1,
              "#f0f921"
             ]
            ],
            "type": "contour"
           }
          ],
          "contourcarpet": [
           {
            "colorbar": {
             "outlinewidth": 0,
             "ticks": ""
            },
            "type": "contourcarpet"
           }
          ],
          "heatmap": [
           {
            "colorbar": {
             "outlinewidth": 0,
             "ticks": ""
            },
            "colorscale": [
             [
              0,
              "#0d0887"
             ],
             [
              0.1111111111111111,
              "#46039f"
             ],
             [
              0.2222222222222222,
              "#7201a8"
             ],
             [
              0.3333333333333333,
              "#9c179e"
             ],
             [
              0.4444444444444444,
              "#bd3786"
             ],
             [
              0.5555555555555556,
              "#d8576b"
             ],
             [
              0.6666666666666666,
              "#ed7953"
             ],
             [
              0.7777777777777778,
              "#fb9f3a"
             ],
             [
              0.8888888888888888,
              "#fdca26"
             ],
             [
              1,
              "#f0f921"
             ]
            ],
            "type": "heatmap"
           }
          ],
          "heatmapgl": [
           {
            "colorbar": {
             "outlinewidth": 0,
             "ticks": ""
            },
            "colorscale": [
             [
              0,
              "#0d0887"
             ],
             [
              0.1111111111111111,
              "#46039f"
             ],
             [
              0.2222222222222222,
              "#7201a8"
             ],
             [
              0.3333333333333333,
              "#9c179e"
             ],
             [
              0.4444444444444444,
              "#bd3786"
             ],
             [
              0.5555555555555556,
              "#d8576b"
             ],
             [
              0.6666666666666666,
              "#ed7953"
             ],
             [
              0.7777777777777778,
              "#fb9f3a"
             ],
             [
              0.8888888888888888,
              "#fdca26"
             ],
             [
              1,
              "#f0f921"
             ]
            ],
            "type": "heatmapgl"
           }
          ],
          "histogram": [
           {
            "marker": {
             "pattern": {
              "fillmode": "overlay",
              "size": 10,
              "solidity": 0.2
             }
            },
            "type": "histogram"
           }
          ],
          "histogram2d": [
           {
            "colorbar": {
             "outlinewidth": 0,
             "ticks": ""
            },
            "colorscale": [
             [
              0,
              "#0d0887"
             ],
             [
              0.1111111111111111,
              "#46039f"
             ],
             [
              0.2222222222222222,
              "#7201a8"
             ],
             [
              0.3333333333333333,
              "#9c179e"
             ],
             [
              0.4444444444444444,
              "#bd3786"
             ],
             [
              0.5555555555555556,
              "#d8576b"
             ],
             [
              0.6666666666666666,
              "#ed7953"
             ],
             [
              0.7777777777777778,
              "#fb9f3a"
             ],
             [
              0.8888888888888888,
              "#fdca26"
             ],
             [
              1,
              "#f0f921"
             ]
            ],
            "type": "histogram2d"
           }
          ],
          "histogram2dcontour": [
           {
            "colorbar": {
             "outlinewidth": 0,
             "ticks": ""
            },
            "colorscale": [
             [
              0,
              "#0d0887"
             ],
             [
              0.1111111111111111,
              "#46039f"
             ],
             [
              0.2222222222222222,
              "#7201a8"
             ],
             [
              0.3333333333333333,
              "#9c179e"
             ],
             [
              0.4444444444444444,
              "#bd3786"
             ],
             [
              0.5555555555555556,
              "#d8576b"
             ],
             [
              0.6666666666666666,
              "#ed7953"
             ],
             [
              0.7777777777777778,
              "#fb9f3a"
             ],
             [
              0.8888888888888888,
              "#fdca26"
             ],
             [
              1,
              "#f0f921"
             ]
            ],
            "type": "histogram2dcontour"
           }
          ],
          "mesh3d": [
           {
            "colorbar": {
             "outlinewidth": 0,
             "ticks": ""
            },
            "type": "mesh3d"
           }
          ],
          "parcoords": [
           {
            "line": {
             "colorbar": {
              "outlinewidth": 0,
              "ticks": ""
             }
            },
            "type": "parcoords"
           }
          ],
          "pie": [
           {
            "automargin": true,
            "type": "pie"
           }
          ],
          "scatter": [
           {
            "marker": {
             "colorbar": {
              "outlinewidth": 0,
              "ticks": ""
             }
            },
            "type": "scatter"
           }
          ],
          "scatter3d": [
           {
            "line": {
             "colorbar": {
              "outlinewidth": 0,
              "ticks": ""
             }
            },
            "marker": {
             "colorbar": {
              "outlinewidth": 0,
              "ticks": ""
             }
            },
            "type": "scatter3d"
           }
          ],
          "scattercarpet": [
           {
            "marker": {
             "colorbar": {
              "outlinewidth": 0,
              "ticks": ""
             }
            },
            "type": "scattercarpet"
           }
          ],
          "scattergeo": [
           {
            "marker": {
             "colorbar": {
              "outlinewidth": 0,
              "ticks": ""
             }
            },
            "type": "scattergeo"
           }
          ],
          "scattergl": [
           {
            "marker": {
             "colorbar": {
              "outlinewidth": 0,
              "ticks": ""
             }
            },
            "type": "scattergl"
           }
          ],
          "scattermapbox": [
           {
            "marker": {
             "colorbar": {
              "outlinewidth": 0,
              "ticks": ""
             }
            },
            "type": "scattermapbox"
           }
          ],
          "scatterpolar": [
           {
            "marker": {
             "colorbar": {
              "outlinewidth": 0,
              "ticks": ""
             }
            },
            "type": "scatterpolar"
           }
          ],
          "scatterpolargl": [
           {
            "marker": {
             "colorbar": {
              "outlinewidth": 0,
              "ticks": ""
             }
            },
            "type": "scatterpolargl"
           }
          ],
          "scatterternary": [
           {
            "marker": {
             "colorbar": {
              "outlinewidth": 0,
              "ticks": ""
             }
            },
            "type": "scatterternary"
           }
          ],
          "surface": [
           {
            "colorbar": {
             "outlinewidth": 0,
             "ticks": ""
            },
            "colorscale": [
             [
              0,
              "#0d0887"
             ],
             [
              0.1111111111111111,
              "#46039f"
             ],
             [
              0.2222222222222222,
              "#7201a8"
             ],
             [
              0.3333333333333333,
              "#9c179e"
             ],
             [
              0.4444444444444444,
              "#bd3786"
             ],
             [
              0.5555555555555556,
              "#d8576b"
             ],
             [
              0.6666666666666666,
              "#ed7953"
             ],
             [
              0.7777777777777778,
              "#fb9f3a"
             ],
             [
              0.8888888888888888,
              "#fdca26"
             ],
             [
              1,
              "#f0f921"
             ]
            ],
            "type": "surface"
           }
          ],
          "table": [
           {
            "cells": {
             "fill": {
              "color": "#EBF0F8"
             },
             "line": {
              "color": "white"
             }
            },
            "header": {
             "fill": {
              "color": "#C8D4E3"
             },
             "line": {
              "color": "white"
             }
            },
            "type": "table"
           }
          ]
         },
         "layout": {
          "annotationdefaults": {
           "arrowcolor": "#2a3f5f",
           "arrowhead": 0,
           "arrowwidth": 1
          },
          "autotypenumbers": "strict",
          "coloraxis": {
           "colorbar": {
            "outlinewidth": 0,
            "ticks": ""
           }
          },
          "colorscale": {
           "diverging": [
            [
             0,
             "#8e0152"
            ],
            [
             0.1,
             "#c51b7d"
            ],
            [
             0.2,
             "#de77ae"
            ],
            [
             0.3,
             "#f1b6da"
            ],
            [
             0.4,
             "#fde0ef"
            ],
            [
             0.5,
             "#f7f7f7"
            ],
            [
             0.6,
             "#e6f5d0"
            ],
            [
             0.7,
             "#b8e186"
            ],
            [
             0.8,
             "#7fbc41"
            ],
            [
             0.9,
             "#4d9221"
            ],
            [
             1,
             "#276419"
            ]
           ],
           "sequential": [
            [
             0,
             "#0d0887"
            ],
            [
             0.1111111111111111,
             "#46039f"
            ],
            [
             0.2222222222222222,
             "#7201a8"
            ],
            [
             0.3333333333333333,
             "#9c179e"
            ],
            [
             0.4444444444444444,
             "#bd3786"
            ],
            [
             0.5555555555555556,
             "#d8576b"
            ],
            [
             0.6666666666666666,
             "#ed7953"
            ],
            [
             0.7777777777777778,
             "#fb9f3a"
            ],
            [
             0.8888888888888888,
             "#fdca26"
            ],
            [
             1,
             "#f0f921"
            ]
           ],
           "sequentialminus": [
            [
             0,
             "#0d0887"
            ],
            [
             0.1111111111111111,
             "#46039f"
            ],
            [
             0.2222222222222222,
             "#7201a8"
            ],
            [
             0.3333333333333333,
             "#9c179e"
            ],
            [
             0.4444444444444444,
             "#bd3786"
            ],
            [
             0.5555555555555556,
             "#d8576b"
            ],
            [
             0.6666666666666666,
             "#ed7953"
            ],
            [
             0.7777777777777778,
             "#fb9f3a"
            ],
            [
             0.8888888888888888,
             "#fdca26"
            ],
            [
             1,
             "#f0f921"
            ]
           ]
          },
          "colorway": [
           "#636efa",
           "#EF553B",
           "#00cc96",
           "#ab63fa",
           "#FFA15A",
           "#19d3f3",
           "#FF6692",
           "#B6E880",
           "#FF97FF",
           "#FECB52"
          ],
          "font": {
           "color": "#2a3f5f"
          },
          "geo": {
           "bgcolor": "white",
           "lakecolor": "white",
           "landcolor": "#E5ECF6",
           "showlakes": true,
           "showland": true,
           "subunitcolor": "white"
          },
          "hoverlabel": {
           "align": "left"
          },
          "hovermode": "closest",
          "mapbox": {
           "style": "light"
          },
          "paper_bgcolor": "white",
          "plot_bgcolor": "#E5ECF6",
          "polar": {
           "angularaxis": {
            "gridcolor": "white",
            "linecolor": "white",
            "ticks": ""
           },
           "bgcolor": "#E5ECF6",
           "radialaxis": {
            "gridcolor": "white",
            "linecolor": "white",
            "ticks": ""
           }
          },
          "scene": {
           "xaxis": {
            "backgroundcolor": "#E5ECF6",
            "gridcolor": "white",
            "gridwidth": 2,
            "linecolor": "white",
            "showbackground": true,
            "ticks": "",
            "zerolinecolor": "white"
           },
           "yaxis": {
            "backgroundcolor": "#E5ECF6",
            "gridcolor": "white",
            "gridwidth": 2,
            "linecolor": "white",
            "showbackground": true,
            "ticks": "",
            "zerolinecolor": "white"
           },
           "zaxis": {
            "backgroundcolor": "#E5ECF6",
            "gridcolor": "white",
            "gridwidth": 2,
            "linecolor": "white",
            "showbackground": true,
            "ticks": "",
            "zerolinecolor": "white"
           }
          },
          "shapedefaults": {
           "line": {
            "color": "#2a3f5f"
           }
          },
          "ternary": {
           "aaxis": {
            "gridcolor": "white",
            "linecolor": "white",
            "ticks": ""
           },
           "baxis": {
            "gridcolor": "white",
            "linecolor": "white",
            "ticks": ""
           },
           "bgcolor": "#E5ECF6",
           "caxis": {
            "gridcolor": "white",
            "linecolor": "white",
            "ticks": ""
           }
          },
          "title": {
           "x": 0.05
          },
          "xaxis": {
           "automargin": true,
           "gridcolor": "white",
           "linecolor": "white",
           "ticks": "",
           "title": {
            "standoff": 15
           },
           "zerolinecolor": "white",
           "zerolinewidth": 2
          },
          "yaxis": {
           "automargin": true,
           "gridcolor": "white",
           "linecolor": "white",
           "ticks": "",
           "title": {
            "standoff": 15
           },
           "zerolinecolor": "white",
           "zerolinewidth": 2
          }
         }
        },
        "title": {
         "font": {
          "color": "#4D5663"
         }
        },
        "xaxis": {
         "gridcolor": "#E1E5ED",
         "showgrid": true,
         "tickfont": {
          "color": "#4D5663"
         },
         "title": {
          "font": {
           "color": "#4D5663"
          },
          "text": ""
         },
         "zerolinecolor": "#E1E5ED"
        },
        "xaxis2": {
         "anchor": "y2",
         "gridcolor": "#E1E5ED",
         "showgrid": true,
         "showticklabels": false,
         "tickfont": {
          "color": "#4D5663"
         },
         "title": {
          "font": {
           "color": "#4D5663"
          },
          "text": ""
         },
         "zerolinecolor": "#E1E5ED"
        },
        "yaxis": {
         "domain": [
          0.3,
          1
         ],
         "gridcolor": "#E1E5ED",
         "showgrid": true,
         "tickfont": {
          "color": "#4D5663"
         },
         "title": {
          "font": {
           "color": "#4D5663"
          },
          "text": ""
         },
         "zerolinecolor": "#E1E5ED"
        },
        "yaxis2": {
         "domain": [
          0,
          0.25
         ],
         "gridcolor": "#E1E5ED",
         "showgrid": true,
         "tickfont": {
          "color": "#4D5663"
         },
         "title": {
          "font": {
           "color": "#4D5663"
          },
          "text": "Spread"
         },
         "zerolinecolor": "#E1E5ED"
        }
       }
      },
      "text/html": [
       "<div>                            <div id=\"9f851c2f-925e-44ed-9fd7-3d4a432376fa\" class=\"plotly-graph-div\" style=\"height:525px; width:100%;\"></div>            <script type=\"text/javascript\">                require([\"plotly\"], function(Plotly) {                    window.PLOTLYENV=window.PLOTLYENV || {};\n",
       "                    window.PLOTLYENV.BASE_URL='https://plot.ly';                                    if (document.getElementById(\"9f851c2f-925e-44ed-9fd7-3d4a432376fa\")) {                    Plotly.newPlot(                        \"9f851c2f-925e-44ed-9fd7-3d4a432376fa\",                        [{\"line\":{\"color\":\"rgba(255, 153, 51, 1.0)\",\"dash\":\"solid\",\"shape\":\"linear\",\"width\":1.3},\"mode\":\"lines\",\"name\":\"A\",\"text\":\"\",\"type\":\"scatter\",\"x\":[0,1,2,3,4,5,6,7,8,9,10,11,12,13,14,15,16,17,18,19,20,21,22,23,24,25,26,27,28,29,30,31,32,33,34,35,36,37,38,39,40,41,42,43,44,45,46,47,48,49,50,51,52,53,54,55,56,57,58,59,60,61,62,63,64,65,66,67,68,69,70,71,72,73,74,75,76,77,78,79,80,81,82,83,84,85,86,87,88,89,90,91,92,93,94,95,96,97,98,99],\"y\":[-0.27040833546812526,0.08130777436700777,-1.5627852644492577,-0.2744888889596545,-1.3807402495046974,-1.0705351424149077,-0.16047191326162297,1.9623749326919784,-1.4202858087319434,2.2306646991131793,2.0627667605639965,1.2358806367189576,-1.1144160033347206,0.2994059231642462,-1.3266963971338253,1.8034253637887923,-0.35866694409300454,-1.5168651182538158,-1.7517193230369608,-0.24854489038284788,-2.222255950888016,0.12195369323667252,-0.10090638648858788,-0.504136111985515,0.10088071720688169,-0.5691650839899056,-0.5831979208412037,1.870526868030963,-0.25398962295793515,-1.656833141667139,1.9751752331136339,0.42665589389048614,-0.7644650057486119,-1.0233599523112271,-1.3845703080701453,0.41676864169067723,0.16981280033515242,0.49389738793836757,1.9257781977567854,-1.9400175631744279,0.29333967748775946,1.1949992629121038,1.7769411094382328,-1.190346737504172,0.9553895066266331,-1.1426015599282036,0.7412020578651592,-0.718753059965593,-0.29293769881028325,0.4930577439369678,2.033364404806609,-1.8125497966835704,-1.4380517678713847,1.236334802401583,-0.2586154547482286,0.5398863162595625,0.17836776996372666,1.6300719793180487,-0.22465116940657961,0.4885186677989896,-0.8833884064013457,1.170268817648967,0.2650250636641034,0.3156961523700967,-2.474040255852097,-0.4823510461733897,0.6573532491983424,0.8226913991345299,0.5439660427166113,-0.2696888547198674,0.39990067617553776,0.8491101899180467,-0.07909796630667584,0.3382709311856161,-1.1463729281094484,1.7081268085335908,-1.6807218958932753,-0.668745860074773,0.3296232163303582,-1.3700631306803732,-0.5545716005147747,0.21217891816467718,-0.1740626915183978,-1.056783359415874,0.7142458049435187,-2.0642262765582444,0.27159435271701843,0.9924352027785257,0.6128875502612596,0.5568687516548688,2.446638455078288,-0.34295262993624026,-0.9215212399706968,0.4678165045677442,-1.4417615042906229,-0.09719709420199353,-0.010013117800275152,0.1125921386452125,-0.5800638387253629,-0.5188581163623978]},{\"line\":{\"color\":\"rgba(55, 128, 191, 1.0)\",\"dash\":\"solid\",\"shape\":\"linear\",\"width\":1.3},\"mode\":\"lines\",\"name\":\"B\",\"text\":\"\",\"type\":\"scatter\",\"x\":[0,1,2,3,4,5,6,7,8,9,10,11,12,13,14,15,16,17,18,19,20,21,22,23,24,25,26,27,28,29,30,31,32,33,34,35,36,37,38,39,40,41,42,43,44,45,46,47,48,49,50,51,52,53,54,55,56,57,58,59,60,61,62,63,64,65,66,67,68,69,70,71,72,73,74,75,76,77,78,79,80,81,82,83,84,85,86,87,88,89,90,91,92,93,94,95,96,97,98,99],\"y\":[-1.206321705433643,-2.33119734708676,-1.182119721197647,0.5773891617232305,-0.23432507005351813,-0.33395607587489534,0.206606394431684,-1.041828054565952,1.3164705542026072,-0.3428669411158307,-1.3454064001519515,0.7559465164801712,-0.20794749416715222,-0.6135328159991182,-0.380069037972439,3.1611795222845105,-1.6728132085396286,0.34805445029216153,1.0256277741515756,0.34200518443172706,0.49253049523123815,-1.595301032000479,0.3949717712068479,-0.32157059990925524,-0.40680443581217035,1.1966551165712613,0.2822399390536095,-0.07775636065641416,2.0377626551843737,1.3050807025804394,-0.28412285719843405,0.1116067496020979,1.4014929565079186,-2.4319952476680715,-1.1037745990460548,-0.3226779481808536,-0.06624380072375628,-0.5081440222449597,-1.0079721004480366,-0.06359935585586599,1.225085723673325,1.3585351275230693,0.3418412205279284,-0.8430366362011602,0.5224342649477417,1.452293858051099,1.308642822045769,0.619401294147941,-1.3609801136045452,-0.3332084882878469,0.9667782591878893,0.2968612966065134,-0.8685699543749293,0.18433284499816469,0.21945059201802256,-1.4431518392390728,-0.16480929714894385,-0.1996466897872002,-0.34421042679753155,0.45874701039062454,-0.5070164171680562,0.49201585115563534,-1.0272281434830408,-1.5902113658293175,-0.5110555615220798,0.6581034463984738,-0.23930294622141307,0.5734181543602594,0.5167216386232102,-0.662434940080114,-1.5882504358026166,-2.1259339712737955,0.837815556214329,0.931612326906073,0.4739417943881084,0.3971628453935395,-0.5817596203921983,0.12431145539047427,-0.822088277727843,-0.6728033271307247,-0.2859862738040538,0.8261242575548362,-0.1816970175088003,-0.2496242561234655,-0.7310916260125805,0.6154621974695837,0.07629516436952173,-2.270041324967681,-1.4687126790095575,-1.5740038344701714,0.3235234457986203,0.5341581155124593,0.6843101770613879,-0.22662260918441646,-2.086501049960337,0.13829808199979346,-0.6283587315638484,0.4351463049605794,0.09700349246400516,-0.9387115293797964]},{\"connectgaps\":false,\"fill\":\"tozeroy\",\"line\":{\"color\":\"green\",\"dash\":\"solid\",\"shape\":\"linear\",\"width\":0.5},\"mode\":\"lines\",\"name\":\"Spread\",\"showlegend\":false,\"type\":\"scatter\",\"x\":[0,1,2,3,4,5,6,7,8,9,10,11,12,13,14,15,16,17,18,19,20,21,22,23,24,25,26,27,28,29,30,31,32,33,34,35,36,37,38,39,40,41,42,43,44,45,46,47,48,49,50,51,52,53,54,55,56,57,58,59,60,61,62,63,64,65,66,67,68,69,70,71,72,73,74,75,76,77,78,79,80,81,82,83,84,85,86,87,88,89,90,91,92,93,94,95,96,97,98,99],\"xaxis\":\"x2\",\"y\":[0.9359133699655178,2.412505121453768,\"\",\"\",\"\",\"\",\"\",3.0042029872579303,\"\",2.5735316402290103,3.408173160715948,0.47993412023878645,\"\",0.9129387391633644,\"\",\"\",1.314146264446624,\"\",\"\",\"\",\"\",1.7172547252371515,\"\",\"\",0.507685153019052,\"\",\"\",1.9482832286873772,\"\",\"\",2.259298090312068,0.31504914428838826,\"\",1.4086352953568444,\"\",0.7394465898715308,0.2360566010589087,1.0020414101833273,2.933750298204822,\"\",\"\",\"\",1.4350998889103044,\"\",0.43295524167889143,\"\",\"\",\"\",1.068042414794262,0.8262662322248147,1.0665861456187196,\"\",\"\",1.0520019574034183,\"\",1.9830381554986354,0.3431770671126705,1.829718669105249,0.11955925739095194,0.02977165740836507,\"\",0.6782529664933317,1.2922532071471442,1.9059075181994143,\"\",\"\",0.8966561954197554,0.24927324477427049,0.02724440409340112,0.39274608536024663,1.9881511119781543,2.975044161191842,\"\",\"\",\"\",1.3109639631400514,\"\",\"\",1.1517114940582012,\"\",\"\",\"\",0.007634325990402507,\"\",1.4453374309560991,\"\",0.1952991883474967,3.262476527746207,2.0816002292708173,2.13087258612504,2.1231150092796676,\"\",\"\",0.6944391137521606,0.644739545669714,\"\",0.6183456137635732,\"\",\"\",0.41985341301739865],\"yaxis\":\"y2\"},{\"connectgaps\":false,\"fill\":\"tozeroy\",\"line\":{\"color\":\"red\",\"dash\":\"solid\",\"shape\":\"linear\",\"width\":0.5},\"mode\":\"lines\",\"name\":\"Spread\",\"showlegend\":false,\"type\":\"scatter\",\"x\":[0,1,2,3,4,5,6,7,8,9,10,11,12,13,14,15,16,17,18,19,20,21,22,23,24,25,26,27,28,29,30,31,32,33,34,35,36,37,38,39,40,41,42,43,44,45,46,47,48,49,50,51,52,53,54,55,56,57,58,59,60,61,62,63,64,65,66,67,68,69,70,71,72,73,74,75,76,77,78,79,80,81,82,83,84,85,86,87,88,89,90,91,92,93,94,95,96,97,98,99],\"xaxis\":\"x2\",\"y\":[\"\",\"\",-0.3806655432516106,-0.851878050682885,-1.1464151794511792,-0.7365790665400123,-0.36707830769330696,\"\",-2.7367563629345506,\"\",\"\",\"\",-0.9064685091675684,\"\",-0.9466273591613863,-1.3577541584957182,\"\",-1.8649195685459774,-2.777347097188536,-0.5905500748145749,-2.714786446119254,\"\",-0.49587815769543575,-0.18256551207625976,\"\",-1.765820200561167,-0.8654378598948131,\"\",-2.291752278142309,-2.9619138442475785,\"\",\"\",-2.1659579622565306,\"\",-0.28079570902409046,\"\",\"\",\"\",\"\",-1.8764182073185618,-0.9317460461855656,-0.16353586461096548,\"\",-0.3473101013030119,\"\",-2.5948954179793025,-0.5674407641806098,-1.338154354113534,\"\",\"\",\"\",-2.109411093290084,-0.5694818134964553,\"\",-0.4780660467662512,\"\",\"\",\"\",\"\",\"\",-0.3763719892332895,\"\",\"\",\"\",-1.962984694330017,-1.1404544925718636,\"\",\"\",\"\",\"\",\"\",\"\",-0.9169135225210049,-0.593341395720457,-1.6203147224975567,\"\",-1.0989622755010768,-0.7930573154652473,\"\",-0.6972598035496486,-0.26858532671072094,-0.613945339390159,\"\",-0.8071591032924085,\"\",-2.679688474027828,\"\",\"\",\"\",\"\",\"\",-0.8771107454486995,-1.6058314170320847,\"\",\"\",-0.235495176201787,\"\",-0.3225541663153669,-0.6770673311893681,\"\"],\"yaxis\":\"y2\"}],                        {\"hovermode\":\"x\",\"legend\":{\"bgcolor\":\"#F5F6F9\",\"font\":{\"color\":\"#4D5663\"}},\"paper_bgcolor\":\"#F5F6F9\",\"plot_bgcolor\":\"#F5F6F9\",\"template\":{\"data\":{\"bar\":[{\"error_x\":{\"color\":\"#2a3f5f\"},\"error_y\":{\"color\":\"#2a3f5f\"},\"marker\":{\"line\":{\"color\":\"#E5ECF6\",\"width\":0.5},\"pattern\":{\"fillmode\":\"overlay\",\"size\":10,\"solidity\":0.2}},\"type\":\"bar\"}],\"barpolar\":[{\"marker\":{\"line\":{\"color\":\"#E5ECF6\",\"width\":0.5},\"pattern\":{\"fillmode\":\"overlay\",\"size\":10,\"solidity\":0.2}},\"type\":\"barpolar\"}],\"carpet\":[{\"aaxis\":{\"endlinecolor\":\"#2a3f5f\",\"gridcolor\":\"white\",\"linecolor\":\"white\",\"minorgridcolor\":\"white\",\"startlinecolor\":\"#2a3f5f\"},\"baxis\":{\"endlinecolor\":\"#2a3f5f\",\"gridcolor\":\"white\",\"linecolor\":\"white\",\"minorgridcolor\":\"white\",\"startlinecolor\":\"#2a3f5f\"},\"type\":\"carpet\"}],\"choropleth\":[{\"colorbar\":{\"outlinewidth\":0,\"ticks\":\"\"},\"type\":\"choropleth\"}],\"contour\":[{\"colorbar\":{\"outlinewidth\":0,\"ticks\":\"\"},\"colorscale\":[[0.0,\"#0d0887\"],[0.1111111111111111,\"#46039f\"],[0.2222222222222222,\"#7201a8\"],[0.3333333333333333,\"#9c179e\"],[0.4444444444444444,\"#bd3786\"],[0.5555555555555556,\"#d8576b\"],[0.6666666666666666,\"#ed7953\"],[0.7777777777777778,\"#fb9f3a\"],[0.8888888888888888,\"#fdca26\"],[1.0,\"#f0f921\"]],\"type\":\"contour\"}],\"contourcarpet\":[{\"colorbar\":{\"outlinewidth\":0,\"ticks\":\"\"},\"type\":\"contourcarpet\"}],\"heatmap\":[{\"colorbar\":{\"outlinewidth\":0,\"ticks\":\"\"},\"colorscale\":[[0.0,\"#0d0887\"],[0.1111111111111111,\"#46039f\"],[0.2222222222222222,\"#7201a8\"],[0.3333333333333333,\"#9c179e\"],[0.4444444444444444,\"#bd3786\"],[0.5555555555555556,\"#d8576b\"],[0.6666666666666666,\"#ed7953\"],[0.7777777777777778,\"#fb9f3a\"],[0.8888888888888888,\"#fdca26\"],[1.0,\"#f0f921\"]],\"type\":\"heatmap\"}],\"heatmapgl\":[{\"colorbar\":{\"outlinewidth\":0,\"ticks\":\"\"},\"colorscale\":[[0.0,\"#0d0887\"],[0.1111111111111111,\"#46039f\"],[0.2222222222222222,\"#7201a8\"],[0.3333333333333333,\"#9c179e\"],[0.4444444444444444,\"#bd3786\"],[0.5555555555555556,\"#d8576b\"],[0.6666666666666666,\"#ed7953\"],[0.7777777777777778,\"#fb9f3a\"],[0.8888888888888888,\"#fdca26\"],[1.0,\"#f0f921\"]],\"type\":\"heatmapgl\"}],\"histogram\":[{\"marker\":{\"pattern\":{\"fillmode\":\"overlay\",\"size\":10,\"solidity\":0.2}},\"type\":\"histogram\"}],\"histogram2d\":[{\"colorbar\":{\"outlinewidth\":0,\"ticks\":\"\"},\"colorscale\":[[0.0,\"#0d0887\"],[0.1111111111111111,\"#46039f\"],[0.2222222222222222,\"#7201a8\"],[0.3333333333333333,\"#9c179e\"],[0.4444444444444444,\"#bd3786\"],[0.5555555555555556,\"#d8576b\"],[0.6666666666666666,\"#ed7953\"],[0.7777777777777778,\"#fb9f3a\"],[0.8888888888888888,\"#fdca26\"],[1.0,\"#f0f921\"]],\"type\":\"histogram2d\"}],\"histogram2dcontour\":[{\"colorbar\":{\"outlinewidth\":0,\"ticks\":\"\"},\"colorscale\":[[0.0,\"#0d0887\"],[0.1111111111111111,\"#46039f\"],[0.2222222222222222,\"#7201a8\"],[0.3333333333333333,\"#9c179e\"],[0.4444444444444444,\"#bd3786\"],[0.5555555555555556,\"#d8576b\"],[0.6666666666666666,\"#ed7953\"],[0.7777777777777778,\"#fb9f3a\"],[0.8888888888888888,\"#fdca26\"],[1.0,\"#f0f921\"]],\"type\":\"histogram2dcontour\"}],\"mesh3d\":[{\"colorbar\":{\"outlinewidth\":0,\"ticks\":\"\"},\"type\":\"mesh3d\"}],\"parcoords\":[{\"line\":{\"colorbar\":{\"outlinewidth\":0,\"ticks\":\"\"}},\"type\":\"parcoords\"}],\"pie\":[{\"automargin\":true,\"type\":\"pie\"}],\"scatter\":[{\"marker\":{\"colorbar\":{\"outlinewidth\":0,\"ticks\":\"\"}},\"type\":\"scatter\"}],\"scatter3d\":[{\"line\":{\"colorbar\":{\"outlinewidth\":0,\"ticks\":\"\"}},\"marker\":{\"colorbar\":{\"outlinewidth\":0,\"ticks\":\"\"}},\"type\":\"scatter3d\"}],\"scattercarpet\":[{\"marker\":{\"colorbar\":{\"outlinewidth\":0,\"ticks\":\"\"}},\"type\":\"scattercarpet\"}],\"scattergeo\":[{\"marker\":{\"colorbar\":{\"outlinewidth\":0,\"ticks\":\"\"}},\"type\":\"scattergeo\"}],\"scattergl\":[{\"marker\":{\"colorbar\":{\"outlinewidth\":0,\"ticks\":\"\"}},\"type\":\"scattergl\"}],\"scattermapbox\":[{\"marker\":{\"colorbar\":{\"outlinewidth\":0,\"ticks\":\"\"}},\"type\":\"scattermapbox\"}],\"scatterpolar\":[{\"marker\":{\"colorbar\":{\"outlinewidth\":0,\"ticks\":\"\"}},\"type\":\"scatterpolar\"}],\"scatterpolargl\":[{\"marker\":{\"colorbar\":{\"outlinewidth\":0,\"ticks\":\"\"}},\"type\":\"scatterpolargl\"}],\"scatterternary\":[{\"marker\":{\"colorbar\":{\"outlinewidth\":0,\"ticks\":\"\"}},\"type\":\"scatterternary\"}],\"surface\":[{\"colorbar\":{\"outlinewidth\":0,\"ticks\":\"\"},\"colorscale\":[[0.0,\"#0d0887\"],[0.1111111111111111,\"#46039f\"],[0.2222222222222222,\"#7201a8\"],[0.3333333333333333,\"#9c179e\"],[0.4444444444444444,\"#bd3786\"],[0.5555555555555556,\"#d8576b\"],[0.6666666666666666,\"#ed7953\"],[0.7777777777777778,\"#fb9f3a\"],[0.8888888888888888,\"#fdca26\"],[1.0,\"#f0f921\"]],\"type\":\"surface\"}],\"table\":[{\"cells\":{\"fill\":{\"color\":\"#EBF0F8\"},\"line\":{\"color\":\"white\"}},\"header\":{\"fill\":{\"color\":\"#C8D4E3\"},\"line\":{\"color\":\"white\"}},\"type\":\"table\"}]},\"layout\":{\"annotationdefaults\":{\"arrowcolor\":\"#2a3f5f\",\"arrowhead\":0,\"arrowwidth\":1},\"autotypenumbers\":\"strict\",\"coloraxis\":{\"colorbar\":{\"outlinewidth\":0,\"ticks\":\"\"}},\"colorscale\":{\"diverging\":[[0,\"#8e0152\"],[0.1,\"#c51b7d\"],[0.2,\"#de77ae\"],[0.3,\"#f1b6da\"],[0.4,\"#fde0ef\"],[0.5,\"#f7f7f7\"],[0.6,\"#e6f5d0\"],[0.7,\"#b8e186\"],[0.8,\"#7fbc41\"],[0.9,\"#4d9221\"],[1,\"#276419\"]],\"sequential\":[[0.0,\"#0d0887\"],[0.1111111111111111,\"#46039f\"],[0.2222222222222222,\"#7201a8\"],[0.3333333333333333,\"#9c179e\"],[0.4444444444444444,\"#bd3786\"],[0.5555555555555556,\"#d8576b\"],[0.6666666666666666,\"#ed7953\"],[0.7777777777777778,\"#fb9f3a\"],[0.8888888888888888,\"#fdca26\"],[1.0,\"#f0f921\"]],\"sequentialminus\":[[0.0,\"#0d0887\"],[0.1111111111111111,\"#46039f\"],[0.2222222222222222,\"#7201a8\"],[0.3333333333333333,\"#9c179e\"],[0.4444444444444444,\"#bd3786\"],[0.5555555555555556,\"#d8576b\"],[0.6666666666666666,\"#ed7953\"],[0.7777777777777778,\"#fb9f3a\"],[0.8888888888888888,\"#fdca26\"],[1.0,\"#f0f921\"]]},\"colorway\":[\"#636efa\",\"#EF553B\",\"#00cc96\",\"#ab63fa\",\"#FFA15A\",\"#19d3f3\",\"#FF6692\",\"#B6E880\",\"#FF97FF\",\"#FECB52\"],\"font\":{\"color\":\"#2a3f5f\"},\"geo\":{\"bgcolor\":\"white\",\"lakecolor\":\"white\",\"landcolor\":\"#E5ECF6\",\"showlakes\":true,\"showland\":true,\"subunitcolor\":\"white\"},\"hoverlabel\":{\"align\":\"left\"},\"hovermode\":\"closest\",\"mapbox\":{\"style\":\"light\"},\"paper_bgcolor\":\"white\",\"plot_bgcolor\":\"#E5ECF6\",\"polar\":{\"angularaxis\":{\"gridcolor\":\"white\",\"linecolor\":\"white\",\"ticks\":\"\"},\"bgcolor\":\"#E5ECF6\",\"radialaxis\":{\"gridcolor\":\"white\",\"linecolor\":\"white\",\"ticks\":\"\"}},\"scene\":{\"xaxis\":{\"backgroundcolor\":\"#E5ECF6\",\"gridcolor\":\"white\",\"gridwidth\":2,\"linecolor\":\"white\",\"showbackground\":true,\"ticks\":\"\",\"zerolinecolor\":\"white\"},\"yaxis\":{\"backgroundcolor\":\"#E5ECF6\",\"gridcolor\":\"white\",\"gridwidth\":2,\"linecolor\":\"white\",\"showbackground\":true,\"ticks\":\"\",\"zerolinecolor\":\"white\"},\"zaxis\":{\"backgroundcolor\":\"#E5ECF6\",\"gridcolor\":\"white\",\"gridwidth\":2,\"linecolor\":\"white\",\"showbackground\":true,\"ticks\":\"\",\"zerolinecolor\":\"white\"}},\"shapedefaults\":{\"line\":{\"color\":\"#2a3f5f\"}},\"ternary\":{\"aaxis\":{\"gridcolor\":\"white\",\"linecolor\":\"white\",\"ticks\":\"\"},\"baxis\":{\"gridcolor\":\"white\",\"linecolor\":\"white\",\"ticks\":\"\"},\"bgcolor\":\"#E5ECF6\",\"caxis\":{\"gridcolor\":\"white\",\"linecolor\":\"white\",\"ticks\":\"\"}},\"title\":{\"x\":0.05},\"xaxis\":{\"automargin\":true,\"gridcolor\":\"white\",\"linecolor\":\"white\",\"ticks\":\"\",\"title\":{\"standoff\":15},\"zerolinecolor\":\"white\",\"zerolinewidth\":2},\"yaxis\":{\"automargin\":true,\"gridcolor\":\"white\",\"linecolor\":\"white\",\"ticks\":\"\",\"title\":{\"standoff\":15},\"zerolinecolor\":\"white\",\"zerolinewidth\":2}}},\"title\":{\"font\":{\"color\":\"#4D5663\"}},\"xaxis\":{\"gridcolor\":\"#E1E5ED\",\"showgrid\":true,\"tickfont\":{\"color\":\"#4D5663\"},\"title\":{\"font\":{\"color\":\"#4D5663\"},\"text\":\"\"},\"zerolinecolor\":\"#E1E5ED\"},\"xaxis2\":{\"anchor\":\"y2\",\"gridcolor\":\"#E1E5ED\",\"showgrid\":true,\"showticklabels\":false,\"tickfont\":{\"color\":\"#4D5663\"},\"title\":{\"font\":{\"color\":\"#4D5663\"},\"text\":\"\"},\"zerolinecolor\":\"#E1E5ED\"},\"yaxis\":{\"domain\":[0.3,1],\"gridcolor\":\"#E1E5ED\",\"showgrid\":true,\"tickfont\":{\"color\":\"#4D5663\"},\"title\":{\"font\":{\"color\":\"#4D5663\"},\"text\":\"\"},\"zerolinecolor\":\"#E1E5ED\"},\"yaxis2\":{\"domain\":[0,0.25],\"gridcolor\":\"#E1E5ED\",\"showgrid\":true,\"tickfont\":{\"color\":\"#4D5663\"},\"title\":{\"font\":{\"color\":\"#4D5663\"},\"text\":\"Spread\"},\"zerolinecolor\":\"#E1E5ED\"}},                        {\"showLink\": true, \"linkText\": \"Export to plot.ly\", \"plotlyServerURL\": \"https://plot.ly\", \"responsive\": true}                    ).then(function(){\n",
       "                            \n",
       "var gd = document.getElementById('9f851c2f-925e-44ed-9fd7-3d4a432376fa');\n",
       "var x = new MutationObserver(function (mutations, observer) {{\n",
       "        var display = window.getComputedStyle(gd).display;\n",
       "        if (!display || display === 'none') {{\n",
       "            console.log([gd, 'removed!']);\n",
       "            Plotly.purge(gd);\n",
       "            observer.disconnect();\n",
       "        }}\n",
       "}});\n",
       "\n",
       "// Listen for the removal of the full notebook cells\n",
       "var notebookContainer = gd.closest('#notebook-container');\n",
       "if (notebookContainer) {{\n",
       "    x.observe(notebookContainer, {childList: true});\n",
       "}}\n",
       "\n",
       "// Listen for the clearing of the current output cell\n",
       "var outputEl = gd.closest('.output');\n",
       "if (outputEl) {{\n",
       "    x.observe(outputEl, {childList: true});\n",
       "}}\n",
       "\n",
       "                        })                };                });            </script>        </div>"
      ]
     },
     "metadata": {},
     "output_type": "display_data"
    }
   ],
   "source": [
    "df[['A','B']].iplot(kind='spread')"
   ]
  },
  {
   "cell_type": "markdown",
   "metadata": {},
   "source": [
    "## histogram"
   ]
  },
  {
   "cell_type": "code",
   "execution_count": 16,
   "metadata": {},
   "outputs": [
    {
     "data": {
      "application/vnd.plotly.v1+json": {
       "config": {
        "linkText": "Export to plot.ly",
        "plotlyServerURL": "https://plot.ly",
        "showLink": true
       },
       "data": [
        {
         "histfunc": "count",
         "histnorm": "",
         "marker": {
          "color": "rgba(255, 153, 51, 1.0)",
          "line": {
           "color": "#4D5663",
           "width": 1.3
          }
         },
         "name": "A",
         "nbinsx": 25,
         "opacity": 0.8,
         "orientation": "v",
         "type": "histogram",
         "x": [
          -0.27040833546812526,
          0.08130777436700777,
          -1.5627852644492577,
          -0.2744888889596545,
          -1.3807402495046974,
          -1.0705351424149077,
          -0.16047191326162297,
          1.9623749326919784,
          -1.4202858087319434,
          2.2306646991131793,
          2.0627667605639965,
          1.2358806367189576,
          -1.1144160033347206,
          0.2994059231642462,
          -1.3266963971338253,
          1.8034253637887923,
          -0.35866694409300454,
          -1.5168651182538158,
          -1.7517193230369608,
          -0.24854489038284788,
          -2.222255950888016,
          0.12195369323667252,
          -0.10090638648858788,
          -0.504136111985515,
          0.10088071720688169,
          -0.5691650839899056,
          -0.5831979208412037,
          1.870526868030963,
          -0.25398962295793515,
          -1.656833141667139,
          1.9751752331136339,
          0.42665589389048614,
          -0.7644650057486119,
          -1.0233599523112271,
          -1.3845703080701453,
          0.41676864169067723,
          0.16981280033515242,
          0.49389738793836757,
          1.9257781977567854,
          -1.9400175631744279,
          0.29333967748775946,
          1.1949992629121038,
          1.7769411094382328,
          -1.190346737504172,
          0.9553895066266331,
          -1.1426015599282036,
          0.7412020578651592,
          -0.718753059965593,
          -0.29293769881028325,
          0.4930577439369678,
          2.033364404806609,
          -1.8125497966835704,
          -1.4380517678713847,
          1.236334802401583,
          -0.2586154547482286,
          0.5398863162595625,
          0.17836776996372666,
          1.6300719793180487,
          -0.22465116940657961,
          0.4885186677989896,
          -0.8833884064013457,
          1.170268817648967,
          0.2650250636641034,
          0.3156961523700967,
          -2.474040255852097,
          -0.4823510461733897,
          0.6573532491983424,
          0.8226913991345299,
          0.5439660427166113,
          -0.2696888547198674,
          0.39990067617553776,
          0.8491101899180467,
          -0.07909796630667584,
          0.3382709311856161,
          -1.1463729281094484,
          1.7081268085335908,
          -1.6807218958932753,
          -0.668745860074773,
          0.3296232163303582,
          -1.3700631306803732,
          -0.5545716005147747,
          0.21217891816467718,
          -0.1740626915183978,
          -1.056783359415874,
          0.7142458049435187,
          -2.0642262765582444,
          0.27159435271701843,
          0.9924352027785257,
          0.6128875502612596,
          0.5568687516548688,
          2.446638455078288,
          -0.34295262993624026,
          -0.9215212399706968,
          0.4678165045677442,
          -1.4417615042906229,
          -0.09719709420199353,
          -0.010013117800275152,
          0.1125921386452125,
          -0.5800638387253629,
          -0.5188581163623978
         ]
        }
       ],
       "layout": {
        "barmode": "overlay",
        "legend": {
         "bgcolor": "#F5F6F9",
         "font": {
          "color": "#4D5663"
         }
        },
        "paper_bgcolor": "#F5F6F9",
        "plot_bgcolor": "#F5F6F9",
        "template": {
         "data": {
          "bar": [
           {
            "error_x": {
             "color": "#2a3f5f"
            },
            "error_y": {
             "color": "#2a3f5f"
            },
            "marker": {
             "line": {
              "color": "#E5ECF6",
              "width": 0.5
             },
             "pattern": {
              "fillmode": "overlay",
              "size": 10,
              "solidity": 0.2
             }
            },
            "type": "bar"
           }
          ],
          "barpolar": [
           {
            "marker": {
             "line": {
              "color": "#E5ECF6",
              "width": 0.5
             },
             "pattern": {
              "fillmode": "overlay",
              "size": 10,
              "solidity": 0.2
             }
            },
            "type": "barpolar"
           }
          ],
          "carpet": [
           {
            "aaxis": {
             "endlinecolor": "#2a3f5f",
             "gridcolor": "white",
             "linecolor": "white",
             "minorgridcolor": "white",
             "startlinecolor": "#2a3f5f"
            },
            "baxis": {
             "endlinecolor": "#2a3f5f",
             "gridcolor": "white",
             "linecolor": "white",
             "minorgridcolor": "white",
             "startlinecolor": "#2a3f5f"
            },
            "type": "carpet"
           }
          ],
          "choropleth": [
           {
            "colorbar": {
             "outlinewidth": 0,
             "ticks": ""
            },
            "type": "choropleth"
           }
          ],
          "contour": [
           {
            "colorbar": {
             "outlinewidth": 0,
             "ticks": ""
            },
            "colorscale": [
             [
              0,
              "#0d0887"
             ],
             [
              0.1111111111111111,
              "#46039f"
             ],
             [
              0.2222222222222222,
              "#7201a8"
             ],
             [
              0.3333333333333333,
              "#9c179e"
             ],
             [
              0.4444444444444444,
              "#bd3786"
             ],
             [
              0.5555555555555556,
              "#d8576b"
             ],
             [
              0.6666666666666666,
              "#ed7953"
             ],
             [
              0.7777777777777778,
              "#fb9f3a"
             ],
             [
              0.8888888888888888,
              "#fdca26"
             ],
             [
              1,
              "#f0f921"
             ]
            ],
            "type": "contour"
           }
          ],
          "contourcarpet": [
           {
            "colorbar": {
             "outlinewidth": 0,
             "ticks": ""
            },
            "type": "contourcarpet"
           }
          ],
          "heatmap": [
           {
            "colorbar": {
             "outlinewidth": 0,
             "ticks": ""
            },
            "colorscale": [
             [
              0,
              "#0d0887"
             ],
             [
              0.1111111111111111,
              "#46039f"
             ],
             [
              0.2222222222222222,
              "#7201a8"
             ],
             [
              0.3333333333333333,
              "#9c179e"
             ],
             [
              0.4444444444444444,
              "#bd3786"
             ],
             [
              0.5555555555555556,
              "#d8576b"
             ],
             [
              0.6666666666666666,
              "#ed7953"
             ],
             [
              0.7777777777777778,
              "#fb9f3a"
             ],
             [
              0.8888888888888888,
              "#fdca26"
             ],
             [
              1,
              "#f0f921"
             ]
            ],
            "type": "heatmap"
           }
          ],
          "heatmapgl": [
           {
            "colorbar": {
             "outlinewidth": 0,
             "ticks": ""
            },
            "colorscale": [
             [
              0,
              "#0d0887"
             ],
             [
              0.1111111111111111,
              "#46039f"
             ],
             [
              0.2222222222222222,
              "#7201a8"
             ],
             [
              0.3333333333333333,
              "#9c179e"
             ],
             [
              0.4444444444444444,
              "#bd3786"
             ],
             [
              0.5555555555555556,
              "#d8576b"
             ],
             [
              0.6666666666666666,
              "#ed7953"
             ],
             [
              0.7777777777777778,
              "#fb9f3a"
             ],
             [
              0.8888888888888888,
              "#fdca26"
             ],
             [
              1,
              "#f0f921"
             ]
            ],
            "type": "heatmapgl"
           }
          ],
          "histogram": [
           {
            "marker": {
             "pattern": {
              "fillmode": "overlay",
              "size": 10,
              "solidity": 0.2
             }
            },
            "type": "histogram"
           }
          ],
          "histogram2d": [
           {
            "colorbar": {
             "outlinewidth": 0,
             "ticks": ""
            },
            "colorscale": [
             [
              0,
              "#0d0887"
             ],
             [
              0.1111111111111111,
              "#46039f"
             ],
             [
              0.2222222222222222,
              "#7201a8"
             ],
             [
              0.3333333333333333,
              "#9c179e"
             ],
             [
              0.4444444444444444,
              "#bd3786"
             ],
             [
              0.5555555555555556,
              "#d8576b"
             ],
             [
              0.6666666666666666,
              "#ed7953"
             ],
             [
              0.7777777777777778,
              "#fb9f3a"
             ],
             [
              0.8888888888888888,
              "#fdca26"
             ],
             [
              1,
              "#f0f921"
             ]
            ],
            "type": "histogram2d"
           }
          ],
          "histogram2dcontour": [
           {
            "colorbar": {
             "outlinewidth": 0,
             "ticks": ""
            },
            "colorscale": [
             [
              0,
              "#0d0887"
             ],
             [
              0.1111111111111111,
              "#46039f"
             ],
             [
              0.2222222222222222,
              "#7201a8"
             ],
             [
              0.3333333333333333,
              "#9c179e"
             ],
             [
              0.4444444444444444,
              "#bd3786"
             ],
             [
              0.5555555555555556,
              "#d8576b"
             ],
             [
              0.6666666666666666,
              "#ed7953"
             ],
             [
              0.7777777777777778,
              "#fb9f3a"
             ],
             [
              0.8888888888888888,
              "#fdca26"
             ],
             [
              1,
              "#f0f921"
             ]
            ],
            "type": "histogram2dcontour"
           }
          ],
          "mesh3d": [
           {
            "colorbar": {
             "outlinewidth": 0,
             "ticks": ""
            },
            "type": "mesh3d"
           }
          ],
          "parcoords": [
           {
            "line": {
             "colorbar": {
              "outlinewidth": 0,
              "ticks": ""
             }
            },
            "type": "parcoords"
           }
          ],
          "pie": [
           {
            "automargin": true,
            "type": "pie"
           }
          ],
          "scatter": [
           {
            "marker": {
             "colorbar": {
              "outlinewidth": 0,
              "ticks": ""
             }
            },
            "type": "scatter"
           }
          ],
          "scatter3d": [
           {
            "line": {
             "colorbar": {
              "outlinewidth": 0,
              "ticks": ""
             }
            },
            "marker": {
             "colorbar": {
              "outlinewidth": 0,
              "ticks": ""
             }
            },
            "type": "scatter3d"
           }
          ],
          "scattercarpet": [
           {
            "marker": {
             "colorbar": {
              "outlinewidth": 0,
              "ticks": ""
             }
            },
            "type": "scattercarpet"
           }
          ],
          "scattergeo": [
           {
            "marker": {
             "colorbar": {
              "outlinewidth": 0,
              "ticks": ""
             }
            },
            "type": "scattergeo"
           }
          ],
          "scattergl": [
           {
            "marker": {
             "colorbar": {
              "outlinewidth": 0,
              "ticks": ""
             }
            },
            "type": "scattergl"
           }
          ],
          "scattermapbox": [
           {
            "marker": {
             "colorbar": {
              "outlinewidth": 0,
              "ticks": ""
             }
            },
            "type": "scattermapbox"
           }
          ],
          "scatterpolar": [
           {
            "marker": {
             "colorbar": {
              "outlinewidth": 0,
              "ticks": ""
             }
            },
            "type": "scatterpolar"
           }
          ],
          "scatterpolargl": [
           {
            "marker": {
             "colorbar": {
              "outlinewidth": 0,
              "ticks": ""
             }
            },
            "type": "scatterpolargl"
           }
          ],
          "scatterternary": [
           {
            "marker": {
             "colorbar": {
              "outlinewidth": 0,
              "ticks": ""
             }
            },
            "type": "scatterternary"
           }
          ],
          "surface": [
           {
            "colorbar": {
             "outlinewidth": 0,
             "ticks": ""
            },
            "colorscale": [
             [
              0,
              "#0d0887"
             ],
             [
              0.1111111111111111,
              "#46039f"
             ],
             [
              0.2222222222222222,
              "#7201a8"
             ],
             [
              0.3333333333333333,
              "#9c179e"
             ],
             [
              0.4444444444444444,
              "#bd3786"
             ],
             [
              0.5555555555555556,
              "#d8576b"
             ],
             [
              0.6666666666666666,
              "#ed7953"
             ],
             [
              0.7777777777777778,
              "#fb9f3a"
             ],
             [
              0.8888888888888888,
              "#fdca26"
             ],
             [
              1,
              "#f0f921"
             ]
            ],
            "type": "surface"
           }
          ],
          "table": [
           {
            "cells": {
             "fill": {
              "color": "#EBF0F8"
             },
             "line": {
              "color": "white"
             }
            },
            "header": {
             "fill": {
              "color": "#C8D4E3"
             },
             "line": {
              "color": "white"
             }
            },
            "type": "table"
           }
          ]
         },
         "layout": {
          "annotationdefaults": {
           "arrowcolor": "#2a3f5f",
           "arrowhead": 0,
           "arrowwidth": 1
          },
          "autotypenumbers": "strict",
          "coloraxis": {
           "colorbar": {
            "outlinewidth": 0,
            "ticks": ""
           }
          },
          "colorscale": {
           "diverging": [
            [
             0,
             "#8e0152"
            ],
            [
             0.1,
             "#c51b7d"
            ],
            [
             0.2,
             "#de77ae"
            ],
            [
             0.3,
             "#f1b6da"
            ],
            [
             0.4,
             "#fde0ef"
            ],
            [
             0.5,
             "#f7f7f7"
            ],
            [
             0.6,
             "#e6f5d0"
            ],
            [
             0.7,
             "#b8e186"
            ],
            [
             0.8,
             "#7fbc41"
            ],
            [
             0.9,
             "#4d9221"
            ],
            [
             1,
             "#276419"
            ]
           ],
           "sequential": [
            [
             0,
             "#0d0887"
            ],
            [
             0.1111111111111111,
             "#46039f"
            ],
            [
             0.2222222222222222,
             "#7201a8"
            ],
            [
             0.3333333333333333,
             "#9c179e"
            ],
            [
             0.4444444444444444,
             "#bd3786"
            ],
            [
             0.5555555555555556,
             "#d8576b"
            ],
            [
             0.6666666666666666,
             "#ed7953"
            ],
            [
             0.7777777777777778,
             "#fb9f3a"
            ],
            [
             0.8888888888888888,
             "#fdca26"
            ],
            [
             1,
             "#f0f921"
            ]
           ],
           "sequentialminus": [
            [
             0,
             "#0d0887"
            ],
            [
             0.1111111111111111,
             "#46039f"
            ],
            [
             0.2222222222222222,
             "#7201a8"
            ],
            [
             0.3333333333333333,
             "#9c179e"
            ],
            [
             0.4444444444444444,
             "#bd3786"
            ],
            [
             0.5555555555555556,
             "#d8576b"
            ],
            [
             0.6666666666666666,
             "#ed7953"
            ],
            [
             0.7777777777777778,
             "#fb9f3a"
            ],
            [
             0.8888888888888888,
             "#fdca26"
            ],
            [
             1,
             "#f0f921"
            ]
           ]
          },
          "colorway": [
           "#636efa",
           "#EF553B",
           "#00cc96",
           "#ab63fa",
           "#FFA15A",
           "#19d3f3",
           "#FF6692",
           "#B6E880",
           "#FF97FF",
           "#FECB52"
          ],
          "font": {
           "color": "#2a3f5f"
          },
          "geo": {
           "bgcolor": "white",
           "lakecolor": "white",
           "landcolor": "#E5ECF6",
           "showlakes": true,
           "showland": true,
           "subunitcolor": "white"
          },
          "hoverlabel": {
           "align": "left"
          },
          "hovermode": "closest",
          "mapbox": {
           "style": "light"
          },
          "paper_bgcolor": "white",
          "plot_bgcolor": "#E5ECF6",
          "polar": {
           "angularaxis": {
            "gridcolor": "white",
            "linecolor": "white",
            "ticks": ""
           },
           "bgcolor": "#E5ECF6",
           "radialaxis": {
            "gridcolor": "white",
            "linecolor": "white",
            "ticks": ""
           }
          },
          "scene": {
           "xaxis": {
            "backgroundcolor": "#E5ECF6",
            "gridcolor": "white",
            "gridwidth": 2,
            "linecolor": "white",
            "showbackground": true,
            "ticks": "",
            "zerolinecolor": "white"
           },
           "yaxis": {
            "backgroundcolor": "#E5ECF6",
            "gridcolor": "white",
            "gridwidth": 2,
            "linecolor": "white",
            "showbackground": true,
            "ticks": "",
            "zerolinecolor": "white"
           },
           "zaxis": {
            "backgroundcolor": "#E5ECF6",
            "gridcolor": "white",
            "gridwidth": 2,
            "linecolor": "white",
            "showbackground": true,
            "ticks": "",
            "zerolinecolor": "white"
           }
          },
          "shapedefaults": {
           "line": {
            "color": "#2a3f5f"
           }
          },
          "ternary": {
           "aaxis": {
            "gridcolor": "white",
            "linecolor": "white",
            "ticks": ""
           },
           "baxis": {
            "gridcolor": "white",
            "linecolor": "white",
            "ticks": ""
           },
           "bgcolor": "#E5ECF6",
           "caxis": {
            "gridcolor": "white",
            "linecolor": "white",
            "ticks": ""
           }
          },
          "title": {
           "x": 0.05
          },
          "xaxis": {
           "automargin": true,
           "gridcolor": "white",
           "linecolor": "white",
           "ticks": "",
           "title": {
            "standoff": 15
           },
           "zerolinecolor": "white",
           "zerolinewidth": 2
          },
          "yaxis": {
           "automargin": true,
           "gridcolor": "white",
           "linecolor": "white",
           "ticks": "",
           "title": {
            "standoff": 15
           },
           "zerolinecolor": "white",
           "zerolinewidth": 2
          }
         }
        },
        "title": {
         "font": {
          "color": "#4D5663"
         }
        },
        "xaxis": {
         "gridcolor": "#E1E5ED",
         "showgrid": true,
         "tickfont": {
          "color": "#4D5663"
         },
         "title": {
          "font": {
           "color": "#4D5663"
          },
          "text": ""
         },
         "zerolinecolor": "#E1E5ED"
        },
        "yaxis": {
         "gridcolor": "#E1E5ED",
         "showgrid": true,
         "tickfont": {
          "color": "#4D5663"
         },
         "title": {
          "font": {
           "color": "#4D5663"
          },
          "text": ""
         },
         "zerolinecolor": "#E1E5ED"
        }
       }
      },
      "text/html": [
       "<div>                            <div id=\"698770eb-26c3-48b2-9295-66c310c7304b\" class=\"plotly-graph-div\" style=\"height:525px; width:100%;\"></div>            <script type=\"text/javascript\">                require([\"plotly\"], function(Plotly) {                    window.PLOTLYENV=window.PLOTLYENV || {};\n",
       "                    window.PLOTLYENV.BASE_URL='https://plot.ly';                                    if (document.getElementById(\"698770eb-26c3-48b2-9295-66c310c7304b\")) {                    Plotly.newPlot(                        \"698770eb-26c3-48b2-9295-66c310c7304b\",                        [{\"histfunc\":\"count\",\"histnorm\":\"\",\"marker\":{\"color\":\"rgba(255, 153, 51, 1.0)\",\"line\":{\"color\":\"#4D5663\",\"width\":1.3}},\"name\":\"A\",\"nbinsx\":25,\"opacity\":0.8,\"orientation\":\"v\",\"type\":\"histogram\",\"x\":[-0.27040833546812526,0.08130777436700777,-1.5627852644492577,-0.2744888889596545,-1.3807402495046974,-1.0705351424149077,-0.16047191326162297,1.9623749326919784,-1.4202858087319434,2.2306646991131793,2.0627667605639965,1.2358806367189576,-1.1144160033347206,0.2994059231642462,-1.3266963971338253,1.8034253637887923,-0.35866694409300454,-1.5168651182538158,-1.7517193230369608,-0.24854489038284788,-2.222255950888016,0.12195369323667252,-0.10090638648858788,-0.504136111985515,0.10088071720688169,-0.5691650839899056,-0.5831979208412037,1.870526868030963,-0.25398962295793515,-1.656833141667139,1.9751752331136339,0.42665589389048614,-0.7644650057486119,-1.0233599523112271,-1.3845703080701453,0.41676864169067723,0.16981280033515242,0.49389738793836757,1.9257781977567854,-1.9400175631744279,0.29333967748775946,1.1949992629121038,1.7769411094382328,-1.190346737504172,0.9553895066266331,-1.1426015599282036,0.7412020578651592,-0.718753059965593,-0.29293769881028325,0.4930577439369678,2.033364404806609,-1.8125497966835704,-1.4380517678713847,1.236334802401583,-0.2586154547482286,0.5398863162595625,0.17836776996372666,1.6300719793180487,-0.22465116940657961,0.4885186677989896,-0.8833884064013457,1.170268817648967,0.2650250636641034,0.3156961523700967,-2.474040255852097,-0.4823510461733897,0.6573532491983424,0.8226913991345299,0.5439660427166113,-0.2696888547198674,0.39990067617553776,0.8491101899180467,-0.07909796630667584,0.3382709311856161,-1.1463729281094484,1.7081268085335908,-1.6807218958932753,-0.668745860074773,0.3296232163303582,-1.3700631306803732,-0.5545716005147747,0.21217891816467718,-0.1740626915183978,-1.056783359415874,0.7142458049435187,-2.0642262765582444,0.27159435271701843,0.9924352027785257,0.6128875502612596,0.5568687516548688,2.446638455078288,-0.34295262993624026,-0.9215212399706968,0.4678165045677442,-1.4417615042906229,-0.09719709420199353,-0.010013117800275152,0.1125921386452125,-0.5800638387253629,-0.5188581163623978]}],                        {\"barmode\":\"overlay\",\"legend\":{\"bgcolor\":\"#F5F6F9\",\"font\":{\"color\":\"#4D5663\"}},\"paper_bgcolor\":\"#F5F6F9\",\"plot_bgcolor\":\"#F5F6F9\",\"template\":{\"data\":{\"bar\":[{\"error_x\":{\"color\":\"#2a3f5f\"},\"error_y\":{\"color\":\"#2a3f5f\"},\"marker\":{\"line\":{\"color\":\"#E5ECF6\",\"width\":0.5},\"pattern\":{\"fillmode\":\"overlay\",\"size\":10,\"solidity\":0.2}},\"type\":\"bar\"}],\"barpolar\":[{\"marker\":{\"line\":{\"color\":\"#E5ECF6\",\"width\":0.5},\"pattern\":{\"fillmode\":\"overlay\",\"size\":10,\"solidity\":0.2}},\"type\":\"barpolar\"}],\"carpet\":[{\"aaxis\":{\"endlinecolor\":\"#2a3f5f\",\"gridcolor\":\"white\",\"linecolor\":\"white\",\"minorgridcolor\":\"white\",\"startlinecolor\":\"#2a3f5f\"},\"baxis\":{\"endlinecolor\":\"#2a3f5f\",\"gridcolor\":\"white\",\"linecolor\":\"white\",\"minorgridcolor\":\"white\",\"startlinecolor\":\"#2a3f5f\"},\"type\":\"carpet\"}],\"choropleth\":[{\"colorbar\":{\"outlinewidth\":0,\"ticks\":\"\"},\"type\":\"choropleth\"}],\"contour\":[{\"colorbar\":{\"outlinewidth\":0,\"ticks\":\"\"},\"colorscale\":[[0.0,\"#0d0887\"],[0.1111111111111111,\"#46039f\"],[0.2222222222222222,\"#7201a8\"],[0.3333333333333333,\"#9c179e\"],[0.4444444444444444,\"#bd3786\"],[0.5555555555555556,\"#d8576b\"],[0.6666666666666666,\"#ed7953\"],[0.7777777777777778,\"#fb9f3a\"],[0.8888888888888888,\"#fdca26\"],[1.0,\"#f0f921\"]],\"type\":\"contour\"}],\"contourcarpet\":[{\"colorbar\":{\"outlinewidth\":0,\"ticks\":\"\"},\"type\":\"contourcarpet\"}],\"heatmap\":[{\"colorbar\":{\"outlinewidth\":0,\"ticks\":\"\"},\"colorscale\":[[0.0,\"#0d0887\"],[0.1111111111111111,\"#46039f\"],[0.2222222222222222,\"#7201a8\"],[0.3333333333333333,\"#9c179e\"],[0.4444444444444444,\"#bd3786\"],[0.5555555555555556,\"#d8576b\"],[0.6666666666666666,\"#ed7953\"],[0.7777777777777778,\"#fb9f3a\"],[0.8888888888888888,\"#fdca26\"],[1.0,\"#f0f921\"]],\"type\":\"heatmap\"}],\"heatmapgl\":[{\"colorbar\":{\"outlinewidth\":0,\"ticks\":\"\"},\"colorscale\":[[0.0,\"#0d0887\"],[0.1111111111111111,\"#46039f\"],[0.2222222222222222,\"#7201a8\"],[0.3333333333333333,\"#9c179e\"],[0.4444444444444444,\"#bd3786\"],[0.5555555555555556,\"#d8576b\"],[0.6666666666666666,\"#ed7953\"],[0.7777777777777778,\"#fb9f3a\"],[0.8888888888888888,\"#fdca26\"],[1.0,\"#f0f921\"]],\"type\":\"heatmapgl\"}],\"histogram\":[{\"marker\":{\"pattern\":{\"fillmode\":\"overlay\",\"size\":10,\"solidity\":0.2}},\"type\":\"histogram\"}],\"histogram2d\":[{\"colorbar\":{\"outlinewidth\":0,\"ticks\":\"\"},\"colorscale\":[[0.0,\"#0d0887\"],[0.1111111111111111,\"#46039f\"],[0.2222222222222222,\"#7201a8\"],[0.3333333333333333,\"#9c179e\"],[0.4444444444444444,\"#bd3786\"],[0.5555555555555556,\"#d8576b\"],[0.6666666666666666,\"#ed7953\"],[0.7777777777777778,\"#fb9f3a\"],[0.8888888888888888,\"#fdca26\"],[1.0,\"#f0f921\"]],\"type\":\"histogram2d\"}],\"histogram2dcontour\":[{\"colorbar\":{\"outlinewidth\":0,\"ticks\":\"\"},\"colorscale\":[[0.0,\"#0d0887\"],[0.1111111111111111,\"#46039f\"],[0.2222222222222222,\"#7201a8\"],[0.3333333333333333,\"#9c179e\"],[0.4444444444444444,\"#bd3786\"],[0.5555555555555556,\"#d8576b\"],[0.6666666666666666,\"#ed7953\"],[0.7777777777777778,\"#fb9f3a\"],[0.8888888888888888,\"#fdca26\"],[1.0,\"#f0f921\"]],\"type\":\"histogram2dcontour\"}],\"mesh3d\":[{\"colorbar\":{\"outlinewidth\":0,\"ticks\":\"\"},\"type\":\"mesh3d\"}],\"parcoords\":[{\"line\":{\"colorbar\":{\"outlinewidth\":0,\"ticks\":\"\"}},\"type\":\"parcoords\"}],\"pie\":[{\"automargin\":true,\"type\":\"pie\"}],\"scatter\":[{\"marker\":{\"colorbar\":{\"outlinewidth\":0,\"ticks\":\"\"}},\"type\":\"scatter\"}],\"scatter3d\":[{\"line\":{\"colorbar\":{\"outlinewidth\":0,\"ticks\":\"\"}},\"marker\":{\"colorbar\":{\"outlinewidth\":0,\"ticks\":\"\"}},\"type\":\"scatter3d\"}],\"scattercarpet\":[{\"marker\":{\"colorbar\":{\"outlinewidth\":0,\"ticks\":\"\"}},\"type\":\"scattercarpet\"}],\"scattergeo\":[{\"marker\":{\"colorbar\":{\"outlinewidth\":0,\"ticks\":\"\"}},\"type\":\"scattergeo\"}],\"scattergl\":[{\"marker\":{\"colorbar\":{\"outlinewidth\":0,\"ticks\":\"\"}},\"type\":\"scattergl\"}],\"scattermapbox\":[{\"marker\":{\"colorbar\":{\"outlinewidth\":0,\"ticks\":\"\"}},\"type\":\"scattermapbox\"}],\"scatterpolar\":[{\"marker\":{\"colorbar\":{\"outlinewidth\":0,\"ticks\":\"\"}},\"type\":\"scatterpolar\"}],\"scatterpolargl\":[{\"marker\":{\"colorbar\":{\"outlinewidth\":0,\"ticks\":\"\"}},\"type\":\"scatterpolargl\"}],\"scatterternary\":[{\"marker\":{\"colorbar\":{\"outlinewidth\":0,\"ticks\":\"\"}},\"type\":\"scatterternary\"}],\"surface\":[{\"colorbar\":{\"outlinewidth\":0,\"ticks\":\"\"},\"colorscale\":[[0.0,\"#0d0887\"],[0.1111111111111111,\"#46039f\"],[0.2222222222222222,\"#7201a8\"],[0.3333333333333333,\"#9c179e\"],[0.4444444444444444,\"#bd3786\"],[0.5555555555555556,\"#d8576b\"],[0.6666666666666666,\"#ed7953\"],[0.7777777777777778,\"#fb9f3a\"],[0.8888888888888888,\"#fdca26\"],[1.0,\"#f0f921\"]],\"type\":\"surface\"}],\"table\":[{\"cells\":{\"fill\":{\"color\":\"#EBF0F8\"},\"line\":{\"color\":\"white\"}},\"header\":{\"fill\":{\"color\":\"#C8D4E3\"},\"line\":{\"color\":\"white\"}},\"type\":\"table\"}]},\"layout\":{\"annotationdefaults\":{\"arrowcolor\":\"#2a3f5f\",\"arrowhead\":0,\"arrowwidth\":1},\"autotypenumbers\":\"strict\",\"coloraxis\":{\"colorbar\":{\"outlinewidth\":0,\"ticks\":\"\"}},\"colorscale\":{\"diverging\":[[0,\"#8e0152\"],[0.1,\"#c51b7d\"],[0.2,\"#de77ae\"],[0.3,\"#f1b6da\"],[0.4,\"#fde0ef\"],[0.5,\"#f7f7f7\"],[0.6,\"#e6f5d0\"],[0.7,\"#b8e186\"],[0.8,\"#7fbc41\"],[0.9,\"#4d9221\"],[1,\"#276419\"]],\"sequential\":[[0.0,\"#0d0887\"],[0.1111111111111111,\"#46039f\"],[0.2222222222222222,\"#7201a8\"],[0.3333333333333333,\"#9c179e\"],[0.4444444444444444,\"#bd3786\"],[0.5555555555555556,\"#d8576b\"],[0.6666666666666666,\"#ed7953\"],[0.7777777777777778,\"#fb9f3a\"],[0.8888888888888888,\"#fdca26\"],[1.0,\"#f0f921\"]],\"sequentialminus\":[[0.0,\"#0d0887\"],[0.1111111111111111,\"#46039f\"],[0.2222222222222222,\"#7201a8\"],[0.3333333333333333,\"#9c179e\"],[0.4444444444444444,\"#bd3786\"],[0.5555555555555556,\"#d8576b\"],[0.6666666666666666,\"#ed7953\"],[0.7777777777777778,\"#fb9f3a\"],[0.8888888888888888,\"#fdca26\"],[1.0,\"#f0f921\"]]},\"colorway\":[\"#636efa\",\"#EF553B\",\"#00cc96\",\"#ab63fa\",\"#FFA15A\",\"#19d3f3\",\"#FF6692\",\"#B6E880\",\"#FF97FF\",\"#FECB52\"],\"font\":{\"color\":\"#2a3f5f\"},\"geo\":{\"bgcolor\":\"white\",\"lakecolor\":\"white\",\"landcolor\":\"#E5ECF6\",\"showlakes\":true,\"showland\":true,\"subunitcolor\":\"white\"},\"hoverlabel\":{\"align\":\"left\"},\"hovermode\":\"closest\",\"mapbox\":{\"style\":\"light\"},\"paper_bgcolor\":\"white\",\"plot_bgcolor\":\"#E5ECF6\",\"polar\":{\"angularaxis\":{\"gridcolor\":\"white\",\"linecolor\":\"white\",\"ticks\":\"\"},\"bgcolor\":\"#E5ECF6\",\"radialaxis\":{\"gridcolor\":\"white\",\"linecolor\":\"white\",\"ticks\":\"\"}},\"scene\":{\"xaxis\":{\"backgroundcolor\":\"#E5ECF6\",\"gridcolor\":\"white\",\"gridwidth\":2,\"linecolor\":\"white\",\"showbackground\":true,\"ticks\":\"\",\"zerolinecolor\":\"white\"},\"yaxis\":{\"backgroundcolor\":\"#E5ECF6\",\"gridcolor\":\"white\",\"gridwidth\":2,\"linecolor\":\"white\",\"showbackground\":true,\"ticks\":\"\",\"zerolinecolor\":\"white\"},\"zaxis\":{\"backgroundcolor\":\"#E5ECF6\",\"gridcolor\":\"white\",\"gridwidth\":2,\"linecolor\":\"white\",\"showbackground\":true,\"ticks\":\"\",\"zerolinecolor\":\"white\"}},\"shapedefaults\":{\"line\":{\"color\":\"#2a3f5f\"}},\"ternary\":{\"aaxis\":{\"gridcolor\":\"white\",\"linecolor\":\"white\",\"ticks\":\"\"},\"baxis\":{\"gridcolor\":\"white\",\"linecolor\":\"white\",\"ticks\":\"\"},\"bgcolor\":\"#E5ECF6\",\"caxis\":{\"gridcolor\":\"white\",\"linecolor\":\"white\",\"ticks\":\"\"}},\"title\":{\"x\":0.05},\"xaxis\":{\"automargin\":true,\"gridcolor\":\"white\",\"linecolor\":\"white\",\"ticks\":\"\",\"title\":{\"standoff\":15},\"zerolinecolor\":\"white\",\"zerolinewidth\":2},\"yaxis\":{\"automargin\":true,\"gridcolor\":\"white\",\"linecolor\":\"white\",\"ticks\":\"\",\"title\":{\"standoff\":15},\"zerolinecolor\":\"white\",\"zerolinewidth\":2}}},\"title\":{\"font\":{\"color\":\"#4D5663\"}},\"xaxis\":{\"gridcolor\":\"#E1E5ED\",\"showgrid\":true,\"tickfont\":{\"color\":\"#4D5663\"},\"title\":{\"font\":{\"color\":\"#4D5663\"},\"text\":\"\"},\"zerolinecolor\":\"#E1E5ED\"},\"yaxis\":{\"gridcolor\":\"#E1E5ED\",\"showgrid\":true,\"tickfont\":{\"color\":\"#4D5663\"},\"title\":{\"font\":{\"color\":\"#4D5663\"},\"text\":\"\"},\"zerolinecolor\":\"#E1E5ED\"}},                        {\"showLink\": true, \"linkText\": \"Export to plot.ly\", \"plotlyServerURL\": \"https://plot.ly\", \"responsive\": true}                    ).then(function(){\n",
       "                            \n",
       "var gd = document.getElementById('698770eb-26c3-48b2-9295-66c310c7304b');\n",
       "var x = new MutationObserver(function (mutations, observer) {{\n",
       "        var display = window.getComputedStyle(gd).display;\n",
       "        if (!display || display === 'none') {{\n",
       "            console.log([gd, 'removed!']);\n",
       "            Plotly.purge(gd);\n",
       "            observer.disconnect();\n",
       "        }}\n",
       "}});\n",
       "\n",
       "// Listen for the removal of the full notebook cells\n",
       "var notebookContainer = gd.closest('#notebook-container');\n",
       "if (notebookContainer) {{\n",
       "    x.observe(notebookContainer, {childList: true});\n",
       "}}\n",
       "\n",
       "// Listen for the clearing of the current output cell\n",
       "var outputEl = gd.closest('.output');\n",
       "if (outputEl) {{\n",
       "    x.observe(outputEl, {childList: true});\n",
       "}}\n",
       "\n",
       "                        })                };                });            </script>        </div>"
      ]
     },
     "metadata": {},
     "output_type": "display_data"
    }
   ],
   "source": [
    "df['A'].iplot(kind='hist',bins=25)"
   ]
  },
  {
   "cell_type": "code",
   "execution_count": 17,
   "metadata": {},
   "outputs": [
    {
     "data": {
      "application/vnd.plotly.v1+json": {
       "config": {
        "linkText": "Export to plot.ly",
        "plotlyServerURL": "https://plot.ly",
        "showLink": true
       },
       "data": [
        {
         "marker": {
          "color": [
           "rgb(255, 153, 51)",
           "rgb(55, 128, 191)",
           "rgb(50, 171, 96)",
           "rgb(128, 0, 128)",
           "rgb(219, 64, 82)",
           "rgb(0, 128, 128)",
           "rgb(255, 255, 51)",
           "rgb(128, 128, 0)",
           "rgb(251, 128, 114)",
           "rgb(128, 177, 211)"
          ],
          "line": {
           "width": 1.3
          },
          "size": [
           75,
           89,
           64,
           35,
           30,
           71,
           65,
           34,
           48,
           65,
           112,
           54,
           77,
           75,
           12,
           66,
           51,
           37,
           49,
           37,
           54,
           47,
           27,
           78,
           52,
           83,
           65,
           56,
           38,
           46,
           68,
           67,
           67,
           88,
           60,
           82,
           58,
           66,
           64,
           64,
           21,
           36,
           79,
           72,
           53,
           35,
           12,
           66,
           45,
           24,
           69,
           79,
           63,
           72,
           45,
           47,
           87,
           58,
           33,
           53,
           63,
           69,
           72,
           64,
           44,
           76,
           64,
           42,
           40,
           77,
           35,
           67,
           48,
           72,
           64,
           37,
           51,
           51,
           83,
           72,
           75,
           42,
           67,
           30,
           31,
           45,
           43,
           67,
           59,
           24,
           71,
           27,
           25,
           78,
           48,
           53,
           70,
           32,
           28,
           70
          ],
          "symbol": "circle"
         },
         "mode": "markers",
         "text": "",
         "type": "scatter",
         "x": [
          -0.27040833546812526,
          0.08130777436700777,
          -1.5627852644492577,
          -0.2744888889596545,
          -1.3807402495046974,
          -1.0705351424149077,
          -0.16047191326162297,
          1.9623749326919784,
          -1.4202858087319434,
          2.2306646991131793,
          2.0627667605639965,
          1.2358806367189576,
          -1.1144160033347206,
          0.2994059231642462,
          -1.3266963971338253,
          1.8034253637887923,
          -0.35866694409300454,
          -1.5168651182538158,
          -1.7517193230369608,
          -0.24854489038284788,
          -2.222255950888016,
          0.12195369323667252,
          -0.10090638648858788,
          -0.504136111985515,
          0.10088071720688169,
          -0.5691650839899056,
          -0.5831979208412037,
          1.870526868030963,
          -0.25398962295793515,
          -1.656833141667139,
          1.9751752331136339,
          0.42665589389048614,
          -0.7644650057486119,
          -1.0233599523112271,
          -1.3845703080701453,
          0.41676864169067723,
          0.16981280033515242,
          0.49389738793836757,
          1.9257781977567854,
          -1.9400175631744279,
          0.29333967748775946,
          1.1949992629121038,
          1.7769411094382328,
          -1.190346737504172,
          0.9553895066266331,
          -1.1426015599282036,
          0.7412020578651592,
          -0.718753059965593,
          -0.29293769881028325,
          0.4930577439369678,
          2.033364404806609,
          -1.8125497966835704,
          -1.4380517678713847,
          1.236334802401583,
          -0.2586154547482286,
          0.5398863162595625,
          0.17836776996372666,
          1.6300719793180487,
          -0.22465116940657961,
          0.4885186677989896,
          -0.8833884064013457,
          1.170268817648967,
          0.2650250636641034,
          0.3156961523700967,
          -2.474040255852097,
          -0.4823510461733897,
          0.6573532491983424,
          0.8226913991345299,
          0.5439660427166113,
          -0.2696888547198674,
          0.39990067617553776,
          0.8491101899180467,
          -0.07909796630667584,
          0.3382709311856161,
          -1.1463729281094484,
          1.7081268085335908,
          -1.6807218958932753,
          -0.668745860074773,
          0.3296232163303582,
          -1.3700631306803732,
          -0.5545716005147747,
          0.21217891816467718,
          -0.1740626915183978,
          -1.056783359415874,
          0.7142458049435187,
          -2.0642262765582444,
          0.27159435271701843,
          0.9924352027785257,
          0.6128875502612596,
          0.5568687516548688,
          2.446638455078288,
          -0.34295262993624026,
          -0.9215212399706968,
          0.4678165045677442,
          -1.4417615042906229,
          -0.09719709420199353,
          -0.010013117800275152,
          0.1125921386452125,
          -0.5800638387253629,
          -0.5188581163623978
         ],
         "y": [
          -1.206321705433643,
          -2.33119734708676,
          -1.182119721197647,
          0.5773891617232305,
          -0.23432507005351813,
          -0.33395607587489534,
          0.206606394431684,
          -1.041828054565952,
          1.3164705542026072,
          -0.3428669411158307,
          -1.3454064001519515,
          0.7559465164801712,
          -0.20794749416715222,
          -0.6135328159991182,
          -0.380069037972439,
          3.1611795222845105,
          -1.6728132085396286,
          0.34805445029216153,
          1.0256277741515756,
          0.34200518443172706,
          0.49253049523123815,
          -1.595301032000479,
          0.3949717712068479,
          -0.32157059990925524,
          -0.40680443581217035,
          1.1966551165712613,
          0.2822399390536095,
          -0.07775636065641416,
          2.0377626551843737,
          1.3050807025804394,
          -0.28412285719843405,
          0.1116067496020979,
          1.4014929565079186,
          -2.4319952476680715,
          -1.1037745990460548,
          -0.3226779481808536,
          -0.06624380072375628,
          -0.5081440222449597,
          -1.0079721004480366,
          -0.06359935585586599,
          1.225085723673325,
          1.3585351275230693,
          0.3418412205279284,
          -0.8430366362011602,
          0.5224342649477417,
          1.452293858051099,
          1.308642822045769,
          0.619401294147941,
          -1.3609801136045452,
          -0.3332084882878469,
          0.9667782591878893,
          0.2968612966065134,
          -0.8685699543749293,
          0.18433284499816469,
          0.21945059201802256,
          -1.4431518392390728,
          -0.16480929714894385,
          -0.1996466897872002,
          -0.34421042679753155,
          0.45874701039062454,
          -0.5070164171680562,
          0.49201585115563534,
          -1.0272281434830408,
          -1.5902113658293175,
          -0.5110555615220798,
          0.6581034463984738,
          -0.23930294622141307,
          0.5734181543602594,
          0.5167216386232102,
          -0.662434940080114,
          -1.5882504358026166,
          -2.1259339712737955,
          0.837815556214329,
          0.931612326906073,
          0.4739417943881084,
          0.3971628453935395,
          -0.5817596203921983,
          0.12431145539047427,
          -0.822088277727843,
          -0.6728033271307247,
          -0.2859862738040538,
          0.8261242575548362,
          -0.1816970175088003,
          -0.2496242561234655,
          -0.7310916260125805,
          0.6154621974695837,
          0.07629516436952173,
          -2.270041324967681,
          -1.4687126790095575,
          -1.5740038344701714,
          0.3235234457986203,
          0.5341581155124593,
          0.6843101770613879,
          -0.22662260918441646,
          -2.086501049960337,
          0.13829808199979346,
          -0.6283587315638484,
          0.4351463049605794,
          0.09700349246400516,
          -0.9387115293797964
         ]
        }
       ],
       "layout": {
        "legend": {
         "bgcolor": "#F5F6F9",
         "font": {
          "color": "#4D5663"
         }
        },
        "paper_bgcolor": "#F5F6F9",
        "plot_bgcolor": "#F5F6F9",
        "template": {
         "data": {
          "bar": [
           {
            "error_x": {
             "color": "#2a3f5f"
            },
            "error_y": {
             "color": "#2a3f5f"
            },
            "marker": {
             "line": {
              "color": "#E5ECF6",
              "width": 0.5
             },
             "pattern": {
              "fillmode": "overlay",
              "size": 10,
              "solidity": 0.2
             }
            },
            "type": "bar"
           }
          ],
          "barpolar": [
           {
            "marker": {
             "line": {
              "color": "#E5ECF6",
              "width": 0.5
             },
             "pattern": {
              "fillmode": "overlay",
              "size": 10,
              "solidity": 0.2
             }
            },
            "type": "barpolar"
           }
          ],
          "carpet": [
           {
            "aaxis": {
             "endlinecolor": "#2a3f5f",
             "gridcolor": "white",
             "linecolor": "white",
             "minorgridcolor": "white",
             "startlinecolor": "#2a3f5f"
            },
            "baxis": {
             "endlinecolor": "#2a3f5f",
             "gridcolor": "white",
             "linecolor": "white",
             "minorgridcolor": "white",
             "startlinecolor": "#2a3f5f"
            },
            "type": "carpet"
           }
          ],
          "choropleth": [
           {
            "colorbar": {
             "outlinewidth": 0,
             "ticks": ""
            },
            "type": "choropleth"
           }
          ],
          "contour": [
           {
            "colorbar": {
             "outlinewidth": 0,
             "ticks": ""
            },
            "colorscale": [
             [
              0,
              "#0d0887"
             ],
             [
              0.1111111111111111,
              "#46039f"
             ],
             [
              0.2222222222222222,
              "#7201a8"
             ],
             [
              0.3333333333333333,
              "#9c179e"
             ],
             [
              0.4444444444444444,
              "#bd3786"
             ],
             [
              0.5555555555555556,
              "#d8576b"
             ],
             [
              0.6666666666666666,
              "#ed7953"
             ],
             [
              0.7777777777777778,
              "#fb9f3a"
             ],
             [
              0.8888888888888888,
              "#fdca26"
             ],
             [
              1,
              "#f0f921"
             ]
            ],
            "type": "contour"
           }
          ],
          "contourcarpet": [
           {
            "colorbar": {
             "outlinewidth": 0,
             "ticks": ""
            },
            "type": "contourcarpet"
           }
          ],
          "heatmap": [
           {
            "colorbar": {
             "outlinewidth": 0,
             "ticks": ""
            },
            "colorscale": [
             [
              0,
              "#0d0887"
             ],
             [
              0.1111111111111111,
              "#46039f"
             ],
             [
              0.2222222222222222,
              "#7201a8"
             ],
             [
              0.3333333333333333,
              "#9c179e"
             ],
             [
              0.4444444444444444,
              "#bd3786"
             ],
             [
              0.5555555555555556,
              "#d8576b"
             ],
             [
              0.6666666666666666,
              "#ed7953"
             ],
             [
              0.7777777777777778,
              "#fb9f3a"
             ],
             [
              0.8888888888888888,
              "#fdca26"
             ],
             [
              1,
              "#f0f921"
             ]
            ],
            "type": "heatmap"
           }
          ],
          "heatmapgl": [
           {
            "colorbar": {
             "outlinewidth": 0,
             "ticks": ""
            },
            "colorscale": [
             [
              0,
              "#0d0887"
             ],
             [
              0.1111111111111111,
              "#46039f"
             ],
             [
              0.2222222222222222,
              "#7201a8"
             ],
             [
              0.3333333333333333,
              "#9c179e"
             ],
             [
              0.4444444444444444,
              "#bd3786"
             ],
             [
              0.5555555555555556,
              "#d8576b"
             ],
             [
              0.6666666666666666,
              "#ed7953"
             ],
             [
              0.7777777777777778,
              "#fb9f3a"
             ],
             [
              0.8888888888888888,
              "#fdca26"
             ],
             [
              1,
              "#f0f921"
             ]
            ],
            "type": "heatmapgl"
           }
          ],
          "histogram": [
           {
            "marker": {
             "pattern": {
              "fillmode": "overlay",
              "size": 10,
              "solidity": 0.2
             }
            },
            "type": "histogram"
           }
          ],
          "histogram2d": [
           {
            "colorbar": {
             "outlinewidth": 0,
             "ticks": ""
            },
            "colorscale": [
             [
              0,
              "#0d0887"
             ],
             [
              0.1111111111111111,
              "#46039f"
             ],
             [
              0.2222222222222222,
              "#7201a8"
             ],
             [
              0.3333333333333333,
              "#9c179e"
             ],
             [
              0.4444444444444444,
              "#bd3786"
             ],
             [
              0.5555555555555556,
              "#d8576b"
             ],
             [
              0.6666666666666666,
              "#ed7953"
             ],
             [
              0.7777777777777778,
              "#fb9f3a"
             ],
             [
              0.8888888888888888,
              "#fdca26"
             ],
             [
              1,
              "#f0f921"
             ]
            ],
            "type": "histogram2d"
           }
          ],
          "histogram2dcontour": [
           {
            "colorbar": {
             "outlinewidth": 0,
             "ticks": ""
            },
            "colorscale": [
             [
              0,
              "#0d0887"
             ],
             [
              0.1111111111111111,
              "#46039f"
             ],
             [
              0.2222222222222222,
              "#7201a8"
             ],
             [
              0.3333333333333333,
              "#9c179e"
             ],
             [
              0.4444444444444444,
              "#bd3786"
             ],
             [
              0.5555555555555556,
              "#d8576b"
             ],
             [
              0.6666666666666666,
              "#ed7953"
             ],
             [
              0.7777777777777778,
              "#fb9f3a"
             ],
             [
              0.8888888888888888,
              "#fdca26"
             ],
             [
              1,
              "#f0f921"
             ]
            ],
            "type": "histogram2dcontour"
           }
          ],
          "mesh3d": [
           {
            "colorbar": {
             "outlinewidth": 0,
             "ticks": ""
            },
            "type": "mesh3d"
           }
          ],
          "parcoords": [
           {
            "line": {
             "colorbar": {
              "outlinewidth": 0,
              "ticks": ""
             }
            },
            "type": "parcoords"
           }
          ],
          "pie": [
           {
            "automargin": true,
            "type": "pie"
           }
          ],
          "scatter": [
           {
            "marker": {
             "colorbar": {
              "outlinewidth": 0,
              "ticks": ""
             }
            },
            "type": "scatter"
           }
          ],
          "scatter3d": [
           {
            "line": {
             "colorbar": {
              "outlinewidth": 0,
              "ticks": ""
             }
            },
            "marker": {
             "colorbar": {
              "outlinewidth": 0,
              "ticks": ""
             }
            },
            "type": "scatter3d"
           }
          ],
          "scattercarpet": [
           {
            "marker": {
             "colorbar": {
              "outlinewidth": 0,
              "ticks": ""
             }
            },
            "type": "scattercarpet"
           }
          ],
          "scattergeo": [
           {
            "marker": {
             "colorbar": {
              "outlinewidth": 0,
              "ticks": ""
             }
            },
            "type": "scattergeo"
           }
          ],
          "scattergl": [
           {
            "marker": {
             "colorbar": {
              "outlinewidth": 0,
              "ticks": ""
             }
            },
            "type": "scattergl"
           }
          ],
          "scattermapbox": [
           {
            "marker": {
             "colorbar": {
              "outlinewidth": 0,
              "ticks": ""
             }
            },
            "type": "scattermapbox"
           }
          ],
          "scatterpolar": [
           {
            "marker": {
             "colorbar": {
              "outlinewidth": 0,
              "ticks": ""
             }
            },
            "type": "scatterpolar"
           }
          ],
          "scatterpolargl": [
           {
            "marker": {
             "colorbar": {
              "outlinewidth": 0,
              "ticks": ""
             }
            },
            "type": "scatterpolargl"
           }
          ],
          "scatterternary": [
           {
            "marker": {
             "colorbar": {
              "outlinewidth": 0,
              "ticks": ""
             }
            },
            "type": "scatterternary"
           }
          ],
          "surface": [
           {
            "colorbar": {
             "outlinewidth": 0,
             "ticks": ""
            },
            "colorscale": [
             [
              0,
              "#0d0887"
             ],
             [
              0.1111111111111111,
              "#46039f"
             ],
             [
              0.2222222222222222,
              "#7201a8"
             ],
             [
              0.3333333333333333,
              "#9c179e"
             ],
             [
              0.4444444444444444,
              "#bd3786"
             ],
             [
              0.5555555555555556,
              "#d8576b"
             ],
             [
              0.6666666666666666,
              "#ed7953"
             ],
             [
              0.7777777777777778,
              "#fb9f3a"
             ],
             [
              0.8888888888888888,
              "#fdca26"
             ],
             [
              1,
              "#f0f921"
             ]
            ],
            "type": "surface"
           }
          ],
          "table": [
           {
            "cells": {
             "fill": {
              "color": "#EBF0F8"
             },
             "line": {
              "color": "white"
             }
            },
            "header": {
             "fill": {
              "color": "#C8D4E3"
             },
             "line": {
              "color": "white"
             }
            },
            "type": "table"
           }
          ]
         },
         "layout": {
          "annotationdefaults": {
           "arrowcolor": "#2a3f5f",
           "arrowhead": 0,
           "arrowwidth": 1
          },
          "autotypenumbers": "strict",
          "coloraxis": {
           "colorbar": {
            "outlinewidth": 0,
            "ticks": ""
           }
          },
          "colorscale": {
           "diverging": [
            [
             0,
             "#8e0152"
            ],
            [
             0.1,
             "#c51b7d"
            ],
            [
             0.2,
             "#de77ae"
            ],
            [
             0.3,
             "#f1b6da"
            ],
            [
             0.4,
             "#fde0ef"
            ],
            [
             0.5,
             "#f7f7f7"
            ],
            [
             0.6,
             "#e6f5d0"
            ],
            [
             0.7,
             "#b8e186"
            ],
            [
             0.8,
             "#7fbc41"
            ],
            [
             0.9,
             "#4d9221"
            ],
            [
             1,
             "#276419"
            ]
           ],
           "sequential": [
            [
             0,
             "#0d0887"
            ],
            [
             0.1111111111111111,
             "#46039f"
            ],
            [
             0.2222222222222222,
             "#7201a8"
            ],
            [
             0.3333333333333333,
             "#9c179e"
            ],
            [
             0.4444444444444444,
             "#bd3786"
            ],
            [
             0.5555555555555556,
             "#d8576b"
            ],
            [
             0.6666666666666666,
             "#ed7953"
            ],
            [
             0.7777777777777778,
             "#fb9f3a"
            ],
            [
             0.8888888888888888,
             "#fdca26"
            ],
            [
             1,
             "#f0f921"
            ]
           ],
           "sequentialminus": [
            [
             0,
             "#0d0887"
            ],
            [
             0.1111111111111111,
             "#46039f"
            ],
            [
             0.2222222222222222,
             "#7201a8"
            ],
            [
             0.3333333333333333,
             "#9c179e"
            ],
            [
             0.4444444444444444,
             "#bd3786"
            ],
            [
             0.5555555555555556,
             "#d8576b"
            ],
            [
             0.6666666666666666,
             "#ed7953"
            ],
            [
             0.7777777777777778,
             "#fb9f3a"
            ],
            [
             0.8888888888888888,
             "#fdca26"
            ],
            [
             1,
             "#f0f921"
            ]
           ]
          },
          "colorway": [
           "#636efa",
           "#EF553B",
           "#00cc96",
           "#ab63fa",
           "#FFA15A",
           "#19d3f3",
           "#FF6692",
           "#B6E880",
           "#FF97FF",
           "#FECB52"
          ],
          "font": {
           "color": "#2a3f5f"
          },
          "geo": {
           "bgcolor": "white",
           "lakecolor": "white",
           "landcolor": "#E5ECF6",
           "showlakes": true,
           "showland": true,
           "subunitcolor": "white"
          },
          "hoverlabel": {
           "align": "left"
          },
          "hovermode": "closest",
          "mapbox": {
           "style": "light"
          },
          "paper_bgcolor": "white",
          "plot_bgcolor": "#E5ECF6",
          "polar": {
           "angularaxis": {
            "gridcolor": "white",
            "linecolor": "white",
            "ticks": ""
           },
           "bgcolor": "#E5ECF6",
           "radialaxis": {
            "gridcolor": "white",
            "linecolor": "white",
            "ticks": ""
           }
          },
          "scene": {
           "xaxis": {
            "backgroundcolor": "#E5ECF6",
            "gridcolor": "white",
            "gridwidth": 2,
            "linecolor": "white",
            "showbackground": true,
            "ticks": "",
            "zerolinecolor": "white"
           },
           "yaxis": {
            "backgroundcolor": "#E5ECF6",
            "gridcolor": "white",
            "gridwidth": 2,
            "linecolor": "white",
            "showbackground": true,
            "ticks": "",
            "zerolinecolor": "white"
           },
           "zaxis": {
            "backgroundcolor": "#E5ECF6",
            "gridcolor": "white",
            "gridwidth": 2,
            "linecolor": "white",
            "showbackground": true,
            "ticks": "",
            "zerolinecolor": "white"
           }
          },
          "shapedefaults": {
           "line": {
            "color": "#2a3f5f"
           }
          },
          "ternary": {
           "aaxis": {
            "gridcolor": "white",
            "linecolor": "white",
            "ticks": ""
           },
           "baxis": {
            "gridcolor": "white",
            "linecolor": "white",
            "ticks": ""
           },
           "bgcolor": "#E5ECF6",
           "caxis": {
            "gridcolor": "white",
            "linecolor": "white",
            "ticks": ""
           }
          },
          "title": {
           "x": 0.05
          },
          "xaxis": {
           "automargin": true,
           "gridcolor": "white",
           "linecolor": "white",
           "ticks": "",
           "title": {
            "standoff": 15
           },
           "zerolinecolor": "white",
           "zerolinewidth": 2
          },
          "yaxis": {
           "automargin": true,
           "gridcolor": "white",
           "linecolor": "white",
           "ticks": "",
           "title": {
            "standoff": 15
           },
           "zerolinecolor": "white",
           "zerolinewidth": 2
          }
         }
        },
        "title": {
         "font": {
          "color": "#4D5663"
         }
        },
        "xaxis": {
         "gridcolor": "#E1E5ED",
         "showgrid": true,
         "tickfont": {
          "color": "#4D5663"
         },
         "title": {
          "font": {
           "color": "#4D5663"
          },
          "text": ""
         },
         "zerolinecolor": "#E1E5ED"
        },
        "yaxis": {
         "gridcolor": "#E1E5ED",
         "showgrid": true,
         "tickfont": {
          "color": "#4D5663"
         },
         "title": {
          "font": {
           "color": "#4D5663"
          },
          "text": ""
         },
         "zerolinecolor": "#E1E5ED"
        }
       }
      },
      "text/html": [
       "<div>                            <div id=\"569bd237-43f6-41ba-aad5-7e3d91e22903\" class=\"plotly-graph-div\" style=\"height:525px; width:100%;\"></div>            <script type=\"text/javascript\">                require([\"plotly\"], function(Plotly) {                    window.PLOTLYENV=window.PLOTLYENV || {};\n",
       "                    window.PLOTLYENV.BASE_URL='https://plot.ly';                                    if (document.getElementById(\"569bd237-43f6-41ba-aad5-7e3d91e22903\")) {                    Plotly.newPlot(                        \"569bd237-43f6-41ba-aad5-7e3d91e22903\",                        [{\"marker\":{\"color\":[\"rgb(255, 153, 51)\",\"rgb(55, 128, 191)\",\"rgb(50, 171, 96)\",\"rgb(128, 0, 128)\",\"rgb(219, 64, 82)\",\"rgb(0, 128, 128)\",\"rgb(255, 255, 51)\",\"rgb(128, 128, 0)\",\"rgb(251, 128, 114)\",\"rgb(128, 177, 211)\"],\"line\":{\"width\":1.3},\"size\":[75,89,64,35,30,71,65,34,48,65,112,54,77,75,12,66,51,37,49,37,54,47,27,78,52,83,65,56,38,46,68,67,67,88,60,82,58,66,64,64,21,36,79,72,53,35,12,66,45,24,69,79,63,72,45,47,87,58,33,53,63,69,72,64,44,76,64,42,40,77,35,67,48,72,64,37,51,51,83,72,75,42,67,30,31,45,43,67,59,24,71,27,25,78,48,53,70,32,28,70],\"symbol\":\"circle\"},\"mode\":\"markers\",\"text\":\"\",\"type\":\"scatter\",\"x\":[-0.27040833546812526,0.08130777436700777,-1.5627852644492577,-0.2744888889596545,-1.3807402495046974,-1.0705351424149077,-0.16047191326162297,1.9623749326919784,-1.4202858087319434,2.2306646991131793,2.0627667605639965,1.2358806367189576,-1.1144160033347206,0.2994059231642462,-1.3266963971338253,1.8034253637887923,-0.35866694409300454,-1.5168651182538158,-1.7517193230369608,-0.24854489038284788,-2.222255950888016,0.12195369323667252,-0.10090638648858788,-0.504136111985515,0.10088071720688169,-0.5691650839899056,-0.5831979208412037,1.870526868030963,-0.25398962295793515,-1.656833141667139,1.9751752331136339,0.42665589389048614,-0.7644650057486119,-1.0233599523112271,-1.3845703080701453,0.41676864169067723,0.16981280033515242,0.49389738793836757,1.9257781977567854,-1.9400175631744279,0.29333967748775946,1.1949992629121038,1.7769411094382328,-1.190346737504172,0.9553895066266331,-1.1426015599282036,0.7412020578651592,-0.718753059965593,-0.29293769881028325,0.4930577439369678,2.033364404806609,-1.8125497966835704,-1.4380517678713847,1.236334802401583,-0.2586154547482286,0.5398863162595625,0.17836776996372666,1.6300719793180487,-0.22465116940657961,0.4885186677989896,-0.8833884064013457,1.170268817648967,0.2650250636641034,0.3156961523700967,-2.474040255852097,-0.4823510461733897,0.6573532491983424,0.8226913991345299,0.5439660427166113,-0.2696888547198674,0.39990067617553776,0.8491101899180467,-0.07909796630667584,0.3382709311856161,-1.1463729281094484,1.7081268085335908,-1.6807218958932753,-0.668745860074773,0.3296232163303582,-1.3700631306803732,-0.5545716005147747,0.21217891816467718,-0.1740626915183978,-1.056783359415874,0.7142458049435187,-2.0642262765582444,0.27159435271701843,0.9924352027785257,0.6128875502612596,0.5568687516548688,2.446638455078288,-0.34295262993624026,-0.9215212399706968,0.4678165045677442,-1.4417615042906229,-0.09719709420199353,-0.010013117800275152,0.1125921386452125,-0.5800638387253629,-0.5188581163623978],\"y\":[-1.206321705433643,-2.33119734708676,-1.182119721197647,0.5773891617232305,-0.23432507005351813,-0.33395607587489534,0.206606394431684,-1.041828054565952,1.3164705542026072,-0.3428669411158307,-1.3454064001519515,0.7559465164801712,-0.20794749416715222,-0.6135328159991182,-0.380069037972439,3.1611795222845105,-1.6728132085396286,0.34805445029216153,1.0256277741515756,0.34200518443172706,0.49253049523123815,-1.595301032000479,0.3949717712068479,-0.32157059990925524,-0.40680443581217035,1.1966551165712613,0.2822399390536095,-0.07775636065641416,2.0377626551843737,1.3050807025804394,-0.28412285719843405,0.1116067496020979,1.4014929565079186,-2.4319952476680715,-1.1037745990460548,-0.3226779481808536,-0.06624380072375628,-0.5081440222449597,-1.0079721004480366,-0.06359935585586599,1.225085723673325,1.3585351275230693,0.3418412205279284,-0.8430366362011602,0.5224342649477417,1.452293858051099,1.308642822045769,0.619401294147941,-1.3609801136045452,-0.3332084882878469,0.9667782591878893,0.2968612966065134,-0.8685699543749293,0.18433284499816469,0.21945059201802256,-1.4431518392390728,-0.16480929714894385,-0.1996466897872002,-0.34421042679753155,0.45874701039062454,-0.5070164171680562,0.49201585115563534,-1.0272281434830408,-1.5902113658293175,-0.5110555615220798,0.6581034463984738,-0.23930294622141307,0.5734181543602594,0.5167216386232102,-0.662434940080114,-1.5882504358026166,-2.1259339712737955,0.837815556214329,0.931612326906073,0.4739417943881084,0.3971628453935395,-0.5817596203921983,0.12431145539047427,-0.822088277727843,-0.6728033271307247,-0.2859862738040538,0.8261242575548362,-0.1816970175088003,-0.2496242561234655,-0.7310916260125805,0.6154621974695837,0.07629516436952173,-2.270041324967681,-1.4687126790095575,-1.5740038344701714,0.3235234457986203,0.5341581155124593,0.6843101770613879,-0.22662260918441646,-2.086501049960337,0.13829808199979346,-0.6283587315638484,0.4351463049605794,0.09700349246400516,-0.9387115293797964]}],                        {\"legend\":{\"bgcolor\":\"#F5F6F9\",\"font\":{\"color\":\"#4D5663\"}},\"paper_bgcolor\":\"#F5F6F9\",\"plot_bgcolor\":\"#F5F6F9\",\"template\":{\"data\":{\"bar\":[{\"error_x\":{\"color\":\"#2a3f5f\"},\"error_y\":{\"color\":\"#2a3f5f\"},\"marker\":{\"line\":{\"color\":\"#E5ECF6\",\"width\":0.5},\"pattern\":{\"fillmode\":\"overlay\",\"size\":10,\"solidity\":0.2}},\"type\":\"bar\"}],\"barpolar\":[{\"marker\":{\"line\":{\"color\":\"#E5ECF6\",\"width\":0.5},\"pattern\":{\"fillmode\":\"overlay\",\"size\":10,\"solidity\":0.2}},\"type\":\"barpolar\"}],\"carpet\":[{\"aaxis\":{\"endlinecolor\":\"#2a3f5f\",\"gridcolor\":\"white\",\"linecolor\":\"white\",\"minorgridcolor\":\"white\",\"startlinecolor\":\"#2a3f5f\"},\"baxis\":{\"endlinecolor\":\"#2a3f5f\",\"gridcolor\":\"white\",\"linecolor\":\"white\",\"minorgridcolor\":\"white\",\"startlinecolor\":\"#2a3f5f\"},\"type\":\"carpet\"}],\"choropleth\":[{\"colorbar\":{\"outlinewidth\":0,\"ticks\":\"\"},\"type\":\"choropleth\"}],\"contour\":[{\"colorbar\":{\"outlinewidth\":0,\"ticks\":\"\"},\"colorscale\":[[0.0,\"#0d0887\"],[0.1111111111111111,\"#46039f\"],[0.2222222222222222,\"#7201a8\"],[0.3333333333333333,\"#9c179e\"],[0.4444444444444444,\"#bd3786\"],[0.5555555555555556,\"#d8576b\"],[0.6666666666666666,\"#ed7953\"],[0.7777777777777778,\"#fb9f3a\"],[0.8888888888888888,\"#fdca26\"],[1.0,\"#f0f921\"]],\"type\":\"contour\"}],\"contourcarpet\":[{\"colorbar\":{\"outlinewidth\":0,\"ticks\":\"\"},\"type\":\"contourcarpet\"}],\"heatmap\":[{\"colorbar\":{\"outlinewidth\":0,\"ticks\":\"\"},\"colorscale\":[[0.0,\"#0d0887\"],[0.1111111111111111,\"#46039f\"],[0.2222222222222222,\"#7201a8\"],[0.3333333333333333,\"#9c179e\"],[0.4444444444444444,\"#bd3786\"],[0.5555555555555556,\"#d8576b\"],[0.6666666666666666,\"#ed7953\"],[0.7777777777777778,\"#fb9f3a\"],[0.8888888888888888,\"#fdca26\"],[1.0,\"#f0f921\"]],\"type\":\"heatmap\"}],\"heatmapgl\":[{\"colorbar\":{\"outlinewidth\":0,\"ticks\":\"\"},\"colorscale\":[[0.0,\"#0d0887\"],[0.1111111111111111,\"#46039f\"],[0.2222222222222222,\"#7201a8\"],[0.3333333333333333,\"#9c179e\"],[0.4444444444444444,\"#bd3786\"],[0.5555555555555556,\"#d8576b\"],[0.6666666666666666,\"#ed7953\"],[0.7777777777777778,\"#fb9f3a\"],[0.8888888888888888,\"#fdca26\"],[1.0,\"#f0f921\"]],\"type\":\"heatmapgl\"}],\"histogram\":[{\"marker\":{\"pattern\":{\"fillmode\":\"overlay\",\"size\":10,\"solidity\":0.2}},\"type\":\"histogram\"}],\"histogram2d\":[{\"colorbar\":{\"outlinewidth\":0,\"ticks\":\"\"},\"colorscale\":[[0.0,\"#0d0887\"],[0.1111111111111111,\"#46039f\"],[0.2222222222222222,\"#7201a8\"],[0.3333333333333333,\"#9c179e\"],[0.4444444444444444,\"#bd3786\"],[0.5555555555555556,\"#d8576b\"],[0.6666666666666666,\"#ed7953\"],[0.7777777777777778,\"#fb9f3a\"],[0.8888888888888888,\"#fdca26\"],[1.0,\"#f0f921\"]],\"type\":\"histogram2d\"}],\"histogram2dcontour\":[{\"colorbar\":{\"outlinewidth\":0,\"ticks\":\"\"},\"colorscale\":[[0.0,\"#0d0887\"],[0.1111111111111111,\"#46039f\"],[0.2222222222222222,\"#7201a8\"],[0.3333333333333333,\"#9c179e\"],[0.4444444444444444,\"#bd3786\"],[0.5555555555555556,\"#d8576b\"],[0.6666666666666666,\"#ed7953\"],[0.7777777777777778,\"#fb9f3a\"],[0.8888888888888888,\"#fdca26\"],[1.0,\"#f0f921\"]],\"type\":\"histogram2dcontour\"}],\"mesh3d\":[{\"colorbar\":{\"outlinewidth\":0,\"ticks\":\"\"},\"type\":\"mesh3d\"}],\"parcoords\":[{\"line\":{\"colorbar\":{\"outlinewidth\":0,\"ticks\":\"\"}},\"type\":\"parcoords\"}],\"pie\":[{\"automargin\":true,\"type\":\"pie\"}],\"scatter\":[{\"marker\":{\"colorbar\":{\"outlinewidth\":0,\"ticks\":\"\"}},\"type\":\"scatter\"}],\"scatter3d\":[{\"line\":{\"colorbar\":{\"outlinewidth\":0,\"ticks\":\"\"}},\"marker\":{\"colorbar\":{\"outlinewidth\":0,\"ticks\":\"\"}},\"type\":\"scatter3d\"}],\"scattercarpet\":[{\"marker\":{\"colorbar\":{\"outlinewidth\":0,\"ticks\":\"\"}},\"type\":\"scattercarpet\"}],\"scattergeo\":[{\"marker\":{\"colorbar\":{\"outlinewidth\":0,\"ticks\":\"\"}},\"type\":\"scattergeo\"}],\"scattergl\":[{\"marker\":{\"colorbar\":{\"outlinewidth\":0,\"ticks\":\"\"}},\"type\":\"scattergl\"}],\"scattermapbox\":[{\"marker\":{\"colorbar\":{\"outlinewidth\":0,\"ticks\":\"\"}},\"type\":\"scattermapbox\"}],\"scatterpolar\":[{\"marker\":{\"colorbar\":{\"outlinewidth\":0,\"ticks\":\"\"}},\"type\":\"scatterpolar\"}],\"scatterpolargl\":[{\"marker\":{\"colorbar\":{\"outlinewidth\":0,\"ticks\":\"\"}},\"type\":\"scatterpolargl\"}],\"scatterternary\":[{\"marker\":{\"colorbar\":{\"outlinewidth\":0,\"ticks\":\"\"}},\"type\":\"scatterternary\"}],\"surface\":[{\"colorbar\":{\"outlinewidth\":0,\"ticks\":\"\"},\"colorscale\":[[0.0,\"#0d0887\"],[0.1111111111111111,\"#46039f\"],[0.2222222222222222,\"#7201a8\"],[0.3333333333333333,\"#9c179e\"],[0.4444444444444444,\"#bd3786\"],[0.5555555555555556,\"#d8576b\"],[0.6666666666666666,\"#ed7953\"],[0.7777777777777778,\"#fb9f3a\"],[0.8888888888888888,\"#fdca26\"],[1.0,\"#f0f921\"]],\"type\":\"surface\"}],\"table\":[{\"cells\":{\"fill\":{\"color\":\"#EBF0F8\"},\"line\":{\"color\":\"white\"}},\"header\":{\"fill\":{\"color\":\"#C8D4E3\"},\"line\":{\"color\":\"white\"}},\"type\":\"table\"}]},\"layout\":{\"annotationdefaults\":{\"arrowcolor\":\"#2a3f5f\",\"arrowhead\":0,\"arrowwidth\":1},\"autotypenumbers\":\"strict\",\"coloraxis\":{\"colorbar\":{\"outlinewidth\":0,\"ticks\":\"\"}},\"colorscale\":{\"diverging\":[[0,\"#8e0152\"],[0.1,\"#c51b7d\"],[0.2,\"#de77ae\"],[0.3,\"#f1b6da\"],[0.4,\"#fde0ef\"],[0.5,\"#f7f7f7\"],[0.6,\"#e6f5d0\"],[0.7,\"#b8e186\"],[0.8,\"#7fbc41\"],[0.9,\"#4d9221\"],[1,\"#276419\"]],\"sequential\":[[0.0,\"#0d0887\"],[0.1111111111111111,\"#46039f\"],[0.2222222222222222,\"#7201a8\"],[0.3333333333333333,\"#9c179e\"],[0.4444444444444444,\"#bd3786\"],[0.5555555555555556,\"#d8576b\"],[0.6666666666666666,\"#ed7953\"],[0.7777777777777778,\"#fb9f3a\"],[0.8888888888888888,\"#fdca26\"],[1.0,\"#f0f921\"]],\"sequentialminus\":[[0.0,\"#0d0887\"],[0.1111111111111111,\"#46039f\"],[0.2222222222222222,\"#7201a8\"],[0.3333333333333333,\"#9c179e\"],[0.4444444444444444,\"#bd3786\"],[0.5555555555555556,\"#d8576b\"],[0.6666666666666666,\"#ed7953\"],[0.7777777777777778,\"#fb9f3a\"],[0.8888888888888888,\"#fdca26\"],[1.0,\"#f0f921\"]]},\"colorway\":[\"#636efa\",\"#EF553B\",\"#00cc96\",\"#ab63fa\",\"#FFA15A\",\"#19d3f3\",\"#FF6692\",\"#B6E880\",\"#FF97FF\",\"#FECB52\"],\"font\":{\"color\":\"#2a3f5f\"},\"geo\":{\"bgcolor\":\"white\",\"lakecolor\":\"white\",\"landcolor\":\"#E5ECF6\",\"showlakes\":true,\"showland\":true,\"subunitcolor\":\"white\"},\"hoverlabel\":{\"align\":\"left\"},\"hovermode\":\"closest\",\"mapbox\":{\"style\":\"light\"},\"paper_bgcolor\":\"white\",\"plot_bgcolor\":\"#E5ECF6\",\"polar\":{\"angularaxis\":{\"gridcolor\":\"white\",\"linecolor\":\"white\",\"ticks\":\"\"},\"bgcolor\":\"#E5ECF6\",\"radialaxis\":{\"gridcolor\":\"white\",\"linecolor\":\"white\",\"ticks\":\"\"}},\"scene\":{\"xaxis\":{\"backgroundcolor\":\"#E5ECF6\",\"gridcolor\":\"white\",\"gridwidth\":2,\"linecolor\":\"white\",\"showbackground\":true,\"ticks\":\"\",\"zerolinecolor\":\"white\"},\"yaxis\":{\"backgroundcolor\":\"#E5ECF6\",\"gridcolor\":\"white\",\"gridwidth\":2,\"linecolor\":\"white\",\"showbackground\":true,\"ticks\":\"\",\"zerolinecolor\":\"white\"},\"zaxis\":{\"backgroundcolor\":\"#E5ECF6\",\"gridcolor\":\"white\",\"gridwidth\":2,\"linecolor\":\"white\",\"showbackground\":true,\"ticks\":\"\",\"zerolinecolor\":\"white\"}},\"shapedefaults\":{\"line\":{\"color\":\"#2a3f5f\"}},\"ternary\":{\"aaxis\":{\"gridcolor\":\"white\",\"linecolor\":\"white\",\"ticks\":\"\"},\"baxis\":{\"gridcolor\":\"white\",\"linecolor\":\"white\",\"ticks\":\"\"},\"bgcolor\":\"#E5ECF6\",\"caxis\":{\"gridcolor\":\"white\",\"linecolor\":\"white\",\"ticks\":\"\"}},\"title\":{\"x\":0.05},\"xaxis\":{\"automargin\":true,\"gridcolor\":\"white\",\"linecolor\":\"white\",\"ticks\":\"\",\"title\":{\"standoff\":15},\"zerolinecolor\":\"white\",\"zerolinewidth\":2},\"yaxis\":{\"automargin\":true,\"gridcolor\":\"white\",\"linecolor\":\"white\",\"ticks\":\"\",\"title\":{\"standoff\":15},\"zerolinecolor\":\"white\",\"zerolinewidth\":2}}},\"title\":{\"font\":{\"color\":\"#4D5663\"}},\"xaxis\":{\"gridcolor\":\"#E1E5ED\",\"showgrid\":true,\"tickfont\":{\"color\":\"#4D5663\"},\"title\":{\"font\":{\"color\":\"#4D5663\"},\"text\":\"\"},\"zerolinecolor\":\"#E1E5ED\"},\"yaxis\":{\"gridcolor\":\"#E1E5ED\",\"showgrid\":true,\"tickfont\":{\"color\":\"#4D5663\"},\"title\":{\"font\":{\"color\":\"#4D5663\"},\"text\":\"\"},\"zerolinecolor\":\"#E1E5ED\"}},                        {\"showLink\": true, \"linkText\": \"Export to plot.ly\", \"plotlyServerURL\": \"https://plot.ly\", \"responsive\": true}                    ).then(function(){\n",
       "                            \n",
       "var gd = document.getElementById('569bd237-43f6-41ba-aad5-7e3d91e22903');\n",
       "var x = new MutationObserver(function (mutations, observer) {{\n",
       "        var display = window.getComputedStyle(gd).display;\n",
       "        if (!display || display === 'none') {{\n",
       "            console.log([gd, 'removed!']);\n",
       "            Plotly.purge(gd);\n",
       "            observer.disconnect();\n",
       "        }}\n",
       "}});\n",
       "\n",
       "// Listen for the removal of the full notebook cells\n",
       "var notebookContainer = gd.closest('#notebook-container');\n",
       "if (notebookContainer) {{\n",
       "    x.observe(notebookContainer, {childList: true});\n",
       "}}\n",
       "\n",
       "// Listen for the clearing of the current output cell\n",
       "var outputEl = gd.closest('.output');\n",
       "if (outputEl) {{\n",
       "    x.observe(outputEl, {childList: true});\n",
       "}}\n",
       "\n",
       "                        })                };                });            </script>        </div>"
      ]
     },
     "metadata": {},
     "output_type": "display_data"
    }
   ],
   "source": [
    "df.iplot(kind='bubble',x='A',y='B',size='C')"
   ]
  },
  {
   "cell_type": "markdown",
   "metadata": {},
   "source": [
    "## scatter_matrix()\n",
    "\n",
    "Similar to sns.pairplot()"
   ]
  },
  {
   "cell_type": "code",
   "execution_count": 18,
   "metadata": {},
   "outputs": [
    {
     "data": {
      "application/vnd.plotly.v1+json": {
       "config": {
        "linkText": "Export to plot.ly",
        "plotlyServerURL": "https://plot.ly",
        "showLink": true
       },
       "data": [
        {
         "histfunc": "count",
         "histnorm": "",
         "marker": {
          "color": "rgba(255, 153, 51, 1.0)",
          "line": {
           "color": "#4D5663",
           "width": 1.3
          }
         },
         "name": "A",
         "nbinsx": 10,
         "opacity": 0.8,
         "orientation": "v",
         "type": "histogram",
         "x": [
          -0.27040833546812526,
          0.08130777436700777,
          -1.5627852644492577,
          -0.2744888889596545,
          -1.3807402495046974,
          -1.0705351424149077,
          -0.16047191326162297,
          1.9623749326919784,
          -1.4202858087319434,
          2.2306646991131793,
          2.0627667605639965,
          1.2358806367189576,
          -1.1144160033347206,
          0.2994059231642462,
          -1.3266963971338253,
          1.8034253637887923,
          -0.35866694409300454,
          -1.5168651182538158,
          -1.7517193230369608,
          -0.24854489038284788,
          -2.222255950888016,
          0.12195369323667252,
          -0.10090638648858788,
          -0.504136111985515,
          0.10088071720688169,
          -0.5691650839899056,
          -0.5831979208412037,
          1.870526868030963,
          -0.25398962295793515,
          -1.656833141667139,
          1.9751752331136339,
          0.42665589389048614,
          -0.7644650057486119,
          -1.0233599523112271,
          -1.3845703080701453,
          0.41676864169067723,
          0.16981280033515242,
          0.49389738793836757,
          1.9257781977567854,
          -1.9400175631744279,
          0.29333967748775946,
          1.1949992629121038,
          1.7769411094382328,
          -1.190346737504172,
          0.9553895066266331,
          -1.1426015599282036,
          0.7412020578651592,
          -0.718753059965593,
          -0.29293769881028325,
          0.4930577439369678,
          2.033364404806609,
          -1.8125497966835704,
          -1.4380517678713847,
          1.236334802401583,
          -0.2586154547482286,
          0.5398863162595625,
          0.17836776996372666,
          1.6300719793180487,
          -0.22465116940657961,
          0.4885186677989896,
          -0.8833884064013457,
          1.170268817648967,
          0.2650250636641034,
          0.3156961523700967,
          -2.474040255852097,
          -0.4823510461733897,
          0.6573532491983424,
          0.8226913991345299,
          0.5439660427166113,
          -0.2696888547198674,
          0.39990067617553776,
          0.8491101899180467,
          -0.07909796630667584,
          0.3382709311856161,
          -1.1463729281094484,
          1.7081268085335908,
          -1.6807218958932753,
          -0.668745860074773,
          0.3296232163303582,
          -1.3700631306803732,
          -0.5545716005147747,
          0.21217891816467718,
          -0.1740626915183978,
          -1.056783359415874,
          0.7142458049435187,
          -2.0642262765582444,
          0.27159435271701843,
          0.9924352027785257,
          0.6128875502612596,
          0.5568687516548688,
          2.446638455078288,
          -0.34295262993624026,
          -0.9215212399706968,
          0.4678165045677442,
          -1.4417615042906229,
          -0.09719709420199353,
          -0.010013117800275152,
          0.1125921386452125,
          -0.5800638387253629,
          -0.5188581163623978
         ],
         "xaxis": "x",
         "yaxis": "y"
        },
        {
         "line": {
          "color": "rgba(128, 128, 128, 1.0)",
          "dash": "solid",
          "shape": "linear",
          "width": 1.3
         },
         "marker": {
          "size": 2,
          "symbol": "circle"
         },
         "mode": "markers",
         "name": "A",
         "text": "",
         "type": "scatter",
         "x": [
          -1.206321705433643,
          -2.33119734708676,
          -1.182119721197647,
          0.5773891617232305,
          -0.23432507005351813,
          -0.33395607587489534,
          0.206606394431684,
          -1.041828054565952,
          1.3164705542026072,
          -0.3428669411158307,
          -1.3454064001519515,
          0.7559465164801712,
          -0.20794749416715222,
          -0.6135328159991182,
          -0.380069037972439,
          3.1611795222845105,
          -1.6728132085396286,
          0.34805445029216153,
          1.0256277741515756,
          0.34200518443172706,
          0.49253049523123815,
          -1.595301032000479,
          0.3949717712068479,
          -0.32157059990925524,
          -0.40680443581217035,
          1.1966551165712613,
          0.2822399390536095,
          -0.07775636065641416,
          2.0377626551843737,
          1.3050807025804394,
          -0.28412285719843405,
          0.1116067496020979,
          1.4014929565079186,
          -2.4319952476680715,
          -1.1037745990460548,
          -0.3226779481808536,
          -0.06624380072375628,
          -0.5081440222449597,
          -1.0079721004480366,
          -0.06359935585586599,
          1.225085723673325,
          1.3585351275230693,
          0.3418412205279284,
          -0.8430366362011602,
          0.5224342649477417,
          1.452293858051099,
          1.308642822045769,
          0.619401294147941,
          -1.3609801136045452,
          -0.3332084882878469,
          0.9667782591878893,
          0.2968612966065134,
          -0.8685699543749293,
          0.18433284499816469,
          0.21945059201802256,
          -1.4431518392390728,
          -0.16480929714894385,
          -0.1996466897872002,
          -0.34421042679753155,
          0.45874701039062454,
          -0.5070164171680562,
          0.49201585115563534,
          -1.0272281434830408,
          -1.5902113658293175,
          -0.5110555615220798,
          0.6581034463984738,
          -0.23930294622141307,
          0.5734181543602594,
          0.5167216386232102,
          -0.662434940080114,
          -1.5882504358026166,
          -2.1259339712737955,
          0.837815556214329,
          0.931612326906073,
          0.4739417943881084,
          0.3971628453935395,
          -0.5817596203921983,
          0.12431145539047427,
          -0.822088277727843,
          -0.6728033271307247,
          -0.2859862738040538,
          0.8261242575548362,
          -0.1816970175088003,
          -0.2496242561234655,
          -0.7310916260125805,
          0.6154621974695837,
          0.07629516436952173,
          -2.270041324967681,
          -1.4687126790095575,
          -1.5740038344701714,
          0.3235234457986203,
          0.5341581155124593,
          0.6843101770613879,
          -0.22662260918441646,
          -2.086501049960337,
          0.13829808199979346,
          -0.6283587315638484,
          0.4351463049605794,
          0.09700349246400516,
          -0.9387115293797964
         ],
         "xaxis": "x2",
         "y": [
          -0.27040833546812526,
          0.08130777436700777,
          -1.5627852644492577,
          -0.2744888889596545,
          -1.3807402495046974,
          -1.0705351424149077,
          -0.16047191326162297,
          1.9623749326919784,
          -1.4202858087319434,
          2.2306646991131793,
          2.0627667605639965,
          1.2358806367189576,
          -1.1144160033347206,
          0.2994059231642462,
          -1.3266963971338253,
          1.8034253637887923,
          -0.35866694409300454,
          -1.5168651182538158,
          -1.7517193230369608,
          -0.24854489038284788,
          -2.222255950888016,
          0.12195369323667252,
          -0.10090638648858788,
          -0.504136111985515,
          0.10088071720688169,
          -0.5691650839899056,
          -0.5831979208412037,
          1.870526868030963,
          -0.25398962295793515,
          -1.656833141667139,
          1.9751752331136339,
          0.42665589389048614,
          -0.7644650057486119,
          -1.0233599523112271,
          -1.3845703080701453,
          0.41676864169067723,
          0.16981280033515242,
          0.49389738793836757,
          1.9257781977567854,
          -1.9400175631744279,
          0.29333967748775946,
          1.1949992629121038,
          1.7769411094382328,
          -1.190346737504172,
          0.9553895066266331,
          -1.1426015599282036,
          0.7412020578651592,
          -0.718753059965593,
          -0.29293769881028325,
          0.4930577439369678,
          2.033364404806609,
          -1.8125497966835704,
          -1.4380517678713847,
          1.236334802401583,
          -0.2586154547482286,
          0.5398863162595625,
          0.17836776996372666,
          1.6300719793180487,
          -0.22465116940657961,
          0.4885186677989896,
          -0.8833884064013457,
          1.170268817648967,
          0.2650250636641034,
          0.3156961523700967,
          -2.474040255852097,
          -0.4823510461733897,
          0.6573532491983424,
          0.8226913991345299,
          0.5439660427166113,
          -0.2696888547198674,
          0.39990067617553776,
          0.8491101899180467,
          -0.07909796630667584,
          0.3382709311856161,
          -1.1463729281094484,
          1.7081268085335908,
          -1.6807218958932753,
          -0.668745860074773,
          0.3296232163303582,
          -1.3700631306803732,
          -0.5545716005147747,
          0.21217891816467718,
          -0.1740626915183978,
          -1.056783359415874,
          0.7142458049435187,
          -2.0642262765582444,
          0.27159435271701843,
          0.9924352027785257,
          0.6128875502612596,
          0.5568687516548688,
          2.446638455078288,
          -0.34295262993624026,
          -0.9215212399706968,
          0.4678165045677442,
          -1.4417615042906229,
          -0.09719709420199353,
          -0.010013117800275152,
          0.1125921386452125,
          -0.5800638387253629,
          -0.5188581163623978
         ],
         "yaxis": "y2"
        },
        {
         "line": {
          "color": "rgba(128, 128, 128, 1.0)",
          "dash": "solid",
          "shape": "linear",
          "width": 1.3
         },
         "marker": {
          "size": 2,
          "symbol": "circle"
         },
         "mode": "markers",
         "name": "A",
         "text": "",
         "type": "scatter",
         "x": [
          1.1211970662513233,
          1.7882553952463331,
          0.6095787417343562,
          -0.7978685503219164,
          -1.054540820718089,
          0.935552209246095,
          0.6467828718720946,
          -0.8448435185149318,
          -0.16415442742546268,
          0.6332886681279752,
          2.880236995642649,
          0.09344924914241522,
          1.2184106796557397,
          1.1024396321251881,
          -1.9420459171122197,
          0.6984545873619175,
          -0.02575153495112632,
          -0.6911287219069356,
          -0.12974086961982328,
          -0.7108540634474605,
          0.09650957474547463,
          -0.2394048753255379,
          -1.1867548996989077,
          1.2705278304445915,
          0.00400786264780369,
          1.5081291288747247,
          0.6268263945498519,
          0.19234668443756917,
          -0.644591422972466,
          -0.2879900461607938,
          0.7685971364284684,
          0.7314732934323124,
          0.7350104705015111,
          1.7562883048734677,
          0.38075808379928816,
          1.4815606117987459,
          0.3104819835718878,
          0.682612490586937,
          0.591052677745498,
          0.6100569999048194,
          -1.4763067263117895,
          -0.7566064345211292,
          1.2892187004839144,
          0.9558115107193859,
          0.04361586037957929,
          -0.8176122018357349,
          -1.8942003890998518,
          0.6954957432966362,
          -0.3110659874617991,
          -1.3423195258765368,
          0.8387673546096003,
          1.2943419151912026,
          0.5655406897192649,
          0.9679627527832857,
          -0.3092187880857277,
          -0.21438845451562602,
          1.6787976873909873,
          0.28926212433709086,
          -0.8952193107945672,
          0.07733269069260017,
          0.5422976728824778,
          0.8194048567679139,
          0.960344388098084,
          0.5978292594209408,
          -0.3882728835771806,
          1.1841703054015564,
          0.588831725578845,
          -0.4558549759650901,
          -0.5530186984081414,
          1.199714822740876,
          -0.8040416931761488,
          0.7145449357970964,
          -0.18434981426256083,
          0.976117940465252,
          0.5833657724239505,
          -0.7239592404746668,
          -0.02916975205625252,
          -0.04026400626158386,
          1.485169511368912,
          0.9584471970449069,
          1.123183207296647,
          -0.47333126054082714,
          0.7496204181431738,
          -1.036403319794379,
          -1.008689128846662,
          -0.3089888362957455,
          -0.4281520220857427,
          0.7354142606034626,
          0.3718621731684189,
          -1.348924890729719,
          0.9402634267886293,
          -1.173121234995388,
          -1.2804267533806373,
          1.2483906408612933,
          -0.19047809722350964,
          0.061882497734943705,
          0.894514247807277,
          -0.9769697145576185,
          -1.1625975602618461,
          0.88862523689299
         ],
         "xaxis": "x3",
         "y": [
          -0.27040833546812526,
          0.08130777436700777,
          -1.5627852644492577,
          -0.2744888889596545,
          -1.3807402495046974,
          -1.0705351424149077,
          -0.16047191326162297,
          1.9623749326919784,
          -1.4202858087319434,
          2.2306646991131793,
          2.0627667605639965,
          1.2358806367189576,
          -1.1144160033347206,
          0.2994059231642462,
          -1.3266963971338253,
          1.8034253637887923,
          -0.35866694409300454,
          -1.5168651182538158,
          -1.7517193230369608,
          -0.24854489038284788,
          -2.222255950888016,
          0.12195369323667252,
          -0.10090638648858788,
          -0.504136111985515,
          0.10088071720688169,
          -0.5691650839899056,
          -0.5831979208412037,
          1.870526868030963,
          -0.25398962295793515,
          -1.656833141667139,
          1.9751752331136339,
          0.42665589389048614,
          -0.7644650057486119,
          -1.0233599523112271,
          -1.3845703080701453,
          0.41676864169067723,
          0.16981280033515242,
          0.49389738793836757,
          1.9257781977567854,
          -1.9400175631744279,
          0.29333967748775946,
          1.1949992629121038,
          1.7769411094382328,
          -1.190346737504172,
          0.9553895066266331,
          -1.1426015599282036,
          0.7412020578651592,
          -0.718753059965593,
          -0.29293769881028325,
          0.4930577439369678,
          2.033364404806609,
          -1.8125497966835704,
          -1.4380517678713847,
          1.236334802401583,
          -0.2586154547482286,
          0.5398863162595625,
          0.17836776996372666,
          1.6300719793180487,
          -0.22465116940657961,
          0.4885186677989896,
          -0.8833884064013457,
          1.170268817648967,
          0.2650250636641034,
          0.3156961523700967,
          -2.474040255852097,
          -0.4823510461733897,
          0.6573532491983424,
          0.8226913991345299,
          0.5439660427166113,
          -0.2696888547198674,
          0.39990067617553776,
          0.8491101899180467,
          -0.07909796630667584,
          0.3382709311856161,
          -1.1463729281094484,
          1.7081268085335908,
          -1.6807218958932753,
          -0.668745860074773,
          0.3296232163303582,
          -1.3700631306803732,
          -0.5545716005147747,
          0.21217891816467718,
          -0.1740626915183978,
          -1.056783359415874,
          0.7142458049435187,
          -2.0642262765582444,
          0.27159435271701843,
          0.9924352027785257,
          0.6128875502612596,
          0.5568687516548688,
          2.446638455078288,
          -0.34295262993624026,
          -0.9215212399706968,
          0.4678165045677442,
          -1.4417615042906229,
          -0.09719709420199353,
          -0.010013117800275152,
          0.1125921386452125,
          -0.5800638387253629,
          -0.5188581163623978
         ],
         "yaxis": "y3"
        },
        {
         "line": {
          "color": "rgba(128, 128, 128, 1.0)",
          "dash": "solid",
          "shape": "linear",
          "width": 1.3
         },
         "marker": {
          "size": 2,
          "symbol": "circle"
         },
         "mode": "markers",
         "name": "A",
         "text": "",
         "type": "scatter",
         "x": [
          -1.156885693248452,
          -2.553159962142852,
          0.5379500065642159,
          0.871269687667783,
          0.5418377115602929,
          1.0033889033373784,
          0.6339382484336021,
          0.8449194631288077,
          -0.08553384058369162,
          1.21512204383602,
          0.3367382167702626,
          0.5335611393688916,
          -0.7311983528799699,
          -1.1080221840374995,
          0.38809969573177716,
          0.8887734032735815,
          -0.3999772302887955,
          0.4599378592688925,
          -0.8416065462285255,
          0.5371312804976668,
          -1.2866909093142191,
          -0.23833899619013507,
          -0.46850464579090906,
          1.3089893378811284,
          -1.113431920823541,
          -1.3923670896840379,
          -0.014942185529081584,
          -0.3500662529822038,
          0.2559508726088374,
          -0.6971183344865342,
          0.5929666934111997,
          -1.1856366086326908,
          0.02687039640606976,
          1.2170269945822565,
          0.6098493861295342,
          0.01586800777935647,
          -0.757849496823997,
          -0.6932607280860964,
          0.49774236939414956,
          0.5639114101178272,
          -0.6696266017038403,
          0.34616509172190696,
          -0.8879535829963261,
          -0.8503463726832305,
          -0.7734114881918962,
          0.8282705022951898,
          -0.3151422272395916,
          -0.253917385061128,
          -0.6740530413495274,
          -0.21448561608275726,
          1.3642596557161448,
          -0.5083422252979257,
          1.024827055779126,
          -0.04892696752251287,
          0.06270078899000447,
          0.38468689158174413,
          0.392565732767905,
          -1.7881143547914042,
          -1.252420847446051,
          -0.5607233795777918,
          0.4356785062000733,
          0.04075118168397469,
          -0.7874336634441192,
          -0.1908231405751445,
          1.0848700881810873,
          0.948419710469015,
          -1.4798711859436786,
          0.3975993212128095,
          1.5461488110325188,
          0.011654502987384158,
          -0.9783502667430807,
          -0.9827186790974953,
          -0.8948045067779946,
          -0.5401443086843247,
          0.08118394346748879,
          -0.14169083693340548,
          0.21637771655999993,
          1.5083311319047112,
          -0.5348406710251433,
          0.4668236657115528,
          0.5394145805576618,
          -0.2756526372644226,
          0.009935220820154593,
          -0.8311808876227527,
          0.258594993982803,
          -0.7026656788219977,
          1.2980258618001015,
          -1.6375152690495511,
          0.09765685608872741,
          -0.42869855993991474,
          0.6391259488191646,
          0.9215632733843807,
          0.08707376340362018,
          -1.6957124085925666,
          -0.33289808932221016,
          1.277689456277632,
          0.5297677583794602,
          0.8206117127177954,
          1.1661296765277478,
          1.3126610601569062
         ],
         "xaxis": "x4",
         "y": [
          -0.27040833546812526,
          0.08130777436700777,
          -1.5627852644492577,
          -0.2744888889596545,
          -1.3807402495046974,
          -1.0705351424149077,
          -0.16047191326162297,
          1.9623749326919784,
          -1.4202858087319434,
          2.2306646991131793,
          2.0627667605639965,
          1.2358806367189576,
          -1.1144160033347206,
          0.2994059231642462,
          -1.3266963971338253,
          1.8034253637887923,
          -0.35866694409300454,
          -1.5168651182538158,
          -1.7517193230369608,
          -0.24854489038284788,
          -2.222255950888016,
          0.12195369323667252,
          -0.10090638648858788,
          -0.504136111985515,
          0.10088071720688169,
          -0.5691650839899056,
          -0.5831979208412037,
          1.870526868030963,
          -0.25398962295793515,
          -1.656833141667139,
          1.9751752331136339,
          0.42665589389048614,
          -0.7644650057486119,
          -1.0233599523112271,
          -1.3845703080701453,
          0.41676864169067723,
          0.16981280033515242,
          0.49389738793836757,
          1.9257781977567854,
          -1.9400175631744279,
          0.29333967748775946,
          1.1949992629121038,
          1.7769411094382328,
          -1.190346737504172,
          0.9553895066266331,
          -1.1426015599282036,
          0.7412020578651592,
          -0.718753059965593,
          -0.29293769881028325,
          0.4930577439369678,
          2.033364404806609,
          -1.8125497966835704,
          -1.4380517678713847,
          1.236334802401583,
          -0.2586154547482286,
          0.5398863162595625,
          0.17836776996372666,
          1.6300719793180487,
          -0.22465116940657961,
          0.4885186677989896,
          -0.8833884064013457,
          1.170268817648967,
          0.2650250636641034,
          0.3156961523700967,
          -2.474040255852097,
          -0.4823510461733897,
          0.6573532491983424,
          0.8226913991345299,
          0.5439660427166113,
          -0.2696888547198674,
          0.39990067617553776,
          0.8491101899180467,
          -0.07909796630667584,
          0.3382709311856161,
          -1.1463729281094484,
          1.7081268085335908,
          -1.6807218958932753,
          -0.668745860074773,
          0.3296232163303582,
          -1.3700631306803732,
          -0.5545716005147747,
          0.21217891816467718,
          -0.1740626915183978,
          -1.056783359415874,
          0.7142458049435187,
          -2.0642262765582444,
          0.27159435271701843,
          0.9924352027785257,
          0.6128875502612596,
          0.5568687516548688,
          2.446638455078288,
          -0.34295262993624026,
          -0.9215212399706968,
          0.4678165045677442,
          -1.4417615042906229,
          -0.09719709420199353,
          -0.010013117800275152,
          0.1125921386452125,
          -0.5800638387253629,
          -0.5188581163623978
         ],
         "yaxis": "y4"
        },
        {
         "line": {
          "color": "rgba(128, 128, 128, 1.0)",
          "dash": "solid",
          "shape": "linear",
          "width": 1.3
         },
         "marker": {
          "size": 2,
          "symbol": "circle"
         },
         "mode": "markers",
         "name": "B",
         "text": "",
         "type": "scatter",
         "x": [
          -0.27040833546812526,
          0.08130777436700777,
          -1.5627852644492577,
          -0.2744888889596545,
          -1.3807402495046974,
          -1.0705351424149077,
          -0.16047191326162297,
          1.9623749326919784,
          -1.4202858087319434,
          2.2306646991131793,
          2.0627667605639965,
          1.2358806367189576,
          -1.1144160033347206,
          0.2994059231642462,
          -1.3266963971338253,
          1.8034253637887923,
          -0.35866694409300454,
          -1.5168651182538158,
          -1.7517193230369608,
          -0.24854489038284788,
          -2.222255950888016,
          0.12195369323667252,
          -0.10090638648858788,
          -0.504136111985515,
          0.10088071720688169,
          -0.5691650839899056,
          -0.5831979208412037,
          1.870526868030963,
          -0.25398962295793515,
          -1.656833141667139,
          1.9751752331136339,
          0.42665589389048614,
          -0.7644650057486119,
          -1.0233599523112271,
          -1.3845703080701453,
          0.41676864169067723,
          0.16981280033515242,
          0.49389738793836757,
          1.9257781977567854,
          -1.9400175631744279,
          0.29333967748775946,
          1.1949992629121038,
          1.7769411094382328,
          -1.190346737504172,
          0.9553895066266331,
          -1.1426015599282036,
          0.7412020578651592,
          -0.718753059965593,
          -0.29293769881028325,
          0.4930577439369678,
          2.033364404806609,
          -1.8125497966835704,
          -1.4380517678713847,
          1.236334802401583,
          -0.2586154547482286,
          0.5398863162595625,
          0.17836776996372666,
          1.6300719793180487,
          -0.22465116940657961,
          0.4885186677989896,
          -0.8833884064013457,
          1.170268817648967,
          0.2650250636641034,
          0.3156961523700967,
          -2.474040255852097,
          -0.4823510461733897,
          0.6573532491983424,
          0.8226913991345299,
          0.5439660427166113,
          -0.2696888547198674,
          0.39990067617553776,
          0.8491101899180467,
          -0.07909796630667584,
          0.3382709311856161,
          -1.1463729281094484,
          1.7081268085335908,
          -1.6807218958932753,
          -0.668745860074773,
          0.3296232163303582,
          -1.3700631306803732,
          -0.5545716005147747,
          0.21217891816467718,
          -0.1740626915183978,
          -1.056783359415874,
          0.7142458049435187,
          -2.0642262765582444,
          0.27159435271701843,
          0.9924352027785257,
          0.6128875502612596,
          0.5568687516548688,
          2.446638455078288,
          -0.34295262993624026,
          -0.9215212399706968,
          0.4678165045677442,
          -1.4417615042906229,
          -0.09719709420199353,
          -0.010013117800275152,
          0.1125921386452125,
          -0.5800638387253629,
          -0.5188581163623978
         ],
         "xaxis": "x5",
         "y": [
          -1.206321705433643,
          -2.33119734708676,
          -1.182119721197647,
          0.5773891617232305,
          -0.23432507005351813,
          -0.33395607587489534,
          0.206606394431684,
          -1.041828054565952,
          1.3164705542026072,
          -0.3428669411158307,
          -1.3454064001519515,
          0.7559465164801712,
          -0.20794749416715222,
          -0.6135328159991182,
          -0.380069037972439,
          3.1611795222845105,
          -1.6728132085396286,
          0.34805445029216153,
          1.0256277741515756,
          0.34200518443172706,
          0.49253049523123815,
          -1.595301032000479,
          0.3949717712068479,
          -0.32157059990925524,
          -0.40680443581217035,
          1.1966551165712613,
          0.2822399390536095,
          -0.07775636065641416,
          2.0377626551843737,
          1.3050807025804394,
          -0.28412285719843405,
          0.1116067496020979,
          1.4014929565079186,
          -2.4319952476680715,
          -1.1037745990460548,
          -0.3226779481808536,
          -0.06624380072375628,
          -0.5081440222449597,
          -1.0079721004480366,
          -0.06359935585586599,
          1.225085723673325,
          1.3585351275230693,
          0.3418412205279284,
          -0.8430366362011602,
          0.5224342649477417,
          1.452293858051099,
          1.308642822045769,
          0.619401294147941,
          -1.3609801136045452,
          -0.3332084882878469,
          0.9667782591878893,
          0.2968612966065134,
          -0.8685699543749293,
          0.18433284499816469,
          0.21945059201802256,
          -1.4431518392390728,
          -0.16480929714894385,
          -0.1996466897872002,
          -0.34421042679753155,
          0.45874701039062454,
          -0.5070164171680562,
          0.49201585115563534,
          -1.0272281434830408,
          -1.5902113658293175,
          -0.5110555615220798,
          0.6581034463984738,
          -0.23930294622141307,
          0.5734181543602594,
          0.5167216386232102,
          -0.662434940080114,
          -1.5882504358026166,
          -2.1259339712737955,
          0.837815556214329,
          0.931612326906073,
          0.4739417943881084,
          0.3971628453935395,
          -0.5817596203921983,
          0.12431145539047427,
          -0.822088277727843,
          -0.6728033271307247,
          -0.2859862738040538,
          0.8261242575548362,
          -0.1816970175088003,
          -0.2496242561234655,
          -0.7310916260125805,
          0.6154621974695837,
          0.07629516436952173,
          -2.270041324967681,
          -1.4687126790095575,
          -1.5740038344701714,
          0.3235234457986203,
          0.5341581155124593,
          0.6843101770613879,
          -0.22662260918441646,
          -2.086501049960337,
          0.13829808199979346,
          -0.6283587315638484,
          0.4351463049605794,
          0.09700349246400516,
          -0.9387115293797964
         ],
         "yaxis": "y5"
        },
        {
         "histfunc": "count",
         "histnorm": "",
         "marker": {
          "color": "rgba(55, 128, 191, 1.0)",
          "line": {
           "color": "#4D5663",
           "width": 1.3
          }
         },
         "name": "B",
         "nbinsx": 10,
         "opacity": 0.8,
         "orientation": "v",
         "type": "histogram",
         "x": [
          -1.206321705433643,
          -2.33119734708676,
          -1.182119721197647,
          0.5773891617232305,
          -0.23432507005351813,
          -0.33395607587489534,
          0.206606394431684,
          -1.041828054565952,
          1.3164705542026072,
          -0.3428669411158307,
          -1.3454064001519515,
          0.7559465164801712,
          -0.20794749416715222,
          -0.6135328159991182,
          -0.380069037972439,
          3.1611795222845105,
          -1.6728132085396286,
          0.34805445029216153,
          1.0256277741515756,
          0.34200518443172706,
          0.49253049523123815,
          -1.595301032000479,
          0.3949717712068479,
          -0.32157059990925524,
          -0.40680443581217035,
          1.1966551165712613,
          0.2822399390536095,
          -0.07775636065641416,
          2.0377626551843737,
          1.3050807025804394,
          -0.28412285719843405,
          0.1116067496020979,
          1.4014929565079186,
          -2.4319952476680715,
          -1.1037745990460548,
          -0.3226779481808536,
          -0.06624380072375628,
          -0.5081440222449597,
          -1.0079721004480366,
          -0.06359935585586599,
          1.225085723673325,
          1.3585351275230693,
          0.3418412205279284,
          -0.8430366362011602,
          0.5224342649477417,
          1.452293858051099,
          1.308642822045769,
          0.619401294147941,
          -1.3609801136045452,
          -0.3332084882878469,
          0.9667782591878893,
          0.2968612966065134,
          -0.8685699543749293,
          0.18433284499816469,
          0.21945059201802256,
          -1.4431518392390728,
          -0.16480929714894385,
          -0.1996466897872002,
          -0.34421042679753155,
          0.45874701039062454,
          -0.5070164171680562,
          0.49201585115563534,
          -1.0272281434830408,
          -1.5902113658293175,
          -0.5110555615220798,
          0.6581034463984738,
          -0.23930294622141307,
          0.5734181543602594,
          0.5167216386232102,
          -0.662434940080114,
          -1.5882504358026166,
          -2.1259339712737955,
          0.837815556214329,
          0.931612326906073,
          0.4739417943881084,
          0.3971628453935395,
          -0.5817596203921983,
          0.12431145539047427,
          -0.822088277727843,
          -0.6728033271307247,
          -0.2859862738040538,
          0.8261242575548362,
          -0.1816970175088003,
          -0.2496242561234655,
          -0.7310916260125805,
          0.6154621974695837,
          0.07629516436952173,
          -2.270041324967681,
          -1.4687126790095575,
          -1.5740038344701714,
          0.3235234457986203,
          0.5341581155124593,
          0.6843101770613879,
          -0.22662260918441646,
          -2.086501049960337,
          0.13829808199979346,
          -0.6283587315638484,
          0.4351463049605794,
          0.09700349246400516,
          -0.9387115293797964
         ],
         "xaxis": "x6",
         "yaxis": "y6"
        },
        {
         "line": {
          "color": "rgba(128, 128, 128, 1.0)",
          "dash": "solid",
          "shape": "linear",
          "width": 1.3
         },
         "marker": {
          "size": 2,
          "symbol": "circle"
         },
         "mode": "markers",
         "name": "B",
         "text": "",
         "type": "scatter",
         "x": [
          1.1211970662513233,
          1.7882553952463331,
          0.6095787417343562,
          -0.7978685503219164,
          -1.054540820718089,
          0.935552209246095,
          0.6467828718720946,
          -0.8448435185149318,
          -0.16415442742546268,
          0.6332886681279752,
          2.880236995642649,
          0.09344924914241522,
          1.2184106796557397,
          1.1024396321251881,
          -1.9420459171122197,
          0.6984545873619175,
          -0.02575153495112632,
          -0.6911287219069356,
          -0.12974086961982328,
          -0.7108540634474605,
          0.09650957474547463,
          -0.2394048753255379,
          -1.1867548996989077,
          1.2705278304445915,
          0.00400786264780369,
          1.5081291288747247,
          0.6268263945498519,
          0.19234668443756917,
          -0.644591422972466,
          -0.2879900461607938,
          0.7685971364284684,
          0.7314732934323124,
          0.7350104705015111,
          1.7562883048734677,
          0.38075808379928816,
          1.4815606117987459,
          0.3104819835718878,
          0.682612490586937,
          0.591052677745498,
          0.6100569999048194,
          -1.4763067263117895,
          -0.7566064345211292,
          1.2892187004839144,
          0.9558115107193859,
          0.04361586037957929,
          -0.8176122018357349,
          -1.8942003890998518,
          0.6954957432966362,
          -0.3110659874617991,
          -1.3423195258765368,
          0.8387673546096003,
          1.2943419151912026,
          0.5655406897192649,
          0.9679627527832857,
          -0.3092187880857277,
          -0.21438845451562602,
          1.6787976873909873,
          0.28926212433709086,
          -0.8952193107945672,
          0.07733269069260017,
          0.5422976728824778,
          0.8194048567679139,
          0.960344388098084,
          0.5978292594209408,
          -0.3882728835771806,
          1.1841703054015564,
          0.588831725578845,
          -0.4558549759650901,
          -0.5530186984081414,
          1.199714822740876,
          -0.8040416931761488,
          0.7145449357970964,
          -0.18434981426256083,
          0.976117940465252,
          0.5833657724239505,
          -0.7239592404746668,
          -0.02916975205625252,
          -0.04026400626158386,
          1.485169511368912,
          0.9584471970449069,
          1.123183207296647,
          -0.47333126054082714,
          0.7496204181431738,
          -1.036403319794379,
          -1.008689128846662,
          -0.3089888362957455,
          -0.4281520220857427,
          0.7354142606034626,
          0.3718621731684189,
          -1.348924890729719,
          0.9402634267886293,
          -1.173121234995388,
          -1.2804267533806373,
          1.2483906408612933,
          -0.19047809722350964,
          0.061882497734943705,
          0.894514247807277,
          -0.9769697145576185,
          -1.1625975602618461,
          0.88862523689299
         ],
         "xaxis": "x7",
         "y": [
          -1.206321705433643,
          -2.33119734708676,
          -1.182119721197647,
          0.5773891617232305,
          -0.23432507005351813,
          -0.33395607587489534,
          0.206606394431684,
          -1.041828054565952,
          1.3164705542026072,
          -0.3428669411158307,
          -1.3454064001519515,
          0.7559465164801712,
          -0.20794749416715222,
          -0.6135328159991182,
          -0.380069037972439,
          3.1611795222845105,
          -1.6728132085396286,
          0.34805445029216153,
          1.0256277741515756,
          0.34200518443172706,
          0.49253049523123815,
          -1.595301032000479,
          0.3949717712068479,
          -0.32157059990925524,
          -0.40680443581217035,
          1.1966551165712613,
          0.2822399390536095,
          -0.07775636065641416,
          2.0377626551843737,
          1.3050807025804394,
          -0.28412285719843405,
          0.1116067496020979,
          1.4014929565079186,
          -2.4319952476680715,
          -1.1037745990460548,
          -0.3226779481808536,
          -0.06624380072375628,
          -0.5081440222449597,
          -1.0079721004480366,
          -0.06359935585586599,
          1.225085723673325,
          1.3585351275230693,
          0.3418412205279284,
          -0.8430366362011602,
          0.5224342649477417,
          1.452293858051099,
          1.308642822045769,
          0.619401294147941,
          -1.3609801136045452,
          -0.3332084882878469,
          0.9667782591878893,
          0.2968612966065134,
          -0.8685699543749293,
          0.18433284499816469,
          0.21945059201802256,
          -1.4431518392390728,
          -0.16480929714894385,
          -0.1996466897872002,
          -0.34421042679753155,
          0.45874701039062454,
          -0.5070164171680562,
          0.49201585115563534,
          -1.0272281434830408,
          -1.5902113658293175,
          -0.5110555615220798,
          0.6581034463984738,
          -0.23930294622141307,
          0.5734181543602594,
          0.5167216386232102,
          -0.662434940080114,
          -1.5882504358026166,
          -2.1259339712737955,
          0.837815556214329,
          0.931612326906073,
          0.4739417943881084,
          0.3971628453935395,
          -0.5817596203921983,
          0.12431145539047427,
          -0.822088277727843,
          -0.6728033271307247,
          -0.2859862738040538,
          0.8261242575548362,
          -0.1816970175088003,
          -0.2496242561234655,
          -0.7310916260125805,
          0.6154621974695837,
          0.07629516436952173,
          -2.270041324967681,
          -1.4687126790095575,
          -1.5740038344701714,
          0.3235234457986203,
          0.5341581155124593,
          0.6843101770613879,
          -0.22662260918441646,
          -2.086501049960337,
          0.13829808199979346,
          -0.6283587315638484,
          0.4351463049605794,
          0.09700349246400516,
          -0.9387115293797964
         ],
         "yaxis": "y7"
        },
        {
         "line": {
          "color": "rgba(128, 128, 128, 1.0)",
          "dash": "solid",
          "shape": "linear",
          "width": 1.3
         },
         "marker": {
          "size": 2,
          "symbol": "circle"
         },
         "mode": "markers",
         "name": "B",
         "text": "",
         "type": "scatter",
         "x": [
          -1.156885693248452,
          -2.553159962142852,
          0.5379500065642159,
          0.871269687667783,
          0.5418377115602929,
          1.0033889033373784,
          0.6339382484336021,
          0.8449194631288077,
          -0.08553384058369162,
          1.21512204383602,
          0.3367382167702626,
          0.5335611393688916,
          -0.7311983528799699,
          -1.1080221840374995,
          0.38809969573177716,
          0.8887734032735815,
          -0.3999772302887955,
          0.4599378592688925,
          -0.8416065462285255,
          0.5371312804976668,
          -1.2866909093142191,
          -0.23833899619013507,
          -0.46850464579090906,
          1.3089893378811284,
          -1.113431920823541,
          -1.3923670896840379,
          -0.014942185529081584,
          -0.3500662529822038,
          0.2559508726088374,
          -0.6971183344865342,
          0.5929666934111997,
          -1.1856366086326908,
          0.02687039640606976,
          1.2170269945822565,
          0.6098493861295342,
          0.01586800777935647,
          -0.757849496823997,
          -0.6932607280860964,
          0.49774236939414956,
          0.5639114101178272,
          -0.6696266017038403,
          0.34616509172190696,
          -0.8879535829963261,
          -0.8503463726832305,
          -0.7734114881918962,
          0.8282705022951898,
          -0.3151422272395916,
          -0.253917385061128,
          -0.6740530413495274,
          -0.21448561608275726,
          1.3642596557161448,
          -0.5083422252979257,
          1.024827055779126,
          -0.04892696752251287,
          0.06270078899000447,
          0.38468689158174413,
          0.392565732767905,
          -1.7881143547914042,
          -1.252420847446051,
          -0.5607233795777918,
          0.4356785062000733,
          0.04075118168397469,
          -0.7874336634441192,
          -0.1908231405751445,
          1.0848700881810873,
          0.948419710469015,
          -1.4798711859436786,
          0.3975993212128095,
          1.5461488110325188,
          0.011654502987384158,
          -0.9783502667430807,
          -0.9827186790974953,
          -0.8948045067779946,
          -0.5401443086843247,
          0.08118394346748879,
          -0.14169083693340548,
          0.21637771655999993,
          1.5083311319047112,
          -0.5348406710251433,
          0.4668236657115528,
          0.5394145805576618,
          -0.2756526372644226,
          0.009935220820154593,
          -0.8311808876227527,
          0.258594993982803,
          -0.7026656788219977,
          1.2980258618001015,
          -1.6375152690495511,
          0.09765685608872741,
          -0.42869855993991474,
          0.6391259488191646,
          0.9215632733843807,
          0.08707376340362018,
          -1.6957124085925666,
          -0.33289808932221016,
          1.277689456277632,
          0.5297677583794602,
          0.8206117127177954,
          1.1661296765277478,
          1.3126610601569062
         ],
         "xaxis": "x8",
         "y": [
          -1.206321705433643,
          -2.33119734708676,
          -1.182119721197647,
          0.5773891617232305,
          -0.23432507005351813,
          -0.33395607587489534,
          0.206606394431684,
          -1.041828054565952,
          1.3164705542026072,
          -0.3428669411158307,
          -1.3454064001519515,
          0.7559465164801712,
          -0.20794749416715222,
          -0.6135328159991182,
          -0.380069037972439,
          3.1611795222845105,
          -1.6728132085396286,
          0.34805445029216153,
          1.0256277741515756,
          0.34200518443172706,
          0.49253049523123815,
          -1.595301032000479,
          0.3949717712068479,
          -0.32157059990925524,
          -0.40680443581217035,
          1.1966551165712613,
          0.2822399390536095,
          -0.07775636065641416,
          2.0377626551843737,
          1.3050807025804394,
          -0.28412285719843405,
          0.1116067496020979,
          1.4014929565079186,
          -2.4319952476680715,
          -1.1037745990460548,
          -0.3226779481808536,
          -0.06624380072375628,
          -0.5081440222449597,
          -1.0079721004480366,
          -0.06359935585586599,
          1.225085723673325,
          1.3585351275230693,
          0.3418412205279284,
          -0.8430366362011602,
          0.5224342649477417,
          1.452293858051099,
          1.308642822045769,
          0.619401294147941,
          -1.3609801136045452,
          -0.3332084882878469,
          0.9667782591878893,
          0.2968612966065134,
          -0.8685699543749293,
          0.18433284499816469,
          0.21945059201802256,
          -1.4431518392390728,
          -0.16480929714894385,
          -0.1996466897872002,
          -0.34421042679753155,
          0.45874701039062454,
          -0.5070164171680562,
          0.49201585115563534,
          -1.0272281434830408,
          -1.5902113658293175,
          -0.5110555615220798,
          0.6581034463984738,
          -0.23930294622141307,
          0.5734181543602594,
          0.5167216386232102,
          -0.662434940080114,
          -1.5882504358026166,
          -2.1259339712737955,
          0.837815556214329,
          0.931612326906073,
          0.4739417943881084,
          0.3971628453935395,
          -0.5817596203921983,
          0.12431145539047427,
          -0.822088277727843,
          -0.6728033271307247,
          -0.2859862738040538,
          0.8261242575548362,
          -0.1816970175088003,
          -0.2496242561234655,
          -0.7310916260125805,
          0.6154621974695837,
          0.07629516436952173,
          -2.270041324967681,
          -1.4687126790095575,
          -1.5740038344701714,
          0.3235234457986203,
          0.5341581155124593,
          0.6843101770613879,
          -0.22662260918441646,
          -2.086501049960337,
          0.13829808199979346,
          -0.6283587315638484,
          0.4351463049605794,
          0.09700349246400516,
          -0.9387115293797964
         ],
         "yaxis": "y8"
        },
        {
         "line": {
          "color": "rgba(128, 128, 128, 1.0)",
          "dash": "solid",
          "shape": "linear",
          "width": 1.3
         },
         "marker": {
          "size": 2,
          "symbol": "circle"
         },
         "mode": "markers",
         "name": "C",
         "text": "",
         "type": "scatter",
         "x": [
          -0.27040833546812526,
          0.08130777436700777,
          -1.5627852644492577,
          -0.2744888889596545,
          -1.3807402495046974,
          -1.0705351424149077,
          -0.16047191326162297,
          1.9623749326919784,
          -1.4202858087319434,
          2.2306646991131793,
          2.0627667605639965,
          1.2358806367189576,
          -1.1144160033347206,
          0.2994059231642462,
          -1.3266963971338253,
          1.8034253637887923,
          -0.35866694409300454,
          -1.5168651182538158,
          -1.7517193230369608,
          -0.24854489038284788,
          -2.222255950888016,
          0.12195369323667252,
          -0.10090638648858788,
          -0.504136111985515,
          0.10088071720688169,
          -0.5691650839899056,
          -0.5831979208412037,
          1.870526868030963,
          -0.25398962295793515,
          -1.656833141667139,
          1.9751752331136339,
          0.42665589389048614,
          -0.7644650057486119,
          -1.0233599523112271,
          -1.3845703080701453,
          0.41676864169067723,
          0.16981280033515242,
          0.49389738793836757,
          1.9257781977567854,
          -1.9400175631744279,
          0.29333967748775946,
          1.1949992629121038,
          1.7769411094382328,
          -1.190346737504172,
          0.9553895066266331,
          -1.1426015599282036,
          0.7412020578651592,
          -0.718753059965593,
          -0.29293769881028325,
          0.4930577439369678,
          2.033364404806609,
          -1.8125497966835704,
          -1.4380517678713847,
          1.236334802401583,
          -0.2586154547482286,
          0.5398863162595625,
          0.17836776996372666,
          1.6300719793180487,
          -0.22465116940657961,
          0.4885186677989896,
          -0.8833884064013457,
          1.170268817648967,
          0.2650250636641034,
          0.3156961523700967,
          -2.474040255852097,
          -0.4823510461733897,
          0.6573532491983424,
          0.8226913991345299,
          0.5439660427166113,
          -0.2696888547198674,
          0.39990067617553776,
          0.8491101899180467,
          -0.07909796630667584,
          0.3382709311856161,
          -1.1463729281094484,
          1.7081268085335908,
          -1.6807218958932753,
          -0.668745860074773,
          0.3296232163303582,
          -1.3700631306803732,
          -0.5545716005147747,
          0.21217891816467718,
          -0.1740626915183978,
          -1.056783359415874,
          0.7142458049435187,
          -2.0642262765582444,
          0.27159435271701843,
          0.9924352027785257,
          0.6128875502612596,
          0.5568687516548688,
          2.446638455078288,
          -0.34295262993624026,
          -0.9215212399706968,
          0.4678165045677442,
          -1.4417615042906229,
          -0.09719709420199353,
          -0.010013117800275152,
          0.1125921386452125,
          -0.5800638387253629,
          -0.5188581163623978
         ],
         "xaxis": "x9",
         "y": [
          1.1211970662513233,
          1.7882553952463331,
          0.6095787417343562,
          -0.7978685503219164,
          -1.054540820718089,
          0.935552209246095,
          0.6467828718720946,
          -0.8448435185149318,
          -0.16415442742546268,
          0.6332886681279752,
          2.880236995642649,
          0.09344924914241522,
          1.2184106796557397,
          1.1024396321251881,
          -1.9420459171122197,
          0.6984545873619175,
          -0.02575153495112632,
          -0.6911287219069356,
          -0.12974086961982328,
          -0.7108540634474605,
          0.09650957474547463,
          -0.2394048753255379,
          -1.1867548996989077,
          1.2705278304445915,
          0.00400786264780369,
          1.5081291288747247,
          0.6268263945498519,
          0.19234668443756917,
          -0.644591422972466,
          -0.2879900461607938,
          0.7685971364284684,
          0.7314732934323124,
          0.7350104705015111,
          1.7562883048734677,
          0.38075808379928816,
          1.4815606117987459,
          0.3104819835718878,
          0.682612490586937,
          0.591052677745498,
          0.6100569999048194,
          -1.4763067263117895,
          -0.7566064345211292,
          1.2892187004839144,
          0.9558115107193859,
          0.04361586037957929,
          -0.8176122018357349,
          -1.8942003890998518,
          0.6954957432966362,
          -0.3110659874617991,
          -1.3423195258765368,
          0.8387673546096003,
          1.2943419151912026,
          0.5655406897192649,
          0.9679627527832857,
          -0.3092187880857277,
          -0.21438845451562602,
          1.6787976873909873,
          0.28926212433709086,
          -0.8952193107945672,
          0.07733269069260017,
          0.5422976728824778,
          0.8194048567679139,
          0.960344388098084,
          0.5978292594209408,
          -0.3882728835771806,
          1.1841703054015564,
          0.588831725578845,
          -0.4558549759650901,
          -0.5530186984081414,
          1.199714822740876,
          -0.8040416931761488,
          0.7145449357970964,
          -0.18434981426256083,
          0.976117940465252,
          0.5833657724239505,
          -0.7239592404746668,
          -0.02916975205625252,
          -0.04026400626158386,
          1.485169511368912,
          0.9584471970449069,
          1.123183207296647,
          -0.47333126054082714,
          0.7496204181431738,
          -1.036403319794379,
          -1.008689128846662,
          -0.3089888362957455,
          -0.4281520220857427,
          0.7354142606034626,
          0.3718621731684189,
          -1.348924890729719,
          0.9402634267886293,
          -1.173121234995388,
          -1.2804267533806373,
          1.2483906408612933,
          -0.19047809722350964,
          0.061882497734943705,
          0.894514247807277,
          -0.9769697145576185,
          -1.1625975602618461,
          0.88862523689299
         ],
         "yaxis": "y9"
        },
        {
         "line": {
          "color": "rgba(128, 128, 128, 1.0)",
          "dash": "solid",
          "shape": "linear",
          "width": 1.3
         },
         "marker": {
          "size": 2,
          "symbol": "circle"
         },
         "mode": "markers",
         "name": "C",
         "text": "",
         "type": "scatter",
         "x": [
          -1.206321705433643,
          -2.33119734708676,
          -1.182119721197647,
          0.5773891617232305,
          -0.23432507005351813,
          -0.33395607587489534,
          0.206606394431684,
          -1.041828054565952,
          1.3164705542026072,
          -0.3428669411158307,
          -1.3454064001519515,
          0.7559465164801712,
          -0.20794749416715222,
          -0.6135328159991182,
          -0.380069037972439,
          3.1611795222845105,
          -1.6728132085396286,
          0.34805445029216153,
          1.0256277741515756,
          0.34200518443172706,
          0.49253049523123815,
          -1.595301032000479,
          0.3949717712068479,
          -0.32157059990925524,
          -0.40680443581217035,
          1.1966551165712613,
          0.2822399390536095,
          -0.07775636065641416,
          2.0377626551843737,
          1.3050807025804394,
          -0.28412285719843405,
          0.1116067496020979,
          1.4014929565079186,
          -2.4319952476680715,
          -1.1037745990460548,
          -0.3226779481808536,
          -0.06624380072375628,
          -0.5081440222449597,
          -1.0079721004480366,
          -0.06359935585586599,
          1.225085723673325,
          1.3585351275230693,
          0.3418412205279284,
          -0.8430366362011602,
          0.5224342649477417,
          1.452293858051099,
          1.308642822045769,
          0.619401294147941,
          -1.3609801136045452,
          -0.3332084882878469,
          0.9667782591878893,
          0.2968612966065134,
          -0.8685699543749293,
          0.18433284499816469,
          0.21945059201802256,
          -1.4431518392390728,
          -0.16480929714894385,
          -0.1996466897872002,
          -0.34421042679753155,
          0.45874701039062454,
          -0.5070164171680562,
          0.49201585115563534,
          -1.0272281434830408,
          -1.5902113658293175,
          -0.5110555615220798,
          0.6581034463984738,
          -0.23930294622141307,
          0.5734181543602594,
          0.5167216386232102,
          -0.662434940080114,
          -1.5882504358026166,
          -2.1259339712737955,
          0.837815556214329,
          0.931612326906073,
          0.4739417943881084,
          0.3971628453935395,
          -0.5817596203921983,
          0.12431145539047427,
          -0.822088277727843,
          -0.6728033271307247,
          -0.2859862738040538,
          0.8261242575548362,
          -0.1816970175088003,
          -0.2496242561234655,
          -0.7310916260125805,
          0.6154621974695837,
          0.07629516436952173,
          -2.270041324967681,
          -1.4687126790095575,
          -1.5740038344701714,
          0.3235234457986203,
          0.5341581155124593,
          0.6843101770613879,
          -0.22662260918441646,
          -2.086501049960337,
          0.13829808199979346,
          -0.6283587315638484,
          0.4351463049605794,
          0.09700349246400516,
          -0.9387115293797964
         ],
         "xaxis": "x10",
         "y": [
          1.1211970662513233,
          1.7882553952463331,
          0.6095787417343562,
          -0.7978685503219164,
          -1.054540820718089,
          0.935552209246095,
          0.6467828718720946,
          -0.8448435185149318,
          -0.16415442742546268,
          0.6332886681279752,
          2.880236995642649,
          0.09344924914241522,
          1.2184106796557397,
          1.1024396321251881,
          -1.9420459171122197,
          0.6984545873619175,
          -0.02575153495112632,
          -0.6911287219069356,
          -0.12974086961982328,
          -0.7108540634474605,
          0.09650957474547463,
          -0.2394048753255379,
          -1.1867548996989077,
          1.2705278304445915,
          0.00400786264780369,
          1.5081291288747247,
          0.6268263945498519,
          0.19234668443756917,
          -0.644591422972466,
          -0.2879900461607938,
          0.7685971364284684,
          0.7314732934323124,
          0.7350104705015111,
          1.7562883048734677,
          0.38075808379928816,
          1.4815606117987459,
          0.3104819835718878,
          0.682612490586937,
          0.591052677745498,
          0.6100569999048194,
          -1.4763067263117895,
          -0.7566064345211292,
          1.2892187004839144,
          0.9558115107193859,
          0.04361586037957929,
          -0.8176122018357349,
          -1.8942003890998518,
          0.6954957432966362,
          -0.3110659874617991,
          -1.3423195258765368,
          0.8387673546096003,
          1.2943419151912026,
          0.5655406897192649,
          0.9679627527832857,
          -0.3092187880857277,
          -0.21438845451562602,
          1.6787976873909873,
          0.28926212433709086,
          -0.8952193107945672,
          0.07733269069260017,
          0.5422976728824778,
          0.8194048567679139,
          0.960344388098084,
          0.5978292594209408,
          -0.3882728835771806,
          1.1841703054015564,
          0.588831725578845,
          -0.4558549759650901,
          -0.5530186984081414,
          1.199714822740876,
          -0.8040416931761488,
          0.7145449357970964,
          -0.18434981426256083,
          0.976117940465252,
          0.5833657724239505,
          -0.7239592404746668,
          -0.02916975205625252,
          -0.04026400626158386,
          1.485169511368912,
          0.9584471970449069,
          1.123183207296647,
          -0.47333126054082714,
          0.7496204181431738,
          -1.036403319794379,
          -1.008689128846662,
          -0.3089888362957455,
          -0.4281520220857427,
          0.7354142606034626,
          0.3718621731684189,
          -1.348924890729719,
          0.9402634267886293,
          -1.173121234995388,
          -1.2804267533806373,
          1.2483906408612933,
          -0.19047809722350964,
          0.061882497734943705,
          0.894514247807277,
          -0.9769697145576185,
          -1.1625975602618461,
          0.88862523689299
         ],
         "yaxis": "y10"
        },
        {
         "histfunc": "count",
         "histnorm": "",
         "marker": {
          "color": "rgba(50, 171, 96, 1.0)",
          "line": {
           "color": "#4D5663",
           "width": 1.3
          }
         },
         "name": "C",
         "nbinsx": 10,
         "opacity": 0.8,
         "orientation": "v",
         "type": "histogram",
         "x": [
          1.1211970662513233,
          1.7882553952463331,
          0.6095787417343562,
          -0.7978685503219164,
          -1.054540820718089,
          0.935552209246095,
          0.6467828718720946,
          -0.8448435185149318,
          -0.16415442742546268,
          0.6332886681279752,
          2.880236995642649,
          0.09344924914241522,
          1.2184106796557397,
          1.1024396321251881,
          -1.9420459171122197,
          0.6984545873619175,
          -0.02575153495112632,
          -0.6911287219069356,
          -0.12974086961982328,
          -0.7108540634474605,
          0.09650957474547463,
          -0.2394048753255379,
          -1.1867548996989077,
          1.2705278304445915,
          0.00400786264780369,
          1.5081291288747247,
          0.6268263945498519,
          0.19234668443756917,
          -0.644591422972466,
          -0.2879900461607938,
          0.7685971364284684,
          0.7314732934323124,
          0.7350104705015111,
          1.7562883048734677,
          0.38075808379928816,
          1.4815606117987459,
          0.3104819835718878,
          0.682612490586937,
          0.591052677745498,
          0.6100569999048194,
          -1.4763067263117895,
          -0.7566064345211292,
          1.2892187004839144,
          0.9558115107193859,
          0.04361586037957929,
          -0.8176122018357349,
          -1.8942003890998518,
          0.6954957432966362,
          -0.3110659874617991,
          -1.3423195258765368,
          0.8387673546096003,
          1.2943419151912026,
          0.5655406897192649,
          0.9679627527832857,
          -0.3092187880857277,
          -0.21438845451562602,
          1.6787976873909873,
          0.28926212433709086,
          -0.8952193107945672,
          0.07733269069260017,
          0.5422976728824778,
          0.8194048567679139,
          0.960344388098084,
          0.5978292594209408,
          -0.3882728835771806,
          1.1841703054015564,
          0.588831725578845,
          -0.4558549759650901,
          -0.5530186984081414,
          1.199714822740876,
          -0.8040416931761488,
          0.7145449357970964,
          -0.18434981426256083,
          0.976117940465252,
          0.5833657724239505,
          -0.7239592404746668,
          -0.02916975205625252,
          -0.04026400626158386,
          1.485169511368912,
          0.9584471970449069,
          1.123183207296647,
          -0.47333126054082714,
          0.7496204181431738,
          -1.036403319794379,
          -1.008689128846662,
          -0.3089888362957455,
          -0.4281520220857427,
          0.7354142606034626,
          0.3718621731684189,
          -1.348924890729719,
          0.9402634267886293,
          -1.173121234995388,
          -1.2804267533806373,
          1.2483906408612933,
          -0.19047809722350964,
          0.061882497734943705,
          0.894514247807277,
          -0.9769697145576185,
          -1.1625975602618461,
          0.88862523689299
         ],
         "xaxis": "x11",
         "yaxis": "y11"
        },
        {
         "line": {
          "color": "rgba(128, 128, 128, 1.0)",
          "dash": "solid",
          "shape": "linear",
          "width": 1.3
         },
         "marker": {
          "size": 2,
          "symbol": "circle"
         },
         "mode": "markers",
         "name": "C",
         "text": "",
         "type": "scatter",
         "x": [
          -1.156885693248452,
          -2.553159962142852,
          0.5379500065642159,
          0.871269687667783,
          0.5418377115602929,
          1.0033889033373784,
          0.6339382484336021,
          0.8449194631288077,
          -0.08553384058369162,
          1.21512204383602,
          0.3367382167702626,
          0.5335611393688916,
          -0.7311983528799699,
          -1.1080221840374995,
          0.38809969573177716,
          0.8887734032735815,
          -0.3999772302887955,
          0.4599378592688925,
          -0.8416065462285255,
          0.5371312804976668,
          -1.2866909093142191,
          -0.23833899619013507,
          -0.46850464579090906,
          1.3089893378811284,
          -1.113431920823541,
          -1.3923670896840379,
          -0.014942185529081584,
          -0.3500662529822038,
          0.2559508726088374,
          -0.6971183344865342,
          0.5929666934111997,
          -1.1856366086326908,
          0.02687039640606976,
          1.2170269945822565,
          0.6098493861295342,
          0.01586800777935647,
          -0.757849496823997,
          -0.6932607280860964,
          0.49774236939414956,
          0.5639114101178272,
          -0.6696266017038403,
          0.34616509172190696,
          -0.8879535829963261,
          -0.8503463726832305,
          -0.7734114881918962,
          0.8282705022951898,
          -0.3151422272395916,
          -0.253917385061128,
          -0.6740530413495274,
          -0.21448561608275726,
          1.3642596557161448,
          -0.5083422252979257,
          1.024827055779126,
          -0.04892696752251287,
          0.06270078899000447,
          0.38468689158174413,
          0.392565732767905,
          -1.7881143547914042,
          -1.252420847446051,
          -0.5607233795777918,
          0.4356785062000733,
          0.04075118168397469,
          -0.7874336634441192,
          -0.1908231405751445,
          1.0848700881810873,
          0.948419710469015,
          -1.4798711859436786,
          0.3975993212128095,
          1.5461488110325188,
          0.011654502987384158,
          -0.9783502667430807,
          -0.9827186790974953,
          -0.8948045067779946,
          -0.5401443086843247,
          0.08118394346748879,
          -0.14169083693340548,
          0.21637771655999993,
          1.5083311319047112,
          -0.5348406710251433,
          0.4668236657115528,
          0.5394145805576618,
          -0.2756526372644226,
          0.009935220820154593,
          -0.8311808876227527,
          0.258594993982803,
          -0.7026656788219977,
          1.2980258618001015,
          -1.6375152690495511,
          0.09765685608872741,
          -0.42869855993991474,
          0.6391259488191646,
          0.9215632733843807,
          0.08707376340362018,
          -1.6957124085925666,
          -0.33289808932221016,
          1.277689456277632,
          0.5297677583794602,
          0.8206117127177954,
          1.1661296765277478,
          1.3126610601569062
         ],
         "xaxis": "x12",
         "y": [
          1.1211970662513233,
          1.7882553952463331,
          0.6095787417343562,
          -0.7978685503219164,
          -1.054540820718089,
          0.935552209246095,
          0.6467828718720946,
          -0.8448435185149318,
          -0.16415442742546268,
          0.6332886681279752,
          2.880236995642649,
          0.09344924914241522,
          1.2184106796557397,
          1.1024396321251881,
          -1.9420459171122197,
          0.6984545873619175,
          -0.02575153495112632,
          -0.6911287219069356,
          -0.12974086961982328,
          -0.7108540634474605,
          0.09650957474547463,
          -0.2394048753255379,
          -1.1867548996989077,
          1.2705278304445915,
          0.00400786264780369,
          1.5081291288747247,
          0.6268263945498519,
          0.19234668443756917,
          -0.644591422972466,
          -0.2879900461607938,
          0.7685971364284684,
          0.7314732934323124,
          0.7350104705015111,
          1.7562883048734677,
          0.38075808379928816,
          1.4815606117987459,
          0.3104819835718878,
          0.682612490586937,
          0.591052677745498,
          0.6100569999048194,
          -1.4763067263117895,
          -0.7566064345211292,
          1.2892187004839144,
          0.9558115107193859,
          0.04361586037957929,
          -0.8176122018357349,
          -1.8942003890998518,
          0.6954957432966362,
          -0.3110659874617991,
          -1.3423195258765368,
          0.8387673546096003,
          1.2943419151912026,
          0.5655406897192649,
          0.9679627527832857,
          -0.3092187880857277,
          -0.21438845451562602,
          1.6787976873909873,
          0.28926212433709086,
          -0.8952193107945672,
          0.07733269069260017,
          0.5422976728824778,
          0.8194048567679139,
          0.960344388098084,
          0.5978292594209408,
          -0.3882728835771806,
          1.1841703054015564,
          0.588831725578845,
          -0.4558549759650901,
          -0.5530186984081414,
          1.199714822740876,
          -0.8040416931761488,
          0.7145449357970964,
          -0.18434981426256083,
          0.976117940465252,
          0.5833657724239505,
          -0.7239592404746668,
          -0.02916975205625252,
          -0.04026400626158386,
          1.485169511368912,
          0.9584471970449069,
          1.123183207296647,
          -0.47333126054082714,
          0.7496204181431738,
          -1.036403319794379,
          -1.008689128846662,
          -0.3089888362957455,
          -0.4281520220857427,
          0.7354142606034626,
          0.3718621731684189,
          -1.348924890729719,
          0.9402634267886293,
          -1.173121234995388,
          -1.2804267533806373,
          1.2483906408612933,
          -0.19047809722350964,
          0.061882497734943705,
          0.894514247807277,
          -0.9769697145576185,
          -1.1625975602618461,
          0.88862523689299
         ],
         "yaxis": "y12"
        },
        {
         "line": {
          "color": "rgba(128, 128, 128, 1.0)",
          "dash": "solid",
          "shape": "linear",
          "width": 1.3
         },
         "marker": {
          "size": 2,
          "symbol": "circle"
         },
         "mode": "markers",
         "name": "D",
         "text": "",
         "type": "scatter",
         "x": [
          -0.27040833546812526,
          0.08130777436700777,
          -1.5627852644492577,
          -0.2744888889596545,
          -1.3807402495046974,
          -1.0705351424149077,
          -0.16047191326162297,
          1.9623749326919784,
          -1.4202858087319434,
          2.2306646991131793,
          2.0627667605639965,
          1.2358806367189576,
          -1.1144160033347206,
          0.2994059231642462,
          -1.3266963971338253,
          1.8034253637887923,
          -0.35866694409300454,
          -1.5168651182538158,
          -1.7517193230369608,
          -0.24854489038284788,
          -2.222255950888016,
          0.12195369323667252,
          -0.10090638648858788,
          -0.504136111985515,
          0.10088071720688169,
          -0.5691650839899056,
          -0.5831979208412037,
          1.870526868030963,
          -0.25398962295793515,
          -1.656833141667139,
          1.9751752331136339,
          0.42665589389048614,
          -0.7644650057486119,
          -1.0233599523112271,
          -1.3845703080701453,
          0.41676864169067723,
          0.16981280033515242,
          0.49389738793836757,
          1.9257781977567854,
          -1.9400175631744279,
          0.29333967748775946,
          1.1949992629121038,
          1.7769411094382328,
          -1.190346737504172,
          0.9553895066266331,
          -1.1426015599282036,
          0.7412020578651592,
          -0.718753059965593,
          -0.29293769881028325,
          0.4930577439369678,
          2.033364404806609,
          -1.8125497966835704,
          -1.4380517678713847,
          1.236334802401583,
          -0.2586154547482286,
          0.5398863162595625,
          0.17836776996372666,
          1.6300719793180487,
          -0.22465116940657961,
          0.4885186677989896,
          -0.8833884064013457,
          1.170268817648967,
          0.2650250636641034,
          0.3156961523700967,
          -2.474040255852097,
          -0.4823510461733897,
          0.6573532491983424,
          0.8226913991345299,
          0.5439660427166113,
          -0.2696888547198674,
          0.39990067617553776,
          0.8491101899180467,
          -0.07909796630667584,
          0.3382709311856161,
          -1.1463729281094484,
          1.7081268085335908,
          -1.6807218958932753,
          -0.668745860074773,
          0.3296232163303582,
          -1.3700631306803732,
          -0.5545716005147747,
          0.21217891816467718,
          -0.1740626915183978,
          -1.056783359415874,
          0.7142458049435187,
          -2.0642262765582444,
          0.27159435271701843,
          0.9924352027785257,
          0.6128875502612596,
          0.5568687516548688,
          2.446638455078288,
          -0.34295262993624026,
          -0.9215212399706968,
          0.4678165045677442,
          -1.4417615042906229,
          -0.09719709420199353,
          -0.010013117800275152,
          0.1125921386452125,
          -0.5800638387253629,
          -0.5188581163623978
         ],
         "xaxis": "x13",
         "y": [
          -1.156885693248452,
          -2.553159962142852,
          0.5379500065642159,
          0.871269687667783,
          0.5418377115602929,
          1.0033889033373784,
          0.6339382484336021,
          0.8449194631288077,
          -0.08553384058369162,
          1.21512204383602,
          0.3367382167702626,
          0.5335611393688916,
          -0.7311983528799699,
          -1.1080221840374995,
          0.38809969573177716,
          0.8887734032735815,
          -0.3999772302887955,
          0.4599378592688925,
          -0.8416065462285255,
          0.5371312804976668,
          -1.2866909093142191,
          -0.23833899619013507,
          -0.46850464579090906,
          1.3089893378811284,
          -1.113431920823541,
          -1.3923670896840379,
          -0.014942185529081584,
          -0.3500662529822038,
          0.2559508726088374,
          -0.6971183344865342,
          0.5929666934111997,
          -1.1856366086326908,
          0.02687039640606976,
          1.2170269945822565,
          0.6098493861295342,
          0.01586800777935647,
          -0.757849496823997,
          -0.6932607280860964,
          0.49774236939414956,
          0.5639114101178272,
          -0.6696266017038403,
          0.34616509172190696,
          -0.8879535829963261,
          -0.8503463726832305,
          -0.7734114881918962,
          0.8282705022951898,
          -0.3151422272395916,
          -0.253917385061128,
          -0.6740530413495274,
          -0.21448561608275726,
          1.3642596557161448,
          -0.5083422252979257,
          1.024827055779126,
          -0.04892696752251287,
          0.06270078899000447,
          0.38468689158174413,
          0.392565732767905,
          -1.7881143547914042,
          -1.252420847446051,
          -0.5607233795777918,
          0.4356785062000733,
          0.04075118168397469,
          -0.7874336634441192,
          -0.1908231405751445,
          1.0848700881810873,
          0.948419710469015,
          -1.4798711859436786,
          0.3975993212128095,
          1.5461488110325188,
          0.011654502987384158,
          -0.9783502667430807,
          -0.9827186790974953,
          -0.8948045067779946,
          -0.5401443086843247,
          0.08118394346748879,
          -0.14169083693340548,
          0.21637771655999993,
          1.5083311319047112,
          -0.5348406710251433,
          0.4668236657115528,
          0.5394145805576618,
          -0.2756526372644226,
          0.009935220820154593,
          -0.8311808876227527,
          0.258594993982803,
          -0.7026656788219977,
          1.2980258618001015,
          -1.6375152690495511,
          0.09765685608872741,
          -0.42869855993991474,
          0.6391259488191646,
          0.9215632733843807,
          0.08707376340362018,
          -1.6957124085925666,
          -0.33289808932221016,
          1.277689456277632,
          0.5297677583794602,
          0.8206117127177954,
          1.1661296765277478,
          1.3126610601569062
         ],
         "yaxis": "y13"
        },
        {
         "line": {
          "color": "rgba(128, 128, 128, 1.0)",
          "dash": "solid",
          "shape": "linear",
          "width": 1.3
         },
         "marker": {
          "size": 2,
          "symbol": "circle"
         },
         "mode": "markers",
         "name": "D",
         "text": "",
         "type": "scatter",
         "x": [
          -1.206321705433643,
          -2.33119734708676,
          -1.182119721197647,
          0.5773891617232305,
          -0.23432507005351813,
          -0.33395607587489534,
          0.206606394431684,
          -1.041828054565952,
          1.3164705542026072,
          -0.3428669411158307,
          -1.3454064001519515,
          0.7559465164801712,
          -0.20794749416715222,
          -0.6135328159991182,
          -0.380069037972439,
          3.1611795222845105,
          -1.6728132085396286,
          0.34805445029216153,
          1.0256277741515756,
          0.34200518443172706,
          0.49253049523123815,
          -1.595301032000479,
          0.3949717712068479,
          -0.32157059990925524,
          -0.40680443581217035,
          1.1966551165712613,
          0.2822399390536095,
          -0.07775636065641416,
          2.0377626551843737,
          1.3050807025804394,
          -0.28412285719843405,
          0.1116067496020979,
          1.4014929565079186,
          -2.4319952476680715,
          -1.1037745990460548,
          -0.3226779481808536,
          -0.06624380072375628,
          -0.5081440222449597,
          -1.0079721004480366,
          -0.06359935585586599,
          1.225085723673325,
          1.3585351275230693,
          0.3418412205279284,
          -0.8430366362011602,
          0.5224342649477417,
          1.452293858051099,
          1.308642822045769,
          0.619401294147941,
          -1.3609801136045452,
          -0.3332084882878469,
          0.9667782591878893,
          0.2968612966065134,
          -0.8685699543749293,
          0.18433284499816469,
          0.21945059201802256,
          -1.4431518392390728,
          -0.16480929714894385,
          -0.1996466897872002,
          -0.34421042679753155,
          0.45874701039062454,
          -0.5070164171680562,
          0.49201585115563534,
          -1.0272281434830408,
          -1.5902113658293175,
          -0.5110555615220798,
          0.6581034463984738,
          -0.23930294622141307,
          0.5734181543602594,
          0.5167216386232102,
          -0.662434940080114,
          -1.5882504358026166,
          -2.1259339712737955,
          0.837815556214329,
          0.931612326906073,
          0.4739417943881084,
          0.3971628453935395,
          -0.5817596203921983,
          0.12431145539047427,
          -0.822088277727843,
          -0.6728033271307247,
          -0.2859862738040538,
          0.8261242575548362,
          -0.1816970175088003,
          -0.2496242561234655,
          -0.7310916260125805,
          0.6154621974695837,
          0.07629516436952173,
          -2.270041324967681,
          -1.4687126790095575,
          -1.5740038344701714,
          0.3235234457986203,
          0.5341581155124593,
          0.6843101770613879,
          -0.22662260918441646,
          -2.086501049960337,
          0.13829808199979346,
          -0.6283587315638484,
          0.4351463049605794,
          0.09700349246400516,
          -0.9387115293797964
         ],
         "xaxis": "x14",
         "y": [
          -1.156885693248452,
          -2.553159962142852,
          0.5379500065642159,
          0.871269687667783,
          0.5418377115602929,
          1.0033889033373784,
          0.6339382484336021,
          0.8449194631288077,
          -0.08553384058369162,
          1.21512204383602,
          0.3367382167702626,
          0.5335611393688916,
          -0.7311983528799699,
          -1.1080221840374995,
          0.38809969573177716,
          0.8887734032735815,
          -0.3999772302887955,
          0.4599378592688925,
          -0.8416065462285255,
          0.5371312804976668,
          -1.2866909093142191,
          -0.23833899619013507,
          -0.46850464579090906,
          1.3089893378811284,
          -1.113431920823541,
          -1.3923670896840379,
          -0.014942185529081584,
          -0.3500662529822038,
          0.2559508726088374,
          -0.6971183344865342,
          0.5929666934111997,
          -1.1856366086326908,
          0.02687039640606976,
          1.2170269945822565,
          0.6098493861295342,
          0.01586800777935647,
          -0.757849496823997,
          -0.6932607280860964,
          0.49774236939414956,
          0.5639114101178272,
          -0.6696266017038403,
          0.34616509172190696,
          -0.8879535829963261,
          -0.8503463726832305,
          -0.7734114881918962,
          0.8282705022951898,
          -0.3151422272395916,
          -0.253917385061128,
          -0.6740530413495274,
          -0.21448561608275726,
          1.3642596557161448,
          -0.5083422252979257,
          1.024827055779126,
          -0.04892696752251287,
          0.06270078899000447,
          0.38468689158174413,
          0.392565732767905,
          -1.7881143547914042,
          -1.252420847446051,
          -0.5607233795777918,
          0.4356785062000733,
          0.04075118168397469,
          -0.7874336634441192,
          -0.1908231405751445,
          1.0848700881810873,
          0.948419710469015,
          -1.4798711859436786,
          0.3975993212128095,
          1.5461488110325188,
          0.011654502987384158,
          -0.9783502667430807,
          -0.9827186790974953,
          -0.8948045067779946,
          -0.5401443086843247,
          0.08118394346748879,
          -0.14169083693340548,
          0.21637771655999993,
          1.5083311319047112,
          -0.5348406710251433,
          0.4668236657115528,
          0.5394145805576618,
          -0.2756526372644226,
          0.009935220820154593,
          -0.8311808876227527,
          0.258594993982803,
          -0.7026656788219977,
          1.2980258618001015,
          -1.6375152690495511,
          0.09765685608872741,
          -0.42869855993991474,
          0.6391259488191646,
          0.9215632733843807,
          0.08707376340362018,
          -1.6957124085925666,
          -0.33289808932221016,
          1.277689456277632,
          0.5297677583794602,
          0.8206117127177954,
          1.1661296765277478,
          1.3126610601569062
         ],
         "yaxis": "y14"
        },
        {
         "line": {
          "color": "rgba(128, 128, 128, 1.0)",
          "dash": "solid",
          "shape": "linear",
          "width": 1.3
         },
         "marker": {
          "size": 2,
          "symbol": "circle"
         },
         "mode": "markers",
         "name": "D",
         "text": "",
         "type": "scatter",
         "x": [
          1.1211970662513233,
          1.7882553952463331,
          0.6095787417343562,
          -0.7978685503219164,
          -1.054540820718089,
          0.935552209246095,
          0.6467828718720946,
          -0.8448435185149318,
          -0.16415442742546268,
          0.6332886681279752,
          2.880236995642649,
          0.09344924914241522,
          1.2184106796557397,
          1.1024396321251881,
          -1.9420459171122197,
          0.6984545873619175,
          -0.02575153495112632,
          -0.6911287219069356,
          -0.12974086961982328,
          -0.7108540634474605,
          0.09650957474547463,
          -0.2394048753255379,
          -1.1867548996989077,
          1.2705278304445915,
          0.00400786264780369,
          1.5081291288747247,
          0.6268263945498519,
          0.19234668443756917,
          -0.644591422972466,
          -0.2879900461607938,
          0.7685971364284684,
          0.7314732934323124,
          0.7350104705015111,
          1.7562883048734677,
          0.38075808379928816,
          1.4815606117987459,
          0.3104819835718878,
          0.682612490586937,
          0.591052677745498,
          0.6100569999048194,
          -1.4763067263117895,
          -0.7566064345211292,
          1.2892187004839144,
          0.9558115107193859,
          0.04361586037957929,
          -0.8176122018357349,
          -1.8942003890998518,
          0.6954957432966362,
          -0.3110659874617991,
          -1.3423195258765368,
          0.8387673546096003,
          1.2943419151912026,
          0.5655406897192649,
          0.9679627527832857,
          -0.3092187880857277,
          -0.21438845451562602,
          1.6787976873909873,
          0.28926212433709086,
          -0.8952193107945672,
          0.07733269069260017,
          0.5422976728824778,
          0.8194048567679139,
          0.960344388098084,
          0.5978292594209408,
          -0.3882728835771806,
          1.1841703054015564,
          0.588831725578845,
          -0.4558549759650901,
          -0.5530186984081414,
          1.199714822740876,
          -0.8040416931761488,
          0.7145449357970964,
          -0.18434981426256083,
          0.976117940465252,
          0.5833657724239505,
          -0.7239592404746668,
          -0.02916975205625252,
          -0.04026400626158386,
          1.485169511368912,
          0.9584471970449069,
          1.123183207296647,
          -0.47333126054082714,
          0.7496204181431738,
          -1.036403319794379,
          -1.008689128846662,
          -0.3089888362957455,
          -0.4281520220857427,
          0.7354142606034626,
          0.3718621731684189,
          -1.348924890729719,
          0.9402634267886293,
          -1.173121234995388,
          -1.2804267533806373,
          1.2483906408612933,
          -0.19047809722350964,
          0.061882497734943705,
          0.894514247807277,
          -0.9769697145576185,
          -1.1625975602618461,
          0.88862523689299
         ],
         "xaxis": "x15",
         "y": [
          -1.156885693248452,
          -2.553159962142852,
          0.5379500065642159,
          0.871269687667783,
          0.5418377115602929,
          1.0033889033373784,
          0.6339382484336021,
          0.8449194631288077,
          -0.08553384058369162,
          1.21512204383602,
          0.3367382167702626,
          0.5335611393688916,
          -0.7311983528799699,
          -1.1080221840374995,
          0.38809969573177716,
          0.8887734032735815,
          -0.3999772302887955,
          0.4599378592688925,
          -0.8416065462285255,
          0.5371312804976668,
          -1.2866909093142191,
          -0.23833899619013507,
          -0.46850464579090906,
          1.3089893378811284,
          -1.113431920823541,
          -1.3923670896840379,
          -0.014942185529081584,
          -0.3500662529822038,
          0.2559508726088374,
          -0.6971183344865342,
          0.5929666934111997,
          -1.1856366086326908,
          0.02687039640606976,
          1.2170269945822565,
          0.6098493861295342,
          0.01586800777935647,
          -0.757849496823997,
          -0.6932607280860964,
          0.49774236939414956,
          0.5639114101178272,
          -0.6696266017038403,
          0.34616509172190696,
          -0.8879535829963261,
          -0.8503463726832305,
          -0.7734114881918962,
          0.8282705022951898,
          -0.3151422272395916,
          -0.253917385061128,
          -0.6740530413495274,
          -0.21448561608275726,
          1.3642596557161448,
          -0.5083422252979257,
          1.024827055779126,
          -0.04892696752251287,
          0.06270078899000447,
          0.38468689158174413,
          0.392565732767905,
          -1.7881143547914042,
          -1.252420847446051,
          -0.5607233795777918,
          0.4356785062000733,
          0.04075118168397469,
          -0.7874336634441192,
          -0.1908231405751445,
          1.0848700881810873,
          0.948419710469015,
          -1.4798711859436786,
          0.3975993212128095,
          1.5461488110325188,
          0.011654502987384158,
          -0.9783502667430807,
          -0.9827186790974953,
          -0.8948045067779946,
          -0.5401443086843247,
          0.08118394346748879,
          -0.14169083693340548,
          0.21637771655999993,
          1.5083311319047112,
          -0.5348406710251433,
          0.4668236657115528,
          0.5394145805576618,
          -0.2756526372644226,
          0.009935220820154593,
          -0.8311808876227527,
          0.258594993982803,
          -0.7026656788219977,
          1.2980258618001015,
          -1.6375152690495511,
          0.09765685608872741,
          -0.42869855993991474,
          0.6391259488191646,
          0.9215632733843807,
          0.08707376340362018,
          -1.6957124085925666,
          -0.33289808932221016,
          1.277689456277632,
          0.5297677583794602,
          0.8206117127177954,
          1.1661296765277478,
          1.3126610601569062
         ],
         "yaxis": "y15"
        },
        {
         "histfunc": "count",
         "histnorm": "",
         "marker": {
          "color": "rgba(128, 0, 128, 1.0)",
          "line": {
           "color": "#4D5663",
           "width": 1.3
          }
         },
         "name": "D",
         "nbinsx": 10,
         "opacity": 0.8,
         "orientation": "v",
         "type": "histogram",
         "x": [
          -1.156885693248452,
          -2.553159962142852,
          0.5379500065642159,
          0.871269687667783,
          0.5418377115602929,
          1.0033889033373784,
          0.6339382484336021,
          0.8449194631288077,
          -0.08553384058369162,
          1.21512204383602,
          0.3367382167702626,
          0.5335611393688916,
          -0.7311983528799699,
          -1.1080221840374995,
          0.38809969573177716,
          0.8887734032735815,
          -0.3999772302887955,
          0.4599378592688925,
          -0.8416065462285255,
          0.5371312804976668,
          -1.2866909093142191,
          -0.23833899619013507,
          -0.46850464579090906,
          1.3089893378811284,
          -1.113431920823541,
          -1.3923670896840379,
          -0.014942185529081584,
          -0.3500662529822038,
          0.2559508726088374,
          -0.6971183344865342,
          0.5929666934111997,
          -1.1856366086326908,
          0.02687039640606976,
          1.2170269945822565,
          0.6098493861295342,
          0.01586800777935647,
          -0.757849496823997,
          -0.6932607280860964,
          0.49774236939414956,
          0.5639114101178272,
          -0.6696266017038403,
          0.34616509172190696,
          -0.8879535829963261,
          -0.8503463726832305,
          -0.7734114881918962,
          0.8282705022951898,
          -0.3151422272395916,
          -0.253917385061128,
          -0.6740530413495274,
          -0.21448561608275726,
          1.3642596557161448,
          -0.5083422252979257,
          1.024827055779126,
          -0.04892696752251287,
          0.06270078899000447,
          0.38468689158174413,
          0.392565732767905,
          -1.7881143547914042,
          -1.252420847446051,
          -0.5607233795777918,
          0.4356785062000733,
          0.04075118168397469,
          -0.7874336634441192,
          -0.1908231405751445,
          1.0848700881810873,
          0.948419710469015,
          -1.4798711859436786,
          0.3975993212128095,
          1.5461488110325188,
          0.011654502987384158,
          -0.9783502667430807,
          -0.9827186790974953,
          -0.8948045067779946,
          -0.5401443086843247,
          0.08118394346748879,
          -0.14169083693340548,
          0.21637771655999993,
          1.5083311319047112,
          -0.5348406710251433,
          0.4668236657115528,
          0.5394145805576618,
          -0.2756526372644226,
          0.009935220820154593,
          -0.8311808876227527,
          0.258594993982803,
          -0.7026656788219977,
          1.2980258618001015,
          -1.6375152690495511,
          0.09765685608872741,
          -0.42869855993991474,
          0.6391259488191646,
          0.9215632733843807,
          0.08707376340362018,
          -1.6957124085925666,
          -0.33289808932221016,
          1.277689456277632,
          0.5297677583794602,
          0.8206117127177954,
          1.1661296765277478,
          1.3126610601569062
         ],
         "xaxis": "x16",
         "yaxis": "y16"
        }
       ],
       "layout": {
        "bargap": 0.02,
        "legend": {
         "bgcolor": "#F5F6F9",
         "font": {
          "color": "#4D5663"
         }
        },
        "paper_bgcolor": "#F5F6F9",
        "plot_bgcolor": "#F5F6F9",
        "showlegend": false,
        "template": {
         "data": {
          "bar": [
           {
            "error_x": {
             "color": "#2a3f5f"
            },
            "error_y": {
             "color": "#2a3f5f"
            },
            "marker": {
             "line": {
              "color": "#E5ECF6",
              "width": 0.5
             },
             "pattern": {
              "fillmode": "overlay",
              "size": 10,
              "solidity": 0.2
             }
            },
            "type": "bar"
           }
          ],
          "barpolar": [
           {
            "marker": {
             "line": {
              "color": "#E5ECF6",
              "width": 0.5
             },
             "pattern": {
              "fillmode": "overlay",
              "size": 10,
              "solidity": 0.2
             }
            },
            "type": "barpolar"
           }
          ],
          "carpet": [
           {
            "aaxis": {
             "endlinecolor": "#2a3f5f",
             "gridcolor": "white",
             "linecolor": "white",
             "minorgridcolor": "white",
             "startlinecolor": "#2a3f5f"
            },
            "baxis": {
             "endlinecolor": "#2a3f5f",
             "gridcolor": "white",
             "linecolor": "white",
             "minorgridcolor": "white",
             "startlinecolor": "#2a3f5f"
            },
            "type": "carpet"
           }
          ],
          "choropleth": [
           {
            "colorbar": {
             "outlinewidth": 0,
             "ticks": ""
            },
            "type": "choropleth"
           }
          ],
          "contour": [
           {
            "colorbar": {
             "outlinewidth": 0,
             "ticks": ""
            },
            "colorscale": [
             [
              0,
              "#0d0887"
             ],
             [
              0.1111111111111111,
              "#46039f"
             ],
             [
              0.2222222222222222,
              "#7201a8"
             ],
             [
              0.3333333333333333,
              "#9c179e"
             ],
             [
              0.4444444444444444,
              "#bd3786"
             ],
             [
              0.5555555555555556,
              "#d8576b"
             ],
             [
              0.6666666666666666,
              "#ed7953"
             ],
             [
              0.7777777777777778,
              "#fb9f3a"
             ],
             [
              0.8888888888888888,
              "#fdca26"
             ],
             [
              1,
              "#f0f921"
             ]
            ],
            "type": "contour"
           }
          ],
          "contourcarpet": [
           {
            "colorbar": {
             "outlinewidth": 0,
             "ticks": ""
            },
            "type": "contourcarpet"
           }
          ],
          "heatmap": [
           {
            "colorbar": {
             "outlinewidth": 0,
             "ticks": ""
            },
            "colorscale": [
             [
              0,
              "#0d0887"
             ],
             [
              0.1111111111111111,
              "#46039f"
             ],
             [
              0.2222222222222222,
              "#7201a8"
             ],
             [
              0.3333333333333333,
              "#9c179e"
             ],
             [
              0.4444444444444444,
              "#bd3786"
             ],
             [
              0.5555555555555556,
              "#d8576b"
             ],
             [
              0.6666666666666666,
              "#ed7953"
             ],
             [
              0.7777777777777778,
              "#fb9f3a"
             ],
             [
              0.8888888888888888,
              "#fdca26"
             ],
             [
              1,
              "#f0f921"
             ]
            ],
            "type": "heatmap"
           }
          ],
          "heatmapgl": [
           {
            "colorbar": {
             "outlinewidth": 0,
             "ticks": ""
            },
            "colorscale": [
             [
              0,
              "#0d0887"
             ],
             [
              0.1111111111111111,
              "#46039f"
             ],
             [
              0.2222222222222222,
              "#7201a8"
             ],
             [
              0.3333333333333333,
              "#9c179e"
             ],
             [
              0.4444444444444444,
              "#bd3786"
             ],
             [
              0.5555555555555556,
              "#d8576b"
             ],
             [
              0.6666666666666666,
              "#ed7953"
             ],
             [
              0.7777777777777778,
              "#fb9f3a"
             ],
             [
              0.8888888888888888,
              "#fdca26"
             ],
             [
              1,
              "#f0f921"
             ]
            ],
            "type": "heatmapgl"
           }
          ],
          "histogram": [
           {
            "marker": {
             "pattern": {
              "fillmode": "overlay",
              "size": 10,
              "solidity": 0.2
             }
            },
            "type": "histogram"
           }
          ],
          "histogram2d": [
           {
            "colorbar": {
             "outlinewidth": 0,
             "ticks": ""
            },
            "colorscale": [
             [
              0,
              "#0d0887"
             ],
             [
              0.1111111111111111,
              "#46039f"
             ],
             [
              0.2222222222222222,
              "#7201a8"
             ],
             [
              0.3333333333333333,
              "#9c179e"
             ],
             [
              0.4444444444444444,
              "#bd3786"
             ],
             [
              0.5555555555555556,
              "#d8576b"
             ],
             [
              0.6666666666666666,
              "#ed7953"
             ],
             [
              0.7777777777777778,
              "#fb9f3a"
             ],
             [
              0.8888888888888888,
              "#fdca26"
             ],
             [
              1,
              "#f0f921"
             ]
            ],
            "type": "histogram2d"
           }
          ],
          "histogram2dcontour": [
           {
            "colorbar": {
             "outlinewidth": 0,
             "ticks": ""
            },
            "colorscale": [
             [
              0,
              "#0d0887"
             ],
             [
              0.1111111111111111,
              "#46039f"
             ],
             [
              0.2222222222222222,
              "#7201a8"
             ],
             [
              0.3333333333333333,
              "#9c179e"
             ],
             [
              0.4444444444444444,
              "#bd3786"
             ],
             [
              0.5555555555555556,
              "#d8576b"
             ],
             [
              0.6666666666666666,
              "#ed7953"
             ],
             [
              0.7777777777777778,
              "#fb9f3a"
             ],
             [
              0.8888888888888888,
              "#fdca26"
             ],
             [
              1,
              "#f0f921"
             ]
            ],
            "type": "histogram2dcontour"
           }
          ],
          "mesh3d": [
           {
            "colorbar": {
             "outlinewidth": 0,
             "ticks": ""
            },
            "type": "mesh3d"
           }
          ],
          "parcoords": [
           {
            "line": {
             "colorbar": {
              "outlinewidth": 0,
              "ticks": ""
             }
            },
            "type": "parcoords"
           }
          ],
          "pie": [
           {
            "automargin": true,
            "type": "pie"
           }
          ],
          "scatter": [
           {
            "marker": {
             "colorbar": {
              "outlinewidth": 0,
              "ticks": ""
             }
            },
            "type": "scatter"
           }
          ],
          "scatter3d": [
           {
            "line": {
             "colorbar": {
              "outlinewidth": 0,
              "ticks": ""
             }
            },
            "marker": {
             "colorbar": {
              "outlinewidth": 0,
              "ticks": ""
             }
            },
            "type": "scatter3d"
           }
          ],
          "scattercarpet": [
           {
            "marker": {
             "colorbar": {
              "outlinewidth": 0,
              "ticks": ""
             }
            },
            "type": "scattercarpet"
           }
          ],
          "scattergeo": [
           {
            "marker": {
             "colorbar": {
              "outlinewidth": 0,
              "ticks": ""
             }
            },
            "type": "scattergeo"
           }
          ],
          "scattergl": [
           {
            "marker": {
             "colorbar": {
              "outlinewidth": 0,
              "ticks": ""
             }
            },
            "type": "scattergl"
           }
          ],
          "scattermapbox": [
           {
            "marker": {
             "colorbar": {
              "outlinewidth": 0,
              "ticks": ""
             }
            },
            "type": "scattermapbox"
           }
          ],
          "scatterpolar": [
           {
            "marker": {
             "colorbar": {
              "outlinewidth": 0,
              "ticks": ""
             }
            },
            "type": "scatterpolar"
           }
          ],
          "scatterpolargl": [
           {
            "marker": {
             "colorbar": {
              "outlinewidth": 0,
              "ticks": ""
             }
            },
            "type": "scatterpolargl"
           }
          ],
          "scatterternary": [
           {
            "marker": {
             "colorbar": {
              "outlinewidth": 0,
              "ticks": ""
             }
            },
            "type": "scatterternary"
           }
          ],
          "surface": [
           {
            "colorbar": {
             "outlinewidth": 0,
             "ticks": ""
            },
            "colorscale": [
             [
              0,
              "#0d0887"
             ],
             [
              0.1111111111111111,
              "#46039f"
             ],
             [
              0.2222222222222222,
              "#7201a8"
             ],
             [
              0.3333333333333333,
              "#9c179e"
             ],
             [
              0.4444444444444444,
              "#bd3786"
             ],
             [
              0.5555555555555556,
              "#d8576b"
             ],
             [
              0.6666666666666666,
              "#ed7953"
             ],
             [
              0.7777777777777778,
              "#fb9f3a"
             ],
             [
              0.8888888888888888,
              "#fdca26"
             ],
             [
              1,
              "#f0f921"
             ]
            ],
            "type": "surface"
           }
          ],
          "table": [
           {
            "cells": {
             "fill": {
              "color": "#EBF0F8"
             },
             "line": {
              "color": "white"
             }
            },
            "header": {
             "fill": {
              "color": "#C8D4E3"
             },
             "line": {
              "color": "white"
             }
            },
            "type": "table"
           }
          ]
         },
         "layout": {
          "annotationdefaults": {
           "arrowcolor": "#2a3f5f",
           "arrowhead": 0,
           "arrowwidth": 1
          },
          "autotypenumbers": "strict",
          "coloraxis": {
           "colorbar": {
            "outlinewidth": 0,
            "ticks": ""
           }
          },
          "colorscale": {
           "diverging": [
            [
             0,
             "#8e0152"
            ],
            [
             0.1,
             "#c51b7d"
            ],
            [
             0.2,
             "#de77ae"
            ],
            [
             0.3,
             "#f1b6da"
            ],
            [
             0.4,
             "#fde0ef"
            ],
            [
             0.5,
             "#f7f7f7"
            ],
            [
             0.6,
             "#e6f5d0"
            ],
            [
             0.7,
             "#b8e186"
            ],
            [
             0.8,
             "#7fbc41"
            ],
            [
             0.9,
             "#4d9221"
            ],
            [
             1,
             "#276419"
            ]
           ],
           "sequential": [
            [
             0,
             "#0d0887"
            ],
            [
             0.1111111111111111,
             "#46039f"
            ],
            [
             0.2222222222222222,
             "#7201a8"
            ],
            [
             0.3333333333333333,
             "#9c179e"
            ],
            [
             0.4444444444444444,
             "#bd3786"
            ],
            [
             0.5555555555555556,
             "#d8576b"
            ],
            [
             0.6666666666666666,
             "#ed7953"
            ],
            [
             0.7777777777777778,
             "#fb9f3a"
            ],
            [
             0.8888888888888888,
             "#fdca26"
            ],
            [
             1,
             "#f0f921"
            ]
           ],
           "sequentialminus": [
            [
             0,
             "#0d0887"
            ],
            [
             0.1111111111111111,
             "#46039f"
            ],
            [
             0.2222222222222222,
             "#7201a8"
            ],
            [
             0.3333333333333333,
             "#9c179e"
            ],
            [
             0.4444444444444444,
             "#bd3786"
            ],
            [
             0.5555555555555556,
             "#d8576b"
            ],
            [
             0.6666666666666666,
             "#ed7953"
            ],
            [
             0.7777777777777778,
             "#fb9f3a"
            ],
            [
             0.8888888888888888,
             "#fdca26"
            ],
            [
             1,
             "#f0f921"
            ]
           ]
          },
          "colorway": [
           "#636efa",
           "#EF553B",
           "#00cc96",
           "#ab63fa",
           "#FFA15A",
           "#19d3f3",
           "#FF6692",
           "#B6E880",
           "#FF97FF",
           "#FECB52"
          ],
          "font": {
           "color": "#2a3f5f"
          },
          "geo": {
           "bgcolor": "white",
           "lakecolor": "white",
           "landcolor": "#E5ECF6",
           "showlakes": true,
           "showland": true,
           "subunitcolor": "white"
          },
          "hoverlabel": {
           "align": "left"
          },
          "hovermode": "closest",
          "mapbox": {
           "style": "light"
          },
          "paper_bgcolor": "white",
          "plot_bgcolor": "#E5ECF6",
          "polar": {
           "angularaxis": {
            "gridcolor": "white",
            "linecolor": "white",
            "ticks": ""
           },
           "bgcolor": "#E5ECF6",
           "radialaxis": {
            "gridcolor": "white",
            "linecolor": "white",
            "ticks": ""
           }
          },
          "scene": {
           "xaxis": {
            "backgroundcolor": "#E5ECF6",
            "gridcolor": "white",
            "gridwidth": 2,
            "linecolor": "white",
            "showbackground": true,
            "ticks": "",
            "zerolinecolor": "white"
           },
           "yaxis": {
            "backgroundcolor": "#E5ECF6",
            "gridcolor": "white",
            "gridwidth": 2,
            "linecolor": "white",
            "showbackground": true,
            "ticks": "",
            "zerolinecolor": "white"
           },
           "zaxis": {
            "backgroundcolor": "#E5ECF6",
            "gridcolor": "white",
            "gridwidth": 2,
            "linecolor": "white",
            "showbackground": true,
            "ticks": "",
            "zerolinecolor": "white"
           }
          },
          "shapedefaults": {
           "line": {
            "color": "#2a3f5f"
           }
          },
          "ternary": {
           "aaxis": {
            "gridcolor": "white",
            "linecolor": "white",
            "ticks": ""
           },
           "baxis": {
            "gridcolor": "white",
            "linecolor": "white",
            "ticks": ""
           },
           "bgcolor": "#E5ECF6",
           "caxis": {
            "gridcolor": "white",
            "linecolor": "white",
            "ticks": ""
           }
          },
          "title": {
           "x": 0.05
          },
          "xaxis": {
           "automargin": true,
           "gridcolor": "white",
           "linecolor": "white",
           "ticks": "",
           "title": {
            "standoff": 15
           },
           "zerolinecolor": "white",
           "zerolinewidth": 2
          },
          "yaxis": {
           "automargin": true,
           "gridcolor": "white",
           "linecolor": "white",
           "ticks": "",
           "title": {
            "standoff": 15
           },
           "zerolinecolor": "white",
           "zerolinewidth": 2
          }
         }
        },
        "title": {
         "font": {
          "color": "#4D5663"
         }
        },
        "xaxis": {
         "anchor": "y",
         "domain": [
          0,
          0.2125
         ],
         "gridcolor": "#E1E5ED",
         "showgrid": false,
         "tickfont": {
          "color": "#4D5663"
         },
         "title": {
          "font": {
           "color": "#4D5663"
          },
          "text": ""
         },
         "zerolinecolor": "#E1E5ED"
        },
        "xaxis10": {
         "anchor": "y10",
         "domain": [
          0.2625,
          0.475
         ],
         "gridcolor": "#E1E5ED",
         "showgrid": false,
         "tickfont": {
          "color": "#4D5663"
         },
         "title": {
          "font": {
           "color": "#4D5663"
          },
          "text": ""
         },
         "zerolinecolor": "#E1E5ED"
        },
        "xaxis11": {
         "anchor": "y11",
         "domain": [
          0.525,
          0.7375
         ],
         "gridcolor": "#E1E5ED",
         "showgrid": false,
         "tickfont": {
          "color": "#4D5663"
         },
         "title": {
          "font": {
           "color": "#4D5663"
          },
          "text": ""
         },
         "zerolinecolor": "#E1E5ED"
        },
        "xaxis12": {
         "anchor": "y12",
         "domain": [
          0.7875,
          1
         ],
         "gridcolor": "#E1E5ED",
         "showgrid": false,
         "tickfont": {
          "color": "#4D5663"
         },
         "title": {
          "font": {
           "color": "#4D5663"
          },
          "text": ""
         },
         "zerolinecolor": "#E1E5ED"
        },
        "xaxis13": {
         "anchor": "y13",
         "domain": [
          0,
          0.2125
         ],
         "gridcolor": "#E1E5ED",
         "showgrid": false,
         "tickfont": {
          "color": "#4D5663"
         },
         "title": {
          "font": {
           "color": "#4D5663"
          },
          "text": ""
         },
         "zerolinecolor": "#E1E5ED"
        },
        "xaxis14": {
         "anchor": "y14",
         "domain": [
          0.2625,
          0.475
         ],
         "gridcolor": "#E1E5ED",
         "showgrid": false,
         "tickfont": {
          "color": "#4D5663"
         },
         "title": {
          "font": {
           "color": "#4D5663"
          },
          "text": ""
         },
         "zerolinecolor": "#E1E5ED"
        },
        "xaxis15": {
         "anchor": "y15",
         "domain": [
          0.525,
          0.7375
         ],
         "gridcolor": "#E1E5ED",
         "showgrid": false,
         "tickfont": {
          "color": "#4D5663"
         },
         "title": {
          "font": {
           "color": "#4D5663"
          },
          "text": ""
         },
         "zerolinecolor": "#E1E5ED"
        },
        "xaxis16": {
         "anchor": "y16",
         "domain": [
          0.7875,
          1
         ],
         "gridcolor": "#E1E5ED",
         "showgrid": false,
         "tickfont": {
          "color": "#4D5663"
         },
         "title": {
          "font": {
           "color": "#4D5663"
          },
          "text": ""
         },
         "zerolinecolor": "#E1E5ED"
        },
        "xaxis2": {
         "anchor": "y2",
         "domain": [
          0.2625,
          0.475
         ],
         "gridcolor": "#E1E5ED",
         "showgrid": false,
         "tickfont": {
          "color": "#4D5663"
         },
         "title": {
          "font": {
           "color": "#4D5663"
          },
          "text": ""
         },
         "zerolinecolor": "#E1E5ED"
        },
        "xaxis3": {
         "anchor": "y3",
         "domain": [
          0.525,
          0.7375
         ],
         "gridcolor": "#E1E5ED",
         "showgrid": false,
         "tickfont": {
          "color": "#4D5663"
         },
         "title": {
          "font": {
           "color": "#4D5663"
          },
          "text": ""
         },
         "zerolinecolor": "#E1E5ED"
        },
        "xaxis4": {
         "anchor": "y4",
         "domain": [
          0.7875,
          1
         ],
         "gridcolor": "#E1E5ED",
         "showgrid": false,
         "tickfont": {
          "color": "#4D5663"
         },
         "title": {
          "font": {
           "color": "#4D5663"
          },
          "text": ""
         },
         "zerolinecolor": "#E1E5ED"
        },
        "xaxis5": {
         "anchor": "y5",
         "domain": [
          0,
          0.2125
         ],
         "gridcolor": "#E1E5ED",
         "showgrid": false,
         "tickfont": {
          "color": "#4D5663"
         },
         "title": {
          "font": {
           "color": "#4D5663"
          },
          "text": ""
         },
         "zerolinecolor": "#E1E5ED"
        },
        "xaxis6": {
         "anchor": "y6",
         "domain": [
          0.2625,
          0.475
         ],
         "gridcolor": "#E1E5ED",
         "showgrid": false,
         "tickfont": {
          "color": "#4D5663"
         },
         "title": {
          "font": {
           "color": "#4D5663"
          },
          "text": ""
         },
         "zerolinecolor": "#E1E5ED"
        },
        "xaxis7": {
         "anchor": "y7",
         "domain": [
          0.525,
          0.7375
         ],
         "gridcolor": "#E1E5ED",
         "showgrid": false,
         "tickfont": {
          "color": "#4D5663"
         },
         "title": {
          "font": {
           "color": "#4D5663"
          },
          "text": ""
         },
         "zerolinecolor": "#E1E5ED"
        },
        "xaxis8": {
         "anchor": "y8",
         "domain": [
          0.7875,
          1
         ],
         "gridcolor": "#E1E5ED",
         "showgrid": false,
         "tickfont": {
          "color": "#4D5663"
         },
         "title": {
          "font": {
           "color": "#4D5663"
          },
          "text": ""
         },
         "zerolinecolor": "#E1E5ED"
        },
        "xaxis9": {
         "anchor": "y9",
         "domain": [
          0,
          0.2125
         ],
         "gridcolor": "#E1E5ED",
         "showgrid": false,
         "tickfont": {
          "color": "#4D5663"
         },
         "title": {
          "font": {
           "color": "#4D5663"
          },
          "text": ""
         },
         "zerolinecolor": "#E1E5ED"
        },
        "yaxis": {
         "anchor": "x",
         "domain": [
          0.8025,
          1
         ],
         "gridcolor": "#E1E5ED",
         "showgrid": false,
         "tickfont": {
          "color": "#4D5663"
         },
         "title": {
          "font": {
           "color": "#4D5663"
          },
          "text": ""
         },
         "zerolinecolor": "#E1E5ED"
        },
        "yaxis10": {
         "anchor": "x10",
         "domain": [
          0.2675,
          0.465
         ],
         "gridcolor": "#E1E5ED",
         "showgrid": false,
         "tickfont": {
          "color": "#4D5663"
         },
         "title": {
          "font": {
           "color": "#4D5663"
          },
          "text": ""
         },
         "zerolinecolor": "#E1E5ED"
        },
        "yaxis11": {
         "anchor": "x11",
         "domain": [
          0.2675,
          0.465
         ],
         "gridcolor": "#E1E5ED",
         "showgrid": false,
         "tickfont": {
          "color": "#4D5663"
         },
         "title": {
          "font": {
           "color": "#4D5663"
          },
          "text": ""
         },
         "zerolinecolor": "#E1E5ED"
        },
        "yaxis12": {
         "anchor": "x12",
         "domain": [
          0.2675,
          0.465
         ],
         "gridcolor": "#E1E5ED",
         "showgrid": false,
         "tickfont": {
          "color": "#4D5663"
         },
         "title": {
          "font": {
           "color": "#4D5663"
          },
          "text": ""
         },
         "zerolinecolor": "#E1E5ED"
        },
        "yaxis13": {
         "anchor": "x13",
         "domain": [
          0,
          0.1975
         ],
         "gridcolor": "#E1E5ED",
         "showgrid": false,
         "tickfont": {
          "color": "#4D5663"
         },
         "title": {
          "font": {
           "color": "#4D5663"
          },
          "text": ""
         },
         "zerolinecolor": "#E1E5ED"
        },
        "yaxis14": {
         "anchor": "x14",
         "domain": [
          0,
          0.1975
         ],
         "gridcolor": "#E1E5ED",
         "showgrid": false,
         "tickfont": {
          "color": "#4D5663"
         },
         "title": {
          "font": {
           "color": "#4D5663"
          },
          "text": ""
         },
         "zerolinecolor": "#E1E5ED"
        },
        "yaxis15": {
         "anchor": "x15",
         "domain": [
          0,
          0.1975
         ],
         "gridcolor": "#E1E5ED",
         "showgrid": false,
         "tickfont": {
          "color": "#4D5663"
         },
         "title": {
          "font": {
           "color": "#4D5663"
          },
          "text": ""
         },
         "zerolinecolor": "#E1E5ED"
        },
        "yaxis16": {
         "anchor": "x16",
         "domain": [
          0,
          0.1975
         ],
         "gridcolor": "#E1E5ED",
         "showgrid": false,
         "tickfont": {
          "color": "#4D5663"
         },
         "title": {
          "font": {
           "color": "#4D5663"
          },
          "text": ""
         },
         "zerolinecolor": "#E1E5ED"
        },
        "yaxis2": {
         "anchor": "x2",
         "domain": [
          0.8025,
          1
         ],
         "gridcolor": "#E1E5ED",
         "showgrid": false,
         "tickfont": {
          "color": "#4D5663"
         },
         "title": {
          "font": {
           "color": "#4D5663"
          },
          "text": ""
         },
         "zerolinecolor": "#E1E5ED"
        },
        "yaxis3": {
         "anchor": "x3",
         "domain": [
          0.8025,
          1
         ],
         "gridcolor": "#E1E5ED",
         "showgrid": false,
         "tickfont": {
          "color": "#4D5663"
         },
         "title": {
          "font": {
           "color": "#4D5663"
          },
          "text": ""
         },
         "zerolinecolor": "#E1E5ED"
        },
        "yaxis4": {
         "anchor": "x4",
         "domain": [
          0.8025,
          1
         ],
         "gridcolor": "#E1E5ED",
         "showgrid": false,
         "tickfont": {
          "color": "#4D5663"
         },
         "title": {
          "font": {
           "color": "#4D5663"
          },
          "text": ""
         },
         "zerolinecolor": "#E1E5ED"
        },
        "yaxis5": {
         "anchor": "x5",
         "domain": [
          0.535,
          0.7325
         ],
         "gridcolor": "#E1E5ED",
         "showgrid": false,
         "tickfont": {
          "color": "#4D5663"
         },
         "title": {
          "font": {
           "color": "#4D5663"
          },
          "text": ""
         },
         "zerolinecolor": "#E1E5ED"
        },
        "yaxis6": {
         "anchor": "x6",
         "domain": [
          0.535,
          0.7325
         ],
         "gridcolor": "#E1E5ED",
         "showgrid": false,
         "tickfont": {
          "color": "#4D5663"
         },
         "title": {
          "font": {
           "color": "#4D5663"
          },
          "text": ""
         },
         "zerolinecolor": "#E1E5ED"
        },
        "yaxis7": {
         "anchor": "x7",
         "domain": [
          0.535,
          0.7325
         ],
         "gridcolor": "#E1E5ED",
         "showgrid": false,
         "tickfont": {
          "color": "#4D5663"
         },
         "title": {
          "font": {
           "color": "#4D5663"
          },
          "text": ""
         },
         "zerolinecolor": "#E1E5ED"
        },
        "yaxis8": {
         "anchor": "x8",
         "domain": [
          0.535,
          0.7325
         ],
         "gridcolor": "#E1E5ED",
         "showgrid": false,
         "tickfont": {
          "color": "#4D5663"
         },
         "title": {
          "font": {
           "color": "#4D5663"
          },
          "text": ""
         },
         "zerolinecolor": "#E1E5ED"
        },
        "yaxis9": {
         "anchor": "x9",
         "domain": [
          0.2675,
          0.465
         ],
         "gridcolor": "#E1E5ED",
         "showgrid": false,
         "tickfont": {
          "color": "#4D5663"
         },
         "title": {
          "font": {
           "color": "#4D5663"
          },
          "text": ""
         },
         "zerolinecolor": "#E1E5ED"
        }
       }
      },
      "text/html": [
       "<div>                            <div id=\"a74721b2-a320-40e6-b8af-4e03ef0f6ebc\" class=\"plotly-graph-div\" style=\"height:525px; width:100%;\"></div>            <script type=\"text/javascript\">                require([\"plotly\"], function(Plotly) {                    window.PLOTLYENV=window.PLOTLYENV || {};\n",
       "                    window.PLOTLYENV.BASE_URL='https://plot.ly';                                    if (document.getElementById(\"a74721b2-a320-40e6-b8af-4e03ef0f6ebc\")) {                    Plotly.newPlot(                        \"a74721b2-a320-40e6-b8af-4e03ef0f6ebc\",                        [{\"histfunc\":\"count\",\"histnorm\":\"\",\"marker\":{\"color\":\"rgba(255, 153, 51, 1.0)\",\"line\":{\"color\":\"#4D5663\",\"width\":1.3}},\"name\":\"A\",\"nbinsx\":10,\"opacity\":0.8,\"orientation\":\"v\",\"type\":\"histogram\",\"x\":[-0.27040833546812526,0.08130777436700777,-1.5627852644492577,-0.2744888889596545,-1.3807402495046974,-1.0705351424149077,-0.16047191326162297,1.9623749326919784,-1.4202858087319434,2.2306646991131793,2.0627667605639965,1.2358806367189576,-1.1144160033347206,0.2994059231642462,-1.3266963971338253,1.8034253637887923,-0.35866694409300454,-1.5168651182538158,-1.7517193230369608,-0.24854489038284788,-2.222255950888016,0.12195369323667252,-0.10090638648858788,-0.504136111985515,0.10088071720688169,-0.5691650839899056,-0.5831979208412037,1.870526868030963,-0.25398962295793515,-1.656833141667139,1.9751752331136339,0.42665589389048614,-0.7644650057486119,-1.0233599523112271,-1.3845703080701453,0.41676864169067723,0.16981280033515242,0.49389738793836757,1.9257781977567854,-1.9400175631744279,0.29333967748775946,1.1949992629121038,1.7769411094382328,-1.190346737504172,0.9553895066266331,-1.1426015599282036,0.7412020578651592,-0.718753059965593,-0.29293769881028325,0.4930577439369678,2.033364404806609,-1.8125497966835704,-1.4380517678713847,1.236334802401583,-0.2586154547482286,0.5398863162595625,0.17836776996372666,1.6300719793180487,-0.22465116940657961,0.4885186677989896,-0.8833884064013457,1.170268817648967,0.2650250636641034,0.3156961523700967,-2.474040255852097,-0.4823510461733897,0.6573532491983424,0.8226913991345299,0.5439660427166113,-0.2696888547198674,0.39990067617553776,0.8491101899180467,-0.07909796630667584,0.3382709311856161,-1.1463729281094484,1.7081268085335908,-1.6807218958932753,-0.668745860074773,0.3296232163303582,-1.3700631306803732,-0.5545716005147747,0.21217891816467718,-0.1740626915183978,-1.056783359415874,0.7142458049435187,-2.0642262765582444,0.27159435271701843,0.9924352027785257,0.6128875502612596,0.5568687516548688,2.446638455078288,-0.34295262993624026,-0.9215212399706968,0.4678165045677442,-1.4417615042906229,-0.09719709420199353,-0.010013117800275152,0.1125921386452125,-0.5800638387253629,-0.5188581163623978],\"xaxis\":\"x\",\"yaxis\":\"y\"},{\"line\":{\"color\":\"rgba(128, 128, 128, 1.0)\",\"dash\":\"solid\",\"shape\":\"linear\",\"width\":1.3},\"marker\":{\"size\":2,\"symbol\":\"circle\"},\"mode\":\"markers\",\"name\":\"A\",\"text\":\"\",\"type\":\"scatter\",\"x\":[-1.206321705433643,-2.33119734708676,-1.182119721197647,0.5773891617232305,-0.23432507005351813,-0.33395607587489534,0.206606394431684,-1.041828054565952,1.3164705542026072,-0.3428669411158307,-1.3454064001519515,0.7559465164801712,-0.20794749416715222,-0.6135328159991182,-0.380069037972439,3.1611795222845105,-1.6728132085396286,0.34805445029216153,1.0256277741515756,0.34200518443172706,0.49253049523123815,-1.595301032000479,0.3949717712068479,-0.32157059990925524,-0.40680443581217035,1.1966551165712613,0.2822399390536095,-0.07775636065641416,2.0377626551843737,1.3050807025804394,-0.28412285719843405,0.1116067496020979,1.4014929565079186,-2.4319952476680715,-1.1037745990460548,-0.3226779481808536,-0.06624380072375628,-0.5081440222449597,-1.0079721004480366,-0.06359935585586599,1.225085723673325,1.3585351275230693,0.3418412205279284,-0.8430366362011602,0.5224342649477417,1.452293858051099,1.308642822045769,0.619401294147941,-1.3609801136045452,-0.3332084882878469,0.9667782591878893,0.2968612966065134,-0.8685699543749293,0.18433284499816469,0.21945059201802256,-1.4431518392390728,-0.16480929714894385,-0.1996466897872002,-0.34421042679753155,0.45874701039062454,-0.5070164171680562,0.49201585115563534,-1.0272281434830408,-1.5902113658293175,-0.5110555615220798,0.6581034463984738,-0.23930294622141307,0.5734181543602594,0.5167216386232102,-0.662434940080114,-1.5882504358026166,-2.1259339712737955,0.837815556214329,0.931612326906073,0.4739417943881084,0.3971628453935395,-0.5817596203921983,0.12431145539047427,-0.822088277727843,-0.6728033271307247,-0.2859862738040538,0.8261242575548362,-0.1816970175088003,-0.2496242561234655,-0.7310916260125805,0.6154621974695837,0.07629516436952173,-2.270041324967681,-1.4687126790095575,-1.5740038344701714,0.3235234457986203,0.5341581155124593,0.6843101770613879,-0.22662260918441646,-2.086501049960337,0.13829808199979346,-0.6283587315638484,0.4351463049605794,0.09700349246400516,-0.9387115293797964],\"xaxis\":\"x2\",\"y\":[-0.27040833546812526,0.08130777436700777,-1.5627852644492577,-0.2744888889596545,-1.3807402495046974,-1.0705351424149077,-0.16047191326162297,1.9623749326919784,-1.4202858087319434,2.2306646991131793,2.0627667605639965,1.2358806367189576,-1.1144160033347206,0.2994059231642462,-1.3266963971338253,1.8034253637887923,-0.35866694409300454,-1.5168651182538158,-1.7517193230369608,-0.24854489038284788,-2.222255950888016,0.12195369323667252,-0.10090638648858788,-0.504136111985515,0.10088071720688169,-0.5691650839899056,-0.5831979208412037,1.870526868030963,-0.25398962295793515,-1.656833141667139,1.9751752331136339,0.42665589389048614,-0.7644650057486119,-1.0233599523112271,-1.3845703080701453,0.41676864169067723,0.16981280033515242,0.49389738793836757,1.9257781977567854,-1.9400175631744279,0.29333967748775946,1.1949992629121038,1.7769411094382328,-1.190346737504172,0.9553895066266331,-1.1426015599282036,0.7412020578651592,-0.718753059965593,-0.29293769881028325,0.4930577439369678,2.033364404806609,-1.8125497966835704,-1.4380517678713847,1.236334802401583,-0.2586154547482286,0.5398863162595625,0.17836776996372666,1.6300719793180487,-0.22465116940657961,0.4885186677989896,-0.8833884064013457,1.170268817648967,0.2650250636641034,0.3156961523700967,-2.474040255852097,-0.4823510461733897,0.6573532491983424,0.8226913991345299,0.5439660427166113,-0.2696888547198674,0.39990067617553776,0.8491101899180467,-0.07909796630667584,0.3382709311856161,-1.1463729281094484,1.7081268085335908,-1.6807218958932753,-0.668745860074773,0.3296232163303582,-1.3700631306803732,-0.5545716005147747,0.21217891816467718,-0.1740626915183978,-1.056783359415874,0.7142458049435187,-2.0642262765582444,0.27159435271701843,0.9924352027785257,0.6128875502612596,0.5568687516548688,2.446638455078288,-0.34295262993624026,-0.9215212399706968,0.4678165045677442,-1.4417615042906229,-0.09719709420199353,-0.010013117800275152,0.1125921386452125,-0.5800638387253629,-0.5188581163623978],\"yaxis\":\"y2\"},{\"line\":{\"color\":\"rgba(128, 128, 128, 1.0)\",\"dash\":\"solid\",\"shape\":\"linear\",\"width\":1.3},\"marker\":{\"size\":2,\"symbol\":\"circle\"},\"mode\":\"markers\",\"name\":\"A\",\"text\":\"\",\"type\":\"scatter\",\"x\":[1.1211970662513233,1.7882553952463331,0.6095787417343562,-0.7978685503219164,-1.054540820718089,0.935552209246095,0.6467828718720946,-0.8448435185149318,-0.16415442742546268,0.6332886681279752,2.880236995642649,0.09344924914241522,1.2184106796557397,1.1024396321251881,-1.9420459171122197,0.6984545873619175,-0.02575153495112632,-0.6911287219069356,-0.12974086961982328,-0.7108540634474605,0.09650957474547463,-0.2394048753255379,-1.1867548996989077,1.2705278304445915,0.00400786264780369,1.5081291288747247,0.6268263945498519,0.19234668443756917,-0.644591422972466,-0.2879900461607938,0.7685971364284684,0.7314732934323124,0.7350104705015111,1.7562883048734677,0.38075808379928816,1.4815606117987459,0.3104819835718878,0.682612490586937,0.591052677745498,0.6100569999048194,-1.4763067263117895,-0.7566064345211292,1.2892187004839144,0.9558115107193859,0.04361586037957929,-0.8176122018357349,-1.8942003890998518,0.6954957432966362,-0.3110659874617991,-1.3423195258765368,0.8387673546096003,1.2943419151912026,0.5655406897192649,0.9679627527832857,-0.3092187880857277,-0.21438845451562602,1.6787976873909873,0.28926212433709086,-0.8952193107945672,0.07733269069260017,0.5422976728824778,0.8194048567679139,0.960344388098084,0.5978292594209408,-0.3882728835771806,1.1841703054015564,0.588831725578845,-0.4558549759650901,-0.5530186984081414,1.199714822740876,-0.8040416931761488,0.7145449357970964,-0.18434981426256083,0.976117940465252,0.5833657724239505,-0.7239592404746668,-0.02916975205625252,-0.04026400626158386,1.485169511368912,0.9584471970449069,1.123183207296647,-0.47333126054082714,0.7496204181431738,-1.036403319794379,-1.008689128846662,-0.3089888362957455,-0.4281520220857427,0.7354142606034626,0.3718621731684189,-1.348924890729719,0.9402634267886293,-1.173121234995388,-1.2804267533806373,1.2483906408612933,-0.19047809722350964,0.061882497734943705,0.894514247807277,-0.9769697145576185,-1.1625975602618461,0.88862523689299],\"xaxis\":\"x3\",\"y\":[-0.27040833546812526,0.08130777436700777,-1.5627852644492577,-0.2744888889596545,-1.3807402495046974,-1.0705351424149077,-0.16047191326162297,1.9623749326919784,-1.4202858087319434,2.2306646991131793,2.0627667605639965,1.2358806367189576,-1.1144160033347206,0.2994059231642462,-1.3266963971338253,1.8034253637887923,-0.35866694409300454,-1.5168651182538158,-1.7517193230369608,-0.24854489038284788,-2.222255950888016,0.12195369323667252,-0.10090638648858788,-0.504136111985515,0.10088071720688169,-0.5691650839899056,-0.5831979208412037,1.870526868030963,-0.25398962295793515,-1.656833141667139,1.9751752331136339,0.42665589389048614,-0.7644650057486119,-1.0233599523112271,-1.3845703080701453,0.41676864169067723,0.16981280033515242,0.49389738793836757,1.9257781977567854,-1.9400175631744279,0.29333967748775946,1.1949992629121038,1.7769411094382328,-1.190346737504172,0.9553895066266331,-1.1426015599282036,0.7412020578651592,-0.718753059965593,-0.29293769881028325,0.4930577439369678,2.033364404806609,-1.8125497966835704,-1.4380517678713847,1.236334802401583,-0.2586154547482286,0.5398863162595625,0.17836776996372666,1.6300719793180487,-0.22465116940657961,0.4885186677989896,-0.8833884064013457,1.170268817648967,0.2650250636641034,0.3156961523700967,-2.474040255852097,-0.4823510461733897,0.6573532491983424,0.8226913991345299,0.5439660427166113,-0.2696888547198674,0.39990067617553776,0.8491101899180467,-0.07909796630667584,0.3382709311856161,-1.1463729281094484,1.7081268085335908,-1.6807218958932753,-0.668745860074773,0.3296232163303582,-1.3700631306803732,-0.5545716005147747,0.21217891816467718,-0.1740626915183978,-1.056783359415874,0.7142458049435187,-2.0642262765582444,0.27159435271701843,0.9924352027785257,0.6128875502612596,0.5568687516548688,2.446638455078288,-0.34295262993624026,-0.9215212399706968,0.4678165045677442,-1.4417615042906229,-0.09719709420199353,-0.010013117800275152,0.1125921386452125,-0.5800638387253629,-0.5188581163623978],\"yaxis\":\"y3\"},{\"line\":{\"color\":\"rgba(128, 128, 128, 1.0)\",\"dash\":\"solid\",\"shape\":\"linear\",\"width\":1.3},\"marker\":{\"size\":2,\"symbol\":\"circle\"},\"mode\":\"markers\",\"name\":\"A\",\"text\":\"\",\"type\":\"scatter\",\"x\":[-1.156885693248452,-2.553159962142852,0.5379500065642159,0.871269687667783,0.5418377115602929,1.0033889033373784,0.6339382484336021,0.8449194631288077,-0.08553384058369162,1.21512204383602,0.3367382167702626,0.5335611393688916,-0.7311983528799699,-1.1080221840374995,0.38809969573177716,0.8887734032735815,-0.3999772302887955,0.4599378592688925,-0.8416065462285255,0.5371312804976668,-1.2866909093142191,-0.23833899619013507,-0.46850464579090906,1.3089893378811284,-1.113431920823541,-1.3923670896840379,-0.014942185529081584,-0.3500662529822038,0.2559508726088374,-0.6971183344865342,0.5929666934111997,-1.1856366086326908,0.02687039640606976,1.2170269945822565,0.6098493861295342,0.01586800777935647,-0.757849496823997,-0.6932607280860964,0.49774236939414956,0.5639114101178272,-0.6696266017038403,0.34616509172190696,-0.8879535829963261,-0.8503463726832305,-0.7734114881918962,0.8282705022951898,-0.3151422272395916,-0.253917385061128,-0.6740530413495274,-0.21448561608275726,1.3642596557161448,-0.5083422252979257,1.024827055779126,-0.04892696752251287,0.06270078899000447,0.38468689158174413,0.392565732767905,-1.7881143547914042,-1.252420847446051,-0.5607233795777918,0.4356785062000733,0.04075118168397469,-0.7874336634441192,-0.1908231405751445,1.0848700881810873,0.948419710469015,-1.4798711859436786,0.3975993212128095,1.5461488110325188,0.011654502987384158,-0.9783502667430807,-0.9827186790974953,-0.8948045067779946,-0.5401443086843247,0.08118394346748879,-0.14169083693340548,0.21637771655999993,1.5083311319047112,-0.5348406710251433,0.4668236657115528,0.5394145805576618,-0.2756526372644226,0.009935220820154593,-0.8311808876227527,0.258594993982803,-0.7026656788219977,1.2980258618001015,-1.6375152690495511,0.09765685608872741,-0.42869855993991474,0.6391259488191646,0.9215632733843807,0.08707376340362018,-1.6957124085925666,-0.33289808932221016,1.277689456277632,0.5297677583794602,0.8206117127177954,1.1661296765277478,1.3126610601569062],\"xaxis\":\"x4\",\"y\":[-0.27040833546812526,0.08130777436700777,-1.5627852644492577,-0.2744888889596545,-1.3807402495046974,-1.0705351424149077,-0.16047191326162297,1.9623749326919784,-1.4202858087319434,2.2306646991131793,2.0627667605639965,1.2358806367189576,-1.1144160033347206,0.2994059231642462,-1.3266963971338253,1.8034253637887923,-0.35866694409300454,-1.5168651182538158,-1.7517193230369608,-0.24854489038284788,-2.222255950888016,0.12195369323667252,-0.10090638648858788,-0.504136111985515,0.10088071720688169,-0.5691650839899056,-0.5831979208412037,1.870526868030963,-0.25398962295793515,-1.656833141667139,1.9751752331136339,0.42665589389048614,-0.7644650057486119,-1.0233599523112271,-1.3845703080701453,0.41676864169067723,0.16981280033515242,0.49389738793836757,1.9257781977567854,-1.9400175631744279,0.29333967748775946,1.1949992629121038,1.7769411094382328,-1.190346737504172,0.9553895066266331,-1.1426015599282036,0.7412020578651592,-0.718753059965593,-0.29293769881028325,0.4930577439369678,2.033364404806609,-1.8125497966835704,-1.4380517678713847,1.236334802401583,-0.2586154547482286,0.5398863162595625,0.17836776996372666,1.6300719793180487,-0.22465116940657961,0.4885186677989896,-0.8833884064013457,1.170268817648967,0.2650250636641034,0.3156961523700967,-2.474040255852097,-0.4823510461733897,0.6573532491983424,0.8226913991345299,0.5439660427166113,-0.2696888547198674,0.39990067617553776,0.8491101899180467,-0.07909796630667584,0.3382709311856161,-1.1463729281094484,1.7081268085335908,-1.6807218958932753,-0.668745860074773,0.3296232163303582,-1.3700631306803732,-0.5545716005147747,0.21217891816467718,-0.1740626915183978,-1.056783359415874,0.7142458049435187,-2.0642262765582444,0.27159435271701843,0.9924352027785257,0.6128875502612596,0.5568687516548688,2.446638455078288,-0.34295262993624026,-0.9215212399706968,0.4678165045677442,-1.4417615042906229,-0.09719709420199353,-0.010013117800275152,0.1125921386452125,-0.5800638387253629,-0.5188581163623978],\"yaxis\":\"y4\"},{\"line\":{\"color\":\"rgba(128, 128, 128, 1.0)\",\"dash\":\"solid\",\"shape\":\"linear\",\"width\":1.3},\"marker\":{\"size\":2,\"symbol\":\"circle\"},\"mode\":\"markers\",\"name\":\"B\",\"text\":\"\",\"type\":\"scatter\",\"x\":[-0.27040833546812526,0.08130777436700777,-1.5627852644492577,-0.2744888889596545,-1.3807402495046974,-1.0705351424149077,-0.16047191326162297,1.9623749326919784,-1.4202858087319434,2.2306646991131793,2.0627667605639965,1.2358806367189576,-1.1144160033347206,0.2994059231642462,-1.3266963971338253,1.8034253637887923,-0.35866694409300454,-1.5168651182538158,-1.7517193230369608,-0.24854489038284788,-2.222255950888016,0.12195369323667252,-0.10090638648858788,-0.504136111985515,0.10088071720688169,-0.5691650839899056,-0.5831979208412037,1.870526868030963,-0.25398962295793515,-1.656833141667139,1.9751752331136339,0.42665589389048614,-0.7644650057486119,-1.0233599523112271,-1.3845703080701453,0.41676864169067723,0.16981280033515242,0.49389738793836757,1.9257781977567854,-1.9400175631744279,0.29333967748775946,1.1949992629121038,1.7769411094382328,-1.190346737504172,0.9553895066266331,-1.1426015599282036,0.7412020578651592,-0.718753059965593,-0.29293769881028325,0.4930577439369678,2.033364404806609,-1.8125497966835704,-1.4380517678713847,1.236334802401583,-0.2586154547482286,0.5398863162595625,0.17836776996372666,1.6300719793180487,-0.22465116940657961,0.4885186677989896,-0.8833884064013457,1.170268817648967,0.2650250636641034,0.3156961523700967,-2.474040255852097,-0.4823510461733897,0.6573532491983424,0.8226913991345299,0.5439660427166113,-0.2696888547198674,0.39990067617553776,0.8491101899180467,-0.07909796630667584,0.3382709311856161,-1.1463729281094484,1.7081268085335908,-1.6807218958932753,-0.668745860074773,0.3296232163303582,-1.3700631306803732,-0.5545716005147747,0.21217891816467718,-0.1740626915183978,-1.056783359415874,0.7142458049435187,-2.0642262765582444,0.27159435271701843,0.9924352027785257,0.6128875502612596,0.5568687516548688,2.446638455078288,-0.34295262993624026,-0.9215212399706968,0.4678165045677442,-1.4417615042906229,-0.09719709420199353,-0.010013117800275152,0.1125921386452125,-0.5800638387253629,-0.5188581163623978],\"xaxis\":\"x5\",\"y\":[-1.206321705433643,-2.33119734708676,-1.182119721197647,0.5773891617232305,-0.23432507005351813,-0.33395607587489534,0.206606394431684,-1.041828054565952,1.3164705542026072,-0.3428669411158307,-1.3454064001519515,0.7559465164801712,-0.20794749416715222,-0.6135328159991182,-0.380069037972439,3.1611795222845105,-1.6728132085396286,0.34805445029216153,1.0256277741515756,0.34200518443172706,0.49253049523123815,-1.595301032000479,0.3949717712068479,-0.32157059990925524,-0.40680443581217035,1.1966551165712613,0.2822399390536095,-0.07775636065641416,2.0377626551843737,1.3050807025804394,-0.28412285719843405,0.1116067496020979,1.4014929565079186,-2.4319952476680715,-1.1037745990460548,-0.3226779481808536,-0.06624380072375628,-0.5081440222449597,-1.0079721004480366,-0.06359935585586599,1.225085723673325,1.3585351275230693,0.3418412205279284,-0.8430366362011602,0.5224342649477417,1.452293858051099,1.308642822045769,0.619401294147941,-1.3609801136045452,-0.3332084882878469,0.9667782591878893,0.2968612966065134,-0.8685699543749293,0.18433284499816469,0.21945059201802256,-1.4431518392390728,-0.16480929714894385,-0.1996466897872002,-0.34421042679753155,0.45874701039062454,-0.5070164171680562,0.49201585115563534,-1.0272281434830408,-1.5902113658293175,-0.5110555615220798,0.6581034463984738,-0.23930294622141307,0.5734181543602594,0.5167216386232102,-0.662434940080114,-1.5882504358026166,-2.1259339712737955,0.837815556214329,0.931612326906073,0.4739417943881084,0.3971628453935395,-0.5817596203921983,0.12431145539047427,-0.822088277727843,-0.6728033271307247,-0.2859862738040538,0.8261242575548362,-0.1816970175088003,-0.2496242561234655,-0.7310916260125805,0.6154621974695837,0.07629516436952173,-2.270041324967681,-1.4687126790095575,-1.5740038344701714,0.3235234457986203,0.5341581155124593,0.6843101770613879,-0.22662260918441646,-2.086501049960337,0.13829808199979346,-0.6283587315638484,0.4351463049605794,0.09700349246400516,-0.9387115293797964],\"yaxis\":\"y5\"},{\"histfunc\":\"count\",\"histnorm\":\"\",\"marker\":{\"color\":\"rgba(55, 128, 191, 1.0)\",\"line\":{\"color\":\"#4D5663\",\"width\":1.3}},\"name\":\"B\",\"nbinsx\":10,\"opacity\":0.8,\"orientation\":\"v\",\"type\":\"histogram\",\"x\":[-1.206321705433643,-2.33119734708676,-1.182119721197647,0.5773891617232305,-0.23432507005351813,-0.33395607587489534,0.206606394431684,-1.041828054565952,1.3164705542026072,-0.3428669411158307,-1.3454064001519515,0.7559465164801712,-0.20794749416715222,-0.6135328159991182,-0.380069037972439,3.1611795222845105,-1.6728132085396286,0.34805445029216153,1.0256277741515756,0.34200518443172706,0.49253049523123815,-1.595301032000479,0.3949717712068479,-0.32157059990925524,-0.40680443581217035,1.1966551165712613,0.2822399390536095,-0.07775636065641416,2.0377626551843737,1.3050807025804394,-0.28412285719843405,0.1116067496020979,1.4014929565079186,-2.4319952476680715,-1.1037745990460548,-0.3226779481808536,-0.06624380072375628,-0.5081440222449597,-1.0079721004480366,-0.06359935585586599,1.225085723673325,1.3585351275230693,0.3418412205279284,-0.8430366362011602,0.5224342649477417,1.452293858051099,1.308642822045769,0.619401294147941,-1.3609801136045452,-0.3332084882878469,0.9667782591878893,0.2968612966065134,-0.8685699543749293,0.18433284499816469,0.21945059201802256,-1.4431518392390728,-0.16480929714894385,-0.1996466897872002,-0.34421042679753155,0.45874701039062454,-0.5070164171680562,0.49201585115563534,-1.0272281434830408,-1.5902113658293175,-0.5110555615220798,0.6581034463984738,-0.23930294622141307,0.5734181543602594,0.5167216386232102,-0.662434940080114,-1.5882504358026166,-2.1259339712737955,0.837815556214329,0.931612326906073,0.4739417943881084,0.3971628453935395,-0.5817596203921983,0.12431145539047427,-0.822088277727843,-0.6728033271307247,-0.2859862738040538,0.8261242575548362,-0.1816970175088003,-0.2496242561234655,-0.7310916260125805,0.6154621974695837,0.07629516436952173,-2.270041324967681,-1.4687126790095575,-1.5740038344701714,0.3235234457986203,0.5341581155124593,0.6843101770613879,-0.22662260918441646,-2.086501049960337,0.13829808199979346,-0.6283587315638484,0.4351463049605794,0.09700349246400516,-0.9387115293797964],\"xaxis\":\"x6\",\"yaxis\":\"y6\"},{\"line\":{\"color\":\"rgba(128, 128, 128, 1.0)\",\"dash\":\"solid\",\"shape\":\"linear\",\"width\":1.3},\"marker\":{\"size\":2,\"symbol\":\"circle\"},\"mode\":\"markers\",\"name\":\"B\",\"text\":\"\",\"type\":\"scatter\",\"x\":[1.1211970662513233,1.7882553952463331,0.6095787417343562,-0.7978685503219164,-1.054540820718089,0.935552209246095,0.6467828718720946,-0.8448435185149318,-0.16415442742546268,0.6332886681279752,2.880236995642649,0.09344924914241522,1.2184106796557397,1.1024396321251881,-1.9420459171122197,0.6984545873619175,-0.02575153495112632,-0.6911287219069356,-0.12974086961982328,-0.7108540634474605,0.09650957474547463,-0.2394048753255379,-1.1867548996989077,1.2705278304445915,0.00400786264780369,1.5081291288747247,0.6268263945498519,0.19234668443756917,-0.644591422972466,-0.2879900461607938,0.7685971364284684,0.7314732934323124,0.7350104705015111,1.7562883048734677,0.38075808379928816,1.4815606117987459,0.3104819835718878,0.682612490586937,0.591052677745498,0.6100569999048194,-1.4763067263117895,-0.7566064345211292,1.2892187004839144,0.9558115107193859,0.04361586037957929,-0.8176122018357349,-1.8942003890998518,0.6954957432966362,-0.3110659874617991,-1.3423195258765368,0.8387673546096003,1.2943419151912026,0.5655406897192649,0.9679627527832857,-0.3092187880857277,-0.21438845451562602,1.6787976873909873,0.28926212433709086,-0.8952193107945672,0.07733269069260017,0.5422976728824778,0.8194048567679139,0.960344388098084,0.5978292594209408,-0.3882728835771806,1.1841703054015564,0.588831725578845,-0.4558549759650901,-0.5530186984081414,1.199714822740876,-0.8040416931761488,0.7145449357970964,-0.18434981426256083,0.976117940465252,0.5833657724239505,-0.7239592404746668,-0.02916975205625252,-0.04026400626158386,1.485169511368912,0.9584471970449069,1.123183207296647,-0.47333126054082714,0.7496204181431738,-1.036403319794379,-1.008689128846662,-0.3089888362957455,-0.4281520220857427,0.7354142606034626,0.3718621731684189,-1.348924890729719,0.9402634267886293,-1.173121234995388,-1.2804267533806373,1.2483906408612933,-0.19047809722350964,0.061882497734943705,0.894514247807277,-0.9769697145576185,-1.1625975602618461,0.88862523689299],\"xaxis\":\"x7\",\"y\":[-1.206321705433643,-2.33119734708676,-1.182119721197647,0.5773891617232305,-0.23432507005351813,-0.33395607587489534,0.206606394431684,-1.041828054565952,1.3164705542026072,-0.3428669411158307,-1.3454064001519515,0.7559465164801712,-0.20794749416715222,-0.6135328159991182,-0.380069037972439,3.1611795222845105,-1.6728132085396286,0.34805445029216153,1.0256277741515756,0.34200518443172706,0.49253049523123815,-1.595301032000479,0.3949717712068479,-0.32157059990925524,-0.40680443581217035,1.1966551165712613,0.2822399390536095,-0.07775636065641416,2.0377626551843737,1.3050807025804394,-0.28412285719843405,0.1116067496020979,1.4014929565079186,-2.4319952476680715,-1.1037745990460548,-0.3226779481808536,-0.06624380072375628,-0.5081440222449597,-1.0079721004480366,-0.06359935585586599,1.225085723673325,1.3585351275230693,0.3418412205279284,-0.8430366362011602,0.5224342649477417,1.452293858051099,1.308642822045769,0.619401294147941,-1.3609801136045452,-0.3332084882878469,0.9667782591878893,0.2968612966065134,-0.8685699543749293,0.18433284499816469,0.21945059201802256,-1.4431518392390728,-0.16480929714894385,-0.1996466897872002,-0.34421042679753155,0.45874701039062454,-0.5070164171680562,0.49201585115563534,-1.0272281434830408,-1.5902113658293175,-0.5110555615220798,0.6581034463984738,-0.23930294622141307,0.5734181543602594,0.5167216386232102,-0.662434940080114,-1.5882504358026166,-2.1259339712737955,0.837815556214329,0.931612326906073,0.4739417943881084,0.3971628453935395,-0.5817596203921983,0.12431145539047427,-0.822088277727843,-0.6728033271307247,-0.2859862738040538,0.8261242575548362,-0.1816970175088003,-0.2496242561234655,-0.7310916260125805,0.6154621974695837,0.07629516436952173,-2.270041324967681,-1.4687126790095575,-1.5740038344701714,0.3235234457986203,0.5341581155124593,0.6843101770613879,-0.22662260918441646,-2.086501049960337,0.13829808199979346,-0.6283587315638484,0.4351463049605794,0.09700349246400516,-0.9387115293797964],\"yaxis\":\"y7\"},{\"line\":{\"color\":\"rgba(128, 128, 128, 1.0)\",\"dash\":\"solid\",\"shape\":\"linear\",\"width\":1.3},\"marker\":{\"size\":2,\"symbol\":\"circle\"},\"mode\":\"markers\",\"name\":\"B\",\"text\":\"\",\"type\":\"scatter\",\"x\":[-1.156885693248452,-2.553159962142852,0.5379500065642159,0.871269687667783,0.5418377115602929,1.0033889033373784,0.6339382484336021,0.8449194631288077,-0.08553384058369162,1.21512204383602,0.3367382167702626,0.5335611393688916,-0.7311983528799699,-1.1080221840374995,0.38809969573177716,0.8887734032735815,-0.3999772302887955,0.4599378592688925,-0.8416065462285255,0.5371312804976668,-1.2866909093142191,-0.23833899619013507,-0.46850464579090906,1.3089893378811284,-1.113431920823541,-1.3923670896840379,-0.014942185529081584,-0.3500662529822038,0.2559508726088374,-0.6971183344865342,0.5929666934111997,-1.1856366086326908,0.02687039640606976,1.2170269945822565,0.6098493861295342,0.01586800777935647,-0.757849496823997,-0.6932607280860964,0.49774236939414956,0.5639114101178272,-0.6696266017038403,0.34616509172190696,-0.8879535829963261,-0.8503463726832305,-0.7734114881918962,0.8282705022951898,-0.3151422272395916,-0.253917385061128,-0.6740530413495274,-0.21448561608275726,1.3642596557161448,-0.5083422252979257,1.024827055779126,-0.04892696752251287,0.06270078899000447,0.38468689158174413,0.392565732767905,-1.7881143547914042,-1.252420847446051,-0.5607233795777918,0.4356785062000733,0.04075118168397469,-0.7874336634441192,-0.1908231405751445,1.0848700881810873,0.948419710469015,-1.4798711859436786,0.3975993212128095,1.5461488110325188,0.011654502987384158,-0.9783502667430807,-0.9827186790974953,-0.8948045067779946,-0.5401443086843247,0.08118394346748879,-0.14169083693340548,0.21637771655999993,1.5083311319047112,-0.5348406710251433,0.4668236657115528,0.5394145805576618,-0.2756526372644226,0.009935220820154593,-0.8311808876227527,0.258594993982803,-0.7026656788219977,1.2980258618001015,-1.6375152690495511,0.09765685608872741,-0.42869855993991474,0.6391259488191646,0.9215632733843807,0.08707376340362018,-1.6957124085925666,-0.33289808932221016,1.277689456277632,0.5297677583794602,0.8206117127177954,1.1661296765277478,1.3126610601569062],\"xaxis\":\"x8\",\"y\":[-1.206321705433643,-2.33119734708676,-1.182119721197647,0.5773891617232305,-0.23432507005351813,-0.33395607587489534,0.206606394431684,-1.041828054565952,1.3164705542026072,-0.3428669411158307,-1.3454064001519515,0.7559465164801712,-0.20794749416715222,-0.6135328159991182,-0.380069037972439,3.1611795222845105,-1.6728132085396286,0.34805445029216153,1.0256277741515756,0.34200518443172706,0.49253049523123815,-1.595301032000479,0.3949717712068479,-0.32157059990925524,-0.40680443581217035,1.1966551165712613,0.2822399390536095,-0.07775636065641416,2.0377626551843737,1.3050807025804394,-0.28412285719843405,0.1116067496020979,1.4014929565079186,-2.4319952476680715,-1.1037745990460548,-0.3226779481808536,-0.06624380072375628,-0.5081440222449597,-1.0079721004480366,-0.06359935585586599,1.225085723673325,1.3585351275230693,0.3418412205279284,-0.8430366362011602,0.5224342649477417,1.452293858051099,1.308642822045769,0.619401294147941,-1.3609801136045452,-0.3332084882878469,0.9667782591878893,0.2968612966065134,-0.8685699543749293,0.18433284499816469,0.21945059201802256,-1.4431518392390728,-0.16480929714894385,-0.1996466897872002,-0.34421042679753155,0.45874701039062454,-0.5070164171680562,0.49201585115563534,-1.0272281434830408,-1.5902113658293175,-0.5110555615220798,0.6581034463984738,-0.23930294622141307,0.5734181543602594,0.5167216386232102,-0.662434940080114,-1.5882504358026166,-2.1259339712737955,0.837815556214329,0.931612326906073,0.4739417943881084,0.3971628453935395,-0.5817596203921983,0.12431145539047427,-0.822088277727843,-0.6728033271307247,-0.2859862738040538,0.8261242575548362,-0.1816970175088003,-0.2496242561234655,-0.7310916260125805,0.6154621974695837,0.07629516436952173,-2.270041324967681,-1.4687126790095575,-1.5740038344701714,0.3235234457986203,0.5341581155124593,0.6843101770613879,-0.22662260918441646,-2.086501049960337,0.13829808199979346,-0.6283587315638484,0.4351463049605794,0.09700349246400516,-0.9387115293797964],\"yaxis\":\"y8\"},{\"line\":{\"color\":\"rgba(128, 128, 128, 1.0)\",\"dash\":\"solid\",\"shape\":\"linear\",\"width\":1.3},\"marker\":{\"size\":2,\"symbol\":\"circle\"},\"mode\":\"markers\",\"name\":\"C\",\"text\":\"\",\"type\":\"scatter\",\"x\":[-0.27040833546812526,0.08130777436700777,-1.5627852644492577,-0.2744888889596545,-1.3807402495046974,-1.0705351424149077,-0.16047191326162297,1.9623749326919784,-1.4202858087319434,2.2306646991131793,2.0627667605639965,1.2358806367189576,-1.1144160033347206,0.2994059231642462,-1.3266963971338253,1.8034253637887923,-0.35866694409300454,-1.5168651182538158,-1.7517193230369608,-0.24854489038284788,-2.222255950888016,0.12195369323667252,-0.10090638648858788,-0.504136111985515,0.10088071720688169,-0.5691650839899056,-0.5831979208412037,1.870526868030963,-0.25398962295793515,-1.656833141667139,1.9751752331136339,0.42665589389048614,-0.7644650057486119,-1.0233599523112271,-1.3845703080701453,0.41676864169067723,0.16981280033515242,0.49389738793836757,1.9257781977567854,-1.9400175631744279,0.29333967748775946,1.1949992629121038,1.7769411094382328,-1.190346737504172,0.9553895066266331,-1.1426015599282036,0.7412020578651592,-0.718753059965593,-0.29293769881028325,0.4930577439369678,2.033364404806609,-1.8125497966835704,-1.4380517678713847,1.236334802401583,-0.2586154547482286,0.5398863162595625,0.17836776996372666,1.6300719793180487,-0.22465116940657961,0.4885186677989896,-0.8833884064013457,1.170268817648967,0.2650250636641034,0.3156961523700967,-2.474040255852097,-0.4823510461733897,0.6573532491983424,0.8226913991345299,0.5439660427166113,-0.2696888547198674,0.39990067617553776,0.8491101899180467,-0.07909796630667584,0.3382709311856161,-1.1463729281094484,1.7081268085335908,-1.6807218958932753,-0.668745860074773,0.3296232163303582,-1.3700631306803732,-0.5545716005147747,0.21217891816467718,-0.1740626915183978,-1.056783359415874,0.7142458049435187,-2.0642262765582444,0.27159435271701843,0.9924352027785257,0.6128875502612596,0.5568687516548688,2.446638455078288,-0.34295262993624026,-0.9215212399706968,0.4678165045677442,-1.4417615042906229,-0.09719709420199353,-0.010013117800275152,0.1125921386452125,-0.5800638387253629,-0.5188581163623978],\"xaxis\":\"x9\",\"y\":[1.1211970662513233,1.7882553952463331,0.6095787417343562,-0.7978685503219164,-1.054540820718089,0.935552209246095,0.6467828718720946,-0.8448435185149318,-0.16415442742546268,0.6332886681279752,2.880236995642649,0.09344924914241522,1.2184106796557397,1.1024396321251881,-1.9420459171122197,0.6984545873619175,-0.02575153495112632,-0.6911287219069356,-0.12974086961982328,-0.7108540634474605,0.09650957474547463,-0.2394048753255379,-1.1867548996989077,1.2705278304445915,0.00400786264780369,1.5081291288747247,0.6268263945498519,0.19234668443756917,-0.644591422972466,-0.2879900461607938,0.7685971364284684,0.7314732934323124,0.7350104705015111,1.7562883048734677,0.38075808379928816,1.4815606117987459,0.3104819835718878,0.682612490586937,0.591052677745498,0.6100569999048194,-1.4763067263117895,-0.7566064345211292,1.2892187004839144,0.9558115107193859,0.04361586037957929,-0.8176122018357349,-1.8942003890998518,0.6954957432966362,-0.3110659874617991,-1.3423195258765368,0.8387673546096003,1.2943419151912026,0.5655406897192649,0.9679627527832857,-0.3092187880857277,-0.21438845451562602,1.6787976873909873,0.28926212433709086,-0.8952193107945672,0.07733269069260017,0.5422976728824778,0.8194048567679139,0.960344388098084,0.5978292594209408,-0.3882728835771806,1.1841703054015564,0.588831725578845,-0.4558549759650901,-0.5530186984081414,1.199714822740876,-0.8040416931761488,0.7145449357970964,-0.18434981426256083,0.976117940465252,0.5833657724239505,-0.7239592404746668,-0.02916975205625252,-0.04026400626158386,1.485169511368912,0.9584471970449069,1.123183207296647,-0.47333126054082714,0.7496204181431738,-1.036403319794379,-1.008689128846662,-0.3089888362957455,-0.4281520220857427,0.7354142606034626,0.3718621731684189,-1.348924890729719,0.9402634267886293,-1.173121234995388,-1.2804267533806373,1.2483906408612933,-0.19047809722350964,0.061882497734943705,0.894514247807277,-0.9769697145576185,-1.1625975602618461,0.88862523689299],\"yaxis\":\"y9\"},{\"line\":{\"color\":\"rgba(128, 128, 128, 1.0)\",\"dash\":\"solid\",\"shape\":\"linear\",\"width\":1.3},\"marker\":{\"size\":2,\"symbol\":\"circle\"},\"mode\":\"markers\",\"name\":\"C\",\"text\":\"\",\"type\":\"scatter\",\"x\":[-1.206321705433643,-2.33119734708676,-1.182119721197647,0.5773891617232305,-0.23432507005351813,-0.33395607587489534,0.206606394431684,-1.041828054565952,1.3164705542026072,-0.3428669411158307,-1.3454064001519515,0.7559465164801712,-0.20794749416715222,-0.6135328159991182,-0.380069037972439,3.1611795222845105,-1.6728132085396286,0.34805445029216153,1.0256277741515756,0.34200518443172706,0.49253049523123815,-1.595301032000479,0.3949717712068479,-0.32157059990925524,-0.40680443581217035,1.1966551165712613,0.2822399390536095,-0.07775636065641416,2.0377626551843737,1.3050807025804394,-0.28412285719843405,0.1116067496020979,1.4014929565079186,-2.4319952476680715,-1.1037745990460548,-0.3226779481808536,-0.06624380072375628,-0.5081440222449597,-1.0079721004480366,-0.06359935585586599,1.225085723673325,1.3585351275230693,0.3418412205279284,-0.8430366362011602,0.5224342649477417,1.452293858051099,1.308642822045769,0.619401294147941,-1.3609801136045452,-0.3332084882878469,0.9667782591878893,0.2968612966065134,-0.8685699543749293,0.18433284499816469,0.21945059201802256,-1.4431518392390728,-0.16480929714894385,-0.1996466897872002,-0.34421042679753155,0.45874701039062454,-0.5070164171680562,0.49201585115563534,-1.0272281434830408,-1.5902113658293175,-0.5110555615220798,0.6581034463984738,-0.23930294622141307,0.5734181543602594,0.5167216386232102,-0.662434940080114,-1.5882504358026166,-2.1259339712737955,0.837815556214329,0.931612326906073,0.4739417943881084,0.3971628453935395,-0.5817596203921983,0.12431145539047427,-0.822088277727843,-0.6728033271307247,-0.2859862738040538,0.8261242575548362,-0.1816970175088003,-0.2496242561234655,-0.7310916260125805,0.6154621974695837,0.07629516436952173,-2.270041324967681,-1.4687126790095575,-1.5740038344701714,0.3235234457986203,0.5341581155124593,0.6843101770613879,-0.22662260918441646,-2.086501049960337,0.13829808199979346,-0.6283587315638484,0.4351463049605794,0.09700349246400516,-0.9387115293797964],\"xaxis\":\"x10\",\"y\":[1.1211970662513233,1.7882553952463331,0.6095787417343562,-0.7978685503219164,-1.054540820718089,0.935552209246095,0.6467828718720946,-0.8448435185149318,-0.16415442742546268,0.6332886681279752,2.880236995642649,0.09344924914241522,1.2184106796557397,1.1024396321251881,-1.9420459171122197,0.6984545873619175,-0.02575153495112632,-0.6911287219069356,-0.12974086961982328,-0.7108540634474605,0.09650957474547463,-0.2394048753255379,-1.1867548996989077,1.2705278304445915,0.00400786264780369,1.5081291288747247,0.6268263945498519,0.19234668443756917,-0.644591422972466,-0.2879900461607938,0.7685971364284684,0.7314732934323124,0.7350104705015111,1.7562883048734677,0.38075808379928816,1.4815606117987459,0.3104819835718878,0.682612490586937,0.591052677745498,0.6100569999048194,-1.4763067263117895,-0.7566064345211292,1.2892187004839144,0.9558115107193859,0.04361586037957929,-0.8176122018357349,-1.8942003890998518,0.6954957432966362,-0.3110659874617991,-1.3423195258765368,0.8387673546096003,1.2943419151912026,0.5655406897192649,0.9679627527832857,-0.3092187880857277,-0.21438845451562602,1.6787976873909873,0.28926212433709086,-0.8952193107945672,0.07733269069260017,0.5422976728824778,0.8194048567679139,0.960344388098084,0.5978292594209408,-0.3882728835771806,1.1841703054015564,0.588831725578845,-0.4558549759650901,-0.5530186984081414,1.199714822740876,-0.8040416931761488,0.7145449357970964,-0.18434981426256083,0.976117940465252,0.5833657724239505,-0.7239592404746668,-0.02916975205625252,-0.04026400626158386,1.485169511368912,0.9584471970449069,1.123183207296647,-0.47333126054082714,0.7496204181431738,-1.036403319794379,-1.008689128846662,-0.3089888362957455,-0.4281520220857427,0.7354142606034626,0.3718621731684189,-1.348924890729719,0.9402634267886293,-1.173121234995388,-1.2804267533806373,1.2483906408612933,-0.19047809722350964,0.061882497734943705,0.894514247807277,-0.9769697145576185,-1.1625975602618461,0.88862523689299],\"yaxis\":\"y10\"},{\"histfunc\":\"count\",\"histnorm\":\"\",\"marker\":{\"color\":\"rgba(50, 171, 96, 1.0)\",\"line\":{\"color\":\"#4D5663\",\"width\":1.3}},\"name\":\"C\",\"nbinsx\":10,\"opacity\":0.8,\"orientation\":\"v\",\"type\":\"histogram\",\"x\":[1.1211970662513233,1.7882553952463331,0.6095787417343562,-0.7978685503219164,-1.054540820718089,0.935552209246095,0.6467828718720946,-0.8448435185149318,-0.16415442742546268,0.6332886681279752,2.880236995642649,0.09344924914241522,1.2184106796557397,1.1024396321251881,-1.9420459171122197,0.6984545873619175,-0.02575153495112632,-0.6911287219069356,-0.12974086961982328,-0.7108540634474605,0.09650957474547463,-0.2394048753255379,-1.1867548996989077,1.2705278304445915,0.00400786264780369,1.5081291288747247,0.6268263945498519,0.19234668443756917,-0.644591422972466,-0.2879900461607938,0.7685971364284684,0.7314732934323124,0.7350104705015111,1.7562883048734677,0.38075808379928816,1.4815606117987459,0.3104819835718878,0.682612490586937,0.591052677745498,0.6100569999048194,-1.4763067263117895,-0.7566064345211292,1.2892187004839144,0.9558115107193859,0.04361586037957929,-0.8176122018357349,-1.8942003890998518,0.6954957432966362,-0.3110659874617991,-1.3423195258765368,0.8387673546096003,1.2943419151912026,0.5655406897192649,0.9679627527832857,-0.3092187880857277,-0.21438845451562602,1.6787976873909873,0.28926212433709086,-0.8952193107945672,0.07733269069260017,0.5422976728824778,0.8194048567679139,0.960344388098084,0.5978292594209408,-0.3882728835771806,1.1841703054015564,0.588831725578845,-0.4558549759650901,-0.5530186984081414,1.199714822740876,-0.8040416931761488,0.7145449357970964,-0.18434981426256083,0.976117940465252,0.5833657724239505,-0.7239592404746668,-0.02916975205625252,-0.04026400626158386,1.485169511368912,0.9584471970449069,1.123183207296647,-0.47333126054082714,0.7496204181431738,-1.036403319794379,-1.008689128846662,-0.3089888362957455,-0.4281520220857427,0.7354142606034626,0.3718621731684189,-1.348924890729719,0.9402634267886293,-1.173121234995388,-1.2804267533806373,1.2483906408612933,-0.19047809722350964,0.061882497734943705,0.894514247807277,-0.9769697145576185,-1.1625975602618461,0.88862523689299],\"xaxis\":\"x11\",\"yaxis\":\"y11\"},{\"line\":{\"color\":\"rgba(128, 128, 128, 1.0)\",\"dash\":\"solid\",\"shape\":\"linear\",\"width\":1.3},\"marker\":{\"size\":2,\"symbol\":\"circle\"},\"mode\":\"markers\",\"name\":\"C\",\"text\":\"\",\"type\":\"scatter\",\"x\":[-1.156885693248452,-2.553159962142852,0.5379500065642159,0.871269687667783,0.5418377115602929,1.0033889033373784,0.6339382484336021,0.8449194631288077,-0.08553384058369162,1.21512204383602,0.3367382167702626,0.5335611393688916,-0.7311983528799699,-1.1080221840374995,0.38809969573177716,0.8887734032735815,-0.3999772302887955,0.4599378592688925,-0.8416065462285255,0.5371312804976668,-1.2866909093142191,-0.23833899619013507,-0.46850464579090906,1.3089893378811284,-1.113431920823541,-1.3923670896840379,-0.014942185529081584,-0.3500662529822038,0.2559508726088374,-0.6971183344865342,0.5929666934111997,-1.1856366086326908,0.02687039640606976,1.2170269945822565,0.6098493861295342,0.01586800777935647,-0.757849496823997,-0.6932607280860964,0.49774236939414956,0.5639114101178272,-0.6696266017038403,0.34616509172190696,-0.8879535829963261,-0.8503463726832305,-0.7734114881918962,0.8282705022951898,-0.3151422272395916,-0.253917385061128,-0.6740530413495274,-0.21448561608275726,1.3642596557161448,-0.5083422252979257,1.024827055779126,-0.04892696752251287,0.06270078899000447,0.38468689158174413,0.392565732767905,-1.7881143547914042,-1.252420847446051,-0.5607233795777918,0.4356785062000733,0.04075118168397469,-0.7874336634441192,-0.1908231405751445,1.0848700881810873,0.948419710469015,-1.4798711859436786,0.3975993212128095,1.5461488110325188,0.011654502987384158,-0.9783502667430807,-0.9827186790974953,-0.8948045067779946,-0.5401443086843247,0.08118394346748879,-0.14169083693340548,0.21637771655999993,1.5083311319047112,-0.5348406710251433,0.4668236657115528,0.5394145805576618,-0.2756526372644226,0.009935220820154593,-0.8311808876227527,0.258594993982803,-0.7026656788219977,1.2980258618001015,-1.6375152690495511,0.09765685608872741,-0.42869855993991474,0.6391259488191646,0.9215632733843807,0.08707376340362018,-1.6957124085925666,-0.33289808932221016,1.277689456277632,0.5297677583794602,0.8206117127177954,1.1661296765277478,1.3126610601569062],\"xaxis\":\"x12\",\"y\":[1.1211970662513233,1.7882553952463331,0.6095787417343562,-0.7978685503219164,-1.054540820718089,0.935552209246095,0.6467828718720946,-0.8448435185149318,-0.16415442742546268,0.6332886681279752,2.880236995642649,0.09344924914241522,1.2184106796557397,1.1024396321251881,-1.9420459171122197,0.6984545873619175,-0.02575153495112632,-0.6911287219069356,-0.12974086961982328,-0.7108540634474605,0.09650957474547463,-0.2394048753255379,-1.1867548996989077,1.2705278304445915,0.00400786264780369,1.5081291288747247,0.6268263945498519,0.19234668443756917,-0.644591422972466,-0.2879900461607938,0.7685971364284684,0.7314732934323124,0.7350104705015111,1.7562883048734677,0.38075808379928816,1.4815606117987459,0.3104819835718878,0.682612490586937,0.591052677745498,0.6100569999048194,-1.4763067263117895,-0.7566064345211292,1.2892187004839144,0.9558115107193859,0.04361586037957929,-0.8176122018357349,-1.8942003890998518,0.6954957432966362,-0.3110659874617991,-1.3423195258765368,0.8387673546096003,1.2943419151912026,0.5655406897192649,0.9679627527832857,-0.3092187880857277,-0.21438845451562602,1.6787976873909873,0.28926212433709086,-0.8952193107945672,0.07733269069260017,0.5422976728824778,0.8194048567679139,0.960344388098084,0.5978292594209408,-0.3882728835771806,1.1841703054015564,0.588831725578845,-0.4558549759650901,-0.5530186984081414,1.199714822740876,-0.8040416931761488,0.7145449357970964,-0.18434981426256083,0.976117940465252,0.5833657724239505,-0.7239592404746668,-0.02916975205625252,-0.04026400626158386,1.485169511368912,0.9584471970449069,1.123183207296647,-0.47333126054082714,0.7496204181431738,-1.036403319794379,-1.008689128846662,-0.3089888362957455,-0.4281520220857427,0.7354142606034626,0.3718621731684189,-1.348924890729719,0.9402634267886293,-1.173121234995388,-1.2804267533806373,1.2483906408612933,-0.19047809722350964,0.061882497734943705,0.894514247807277,-0.9769697145576185,-1.1625975602618461,0.88862523689299],\"yaxis\":\"y12\"},{\"line\":{\"color\":\"rgba(128, 128, 128, 1.0)\",\"dash\":\"solid\",\"shape\":\"linear\",\"width\":1.3},\"marker\":{\"size\":2,\"symbol\":\"circle\"},\"mode\":\"markers\",\"name\":\"D\",\"text\":\"\",\"type\":\"scatter\",\"x\":[-0.27040833546812526,0.08130777436700777,-1.5627852644492577,-0.2744888889596545,-1.3807402495046974,-1.0705351424149077,-0.16047191326162297,1.9623749326919784,-1.4202858087319434,2.2306646991131793,2.0627667605639965,1.2358806367189576,-1.1144160033347206,0.2994059231642462,-1.3266963971338253,1.8034253637887923,-0.35866694409300454,-1.5168651182538158,-1.7517193230369608,-0.24854489038284788,-2.222255950888016,0.12195369323667252,-0.10090638648858788,-0.504136111985515,0.10088071720688169,-0.5691650839899056,-0.5831979208412037,1.870526868030963,-0.25398962295793515,-1.656833141667139,1.9751752331136339,0.42665589389048614,-0.7644650057486119,-1.0233599523112271,-1.3845703080701453,0.41676864169067723,0.16981280033515242,0.49389738793836757,1.9257781977567854,-1.9400175631744279,0.29333967748775946,1.1949992629121038,1.7769411094382328,-1.190346737504172,0.9553895066266331,-1.1426015599282036,0.7412020578651592,-0.718753059965593,-0.29293769881028325,0.4930577439369678,2.033364404806609,-1.8125497966835704,-1.4380517678713847,1.236334802401583,-0.2586154547482286,0.5398863162595625,0.17836776996372666,1.6300719793180487,-0.22465116940657961,0.4885186677989896,-0.8833884064013457,1.170268817648967,0.2650250636641034,0.3156961523700967,-2.474040255852097,-0.4823510461733897,0.6573532491983424,0.8226913991345299,0.5439660427166113,-0.2696888547198674,0.39990067617553776,0.8491101899180467,-0.07909796630667584,0.3382709311856161,-1.1463729281094484,1.7081268085335908,-1.6807218958932753,-0.668745860074773,0.3296232163303582,-1.3700631306803732,-0.5545716005147747,0.21217891816467718,-0.1740626915183978,-1.056783359415874,0.7142458049435187,-2.0642262765582444,0.27159435271701843,0.9924352027785257,0.6128875502612596,0.5568687516548688,2.446638455078288,-0.34295262993624026,-0.9215212399706968,0.4678165045677442,-1.4417615042906229,-0.09719709420199353,-0.010013117800275152,0.1125921386452125,-0.5800638387253629,-0.5188581163623978],\"xaxis\":\"x13\",\"y\":[-1.156885693248452,-2.553159962142852,0.5379500065642159,0.871269687667783,0.5418377115602929,1.0033889033373784,0.6339382484336021,0.8449194631288077,-0.08553384058369162,1.21512204383602,0.3367382167702626,0.5335611393688916,-0.7311983528799699,-1.1080221840374995,0.38809969573177716,0.8887734032735815,-0.3999772302887955,0.4599378592688925,-0.8416065462285255,0.5371312804976668,-1.2866909093142191,-0.23833899619013507,-0.46850464579090906,1.3089893378811284,-1.113431920823541,-1.3923670896840379,-0.014942185529081584,-0.3500662529822038,0.2559508726088374,-0.6971183344865342,0.5929666934111997,-1.1856366086326908,0.02687039640606976,1.2170269945822565,0.6098493861295342,0.01586800777935647,-0.757849496823997,-0.6932607280860964,0.49774236939414956,0.5639114101178272,-0.6696266017038403,0.34616509172190696,-0.8879535829963261,-0.8503463726832305,-0.7734114881918962,0.8282705022951898,-0.3151422272395916,-0.253917385061128,-0.6740530413495274,-0.21448561608275726,1.3642596557161448,-0.5083422252979257,1.024827055779126,-0.04892696752251287,0.06270078899000447,0.38468689158174413,0.392565732767905,-1.7881143547914042,-1.252420847446051,-0.5607233795777918,0.4356785062000733,0.04075118168397469,-0.7874336634441192,-0.1908231405751445,1.0848700881810873,0.948419710469015,-1.4798711859436786,0.3975993212128095,1.5461488110325188,0.011654502987384158,-0.9783502667430807,-0.9827186790974953,-0.8948045067779946,-0.5401443086843247,0.08118394346748879,-0.14169083693340548,0.21637771655999993,1.5083311319047112,-0.5348406710251433,0.4668236657115528,0.5394145805576618,-0.2756526372644226,0.009935220820154593,-0.8311808876227527,0.258594993982803,-0.7026656788219977,1.2980258618001015,-1.6375152690495511,0.09765685608872741,-0.42869855993991474,0.6391259488191646,0.9215632733843807,0.08707376340362018,-1.6957124085925666,-0.33289808932221016,1.277689456277632,0.5297677583794602,0.8206117127177954,1.1661296765277478,1.3126610601569062],\"yaxis\":\"y13\"},{\"line\":{\"color\":\"rgba(128, 128, 128, 1.0)\",\"dash\":\"solid\",\"shape\":\"linear\",\"width\":1.3},\"marker\":{\"size\":2,\"symbol\":\"circle\"},\"mode\":\"markers\",\"name\":\"D\",\"text\":\"\",\"type\":\"scatter\",\"x\":[-1.206321705433643,-2.33119734708676,-1.182119721197647,0.5773891617232305,-0.23432507005351813,-0.33395607587489534,0.206606394431684,-1.041828054565952,1.3164705542026072,-0.3428669411158307,-1.3454064001519515,0.7559465164801712,-0.20794749416715222,-0.6135328159991182,-0.380069037972439,3.1611795222845105,-1.6728132085396286,0.34805445029216153,1.0256277741515756,0.34200518443172706,0.49253049523123815,-1.595301032000479,0.3949717712068479,-0.32157059990925524,-0.40680443581217035,1.1966551165712613,0.2822399390536095,-0.07775636065641416,2.0377626551843737,1.3050807025804394,-0.28412285719843405,0.1116067496020979,1.4014929565079186,-2.4319952476680715,-1.1037745990460548,-0.3226779481808536,-0.06624380072375628,-0.5081440222449597,-1.0079721004480366,-0.06359935585586599,1.225085723673325,1.3585351275230693,0.3418412205279284,-0.8430366362011602,0.5224342649477417,1.452293858051099,1.308642822045769,0.619401294147941,-1.3609801136045452,-0.3332084882878469,0.9667782591878893,0.2968612966065134,-0.8685699543749293,0.18433284499816469,0.21945059201802256,-1.4431518392390728,-0.16480929714894385,-0.1996466897872002,-0.34421042679753155,0.45874701039062454,-0.5070164171680562,0.49201585115563534,-1.0272281434830408,-1.5902113658293175,-0.5110555615220798,0.6581034463984738,-0.23930294622141307,0.5734181543602594,0.5167216386232102,-0.662434940080114,-1.5882504358026166,-2.1259339712737955,0.837815556214329,0.931612326906073,0.4739417943881084,0.3971628453935395,-0.5817596203921983,0.12431145539047427,-0.822088277727843,-0.6728033271307247,-0.2859862738040538,0.8261242575548362,-0.1816970175088003,-0.2496242561234655,-0.7310916260125805,0.6154621974695837,0.07629516436952173,-2.270041324967681,-1.4687126790095575,-1.5740038344701714,0.3235234457986203,0.5341581155124593,0.6843101770613879,-0.22662260918441646,-2.086501049960337,0.13829808199979346,-0.6283587315638484,0.4351463049605794,0.09700349246400516,-0.9387115293797964],\"xaxis\":\"x14\",\"y\":[-1.156885693248452,-2.553159962142852,0.5379500065642159,0.871269687667783,0.5418377115602929,1.0033889033373784,0.6339382484336021,0.8449194631288077,-0.08553384058369162,1.21512204383602,0.3367382167702626,0.5335611393688916,-0.7311983528799699,-1.1080221840374995,0.38809969573177716,0.8887734032735815,-0.3999772302887955,0.4599378592688925,-0.8416065462285255,0.5371312804976668,-1.2866909093142191,-0.23833899619013507,-0.46850464579090906,1.3089893378811284,-1.113431920823541,-1.3923670896840379,-0.014942185529081584,-0.3500662529822038,0.2559508726088374,-0.6971183344865342,0.5929666934111997,-1.1856366086326908,0.02687039640606976,1.2170269945822565,0.6098493861295342,0.01586800777935647,-0.757849496823997,-0.6932607280860964,0.49774236939414956,0.5639114101178272,-0.6696266017038403,0.34616509172190696,-0.8879535829963261,-0.8503463726832305,-0.7734114881918962,0.8282705022951898,-0.3151422272395916,-0.253917385061128,-0.6740530413495274,-0.21448561608275726,1.3642596557161448,-0.5083422252979257,1.024827055779126,-0.04892696752251287,0.06270078899000447,0.38468689158174413,0.392565732767905,-1.7881143547914042,-1.252420847446051,-0.5607233795777918,0.4356785062000733,0.04075118168397469,-0.7874336634441192,-0.1908231405751445,1.0848700881810873,0.948419710469015,-1.4798711859436786,0.3975993212128095,1.5461488110325188,0.011654502987384158,-0.9783502667430807,-0.9827186790974953,-0.8948045067779946,-0.5401443086843247,0.08118394346748879,-0.14169083693340548,0.21637771655999993,1.5083311319047112,-0.5348406710251433,0.4668236657115528,0.5394145805576618,-0.2756526372644226,0.009935220820154593,-0.8311808876227527,0.258594993982803,-0.7026656788219977,1.2980258618001015,-1.6375152690495511,0.09765685608872741,-0.42869855993991474,0.6391259488191646,0.9215632733843807,0.08707376340362018,-1.6957124085925666,-0.33289808932221016,1.277689456277632,0.5297677583794602,0.8206117127177954,1.1661296765277478,1.3126610601569062],\"yaxis\":\"y14\"},{\"line\":{\"color\":\"rgba(128, 128, 128, 1.0)\",\"dash\":\"solid\",\"shape\":\"linear\",\"width\":1.3},\"marker\":{\"size\":2,\"symbol\":\"circle\"},\"mode\":\"markers\",\"name\":\"D\",\"text\":\"\",\"type\":\"scatter\",\"x\":[1.1211970662513233,1.7882553952463331,0.6095787417343562,-0.7978685503219164,-1.054540820718089,0.935552209246095,0.6467828718720946,-0.8448435185149318,-0.16415442742546268,0.6332886681279752,2.880236995642649,0.09344924914241522,1.2184106796557397,1.1024396321251881,-1.9420459171122197,0.6984545873619175,-0.02575153495112632,-0.6911287219069356,-0.12974086961982328,-0.7108540634474605,0.09650957474547463,-0.2394048753255379,-1.1867548996989077,1.2705278304445915,0.00400786264780369,1.5081291288747247,0.6268263945498519,0.19234668443756917,-0.644591422972466,-0.2879900461607938,0.7685971364284684,0.7314732934323124,0.7350104705015111,1.7562883048734677,0.38075808379928816,1.4815606117987459,0.3104819835718878,0.682612490586937,0.591052677745498,0.6100569999048194,-1.4763067263117895,-0.7566064345211292,1.2892187004839144,0.9558115107193859,0.04361586037957929,-0.8176122018357349,-1.8942003890998518,0.6954957432966362,-0.3110659874617991,-1.3423195258765368,0.8387673546096003,1.2943419151912026,0.5655406897192649,0.9679627527832857,-0.3092187880857277,-0.21438845451562602,1.6787976873909873,0.28926212433709086,-0.8952193107945672,0.07733269069260017,0.5422976728824778,0.8194048567679139,0.960344388098084,0.5978292594209408,-0.3882728835771806,1.1841703054015564,0.588831725578845,-0.4558549759650901,-0.5530186984081414,1.199714822740876,-0.8040416931761488,0.7145449357970964,-0.18434981426256083,0.976117940465252,0.5833657724239505,-0.7239592404746668,-0.02916975205625252,-0.04026400626158386,1.485169511368912,0.9584471970449069,1.123183207296647,-0.47333126054082714,0.7496204181431738,-1.036403319794379,-1.008689128846662,-0.3089888362957455,-0.4281520220857427,0.7354142606034626,0.3718621731684189,-1.348924890729719,0.9402634267886293,-1.173121234995388,-1.2804267533806373,1.2483906408612933,-0.19047809722350964,0.061882497734943705,0.894514247807277,-0.9769697145576185,-1.1625975602618461,0.88862523689299],\"xaxis\":\"x15\",\"y\":[-1.156885693248452,-2.553159962142852,0.5379500065642159,0.871269687667783,0.5418377115602929,1.0033889033373784,0.6339382484336021,0.8449194631288077,-0.08553384058369162,1.21512204383602,0.3367382167702626,0.5335611393688916,-0.7311983528799699,-1.1080221840374995,0.38809969573177716,0.8887734032735815,-0.3999772302887955,0.4599378592688925,-0.8416065462285255,0.5371312804976668,-1.2866909093142191,-0.23833899619013507,-0.46850464579090906,1.3089893378811284,-1.113431920823541,-1.3923670896840379,-0.014942185529081584,-0.3500662529822038,0.2559508726088374,-0.6971183344865342,0.5929666934111997,-1.1856366086326908,0.02687039640606976,1.2170269945822565,0.6098493861295342,0.01586800777935647,-0.757849496823997,-0.6932607280860964,0.49774236939414956,0.5639114101178272,-0.6696266017038403,0.34616509172190696,-0.8879535829963261,-0.8503463726832305,-0.7734114881918962,0.8282705022951898,-0.3151422272395916,-0.253917385061128,-0.6740530413495274,-0.21448561608275726,1.3642596557161448,-0.5083422252979257,1.024827055779126,-0.04892696752251287,0.06270078899000447,0.38468689158174413,0.392565732767905,-1.7881143547914042,-1.252420847446051,-0.5607233795777918,0.4356785062000733,0.04075118168397469,-0.7874336634441192,-0.1908231405751445,1.0848700881810873,0.948419710469015,-1.4798711859436786,0.3975993212128095,1.5461488110325188,0.011654502987384158,-0.9783502667430807,-0.9827186790974953,-0.8948045067779946,-0.5401443086843247,0.08118394346748879,-0.14169083693340548,0.21637771655999993,1.5083311319047112,-0.5348406710251433,0.4668236657115528,0.5394145805576618,-0.2756526372644226,0.009935220820154593,-0.8311808876227527,0.258594993982803,-0.7026656788219977,1.2980258618001015,-1.6375152690495511,0.09765685608872741,-0.42869855993991474,0.6391259488191646,0.9215632733843807,0.08707376340362018,-1.6957124085925666,-0.33289808932221016,1.277689456277632,0.5297677583794602,0.8206117127177954,1.1661296765277478,1.3126610601569062],\"yaxis\":\"y15\"},{\"histfunc\":\"count\",\"histnorm\":\"\",\"marker\":{\"color\":\"rgba(128, 0, 128, 1.0)\",\"line\":{\"color\":\"#4D5663\",\"width\":1.3}},\"name\":\"D\",\"nbinsx\":10,\"opacity\":0.8,\"orientation\":\"v\",\"type\":\"histogram\",\"x\":[-1.156885693248452,-2.553159962142852,0.5379500065642159,0.871269687667783,0.5418377115602929,1.0033889033373784,0.6339382484336021,0.8449194631288077,-0.08553384058369162,1.21512204383602,0.3367382167702626,0.5335611393688916,-0.7311983528799699,-1.1080221840374995,0.38809969573177716,0.8887734032735815,-0.3999772302887955,0.4599378592688925,-0.8416065462285255,0.5371312804976668,-1.2866909093142191,-0.23833899619013507,-0.46850464579090906,1.3089893378811284,-1.113431920823541,-1.3923670896840379,-0.014942185529081584,-0.3500662529822038,0.2559508726088374,-0.6971183344865342,0.5929666934111997,-1.1856366086326908,0.02687039640606976,1.2170269945822565,0.6098493861295342,0.01586800777935647,-0.757849496823997,-0.6932607280860964,0.49774236939414956,0.5639114101178272,-0.6696266017038403,0.34616509172190696,-0.8879535829963261,-0.8503463726832305,-0.7734114881918962,0.8282705022951898,-0.3151422272395916,-0.253917385061128,-0.6740530413495274,-0.21448561608275726,1.3642596557161448,-0.5083422252979257,1.024827055779126,-0.04892696752251287,0.06270078899000447,0.38468689158174413,0.392565732767905,-1.7881143547914042,-1.252420847446051,-0.5607233795777918,0.4356785062000733,0.04075118168397469,-0.7874336634441192,-0.1908231405751445,1.0848700881810873,0.948419710469015,-1.4798711859436786,0.3975993212128095,1.5461488110325188,0.011654502987384158,-0.9783502667430807,-0.9827186790974953,-0.8948045067779946,-0.5401443086843247,0.08118394346748879,-0.14169083693340548,0.21637771655999993,1.5083311319047112,-0.5348406710251433,0.4668236657115528,0.5394145805576618,-0.2756526372644226,0.009935220820154593,-0.8311808876227527,0.258594993982803,-0.7026656788219977,1.2980258618001015,-1.6375152690495511,0.09765685608872741,-0.42869855993991474,0.6391259488191646,0.9215632733843807,0.08707376340362018,-1.6957124085925666,-0.33289808932221016,1.277689456277632,0.5297677583794602,0.8206117127177954,1.1661296765277478,1.3126610601569062],\"xaxis\":\"x16\",\"yaxis\":\"y16\"}],                        {\"bargap\":0.02,\"legend\":{\"bgcolor\":\"#F5F6F9\",\"font\":{\"color\":\"#4D5663\"}},\"paper_bgcolor\":\"#F5F6F9\",\"plot_bgcolor\":\"#F5F6F9\",\"showlegend\":false,\"template\":{\"data\":{\"bar\":[{\"error_x\":{\"color\":\"#2a3f5f\"},\"error_y\":{\"color\":\"#2a3f5f\"},\"marker\":{\"line\":{\"color\":\"#E5ECF6\",\"width\":0.5},\"pattern\":{\"fillmode\":\"overlay\",\"size\":10,\"solidity\":0.2}},\"type\":\"bar\"}],\"barpolar\":[{\"marker\":{\"line\":{\"color\":\"#E5ECF6\",\"width\":0.5},\"pattern\":{\"fillmode\":\"overlay\",\"size\":10,\"solidity\":0.2}},\"type\":\"barpolar\"}],\"carpet\":[{\"aaxis\":{\"endlinecolor\":\"#2a3f5f\",\"gridcolor\":\"white\",\"linecolor\":\"white\",\"minorgridcolor\":\"white\",\"startlinecolor\":\"#2a3f5f\"},\"baxis\":{\"endlinecolor\":\"#2a3f5f\",\"gridcolor\":\"white\",\"linecolor\":\"white\",\"minorgridcolor\":\"white\",\"startlinecolor\":\"#2a3f5f\"},\"type\":\"carpet\"}],\"choropleth\":[{\"colorbar\":{\"outlinewidth\":0,\"ticks\":\"\"},\"type\":\"choropleth\"}],\"contour\":[{\"colorbar\":{\"outlinewidth\":0,\"ticks\":\"\"},\"colorscale\":[[0.0,\"#0d0887\"],[0.1111111111111111,\"#46039f\"],[0.2222222222222222,\"#7201a8\"],[0.3333333333333333,\"#9c179e\"],[0.4444444444444444,\"#bd3786\"],[0.5555555555555556,\"#d8576b\"],[0.6666666666666666,\"#ed7953\"],[0.7777777777777778,\"#fb9f3a\"],[0.8888888888888888,\"#fdca26\"],[1.0,\"#f0f921\"]],\"type\":\"contour\"}],\"contourcarpet\":[{\"colorbar\":{\"outlinewidth\":0,\"ticks\":\"\"},\"type\":\"contourcarpet\"}],\"heatmap\":[{\"colorbar\":{\"outlinewidth\":0,\"ticks\":\"\"},\"colorscale\":[[0.0,\"#0d0887\"],[0.1111111111111111,\"#46039f\"],[0.2222222222222222,\"#7201a8\"],[0.3333333333333333,\"#9c179e\"],[0.4444444444444444,\"#bd3786\"],[0.5555555555555556,\"#d8576b\"],[0.6666666666666666,\"#ed7953\"],[0.7777777777777778,\"#fb9f3a\"],[0.8888888888888888,\"#fdca26\"],[1.0,\"#f0f921\"]],\"type\":\"heatmap\"}],\"heatmapgl\":[{\"colorbar\":{\"outlinewidth\":0,\"ticks\":\"\"},\"colorscale\":[[0.0,\"#0d0887\"],[0.1111111111111111,\"#46039f\"],[0.2222222222222222,\"#7201a8\"],[0.3333333333333333,\"#9c179e\"],[0.4444444444444444,\"#bd3786\"],[0.5555555555555556,\"#d8576b\"],[0.6666666666666666,\"#ed7953\"],[0.7777777777777778,\"#fb9f3a\"],[0.8888888888888888,\"#fdca26\"],[1.0,\"#f0f921\"]],\"type\":\"heatmapgl\"}],\"histogram\":[{\"marker\":{\"pattern\":{\"fillmode\":\"overlay\",\"size\":10,\"solidity\":0.2}},\"type\":\"histogram\"}],\"histogram2d\":[{\"colorbar\":{\"outlinewidth\":0,\"ticks\":\"\"},\"colorscale\":[[0.0,\"#0d0887\"],[0.1111111111111111,\"#46039f\"],[0.2222222222222222,\"#7201a8\"],[0.3333333333333333,\"#9c179e\"],[0.4444444444444444,\"#bd3786\"],[0.5555555555555556,\"#d8576b\"],[0.6666666666666666,\"#ed7953\"],[0.7777777777777778,\"#fb9f3a\"],[0.8888888888888888,\"#fdca26\"],[1.0,\"#f0f921\"]],\"type\":\"histogram2d\"}],\"histogram2dcontour\":[{\"colorbar\":{\"outlinewidth\":0,\"ticks\":\"\"},\"colorscale\":[[0.0,\"#0d0887\"],[0.1111111111111111,\"#46039f\"],[0.2222222222222222,\"#7201a8\"],[0.3333333333333333,\"#9c179e\"],[0.4444444444444444,\"#bd3786\"],[0.5555555555555556,\"#d8576b\"],[0.6666666666666666,\"#ed7953\"],[0.7777777777777778,\"#fb9f3a\"],[0.8888888888888888,\"#fdca26\"],[1.0,\"#f0f921\"]],\"type\":\"histogram2dcontour\"}],\"mesh3d\":[{\"colorbar\":{\"outlinewidth\":0,\"ticks\":\"\"},\"type\":\"mesh3d\"}],\"parcoords\":[{\"line\":{\"colorbar\":{\"outlinewidth\":0,\"ticks\":\"\"}},\"type\":\"parcoords\"}],\"pie\":[{\"automargin\":true,\"type\":\"pie\"}],\"scatter\":[{\"marker\":{\"colorbar\":{\"outlinewidth\":0,\"ticks\":\"\"}},\"type\":\"scatter\"}],\"scatter3d\":[{\"line\":{\"colorbar\":{\"outlinewidth\":0,\"ticks\":\"\"}},\"marker\":{\"colorbar\":{\"outlinewidth\":0,\"ticks\":\"\"}},\"type\":\"scatter3d\"}],\"scattercarpet\":[{\"marker\":{\"colorbar\":{\"outlinewidth\":0,\"ticks\":\"\"}},\"type\":\"scattercarpet\"}],\"scattergeo\":[{\"marker\":{\"colorbar\":{\"outlinewidth\":0,\"ticks\":\"\"}},\"type\":\"scattergeo\"}],\"scattergl\":[{\"marker\":{\"colorbar\":{\"outlinewidth\":0,\"ticks\":\"\"}},\"type\":\"scattergl\"}],\"scattermapbox\":[{\"marker\":{\"colorbar\":{\"outlinewidth\":0,\"ticks\":\"\"}},\"type\":\"scattermapbox\"}],\"scatterpolar\":[{\"marker\":{\"colorbar\":{\"outlinewidth\":0,\"ticks\":\"\"}},\"type\":\"scatterpolar\"}],\"scatterpolargl\":[{\"marker\":{\"colorbar\":{\"outlinewidth\":0,\"ticks\":\"\"}},\"type\":\"scatterpolargl\"}],\"scatterternary\":[{\"marker\":{\"colorbar\":{\"outlinewidth\":0,\"ticks\":\"\"}},\"type\":\"scatterternary\"}],\"surface\":[{\"colorbar\":{\"outlinewidth\":0,\"ticks\":\"\"},\"colorscale\":[[0.0,\"#0d0887\"],[0.1111111111111111,\"#46039f\"],[0.2222222222222222,\"#7201a8\"],[0.3333333333333333,\"#9c179e\"],[0.4444444444444444,\"#bd3786\"],[0.5555555555555556,\"#d8576b\"],[0.6666666666666666,\"#ed7953\"],[0.7777777777777778,\"#fb9f3a\"],[0.8888888888888888,\"#fdca26\"],[1.0,\"#f0f921\"]],\"type\":\"surface\"}],\"table\":[{\"cells\":{\"fill\":{\"color\":\"#EBF0F8\"},\"line\":{\"color\":\"white\"}},\"header\":{\"fill\":{\"color\":\"#C8D4E3\"},\"line\":{\"color\":\"white\"}},\"type\":\"table\"}]},\"layout\":{\"annotationdefaults\":{\"arrowcolor\":\"#2a3f5f\",\"arrowhead\":0,\"arrowwidth\":1},\"autotypenumbers\":\"strict\",\"coloraxis\":{\"colorbar\":{\"outlinewidth\":0,\"ticks\":\"\"}},\"colorscale\":{\"diverging\":[[0,\"#8e0152\"],[0.1,\"#c51b7d\"],[0.2,\"#de77ae\"],[0.3,\"#f1b6da\"],[0.4,\"#fde0ef\"],[0.5,\"#f7f7f7\"],[0.6,\"#e6f5d0\"],[0.7,\"#b8e186\"],[0.8,\"#7fbc41\"],[0.9,\"#4d9221\"],[1,\"#276419\"]],\"sequential\":[[0.0,\"#0d0887\"],[0.1111111111111111,\"#46039f\"],[0.2222222222222222,\"#7201a8\"],[0.3333333333333333,\"#9c179e\"],[0.4444444444444444,\"#bd3786\"],[0.5555555555555556,\"#d8576b\"],[0.6666666666666666,\"#ed7953\"],[0.7777777777777778,\"#fb9f3a\"],[0.8888888888888888,\"#fdca26\"],[1.0,\"#f0f921\"]],\"sequentialminus\":[[0.0,\"#0d0887\"],[0.1111111111111111,\"#46039f\"],[0.2222222222222222,\"#7201a8\"],[0.3333333333333333,\"#9c179e\"],[0.4444444444444444,\"#bd3786\"],[0.5555555555555556,\"#d8576b\"],[0.6666666666666666,\"#ed7953\"],[0.7777777777777778,\"#fb9f3a\"],[0.8888888888888888,\"#fdca26\"],[1.0,\"#f0f921\"]]},\"colorway\":[\"#636efa\",\"#EF553B\",\"#00cc96\",\"#ab63fa\",\"#FFA15A\",\"#19d3f3\",\"#FF6692\",\"#B6E880\",\"#FF97FF\",\"#FECB52\"],\"font\":{\"color\":\"#2a3f5f\"},\"geo\":{\"bgcolor\":\"white\",\"lakecolor\":\"white\",\"landcolor\":\"#E5ECF6\",\"showlakes\":true,\"showland\":true,\"subunitcolor\":\"white\"},\"hoverlabel\":{\"align\":\"left\"},\"hovermode\":\"closest\",\"mapbox\":{\"style\":\"light\"},\"paper_bgcolor\":\"white\",\"plot_bgcolor\":\"#E5ECF6\",\"polar\":{\"angularaxis\":{\"gridcolor\":\"white\",\"linecolor\":\"white\",\"ticks\":\"\"},\"bgcolor\":\"#E5ECF6\",\"radialaxis\":{\"gridcolor\":\"white\",\"linecolor\":\"white\",\"ticks\":\"\"}},\"scene\":{\"xaxis\":{\"backgroundcolor\":\"#E5ECF6\",\"gridcolor\":\"white\",\"gridwidth\":2,\"linecolor\":\"white\",\"showbackground\":true,\"ticks\":\"\",\"zerolinecolor\":\"white\"},\"yaxis\":{\"backgroundcolor\":\"#E5ECF6\",\"gridcolor\":\"white\",\"gridwidth\":2,\"linecolor\":\"white\",\"showbackground\":true,\"ticks\":\"\",\"zerolinecolor\":\"white\"},\"zaxis\":{\"backgroundcolor\":\"#E5ECF6\",\"gridcolor\":\"white\",\"gridwidth\":2,\"linecolor\":\"white\",\"showbackground\":true,\"ticks\":\"\",\"zerolinecolor\":\"white\"}},\"shapedefaults\":{\"line\":{\"color\":\"#2a3f5f\"}},\"ternary\":{\"aaxis\":{\"gridcolor\":\"white\",\"linecolor\":\"white\",\"ticks\":\"\"},\"baxis\":{\"gridcolor\":\"white\",\"linecolor\":\"white\",\"ticks\":\"\"},\"bgcolor\":\"#E5ECF6\",\"caxis\":{\"gridcolor\":\"white\",\"linecolor\":\"white\",\"ticks\":\"\"}},\"title\":{\"x\":0.05},\"xaxis\":{\"automargin\":true,\"gridcolor\":\"white\",\"linecolor\":\"white\",\"ticks\":\"\",\"title\":{\"standoff\":15},\"zerolinecolor\":\"white\",\"zerolinewidth\":2},\"yaxis\":{\"automargin\":true,\"gridcolor\":\"white\",\"linecolor\":\"white\",\"ticks\":\"\",\"title\":{\"standoff\":15},\"zerolinecolor\":\"white\",\"zerolinewidth\":2}}},\"title\":{\"font\":{\"color\":\"#4D5663\"}},\"xaxis\":{\"anchor\":\"y\",\"domain\":[0.0,0.2125],\"gridcolor\":\"#E1E5ED\",\"showgrid\":false,\"tickfont\":{\"color\":\"#4D5663\"},\"title\":{\"font\":{\"color\":\"#4D5663\"},\"text\":\"\"},\"zerolinecolor\":\"#E1E5ED\"},\"xaxis10\":{\"anchor\":\"y10\",\"domain\":[0.2625,0.475],\"gridcolor\":\"#E1E5ED\",\"showgrid\":false,\"tickfont\":{\"color\":\"#4D5663\"},\"title\":{\"font\":{\"color\":\"#4D5663\"},\"text\":\"\"},\"zerolinecolor\":\"#E1E5ED\"},\"xaxis11\":{\"anchor\":\"y11\",\"domain\":[0.525,0.7375],\"gridcolor\":\"#E1E5ED\",\"showgrid\":false,\"tickfont\":{\"color\":\"#4D5663\"},\"title\":{\"font\":{\"color\":\"#4D5663\"},\"text\":\"\"},\"zerolinecolor\":\"#E1E5ED\"},\"xaxis12\":{\"anchor\":\"y12\",\"domain\":[0.7875,1.0],\"gridcolor\":\"#E1E5ED\",\"showgrid\":false,\"tickfont\":{\"color\":\"#4D5663\"},\"title\":{\"font\":{\"color\":\"#4D5663\"},\"text\":\"\"},\"zerolinecolor\":\"#E1E5ED\"},\"xaxis13\":{\"anchor\":\"y13\",\"domain\":[0.0,0.2125],\"gridcolor\":\"#E1E5ED\",\"showgrid\":false,\"tickfont\":{\"color\":\"#4D5663\"},\"title\":{\"font\":{\"color\":\"#4D5663\"},\"text\":\"\"},\"zerolinecolor\":\"#E1E5ED\"},\"xaxis14\":{\"anchor\":\"y14\",\"domain\":[0.2625,0.475],\"gridcolor\":\"#E1E5ED\",\"showgrid\":false,\"tickfont\":{\"color\":\"#4D5663\"},\"title\":{\"font\":{\"color\":\"#4D5663\"},\"text\":\"\"},\"zerolinecolor\":\"#E1E5ED\"},\"xaxis15\":{\"anchor\":\"y15\",\"domain\":[0.525,0.7375],\"gridcolor\":\"#E1E5ED\",\"showgrid\":false,\"tickfont\":{\"color\":\"#4D5663\"},\"title\":{\"font\":{\"color\":\"#4D5663\"},\"text\":\"\"},\"zerolinecolor\":\"#E1E5ED\"},\"xaxis16\":{\"anchor\":\"y16\",\"domain\":[0.7875,1.0],\"gridcolor\":\"#E1E5ED\",\"showgrid\":false,\"tickfont\":{\"color\":\"#4D5663\"},\"title\":{\"font\":{\"color\":\"#4D5663\"},\"text\":\"\"},\"zerolinecolor\":\"#E1E5ED\"},\"xaxis2\":{\"anchor\":\"y2\",\"domain\":[0.2625,0.475],\"gridcolor\":\"#E1E5ED\",\"showgrid\":false,\"tickfont\":{\"color\":\"#4D5663\"},\"title\":{\"font\":{\"color\":\"#4D5663\"},\"text\":\"\"},\"zerolinecolor\":\"#E1E5ED\"},\"xaxis3\":{\"anchor\":\"y3\",\"domain\":[0.525,0.7375],\"gridcolor\":\"#E1E5ED\",\"showgrid\":false,\"tickfont\":{\"color\":\"#4D5663\"},\"title\":{\"font\":{\"color\":\"#4D5663\"},\"text\":\"\"},\"zerolinecolor\":\"#E1E5ED\"},\"xaxis4\":{\"anchor\":\"y4\",\"domain\":[0.7875,1.0],\"gridcolor\":\"#E1E5ED\",\"showgrid\":false,\"tickfont\":{\"color\":\"#4D5663\"},\"title\":{\"font\":{\"color\":\"#4D5663\"},\"text\":\"\"},\"zerolinecolor\":\"#E1E5ED\"},\"xaxis5\":{\"anchor\":\"y5\",\"domain\":[0.0,0.2125],\"gridcolor\":\"#E1E5ED\",\"showgrid\":false,\"tickfont\":{\"color\":\"#4D5663\"},\"title\":{\"font\":{\"color\":\"#4D5663\"},\"text\":\"\"},\"zerolinecolor\":\"#E1E5ED\"},\"xaxis6\":{\"anchor\":\"y6\",\"domain\":[0.2625,0.475],\"gridcolor\":\"#E1E5ED\",\"showgrid\":false,\"tickfont\":{\"color\":\"#4D5663\"},\"title\":{\"font\":{\"color\":\"#4D5663\"},\"text\":\"\"},\"zerolinecolor\":\"#E1E5ED\"},\"xaxis7\":{\"anchor\":\"y7\",\"domain\":[0.525,0.7375],\"gridcolor\":\"#E1E5ED\",\"showgrid\":false,\"tickfont\":{\"color\":\"#4D5663\"},\"title\":{\"font\":{\"color\":\"#4D5663\"},\"text\":\"\"},\"zerolinecolor\":\"#E1E5ED\"},\"xaxis8\":{\"anchor\":\"y8\",\"domain\":[0.7875,1.0],\"gridcolor\":\"#E1E5ED\",\"showgrid\":false,\"tickfont\":{\"color\":\"#4D5663\"},\"title\":{\"font\":{\"color\":\"#4D5663\"},\"text\":\"\"},\"zerolinecolor\":\"#E1E5ED\"},\"xaxis9\":{\"anchor\":\"y9\",\"domain\":[0.0,0.2125],\"gridcolor\":\"#E1E5ED\",\"showgrid\":false,\"tickfont\":{\"color\":\"#4D5663\"},\"title\":{\"font\":{\"color\":\"#4D5663\"},\"text\":\"\"},\"zerolinecolor\":\"#E1E5ED\"},\"yaxis\":{\"anchor\":\"x\",\"domain\":[0.8025,1.0],\"gridcolor\":\"#E1E5ED\",\"showgrid\":false,\"tickfont\":{\"color\":\"#4D5663\"},\"title\":{\"font\":{\"color\":\"#4D5663\"},\"text\":\"\"},\"zerolinecolor\":\"#E1E5ED\"},\"yaxis10\":{\"anchor\":\"x10\",\"domain\":[0.2675,0.465],\"gridcolor\":\"#E1E5ED\",\"showgrid\":false,\"tickfont\":{\"color\":\"#4D5663\"},\"title\":{\"font\":{\"color\":\"#4D5663\"},\"text\":\"\"},\"zerolinecolor\":\"#E1E5ED\"},\"yaxis11\":{\"anchor\":\"x11\",\"domain\":[0.2675,0.465],\"gridcolor\":\"#E1E5ED\",\"showgrid\":false,\"tickfont\":{\"color\":\"#4D5663\"},\"title\":{\"font\":{\"color\":\"#4D5663\"},\"text\":\"\"},\"zerolinecolor\":\"#E1E5ED\"},\"yaxis12\":{\"anchor\":\"x12\",\"domain\":[0.2675,0.465],\"gridcolor\":\"#E1E5ED\",\"showgrid\":false,\"tickfont\":{\"color\":\"#4D5663\"},\"title\":{\"font\":{\"color\":\"#4D5663\"},\"text\":\"\"},\"zerolinecolor\":\"#E1E5ED\"},\"yaxis13\":{\"anchor\":\"x13\",\"domain\":[0.0,0.1975],\"gridcolor\":\"#E1E5ED\",\"showgrid\":false,\"tickfont\":{\"color\":\"#4D5663\"},\"title\":{\"font\":{\"color\":\"#4D5663\"},\"text\":\"\"},\"zerolinecolor\":\"#E1E5ED\"},\"yaxis14\":{\"anchor\":\"x14\",\"domain\":[0.0,0.1975],\"gridcolor\":\"#E1E5ED\",\"showgrid\":false,\"tickfont\":{\"color\":\"#4D5663\"},\"title\":{\"font\":{\"color\":\"#4D5663\"},\"text\":\"\"},\"zerolinecolor\":\"#E1E5ED\"},\"yaxis15\":{\"anchor\":\"x15\",\"domain\":[0.0,0.1975],\"gridcolor\":\"#E1E5ED\",\"showgrid\":false,\"tickfont\":{\"color\":\"#4D5663\"},\"title\":{\"font\":{\"color\":\"#4D5663\"},\"text\":\"\"},\"zerolinecolor\":\"#E1E5ED\"},\"yaxis16\":{\"anchor\":\"x16\",\"domain\":[0.0,0.1975],\"gridcolor\":\"#E1E5ED\",\"showgrid\":false,\"tickfont\":{\"color\":\"#4D5663\"},\"title\":{\"font\":{\"color\":\"#4D5663\"},\"text\":\"\"},\"zerolinecolor\":\"#E1E5ED\"},\"yaxis2\":{\"anchor\":\"x2\",\"domain\":[0.8025,1.0],\"gridcolor\":\"#E1E5ED\",\"showgrid\":false,\"tickfont\":{\"color\":\"#4D5663\"},\"title\":{\"font\":{\"color\":\"#4D5663\"},\"text\":\"\"},\"zerolinecolor\":\"#E1E5ED\"},\"yaxis3\":{\"anchor\":\"x3\",\"domain\":[0.8025,1.0],\"gridcolor\":\"#E1E5ED\",\"showgrid\":false,\"tickfont\":{\"color\":\"#4D5663\"},\"title\":{\"font\":{\"color\":\"#4D5663\"},\"text\":\"\"},\"zerolinecolor\":\"#E1E5ED\"},\"yaxis4\":{\"anchor\":\"x4\",\"domain\":[0.8025,1.0],\"gridcolor\":\"#E1E5ED\",\"showgrid\":false,\"tickfont\":{\"color\":\"#4D5663\"},\"title\":{\"font\":{\"color\":\"#4D5663\"},\"text\":\"\"},\"zerolinecolor\":\"#E1E5ED\"},\"yaxis5\":{\"anchor\":\"x5\",\"domain\":[0.535,0.7325],\"gridcolor\":\"#E1E5ED\",\"showgrid\":false,\"tickfont\":{\"color\":\"#4D5663\"},\"title\":{\"font\":{\"color\":\"#4D5663\"},\"text\":\"\"},\"zerolinecolor\":\"#E1E5ED\"},\"yaxis6\":{\"anchor\":\"x6\",\"domain\":[0.535,0.7325],\"gridcolor\":\"#E1E5ED\",\"showgrid\":false,\"tickfont\":{\"color\":\"#4D5663\"},\"title\":{\"font\":{\"color\":\"#4D5663\"},\"text\":\"\"},\"zerolinecolor\":\"#E1E5ED\"},\"yaxis7\":{\"anchor\":\"x7\",\"domain\":[0.535,0.7325],\"gridcolor\":\"#E1E5ED\",\"showgrid\":false,\"tickfont\":{\"color\":\"#4D5663\"},\"title\":{\"font\":{\"color\":\"#4D5663\"},\"text\":\"\"},\"zerolinecolor\":\"#E1E5ED\"},\"yaxis8\":{\"anchor\":\"x8\",\"domain\":[0.535,0.7325],\"gridcolor\":\"#E1E5ED\",\"showgrid\":false,\"tickfont\":{\"color\":\"#4D5663\"},\"title\":{\"font\":{\"color\":\"#4D5663\"},\"text\":\"\"},\"zerolinecolor\":\"#E1E5ED\"},\"yaxis9\":{\"anchor\":\"x9\",\"domain\":[0.2675,0.465],\"gridcolor\":\"#E1E5ED\",\"showgrid\":false,\"tickfont\":{\"color\":\"#4D5663\"},\"title\":{\"font\":{\"color\":\"#4D5663\"},\"text\":\"\"},\"zerolinecolor\":\"#E1E5ED\"}},                        {\"showLink\": true, \"linkText\": \"Export to plot.ly\", \"plotlyServerURL\": \"https://plot.ly\", \"responsive\": true}                    ).then(function(){\n",
       "                            \n",
       "var gd = document.getElementById('a74721b2-a320-40e6-b8af-4e03ef0f6ebc');\n",
       "var x = new MutationObserver(function (mutations, observer) {{\n",
       "        var display = window.getComputedStyle(gd).display;\n",
       "        if (!display || display === 'none') {{\n",
       "            console.log([gd, 'removed!']);\n",
       "            Plotly.purge(gd);\n",
       "            observer.disconnect();\n",
       "        }}\n",
       "}});\n",
       "\n",
       "// Listen for the removal of the full notebook cells\n",
       "var notebookContainer = gd.closest('#notebook-container');\n",
       "if (notebookContainer) {{\n",
       "    x.observe(notebookContainer, {childList: true});\n",
       "}}\n",
       "\n",
       "// Listen for the clearing of the current output cell\n",
       "var outputEl = gd.closest('.output');\n",
       "if (outputEl) {{\n",
       "    x.observe(outputEl, {childList: true});\n",
       "}}\n",
       "\n",
       "                        })                };                });            </script>        </div>"
      ]
     },
     "metadata": {},
     "output_type": "display_data"
    }
   ],
   "source": [
    "df.scatter_matrix()"
   ]
  },
  {
   "cell_type": "markdown",
   "metadata": {
    "collapsed": true
   },
   "source": [
    "# Great Job!"
   ]
  }
 ],
 "metadata": {
  "kernelspec": {
   "display_name": "Python 3 (ipykernel)",
   "language": "python",
   "name": "python3"
  },
  "language_info": {
   "codemirror_mode": {
    "name": "ipython",
    "version": 3
   },
   "file_extension": ".py",
   "mimetype": "text/x-python",
   "name": "python",
   "nbconvert_exporter": "python",
   "pygments_lexer": "ipython3",
   "version": "3.9.7"
  }
 },
 "nbformat": 4,
 "nbformat_minor": 1
}
